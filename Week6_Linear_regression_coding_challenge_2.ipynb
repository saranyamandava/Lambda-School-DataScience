{
  "nbformat": 4,
  "nbformat_minor": 0,
  "metadata": {
    "colab": {
      "name": "Week6_Linear regression coding challenge_2.ipynb",
      "version": "0.3.2",
      "provenance": [],
      "collapsed_sections": []
    },
    "kernelspec": {
      "name": "python3",
      "display_name": "Python 3"
    }
  },
  "cells": [
    {
      "cell_type": "markdown",
      "metadata": {
        "id": "view-in-github",
        "colab_type": "text"
      },
      "source": [
        "[View in Colaboratory](https://colab.research.google.com/github/saranyamandava/Lambda-School-DataScience/blob/master/Week6_Linear_regression_coding_challenge_2.ipynb)"
      ]
    },
    {
      "metadata": {
        "id": "-6_dbDdTee8-",
        "colab_type": "text"
      },
      "cell_type": "markdown",
      "source": [
        "In this challenge we'll be doing a linear fit with two input variables and one output, so our model looks like y ~ a + b*x_1 + c*x_2. First, let's import the libraries we'll need."
      ]
    },
    {
      "metadata": {
        "id": "OiUQbJcPewzu",
        "colab_type": "code",
        "colab": {}
      },
      "cell_type": "code",
      "source": [
        "import numpy as np\n",
        "import pandas as pd\n",
        "import requests\n",
        "import io\n",
        "import matplotlib.pyplot as plt\n",
        "from mpl_toolkits import mplot3d"
      ],
      "execution_count": 0,
      "outputs": []
    },
    {
      "metadata": {
        "id": "snGZ1Y9we0WX",
        "colab_type": "text"
      },
      "cell_type": "markdown",
      "source": [
        "Now let's grab the data. This is a fictional data set made for the purpose of this exercise."
      ]
    },
    {
      "metadata": {
        "id": "vP-tW7gKexOM",
        "colab_type": "code",
        "colab": {
          "base_uri": "https://localhost:8080/",
          "height": 204
        },
        "outputId": "bfa399e2-62c7-4b8f-dff9-22fdd2f223c2"
      },
      "cell_type": "code",
      "source": [
        "url=\"https://raw.githubusercontent.com/mathewphilipc/LambdaDataSets/master/bivariate_linear_data.csv\"\n",
        "s=requests.get(url).content\n",
        "data=pd.read_csv(io.StringIO(s.decode('utf-8')))\n",
        "data.head()"
      ],
      "execution_count": 6,
      "outputs": [
        {
          "output_type": "execute_result",
          "data": {
            "text/html": [
              "<div>\n",
              "<style scoped>\n",
              "    .dataframe tbody tr th:only-of-type {\n",
              "        vertical-align: middle;\n",
              "    }\n",
              "\n",
              "    .dataframe tbody tr th {\n",
              "        vertical-align: top;\n",
              "    }\n",
              "\n",
              "    .dataframe thead th {\n",
              "        text-align: right;\n",
              "    }\n",
              "</style>\n",
              "<table border=\"1\" class=\"dataframe\">\n",
              "  <thead>\n",
              "    <tr style=\"text-align: right;\">\n",
              "      <th></th>\n",
              "      <th>x1</th>\n",
              "      <th>x2</th>\n",
              "      <th>y</th>\n",
              "    </tr>\n",
              "  </thead>\n",
              "  <tbody>\n",
              "    <tr>\n",
              "      <th>0</th>\n",
              "      <td>11.429126</td>\n",
              "      <td>-30.912912</td>\n",
              "      <td>204.163058</td>\n",
              "    </tr>\n",
              "    <tr>\n",
              "      <th>1</th>\n",
              "      <td>11.730814</td>\n",
              "      <td>-28.844725</td>\n",
              "      <td>202.434680</td>\n",
              "    </tr>\n",
              "    <tr>\n",
              "      <th>2</th>\n",
              "      <td>7.800468</td>\n",
              "      <td>7.539354</td>\n",
              "      <td>78.587293</td>\n",
              "    </tr>\n",
              "    <tr>\n",
              "      <th>3</th>\n",
              "      <td>4.812186</td>\n",
              "      <td>-53.531169</td>\n",
              "      <td>165.026665</td>\n",
              "    </tr>\n",
              "    <tr>\n",
              "      <th>4</th>\n",
              "      <td>12.688828</td>\n",
              "      <td>-9.040101</td>\n",
              "      <td>176.892635</td>\n",
              "    </tr>\n",
              "  </tbody>\n",
              "</table>\n",
              "</div>"
            ],
            "text/plain": [
              "          x1         x2           y\n",
              "0  11.429126 -30.912912  204.163058\n",
              "1  11.730814 -28.844725  202.434680\n",
              "2   7.800468   7.539354   78.587293\n",
              "3   4.812186 -53.531169  165.026665\n",
              "4  12.688828  -9.040101  176.892635"
            ]
          },
          "metadata": {
            "tags": []
          },
          "execution_count": 6
        }
      ]
    },
    {
      "metadata": {
        "id": "hEaIEqGzioMA",
        "colab_type": "text"
      },
      "cell_type": "markdown",
      "source": [
        "We're going to find the optimal [a,b, c] values the right by, using the *normal equations*. The first step is to add a new column to the left of the x1 column and set all of its values to 1. Think of this as the x0 columns. Then introduce a matrix X consisting of the x0, x1, x2 columns and and vector Y with just the y column. Do any reshaping you need to make later steps work."
      ]
    },
    {
      "metadata": {
        "id": "Cwxjiqfee4Y7",
        "colab_type": "code",
        "colab": {
          "base_uri": "https://localhost:8080/",
          "height": 204
        },
        "outputId": "02782b65-4b8f-4c84-c56a-8c586efcf02a"
      },
      "cell_type": "code",
      "source": [
        "# replace with student code\n",
        "data.insert(0, 'x0', 1)\n",
        "data.head()"
      ],
      "execution_count": 8,
      "outputs": [
        {
          "output_type": "execute_result",
          "data": {
            "text/html": [
              "<div>\n",
              "<style scoped>\n",
              "    .dataframe tbody tr th:only-of-type {\n",
              "        vertical-align: middle;\n",
              "    }\n",
              "\n",
              "    .dataframe tbody tr th {\n",
              "        vertical-align: top;\n",
              "    }\n",
              "\n",
              "    .dataframe thead th {\n",
              "        text-align: right;\n",
              "    }\n",
              "</style>\n",
              "<table border=\"1\" class=\"dataframe\">\n",
              "  <thead>\n",
              "    <tr style=\"text-align: right;\">\n",
              "      <th></th>\n",
              "      <th>x0</th>\n",
              "      <th>x1</th>\n",
              "      <th>x2</th>\n",
              "      <th>y</th>\n",
              "    </tr>\n",
              "  </thead>\n",
              "  <tbody>\n",
              "    <tr>\n",
              "      <th>0</th>\n",
              "      <td>1</td>\n",
              "      <td>11.429126</td>\n",
              "      <td>-30.912912</td>\n",
              "      <td>204.163058</td>\n",
              "    </tr>\n",
              "    <tr>\n",
              "      <th>1</th>\n",
              "      <td>1</td>\n",
              "      <td>11.730814</td>\n",
              "      <td>-28.844725</td>\n",
              "      <td>202.434680</td>\n",
              "    </tr>\n",
              "    <tr>\n",
              "      <th>2</th>\n",
              "      <td>1</td>\n",
              "      <td>7.800468</td>\n",
              "      <td>7.539354</td>\n",
              "      <td>78.587293</td>\n",
              "    </tr>\n",
              "    <tr>\n",
              "      <th>3</th>\n",
              "      <td>1</td>\n",
              "      <td>4.812186</td>\n",
              "      <td>-53.531169</td>\n",
              "      <td>165.026665</td>\n",
              "    </tr>\n",
              "    <tr>\n",
              "      <th>4</th>\n",
              "      <td>1</td>\n",
              "      <td>12.688828</td>\n",
              "      <td>-9.040101</td>\n",
              "      <td>176.892635</td>\n",
              "    </tr>\n",
              "  </tbody>\n",
              "</table>\n",
              "</div>"
            ],
            "text/plain": [
              "   x0         x1         x2           y\n",
              "0   1  11.429126 -30.912912  204.163058\n",
              "1   1  11.730814 -28.844725  202.434680\n",
              "2   1   7.800468   7.539354   78.587293\n",
              "3   1   4.812186 -53.531169  165.026665\n",
              "4   1  12.688828  -9.040101  176.892635"
            ]
          },
          "metadata": {
            "tags": []
          },
          "execution_count": 8
        }
      ]
    },
    {
      "metadata": {
        "id": "_lCR1lV5UHE_",
        "colab_type": "code",
        "colab": {}
      },
      "cell_type": "code",
      "source": [
        "X = data.as_matrix(columns=data.columns[0:3].tolist())\n",
        "Y = np.array(data['y'])"
      ],
      "execution_count": 0,
      "outputs": []
    },
    {
      "metadata": {
        "id": "LkDRXnQhkH6t",
        "colab_type": "text"
      },
      "cell_type": "markdown",
      "source": [
        "To make sure this worked, verify that X has length 200 and width 3."
      ]
    },
    {
      "metadata": {
        "id": "1JCPhP3IjpFL",
        "colab_type": "code",
        "colab": {
          "base_uri": "https://localhost:8080/",
          "height": 34
        },
        "outputId": "f3df2086-06b2-49d2-e238-0ef8ddeaeede"
      },
      "cell_type": "code",
      "source": [
        "print (X.shape)"
      ],
      "execution_count": 33,
      "outputs": [
        {
          "output_type": "stream",
          "text": [
            "(200, 3)\n"
          ],
          "name": "stdout"
        }
      ]
    },
    {
      "metadata": {
        "id": "eREV4V2Tm3i-",
        "colab_type": "text"
      },
      "cell_type": "markdown",
      "source": [
        "And just for sanity' sake, print out the first row of X and compare it with the contents of the csv file we read from."
      ]
    },
    {
      "metadata": {
        "id": "3VsYTGcWl4a0",
        "colab_type": "code",
        "colab": {
          "base_uri": "https://localhost:8080/",
          "height": 34
        },
        "outputId": "1f238e96-afd0-4e92-fd65-594f69ee0ecd"
      },
      "cell_type": "code",
      "source": [
        "print (X[0])"
      ],
      "execution_count": 36,
      "outputs": [
        {
          "output_type": "stream",
          "text": [
            "[  1.          11.42912648 -30.9129123 ]\n"
          ],
          "name": "stdout"
        }
      ]
    },
    {
      "metadata": {
        "id": "4TBuSnI-nAWs",
        "colab_type": "text"
      },
      "cell_type": "markdown",
      "source": [
        "Now here's the most important part. As it turns out, the optimal vector [a, b, c] can be calculated in a single step (assuming you have a matrix algebra library and don't have to do the operations yourself) in terms of X and Y. Here's the solution:\n",
        "\n",
        "(X^T * X)^(-1) * X^T * Y\n",
        "\n",
        "where \\* means *matrix multiplication*, ^T means *matrix transpose* and ^(-1) means *matrix inverse*. Calculate [a, b, c] and print the values of a, b, and c."
      ]
    },
    {
      "metadata": {
        "id": "SFXu_C6cl7Fh",
        "colab_type": "code",
        "colab": {
          "base_uri": "https://localhost:8080/",
          "height": 34
        },
        "outputId": "3d3a287e-51f0-47cc-ab77-2fc3815b05bb"
      },
      "cell_type": "code",
      "source": [
        "# replace with student code\n",
        "result = np.matmul(np.matmul(np.linalg.inv(np.matmul(X.T,X)),X.T),Y)\n",
        "print (result)"
      ],
      "execution_count": 54,
      "outputs": [
        {
          "output_type": "stream",
          "text": [
            "[-9.63746039 13.04187886 -2.00299621]\n"
          ],
          "name": "stdout"
        }
      ]
    },
    {
      "metadata": {
        "id": "xexGc4-ofpj3",
        "colab_type": "code",
        "colab": {}
      },
      "cell_type": "code",
      "source": [
        "a = (result[0]+result[1]*data['x1']+result[2]*data['x2'])\n",
        "#print (a)"
      ],
      "execution_count": 0,
      "outputs": []
    },
    {
      "metadata": {
        "id": "nYaqwc2sHI_v",
        "colab_type": "text"
      },
      "cell_type": "markdown",
      "source": [
        "Finally, plot the points defined by x,y and the line that you calculated using the above matrix transforms."
      ]
    },
    {
      "metadata": {
        "id": "JUSi543Imc_c",
        "colab_type": "code",
        "colab": {
          "base_uri": "https://localhost:8080/",
          "height": 347
        },
        "outputId": "33fa0bc0-499e-48a9-8594-3762cc499776"
      },
      "cell_type": "code",
      "source": [
        "fig  =  plt.figure()\n",
        "ax  =  plt.axes(projection ='3d')\n",
        "ax.scatter(data['x1'], data['x2'], data['y'])\n",
        "x1,x2 = np.meshgrid(np.linspace(data['x1'].min(),data['x1'].max()), np.linspace(data['x2'].min(),data['x2'].max()))\n",
        "z = (result[0] + result[1]*x1 + result[2]*x2)\n",
        "ax.plot_surface(x1, x2, z,cmap='viridis', edgecolor=None)\n",
        "ax.set(xlabel='x1', ylabel='x2', zlabel='y')"
      ],
      "execution_count": 71,
      "outputs": [
        {
          "output_type": "execute_result",
          "data": {
            "text/plain": [
              "[Text(0.5,0,'y'), Text(0.5,0,'x2'), Text(0.5,0,'x1')]"
            ]
          },
          "metadata": {
            "tags": []
          },
          "execution_count": 71
        },
        {
          "output_type": "display_data",
          "data": {
            "image/png": "[encoded data removed]",
            "text/plain": [
              "<matplotlib.figure.Figure at 0x7f0abdec4710>"
            ]
          },
          "metadata": {
            "tags": []
          }
        }
      ]
    }
  ]
}