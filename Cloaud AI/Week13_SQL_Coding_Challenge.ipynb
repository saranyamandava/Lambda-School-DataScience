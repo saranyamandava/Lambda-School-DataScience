{
  "nbformat": 4,
  "nbformat_minor": 0,
  "metadata": {
    "colab": {
      "name": "Week13_SQL Coding Challenge.ipynb",
      "version": "0.3.2",
      "views": {},
      "default_view": {},
      "provenance": [
        {
          "file_id": "1xyOfs5hb6toh4BsuBo5CFBqoAmHUPnGA",
          "timestamp": 1529946525790
        }
      ],
      "collapsed_sections": []
    }
  },
  "cells": [
    {
      "metadata": {
        "id": "--s2N2YyIDug",
        "colab_type": "text"
      },
      "cell_type": "markdown",
      "source": [
        "**SQL Coding Challenge - Getting Started**\n",
        "---\n",
        "In this challenge, you'll explore some tables in a relational database, and write SQL queries to answer questions.\n",
        "\n",
        "*Note* - we're still using Colab for challenge description/turn-in, but we're not running the SQL here as it's not a natural application of the tool.\n",
        "\n",
        "To access the data and interface for this challenge: http://sqlfiddle.com/#!9/dd3fe5/1\n",
        "\n",
        "Start by looking at how the tables were built (on the left). These are all themselves SQL statements, oriented towards the specification of a schema (types for data in the database) and insertion of appropriate data.\n",
        "\n",
        "The given queries (on the right) are the simplest sorts of SQL queries - `select *`\n",
        "\n",
        "A `select * from table` query retrieves data from a table, where `*` means retrieve all available columns. You can limit the retrieved columns by specifying them (separated by commas) instead of `*`, e.g. `select col1, col2 from table`.\n",
        "\n",
        "There are many other queries possible, as well as more ways to refine queries and `join` data from across multiple tables. For details, please see: https://github.com/LambdaSchool/Relational-Databases\n",
        "\n",
        "Try crafting a few of your own queries, using the reference above, and then work on answering the following questions (save the text of your successful SQL queries as text cells in this notebook below their respective questions - see Q0 as an example, and answer starting from Q1). All questions refer specifically to the given data, and should be answered both with the working query and the result of the query."
      ]
    },
    {
      "metadata": {
        "id": "SPcmWmifJx90",
        "colab_type": "text"
      },
      "cell_type": "markdown",
      "source": [
        "**Q0 (Example)**\n",
        "\n",
        "Return all rows and all columns of the Authors table."
      ]
    },
    {
      "metadata": {
        "id": "8XDeSH3CKIjW",
        "colab_type": "text"
      },
      "cell_type": "markdown",
      "source": [
        "**Q0 Answer**\n",
        "\n",
        "`select * from Authors;`\n",
        "\n",
        "```\n",
        "Id\tName\tCountry\n",
        "1\tJ.D. Salinger\tUSA\n",
        "2\tF. Scott. Fitzgerald\tUSA\n",
        "3\tJane Austen\tUK\n",
        "4\tScott Hanselman\tUSA\n",
        "5\tJason N. Gaylord\tUSA\n",
        "6\tPranav Rastogi\tIndia\n",
        "7\tTodd Miranda\tUSA\n",
        "8\tChristian Wenz\tUSA\n",
        "```\n",
        "\n",
        "(You can make the query result pretty by pasting it between triple-` symbols before and after.)"
      ]
    },
    {
      "metadata": {
        "id": "Xalzp1rSKVQM",
        "colab_type": "text"
      },
      "cell_type": "markdown",
      "source": [
        "**Q1**\n",
        "\n",
        "Return all the book titles from the Books table.\n",
        "\n",
        "```select Title from Books;```\n",
        "\n",
        "``` Title\n",
        "The Catcher in the Rye\n",
        "Nine Stories\n",
        "Franny and Zooey\n",
        "The Great Gatsby\n",
        "Tender is the Night\n",
        "Pride and Prejudice\n",
        "Professional ASP.NET 4.5 in C# and VB ```"
      ]
    },
    {
      "metadata": {
        "id": "kRWVk-SPKneZ",
        "colab_type": "text"
      },
      "cell_type": "markdown",
      "source": [
        "**Q2**\n",
        "\n",
        "Return all the unique countries that have authors in them (unique -> there shouldn't be any duplicates in your results).\n",
        "\n",
        "\n",
        "``` select distinct country from Authors; ```\n",
        "\n",
        "```country\n",
        "USA\n",
        "UK\n",
        "India```"
      ]
    },
    {
      "metadata": {
        "id": "4tp5kmIGK_ht",
        "colab_type": "text"
      },
      "cell_type": "markdown",
      "source": [
        "**Q3**\n",
        "\n",
        "How many books did J.D. Salinger write?\n",
        "\n",
        "```select count(BookId) from BooksAuthors where AuthorId in (select Id from Authors where Name = 'J.D. Salinger');```\n",
        "\n",
        "\n",
        "\n",
        "```count(BookId)\n",
        "3```"
      ]
    },
    {
      "metadata": {
        "id": "inp2W9FLMAn3",
        "colab_type": "text"
      },
      "cell_type": "markdown",
      "source": [
        "**Q4**\n",
        "\n",
        "Who (i.e. what was the author name) wrote the book titled Pride and Prejudice?\n",
        "\n",
        "``` select Id,Name from Authors where Id in(select AuthorId from BooksAuthors where BookId in (select Id from Books where Title = 'Pride and Prejudice')); ```\n",
        "\n",
        "```Name \n",
        "\tJane Austen ```"
      ]
    },
    {
      "metadata": {
        "id": "dnjuYynPMLFm",
        "colab_type": "text"
      },
      "cell_type": "markdown",
      "source": [
        "**Q5**\n",
        "\n",
        "How many books have more than one author?\n",
        "\n",
        "```select count(distinct(BookId)) from BooksAuthors group by BookId having count(AuthorId) > 1;```\n",
        "\n",
        "```count(distinct(BookId))\n",
        "1```"
      ]
    },
    {
      "metadata": {
        "id": "PLpwvYWAMUj7",
        "colab_type": "text"
      },
      "cell_type": "markdown",
      "source": [
        "**Q6**\n",
        "\n",
        "How many books were written by authors from the USA?\n",
        "\n",
        "``` select count(distinct(BookId)) from BooksAuthors where AuthorId in (select Id from Authors where country = 'USA') ```\n",
        "\n",
        "```count(distinct(BookId))\n",
        "6```"
      ]
    },
    {
      "metadata": {
        "id": "rHEd3u-9MZHQ",
        "colab_type": "text"
      },
      "cell_type": "markdown",
      "source": [
        "**Q7**\n",
        "\n",
        "This is not a question to be answered with a query - instead, in your own words, describe what the `BooksAuthors` table is and what purpose it serves. \\\\\n",
        "\n",
        "BooksAuthors table is the table showing the details of books and the associated authors. It establishes relation between books and authors."
      ]
    }
  ]
}