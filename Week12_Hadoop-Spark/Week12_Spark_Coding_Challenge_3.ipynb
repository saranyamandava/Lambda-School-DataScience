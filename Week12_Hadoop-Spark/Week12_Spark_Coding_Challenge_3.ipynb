{
  "nbformat": 4,
  "nbformat_minor": 0,
  "metadata": {
    "colab": {
      "name": "Week12_Spark Coding Challenge #3.ipynb",
      "version": "0.3.2",
      "views": {},
      "default_view": {},
      "provenance": [
        {
          "file_id": "1acxVW9K9PiNFU9y-5RtmXbwfk_NiwHW0",
          "timestamp": 1529507325036
        },
        {
          "file_id": "1WkgmnBd3wTIW5DR1jvokNlfnCQNrfR9l",
          "timestamp": 1529506596313
        },
        {
          "file_id": "1oJCI_YSdpHmHwcpGYmnB5c-LBXh50MHM",
          "timestamp": 1528924839108
        },
        {
          "file_id": "15VZIkdnCuuYPwgQYuf958E09sP4lTISb",
          "timestamp": 1528642554887
        },
        {
          "file_id": "1ze4oqASRYRH4sM47GcSEvsIy9HlVxi6p",
          "timestamp": 1528579590698
        },
        {
          "file_id": "1-EV69_DVCzbpMWLiPYHSroeL91624q7j",
          "timestamp": 1528555981083
        },
        {
          "file_id": "1O-exHskPOjgEs1Hrm7utpkHJ-bLmWxbS",
          "timestamp": 1528507363505
        }
      ],
      "collapsed_sections": []
    },
    "kernelspec": {
      "name": "python3",
      "display_name": "Python 3"
    },
    "accelerator": "GPU"
  },
  "cells": [
    {
      "metadata": {
        "id": "b-y9l5SxPLKQ",
        "colab_type": "text"
      },
      "cell_type": "markdown",
      "source": [
        "### Coding Challenge #3:"
      ]
    },
    {
      "metadata": {
        "id": "oXX0kIcBNJdq",
        "colab_type": "text"
      },
      "cell_type": "markdown",
      "source": [
        "In this coding challenge, you will work through a couple of scenarios that help you become acquainted with the Spark Mllib package to surface predictions.\n"
      ]
    },
    {
      "metadata": {
        "id": "RAnKnW3-T6rG",
        "colab_type": "text"
      },
      "cell_type": "markdown",
      "source": [
        "**Question 1**:  We are going to utilize the ML library from Spark (specifically a decision tree model) to predict whether a person gets hired or not based on a select set of attributes/features. The **ask** is to train a Decision Tree model on \"Hiring\" related data using the Spark ML library  and then use the trained model on test data to predict outcomes (**hired** or **not hired**)\n",
        "\n",
        "**Dataset**: https://www.dropbox.com/s/owywl67x4y7ftv8/History_Hires.csv?raw=1 - Download the file and save it to a local folder and then utilize the textfile method of the SparkContext package to read in the file\n",
        "\n",
        "The dataset consists of the following attributes:\n",
        "\n",
        "**1) **Years Experience\n",
        "**2) **Employed?\n",
        "**3)** Previous Employers (i.e. how many previous employers they have had)\n",
        "**4) ** Level of Education (i.e. degrees)\n",
        "**5) ** Top-Tier School\n",
        "**6) ** Interned?\n",
        "**7) ** Hired (i.e. dependent variable)\n",
        "\n",
        "Once the decision tree model is trained, test it against the following 2 test candidates and surface predictions\n",
        "\n",
        "**Test Candidate 1**: \n",
        "\n",
        "The first candidate with 10 years of experience, currently employed,\n",
        "3 previous employers, a BS degree, but from a non-top-tier school where he or she did not do an internship\n",
        "\n",
        "**Test Candidate 2**:\n",
        "\n",
        "The second condidate with 0 years of experience, currently not employed,\n",
        "no previous employers, a BS degree, but from a non-top-tier school where\n",
        "he or she did not do an internship.\n",
        "\n",
        "**Stretch Goal**: \n",
        "\n",
        "Make up a large number of test candidates and populate a \"csv\" file. Read the \"csv\" file and then test the trained model against your test candidates to surface predictions\n",
        "\n",
        "Reference: https://spark.apache.org/docs/2.3.0/mllib-decision-tree.html"
      ]
    },
    {
      "metadata": {
        "id": "UgK-L6IUvlb2",
        "colab_type": "code",
        "colab": {
          "autoexec": {
            "startup": false,
            "wait_interval": 0
          }
        }
      },
      "cell_type": "code",
      "source": [
        "# https://mikestaszel.com/2018/03/07/apache-spark-on-google-colaboratory/\n",
        "!apt-get install openjdk-8-jdk-headless -qq > /dev/null\n",
        "!wget -q http://apache.osuosl.org/spark/spark-2.3.1/spark-2.3.1-bin-hadoop2.7.tgz\n",
        "!tar xf spark-2.3.1-bin-hadoop2.7.tgz\n",
        "!pip install -q findspark"
      ],
      "execution_count": 0,
      "outputs": []
    },
    {
      "metadata": {
        "id": "4P_LH0ABvmIU",
        "colab_type": "code",
        "colab": {
          "autoexec": {
            "startup": false,
            "wait_interval": 0
          }
        }
      },
      "cell_type": "code",
      "source": [
        "import os\n",
        "os.environ[\"JAVA_HOME\"] = \"/usr/lib/jvm/java-8-openjdk-amd64\"\n",
        "os.environ[\"SPARK_HOME\"] = \"/content/spark-2.3.1-bin-hadoop2.7\""
      ],
      "execution_count": 0,
      "outputs": []
    },
    {
      "metadata": {
        "id": "TMzs-lUUvqYl",
        "colab_type": "code",
        "colab": {
          "autoexec": {
            "startup": false,
            "wait_interval": 0
          }
        }
      },
      "cell_type": "code",
      "source": [
        "import findspark\n",
        "findspark.init()\n",
        "from pyspark.context import SparkContext\n",
        "from pyspark.sql import SparkSession\n",
        "spark = SparkSession.builder.master(\"local[*]\").getOrCreate()\n",
        "sc = SparkContext.getOrCreate()"
      ],
      "execution_count": 0,
      "outputs": []
    },
    {
      "metadata": {
        "id": "sI2cnABTwQNo",
        "colab_type": "code",
        "colab": {
          "autoexec": {
            "startup": false,
            "wait_interval": 0
          },
          "base_uri": "https://localhost:8080/",
          "height": 102
        },
        "outputId": "03d75580-adb8-43f7-c8b9-160f118de14a",
        "executionInfo": {
          "status": "ok",
          "timestamp": 1529610804063,
          "user_tz": 300,
          "elapsed": 3131,
          "user": {
            "displayName": "saranya Mandava",
            "photoUrl": "https://lh3.googleusercontent.com/a/default-user=s128",
            "userId": "111547944025536722337"
          }
        }
      },
      "cell_type": "code",
      "source": [
        "from pyspark import SparkFiles\n",
        "\n",
        "sc.addFile('https://raw.githubusercontent.com/saranyamandava/ML-Sprint-Challenges/master/Datasets/History_Hires.csv')\n",
        "hires = sc.textFile(SparkFiles.get('History_Hires.csv'))\n",
        "hires.take(5)"
      ],
      "execution_count": 5,
      "outputs": [
        {
          "output_type": "execute_result",
          "data": {
            "text/plain": [
              "['Years Experience,Employed?,Previous employers,Level of Education,Top-tier school,Interned,Hired',\n",
              " '10,Y,4,BS,N,N,Y',\n",
              " '0,N,0,BS,Y,Y,Y',\n",
              " '7,N,6,BS,N,N,N',\n",
              " '2,Y,1,MS,Y,N,Y']"
            ]
          },
          "metadata": {
            "tags": []
          },
          "execution_count": 5
        }
      ]
    },
    {
      "metadata": {
        "id": "Um5iH3hpxUAW",
        "colab_type": "code",
        "colab": {
          "autoexec": {
            "startup": false,
            "wait_interval": 0
          },
          "base_uri": "https://localhost:8080/",
          "height": 37
        },
        "outputId": "f8f89f6b-aa72-495c-b0ab-432ac381800c",
        "executionInfo": {
          "status": "ok",
          "timestamp": 1529520175827,
          "user_tz": 300,
          "elapsed": 621,
          "user": {
            "displayName": "saranya Mandava",
            "photoUrl": "https://lh3.googleusercontent.com/a/default-user=s128",
            "userId": "111547944025536722337"
          }
        }
      },
      "cell_type": "code",
      "source": [
        "# Remove the header\n",
        "header = hires.first()\n",
        "hires = hires.filter(lambda row: row != header)\n",
        "\n",
        "# Split on commas\n",
        "hires = hires.map(lambda row: row.split(','))\n",
        "\n"
      ],
      "execution_count": 7,
      "outputs": []
    },
    {
      "metadata": {
        "id": "GAMdWLBlPYa8",
        "colab_type": "code",
        "colab": {
          "autoexec": {
            "startup": false,
            "wait_interval": 0
          },
          "base_uri": "https://localhost:8080/",
          "height": 37
        },
        "outputId": "695992a0-fc21-448e-bab8-64630d1d9b96",
        "executionInfo": {
          "status": "ok",
          "timestamp": 1529520180050,
          "user_tz": 300,
          "elapsed": 368,
          "user": {
            "displayName": "saranya Mandava",
            "photoUrl": "https://lh3.googleusercontent.com/a/default-user=s128",
            "userId": "111547944025536722337"
          }
        }
      },
      "cell_type": "code",
      "source": [
        "# Helper function to encode to LabeledPoints\n",
        "def construct_labeled_points(row):\n",
        "  Years = int(row[0])\n",
        "  Employed = 1 if row[1] == 'Y' else 0\n",
        "  previous_employers = int(row[2])\n",
        "  education = 1 if row[3] == 'MS' else 2 if row[3] == 'PhD' else 0\n",
        "  top_tier = 1 if row[4] == 'Y' else 0\n",
        "  intern = 1 if row[5] == 'y' else 0\n",
        "  Hired = 1 if row[6] == 'Y' else 0\n",
        "  return LabeledPoint(Hired,[Years,Employed,previous_employers,education,top_tier,intern])\n",
        "  \n",
        "\n",
        "labeled_points_rdd = hires.map(construct_labeled_points)\n"
      ],
      "execution_count": 8,
      "outputs": []
    },
    {
      "metadata": {
        "id": "yygeE_jFxv3P",
        "colab_type": "code",
        "colab": {
          "autoexec": {
            "startup": false,
            "wait_interval": 0
          },
          "base_uri": "https://localhost:8080/",
          "height": 37
        },
        "outputId": "3d1178da-a67c-413f-8fd4-2e0fac49d5e4",
        "executionInfo": {
          "status": "ok",
          "timestamp": 1529520182471,
          "user_tz": 300,
          "elapsed": 426,
          "user": {
            "displayName": "saranya Mandava",
            "photoUrl": "https://lh3.googleusercontent.com/a/default-user=s128",
            "userId": "111547944025536722337"
          }
        }
      },
      "cell_type": "code",
      "source": [
        "from pyspark.mllib.regression import LabeledPoint\n",
        "from pyspark.mllib.tree import DecisionTree"
      ],
      "execution_count": 9,
      "outputs": []
    },
    {
      "metadata": {
        "id": "ZdXkb54y0UOM",
        "colab_type": "code",
        "colab": {
          "autoexec": {
            "startup": false,
            "wait_interval": 0
          },
          "base_uri": "https://localhost:8080/",
          "height": 37
        },
        "outputId": "ba475525-6ac4-4253-e6f7-8eef3568e727",
        "executionInfo": {
          "status": "ok",
          "timestamp": 1529520187216,
          "user_tz": 300,
          "elapsed": 2128,
          "user": {
            "displayName": "saranya Mandava",
            "photoUrl": "https://lh3.googleusercontent.com/a/default-user=s128",
            "userId": "111547944025536722337"
          }
        }
      },
      "cell_type": "code",
      "source": [
        "hires_model = DecisionTree.trainClassifier(labeled_points_rdd, categoricalFeaturesInfo={1:2, 3:3, 4:2, 5:2}, numClasses=2)"
      ],
      "execution_count": 10,
      "outputs": []
    },
    {
      "metadata": {
        "id": "eL6up53mz7IA",
        "colab_type": "code",
        "colab": {
          "autoexec": {
            "startup": false,
            "wait_interval": 0
          },
          "base_uri": "https://localhost:8080/",
          "height": 34
        },
        "outputId": "00666c32-c9f8-45ea-d366-57375e8708ad",
        "executionInfo": {
          "status": "ok",
          "timestamp": 1529520188708,
          "user_tz": 300,
          "elapsed": 543,
          "user": {
            "displayName": "saranya Mandava",
            "photoUrl": "https://lh3.googleusercontent.com/a/default-user=s128",
            "userId": "111547944025536722337"
          }
        }
      },
      "cell_type": "code",
      "source": [
        "test_candidates = [[10, 1, 3, 0, 0, 0],\n",
        "                   [0, 0, 0, 0, 0, 0]]\n",
        "test_data = sc.parallelize(test_candidates)\n",
        "predict = hires_model.predict(test_data)\n",
        "print(predict.collect())\n"
      ],
      "execution_count": 11,
      "outputs": [
        {
          "output_type": "stream",
          "text": [
            "[1.0, 0.0]\n"
          ],
          "name": "stdout"
        }
      ]
    },
    {
      "metadata": {
        "id": "_gBf2yRUeDqe",
        "colab_type": "text"
      },
      "cell_type": "markdown",
      "source": [
        "**Question 2**: The ask in this case is to build a Logistic Regression model to decipher whether a body of text is \"Spam\" or \"Ham\". You will leverage the  \"SMSSpamCollection\" file that contains spam and ham messages respectively. You will need to create a feature vector from text data and then train a Logistic Regression model with the entire set of messages (both spam and ham). Once you have trained the model, you will test the model with 2 messages (i.e. one spam message and another ham message) to ascertain how the model categorizes the respective messages (i.e. 1 indicates spam and 0 indicates ham).\n",
        "\n",
        "**Test Message 1 (Spam)**:\n",
        "\n",
        "\"Free entry in 2 a wkly comp to win FA Cup final tkts 21st May 2005. Text FA to 87121 to receive entry question(std txt rate)T&C's apply 08452810075over18's\"\n",
        "\n",
        "\n",
        "**Test Message 2 (Ham)**:\n",
        "\n",
        "\"I've been searching for the right words to thank you for this breather\"\n",
        "\n",
        "**Dataset**: https://www.dropbox.com/s/z5zm0fxevqvujee/SMSSpamCollection.tsv?raw=1 - Download the file and save it to a local folder and then utilize the textfile method of the SparkContext package to read in the file\n"
      ]
    },
    {
      "metadata": {
        "id": "_WDo-NB-aE1U",
        "colab_type": "code",
        "colab": {
          "autoexec": {
            "startup": false,
            "wait_interval": 0
          }
        }
      },
      "cell_type": "code",
      "source": [
        "from pyspark.mllib.feature import HashingTF, IDF\n",
        "from pyspark.mllib.classification import LogisticRegressionWithLBFGS"
      ],
      "execution_count": 0,
      "outputs": []
    },
    {
      "metadata": {
        "id": "kuLptPZ9g1A3",
        "colab_type": "code",
        "colab": {
          "autoexec": {
            "startup": false,
            "wait_interval": 0
          },
          "base_uri": "https://localhost:8080/",
          "height": 37
        },
        "outputId": "613eedd7-c0fc-4d8e-af2d-b797819cdace",
        "executionInfo": {
          "status": "ok",
          "timestamp": 1529520283501,
          "user_tz": 300,
          "elapsed": 1077,
          "user": {
            "displayName": "saranya Mandava",
            "photoUrl": "https://lh3.googleusercontent.com/a/default-user=s128",
            "userId": "111547944025536722337"
          }
        }
      },
      "cell_type": "code",
      "source": [
        "sc.addFile('https://uc7ff37af3d623228ac1e3441384.dl.dropboxusercontent.com/cd/0/inline/AJWVbSHDtM1eOSh4hkz0ovY9J81DJozzzjVPrTg7O0uqjhJhrjjIxnm-Liq9IzMlDVbbaXNwUGwm5lnDXY9JCiASulav49bR8pC8d5cUO-SArHcs972RTXPBsuRee54mtkZK_roORzXe9hH2yO0B5z4ivPSfJ4EYJHoQRgQAmI206WkPtg6mUvijHGDZ7w7oAa0/file')"
      ],
      "execution_count": 21,
      "outputs": []
    },
    {
      "metadata": {
        "id": "Zo0i_Wq5g2g3",
        "colab_type": "code",
        "colab": {
          "autoexec": {
            "startup": false,
            "wait_interval": 0
          },
          "base_uri": "https://localhost:8080/",
          "height": 37
        },
        "outputId": "37d5ea31-dd5b-4d34-ede1-5c20b989956c",
        "executionInfo": {
          "status": "ok",
          "timestamp": 1529520294399,
          "user_tz": 300,
          "elapsed": 616,
          "user": {
            "displayName": "saranya Mandava",
            "photoUrl": "https://lh3.googleusercontent.com/a/default-user=s128",
            "userId": "111547944025536722337"
          }
        }
      },
      "cell_type": "code",
      "source": [
        "data = sc.textFile(SparkFiles.get('file'))"
      ],
      "execution_count": 22,
      "outputs": []
    },
    {
      "metadata": {
        "id": "0VjOz19pg6IK",
        "colab_type": "code",
        "colab": {
          "autoexec": {
            "startup": false,
            "wait_interval": 0
          },
          "base_uri": "https://localhost:8080/",
          "height": 37
        },
        "outputId": "c517b852-7b4a-4072-bd9d-9d1bfdc8ec9d",
        "executionInfo": {
          "status": "ok",
          "timestamp": 1529520303641,
          "user_tz": 300,
          "elapsed": 394,
          "user": {
            "displayName": "saranya Mandava",
            "photoUrl": "https://lh3.googleusercontent.com/a/default-user=s128",
            "userId": "111547944025536722337"
          }
        }
      },
      "cell_type": "code",
      "source": [
        "data = data.map(lambda line: line.split('\\t'))"
      ],
      "execution_count": 23,
      "outputs": []
    },
    {
      "metadata": {
        "id": "dqb-pwtmg7wH",
        "colab_type": "code",
        "colab": {
          "autoexec": {
            "startup": false,
            "wait_interval": 0
          },
          "base_uri": "https://localhost:8080/",
          "height": 173
        },
        "outputId": "28b87929-4837-4e61-8b6b-ec21098bf3c6",
        "executionInfo": {
          "status": "ok",
          "timestamp": 1529520315674,
          "user_tz": 300,
          "elapsed": 1183,
          "user": {
            "displayName": "saranya Mandava",
            "photoUrl": "https://lh3.googleusercontent.com/a/default-user=s128",
            "userId": "111547944025536722337"
          }
        }
      },
      "cell_type": "code",
      "source": [
        "data.collect()[:5]"
      ],
      "execution_count": 24,
      "outputs": [
        {
          "output_type": "execute_result",
          "data": {
            "text/plain": [
              "[['ham',\n",
              "  \"I've been searching for the right words to thank you for this breather. I promise i wont take your help for granted and will fulfil my promise. You have been wonderful and a blessing at all times.\"],\n",
              " ['spam',\n",
              "  \"Free entry in 2 a wkly comp to win FA Cup final tkts 21st May 2005. Text FA to 87121 to receive entry question(std txt rate)T&C's apply 08452810075over18's\"],\n",
              " ['ham', \"Nah I don't think he goes to usf, he lives around here though\"],\n",
              " ['ham',\n",
              "  'Even my brother is not like to speak with me. They treat me like aids patent.'],\n",
              " ['ham', 'I HAVE A DATE ON SUNDAY WITH WILL!!']]"
            ]
          },
          "metadata": {
            "tags": []
          },
          "execution_count": 24
        }
      ]
    },
    {
      "metadata": {
        "id": "MqE5SYkZg-O6",
        "colab_type": "code",
        "colab": {
          "autoexec": {
            "startup": false,
            "wait_interval": 0
          },
          "base_uri": "https://localhost:8080/",
          "height": 37
        },
        "outputId": "afe609d3-7776-4540-cde0-499f89c28b22",
        "executionInfo": {
          "status": "ok",
          "timestamp": 1529520330481,
          "user_tz": 300,
          "elapsed": 351,
          "user": {
            "displayName": "saranya Mandava",
            "photoUrl": "https://lh3.googleusercontent.com/a/default-user=s128",
            "userId": "111547944025536722337"
          }
        }
      },
      "cell_type": "code",
      "source": [
        "data = data.map(lambda line: (line[0], line[1].split()))"
      ],
      "execution_count": 25,
      "outputs": []
    },
    {
      "metadata": {
        "id": "HIy2c6W1hB-u",
        "colab_type": "code",
        "colab": {
          "autoexec": {
            "startup": false,
            "wait_interval": 0
          },
          "base_uri": "https://localhost:8080/",
          "height": 54
        },
        "outputId": "9c7b13f7-8f0d-4369-f34a-35796348bf50",
        "executionInfo": {
          "status": "ok",
          "timestamp": 1529520340966,
          "user_tz": 300,
          "elapsed": 385,
          "user": {
            "displayName": "saranya Mandava",
            "photoUrl": "https://lh3.googleusercontent.com/a/default-user=s128",
            "userId": "111547944025536722337"
          }
        }
      },
      "cell_type": "code",
      "source": [
        "print(data.collect()[0])"
      ],
      "execution_count": 26,
      "outputs": [
        {
          "output_type": "stream",
          "text": [
            "('ham', [\"I've\", 'been', 'searching', 'for', 'the', 'right', 'words', 'to', 'thank', 'you', 'for', 'this', 'breather.', 'I', 'promise', 'i', 'wont', 'take', 'your', 'help', 'for', 'granted', 'and', 'will', 'fulfil', 'my', 'promise.', 'You', 'have', 'been', 'wonderful', 'and', 'a', 'blessing', 'at', 'all', 'times.'])\n"
          ],
          "name": "stdout"
        }
      ]
    },
    {
      "metadata": {
        "id": "CbFS-v7phEe8",
        "colab_type": "code",
        "colab": {
          "autoexec": {
            "startup": false,
            "wait_interval": 0
          },
          "base_uri": "https://localhost:8080/",
          "height": 37
        },
        "outputId": "c9838bf5-5c56-42e6-a08c-62fb5d7a5f0c",
        "executionInfo": {
          "status": "ok",
          "timestamp": 1529520355042,
          "user_tz": 300,
          "elapsed": 367,
          "user": {
            "displayName": "saranya Mandava",
            "photoUrl": "https://lh3.googleusercontent.com/a/default-user=s128",
            "userId": "111547944025536722337"
          }
        }
      },
      "cell_type": "code",
      "source": [
        "labels = data.map(lambda x: x[0])\n",
        "documents = data.map(lambda x: x[1])"
      ],
      "execution_count": 27,
      "outputs": []
    },
    {
      "metadata": {
        "id": "X8GfwxbwhIGz",
        "colab_type": "code",
        "colab": {
          "autoexec": {
            "startup": false,
            "wait_interval": 0
          },
          "base_uri": "https://localhost:8080/",
          "height": 37
        },
        "outputId": "1bdad4e4-4d1d-47ef-818d-d9ef1037cfe7",
        "executionInfo": {
          "status": "ok",
          "timestamp": 1529520367318,
          "user_tz": 300,
          "elapsed": 586,
          "user": {
            "displayName": "saranya Mandava",
            "photoUrl": "https://lh3.googleusercontent.com/a/default-user=s128",
            "userId": "111547944025536722337"
          }
        }
      },
      "cell_type": "code",
      "source": [
        "ham_spam = {'ham': 0, 'spam': 1}\n",
        "labels = labels.map(lambda x: ham_spam[x])"
      ],
      "execution_count": 28,
      "outputs": []
    },
    {
      "metadata": {
        "id": "snF8t1nrhOJ2",
        "colab_type": "code",
        "colab": {
          "autoexec": {
            "startup": false,
            "wait_interval": 0
          },
          "base_uri": "https://localhost:8080/",
          "height": 37
        },
        "outputId": "310fbe89-8a55-48a6-ef2d-ab2b1cf77dd2",
        "executionInfo": {
          "status": "ok",
          "timestamp": 1529520385721,
          "user_tz": 300,
          "elapsed": 369,
          "user": {
            "displayName": "saranya Mandava",
            "photoUrl": "https://lh3.googleusercontent.com/a/default-user=s128",
            "userId": "111547944025536722337"
          }
        }
      },
      "cell_type": "code",
      "source": [
        "hashingTF = HashingTF()\n",
        "tf = hashingTF.transform(documents)"
      ],
      "execution_count": 29,
      "outputs": []
    },
    {
      "metadata": {
        "id": "kIaLYWDahQ4C",
        "colab_type": "code",
        "colab": {
          "autoexec": {
            "startup": false,
            "wait_interval": 0
          },
          "base_uri": "https://localhost:8080/",
          "height": 37
        },
        "outputId": "24d4f5a2-3979-4418-daeb-abc07ab11834",
        "executionInfo": {
          "status": "ok",
          "timestamp": 1529520396928,
          "user_tz": 300,
          "elapsed": 366,
          "user": {
            "displayName": "saranya Mandava",
            "photoUrl": "https://lh3.googleusercontent.com/a/default-user=s128",
            "userId": "111547944025536722337"
          }
        }
      },
      "cell_type": "code",
      "source": [
        "dataset = labels.zip(tf)"
      ],
      "execution_count": 30,
      "outputs": []
    },
    {
      "metadata": {
        "id": "5d-iH2y2hSJA",
        "colab_type": "code",
        "colab": {
          "autoexec": {
            "startup": false,
            "wait_interval": 0
          },
          "base_uri": "https://localhost:8080/",
          "height": 71
        },
        "outputId": "1c59bd57-28d3-4ec0-e34b-f6a419890051",
        "executionInfo": {
          "status": "ok",
          "timestamp": 1529520409884,
          "user_tz": 300,
          "elapsed": 1014,
          "user": {
            "displayName": "saranya Mandava",
            "photoUrl": "https://lh3.googleusercontent.com/a/default-user=s128",
            "userId": "111547944025536722337"
          }
        }
      },
      "cell_type": "code",
      "source": [
        "dataset.collect()[0]"
      ],
      "execution_count": 31,
      "outputs": [
        {
          "output_type": "execute_result",
          "data": {
            "text/plain": [
              "(0,\n",
              " SparseVector(1048576, {1475: 1.0, 70882: 1.0, 151357: 2.0, 154253: 1.0, 163495: 1.0, 173174: 1.0, 231791: 1.0, 235395: 1.0, 238153: 1.0, 241476: 1.0, 250929: 1.0, 270412: 1.0, 276491: 3.0, 463522: 1.0, 479025: 1.0, 486014: 1.0, 488866: 1.0, 494808: 1.0, 550685: 1.0, 578619: 2.0, 622323: 1.0, 648331: 1.0, 702216: 1.0, 706364: 1.0, 724221: 1.0, 789438: 1.0, 837499: 1.0, 910746: 1.0, 935701: 1.0, 990085: 1.0, 1000347: 1.0, 1016101: 1.0, 1031802: 1.0}))"
            ]
          },
          "metadata": {
            "tags": []
          },
          "execution_count": 31
        }
      ]
    },
    {
      "metadata": {
        "id": "3oACrfTmhVD5",
        "colab_type": "code",
        "colab": {
          "autoexec": {
            "startup": false,
            "wait_interval": 0
          },
          "base_uri": "https://localhost:8080/",
          "height": 37
        },
        "outputId": "3ac65c66-dee0-4338-aa40-72adb81cf90b",
        "executionInfo": {
          "status": "ok",
          "timestamp": 1529520423316,
          "user_tz": 300,
          "elapsed": 385,
          "user": {
            "displayName": "saranya Mandava",
            "photoUrl": "https://lh3.googleusercontent.com/a/default-user=s128",
            "userId": "111547944025536722337"
          }
        }
      },
      "cell_type": "code",
      "source": [
        "dataset = dataset.map(lambda x: LabeledPoint(x[0], x[1]))"
      ],
      "execution_count": 32,
      "outputs": []
    },
    {
      "metadata": {
        "id": "UiMZKiX1izvW",
        "colab_type": "code",
        "colab": {
          "autoexec": {
            "startup": false,
            "wait_interval": 0
          },
          "base_uri": "https://localhost:8080/",
          "height": 54
        },
        "outputId": "59cc688d-23d1-42af-aba5-aca33cc95cc9",
        "executionInfo": {
          "status": "ok",
          "timestamp": 1529520830623,
          "user_tz": 300,
          "elapsed": 812,
          "user": {
            "displayName": "saranya Mandava",
            "photoUrl": "https://lh3.googleusercontent.com/a/default-user=s128",
            "userId": "111547944025536722337"
          }
        }
      },
      "cell_type": "code",
      "source": [
        "dataset.collect()[0]"
      ],
      "execution_count": 47,
      "outputs": [
        {
          "output_type": "execute_result",
          "data": {
            "text/plain": [
              "LabeledPoint(0.0, (1048576,[1475,70882,151357,154253,163495,173174,231791,235395,238153,241476,250929,270412,276491,463522,479025,486014,488866,494808,550685,578619,622323,648331,702216,706364,724221,789438,837499,910746,935701,990085,1000347,1016101,1031802],[1.0,1.0,2.0,1.0,1.0,1.0,1.0,1.0,1.0,1.0,1.0,1.0,3.0,1.0,1.0,1.0,1.0,1.0,1.0,2.0,1.0,1.0,1.0,1.0,1.0,1.0,1.0,1.0,1.0,1.0,1.0,1.0,1.0]))"
            ]
          },
          "metadata": {
            "tags": []
          },
          "execution_count": 47
        }
      ]
    },
    {
      "metadata": {
        "id": "lJnEGAZMhYo0",
        "colab_type": "code",
        "colab": {
          "autoexec": {
            "startup": false,
            "wait_interval": 0
          },
          "base_uri": "https://localhost:8080/",
          "height": 37
        },
        "outputId": "a5641782-7715-4275-bb91-4135b72cfb29",
        "executionInfo": {
          "status": "ok",
          "timestamp": 1529520458479,
          "user_tz": 300,
          "elapsed": 24330,
          "user": {
            "displayName": "saranya Mandava",
            "photoUrl": "https://lh3.googleusercontent.com/a/default-user=s128",
            "userId": "111547944025536722337"
          }
        }
      },
      "cell_type": "code",
      "source": [
        "model = LogisticRegressionWithLBFGS.train(dataset)"
      ],
      "execution_count": 33,
      "outputs": []
    },
    {
      "metadata": {
        "id": "183uIkCRhbkl",
        "colab_type": "code",
        "colab": {
          "autoexec": {
            "startup": false,
            "wait_interval": 0
          },
          "base_uri": "https://localhost:8080/",
          "height": 37
        },
        "outputId": "0bd575d2-52f0-4837-fe43-3d3438a6d291",
        "executionInfo": {
          "status": "ok",
          "timestamp": 1529520947511,
          "user_tz": 300,
          "elapsed": 370,
          "user": {
            "displayName": "saranya Mandava",
            "photoUrl": "https://lh3.googleusercontent.com/a/default-user=s128",
            "userId": "111547944025536722337"
          }
        }
      },
      "cell_type": "code",
      "source": [
        "def process(text):\n",
        "    tf = hashingTF.transform(text.split())\n",
        "    return tf"
      ],
      "execution_count": 48,
      "outputs": []
    },
    {
      "metadata": {
        "id": "3wZdv3AEjYX0",
        "colab_type": "code",
        "colab": {
          "autoexec": {
            "startup": false,
            "wait_interval": 0
          },
          "base_uri": "https://localhost:8080/",
          "height": 17
        },
        "outputId": "ecf32d2e-bfe0-4a02-df60-7ecf9396ee15",
        "executionInfo": {
          "status": "ok",
          "timestamp": 1529521110654,
          "user_tz": 300,
          "elapsed": 349,
          "user": {
            "displayName": "saranya Mandava",
            "photoUrl": "https://lh3.googleusercontent.com/a/default-user=s128",
            "userId": "111547944025536722337"
          }
        }
      },
      "cell_type": "code",
      "source": [
        "test1 = [\"Free entry in 2 a wkly comp to win FA Cup final tkts 21st May 2005. Text FA to 87121 to receive entry question(std txt rate)T&C's apply 08452810075over18's\"]\n",
        "test1 = sc.parallelize(test1)\n",
        "test1 = test1.map(process)"
      ],
      "execution_count": 50,
      "outputs": []
    },
    {
      "metadata": {
        "id": "7AQMQR6wjYri",
        "colab_type": "code",
        "colab": {
          "autoexec": {
            "startup": false,
            "wait_interval": 0
          },
          "base_uri": "https://localhost:8080/",
          "height": 34
        },
        "outputId": "c72301d9-49e9-4ddc-d5ae-4ea8283c0f13",
        "executionInfo": {
          "status": "ok",
          "timestamp": 1529521135657,
          "user_tz": 300,
          "elapsed": 731,
          "user": {
            "displayName": "saranya Mandava",
            "photoUrl": "https://lh3.googleusercontent.com/a/default-user=s128",
            "userId": "111547944025536722337"
          }
        }
      },
      "cell_type": "code",
      "source": [
        "model.predict(test1).collect()"
      ],
      "execution_count": 51,
      "outputs": [
        {
          "output_type": "execute_result",
          "data": {
            "text/plain": [
              "[1]"
            ]
          },
          "metadata": {
            "tags": []
          },
          "execution_count": 51
        }
      ]
    },
    {
      "metadata": {
        "id": "j-mmQYeUkGnx",
        "colab_type": "code",
        "colab": {
          "autoexec": {
            "startup": false,
            "wait_interval": 0
          },
          "base_uri": "https://localhost:8080/",
          "height": 37
        },
        "outputId": "042340f6-de8e-4910-aeca-adf1e19eee84",
        "executionInfo": {
          "status": "ok",
          "timestamp": 1529521146775,
          "user_tz": 300,
          "elapsed": 371,
          "user": {
            "displayName": "saranya Mandava",
            "photoUrl": "https://lh3.googleusercontent.com/a/default-user=s128",
            "userId": "111547944025536722337"
          }
        }
      },
      "cell_type": "code",
      "source": [
        "test2 = [\"I've been searching for the right words to thank you for this breather\"]\n",
        "test2 = sc.parallelize(test2)\n",
        "test2 = test2.map(process)\n"
      ],
      "execution_count": 52,
      "outputs": []
    },
    {
      "metadata": {
        "id": "MerJq1uqkJHo",
        "colab_type": "code",
        "colab": {
          "autoexec": {
            "startup": false,
            "wait_interval": 0
          },
          "base_uri": "https://localhost:8080/",
          "height": 34
        },
        "outputId": "e89d5cb1-c892-4dec-c529-c2a22b08cda6",
        "executionInfo": {
          "status": "ok",
          "timestamp": 1529521164839,
          "user_tz": 300,
          "elapsed": 449,
          "user": {
            "displayName": "saranya Mandava",
            "photoUrl": "https://lh3.googleusercontent.com/a/default-user=s128",
            "userId": "111547944025536722337"
          }
        }
      },
      "cell_type": "code",
      "source": [
        "model.predict(test2).collect()"
      ],
      "execution_count": 53,
      "outputs": [
        {
          "output_type": "execute_result",
          "data": {
            "text/plain": [
              "[0]"
            ]
          },
          "metadata": {
            "tags": []
          },
          "execution_count": 53
        }
      ]
    },
    {
      "metadata": {
        "id": "bfvuLTNN5Woe",
        "colab_type": "text"
      },
      "cell_type": "markdown",
      "source": [
        "**Alternate Way:**"
      ]
    },
    {
      "metadata": {
        "id": "ZH38sHPE5ang",
        "colab_type": "code",
        "colab": {
          "autoexec": {
            "startup": false,
            "wait_interval": 0
          },
          "base_uri": "https://localhost:8080/",
          "height": 68
        },
        "outputId": "24d93b46-8fbf-4bb0-e60b-60c5ac59874f",
        "executionInfo": {
          "status": "ok",
          "timestamp": 1529611078416,
          "user_tz": 300,
          "elapsed": 53079,
          "user": {
            "displayName": "saranya Mandava",
            "photoUrl": "https://lh3.googleusercontent.com/a/default-user=s128",
            "userId": "111547944025536722337"
          }
        }
      },
      "cell_type": "code",
      "source": [
        "from pyspark.mllib.regression import LabeledPoint\n",
        "from pyspark.mllib.feature import HashingTF\n",
        "from pyspark.mllib.classification import LogisticRegressionWithSGD\n",
        "\n",
        "!wget -nc https://www.dropbox.com/s/z5zm0fxevqvujee/SMSSpamCollection.tsv?raw=1 -O spam.csv\n",
        "raw_data = sc.textFile('spam.csv')\n",
        "\n",
        "tf = HashingTF()\n",
        "\n",
        "spam = raw_data.filter(lambda row: row.startswith('spam'))\n",
        "ham = raw_data.filter(lambda row: row.startswith('ham'))\n",
        "\n",
        "def process_text(text):\n",
        "  columns = text.split('\\t')\n",
        "  label = 1 if columns[0] == 'spam' else 0\n",
        "  body = columns[1]\n",
        "  tokens = body.split(' ')  # TODO: try different tokenization\n",
        "  features = tf.transform(tokens)\n",
        "  return LabeledPoint(label, features)\n",
        "\n",
        "spam_data = spam.map(process_text)\n",
        "ham_data = ham.map(process_text)\n",
        "\n",
        "# Maybe do some other investigation of spam/ham separately\n",
        "\n",
        "train_data = spam_data.union(ham_data)\n",
        "train_data.cache()  # Caching as logistic is iterative\n",
        "\n",
        "spam_model = LogisticRegressionWithSGD.train(train_data)\n",
        "\n",
        "spam_test = tf.transform(\"Free entry in 2 a wkly comp to win FA Cup final tkts 21st May 2005. Text FA to 87121 to receive entry question(std txt rate)T&C's apply 08452810075over18's\".split(\" \"))\n",
        "ham_test = tf.transform(\"I've been searching for the right words to thank you for this breather\".split(\" \"))\n",
        "\n",
        "print(\"Prediction for the spam test example: %g\" %\n",
        "      spam_model.predict(spam_test))\n",
        "\n",
        "print(\"Prediction for the ham test example: %g\" %\n",
        "      spam_model.predict(ham_test))"
      ],
      "execution_count": 12,
      "outputs": [
        {
          "output_type": "stream",
          "text": [
            "File `spam.csv' already there; not retrieving.\r\n",
            "Prediction for the spam test example: 0\n",
            "Prediction for the ham test example: 0\n"
          ],
          "name": "stdout"
        }
      ]
    }
  ]
}