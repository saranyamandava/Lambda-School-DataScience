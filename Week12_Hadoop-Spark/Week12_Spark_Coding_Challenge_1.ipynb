{
  "nbformat": 4,
  "nbformat_minor": 0,
  "metadata": {
    "colab": {
      "name": "Week12_Spark Coding Challenge #1.ipynb",
      "version": "0.3.2",
      "views": {},
      "default_view": {},
      "provenance": [
        {
          "file_id": "1mWSr9tgrne8zw56P0xWsk3oUgMY5MeiJ",
          "timestamp": 1529432514883
        },
        {
          "file_id": "1oJCI_YSdpHmHwcpGYmnB5c-LBXh50MHM",
          "timestamp": 1529334094320
        },
        {
          "file_id": "15VZIkdnCuuYPwgQYuf958E09sP4lTISb",
          "timestamp": 1528642554887
        },
        {
          "file_id": "1ze4oqASRYRH4sM47GcSEvsIy9HlVxi6p",
          "timestamp": 1528579590698
        },
        {
          "file_id": "1-EV69_DVCzbpMWLiPYHSroeL91624q7j",
          "timestamp": 1528555981083
        },
        {
          "file_id": "1O-exHskPOjgEs1Hrm7utpkHJ-bLmWxbS",
          "timestamp": 1528507363505
        }
      ],
      "collapsed_sections": []
    },
    "kernelspec": {
      "name": "python3",
      "display_name": "Python 3"
    },
    "accelerator": "GPU"
  },
  "cells": [
    {
      "metadata": {
        "id": "b-y9l5SxPLKQ",
        "colab_type": "text"
      },
      "cell_type": "markdown",
      "source": [
        "### Coding Challenge #1:"
      ]
    },
    {
      "metadata": {
        "id": "oXX0kIcBNJdq",
        "colab_type": "text"
      },
      "cell_type": "markdown",
      "source": [
        "In this coding challenge, you will work through mini-challenges that help you become familiar with the nuances of Spark programming.\n",
        "\n"
      ]
    },
    {
      "metadata": {
        "id": "RAnKnW3-T6rG",
        "colab_type": "text"
      },
      "cell_type": "markdown",
      "source": [
        "**Question 1**:  The dataset contains information about airports around the world. The first few columns are the **1**) Airport Id, **2) **Name of the Airport, **3) ** City of the Airport, **4)** Country of the Airport, etc. The ask is to retreive the a) Name of the Airport and b) City of the Airport for a country of your choice (i.e. Iceland, Canada or United States) and output the details to a 'select_airports.txt' file.\n",
        "\n",
        "Hint: **1)** Initialize a Spark Context, **2)** Specify how many cores you would like to dedicate to the application, **3)** Leverage the Filter-Map transformation to retrieve the **a)** Name of the Airport and **b)** City of the Airport for a country of your choice.\n",
        "\n",
        "**Dataset**: https://www.dropbox.com/s/zup13k470xj7hhh/airports.txt?raw=1 - Download the file and save it to a local folder and then utilize the textfile method of the SparkContext package to read in the file\n",
        "\n",
        "Reference: https://www.tutorialkart.com/apache-spark/read-input-text-file-to-rdd-example/\n",
        "\n",
        "Reference on Regular Expressions: http://www.pythonforbeginners.com/regex/regular-expressions-in-python"
      ]
    },
    {
      "metadata": {
        "id": "QaewePdNSOYj",
        "colab_type": "code",
        "colab": {
          "autoexec": {
            "startup": false,
            "wait_interval": 0
          }
        }
      },
      "cell_type": "code",
      "source": [
        "# https://mikestaszel.com/2018/03/07/apache-spark-on-google-colaboratory/\n",
        "!apt-get install openjdk-8-jdk-headless -qq > /dev/null\n",
        "!wget -q http://apache.osuosl.org/spark/spark-2.3.1/spark-2.3.1-bin-hadoop2.7.tgz\n",
        "!tar xf spark-2.3.1-bin-hadoop2.7.tgz\n",
        "!pip install -q findspark"
      ],
      "execution_count": 0,
      "outputs": []
    },
    {
      "metadata": {
        "id": "zuxjnH7gSQ7R",
        "colab_type": "code",
        "colab": {
          "autoexec": {
            "startup": false,
            "wait_interval": 0
          }
        }
      },
      "cell_type": "code",
      "source": [
        "import os\n",
        "os.environ[\"JAVA_HOME\"] = \"/usr/lib/jvm/java-8-openjdk-amd64\"\n",
        "os.environ[\"SPARK_HOME\"] = \"/content/spark-2.3.1-bin-hadoop2.7\""
      ],
      "execution_count": 0,
      "outputs": []
    },
    {
      "metadata": {
        "id": "1LE30vlvSTyt",
        "colab_type": "code",
        "colab": {
          "autoexec": {
            "startup": false,
            "wait_interval": 0
          }
        }
      },
      "cell_type": "code",
      "source": [
        "import findspark\n",
        "findspark.init()\n",
        "from pyspark.context import SparkContext\n",
        "from pyspark.sql import SparkSession\n",
        "spark = SparkSession.builder.master(\"local[*]\").getOrCreate()\n",
        "sc = SparkContext.getOrCreate()"
      ],
      "execution_count": 0,
      "outputs": []
    },
    {
      "metadata": {
        "id": "3Cs2ZiWeSbh-",
        "colab_type": "code",
        "colab": {
          "autoexec": {
            "startup": false,
            "wait_interval": 0
          },
          "base_uri": "https://localhost:8080/",
          "height": 187
        },
        "outputId": "02569496-3aab-4f11-ced6-32d179e2f1f5",
        "executionInfo": {
          "status": "ok",
          "timestamp": 1529618800893,
          "user_tz": 300,
          "elapsed": 390,
          "user": {
            "displayName": "saranya Mandava",
            "photoUrl": "https://lh3.googleusercontent.com/a/default-user=s128",
            "userId": "111547944025536722337"
          }
        }
      },
      "cell_type": "code",
      "source": [
        "sc.getConf().getAll()"
      ],
      "execution_count": 4,
      "outputs": [
        {
          "output_type": "execute_result",
          "data": {
            "text/plain": [
              "[('spark.driver.host', '40f8688769ba'),\n",
              " ('spark.driver.port', '35554'),\n",
              " ('spark.rdd.compress', 'True'),\n",
              " ('spark.serializer.objectStreamReset', '100'),\n",
              " ('spark.app.id', 'local-1529618797216'),\n",
              " ('spark.master', 'local[*]'),\n",
              " ('spark.executor.id', 'driver'),\n",
              " ('spark.submit.deployMode', 'client'),\n",
              " ('spark.ui.showConsoleProgress', 'true'),\n",
              " ('spark.app.name', 'pyspark-shell')]"
            ]
          },
          "metadata": {
            "tags": []
          },
          "execution_count": 4
        }
      ]
    },
    {
      "metadata": {
        "id": "LKKZnnwTf9is",
        "colab_type": "code",
        "colab": {
          "autoexec": {
            "startup": false,
            "wait_interval": 0
          }
        }
      },
      "cell_type": "code",
      "source": [
        "from pyspark import SparkFiles\n",
        "\n",
        "sc.addFile('https://raw.githubusercontent.com/saranyamandava/ML-Sprint-Challenges/master/Datasets/airports.txt')\n",
        "airports =sc.textFile(SparkFiles.get('airports.txt'))\n"
      ],
      "execution_count": 0,
      "outputs": []
    },
    {
      "metadata": {
        "id": "TTwRjtnGIyWT",
        "colab_type": "code",
        "colab": {
          "autoexec": {
            "startup": false,
            "wait_interval": 0
          },
          "base_uri": "https://localhost:8080/",
          "height": 54
        },
        "outputId": "4ec1574d-5173-4ee0-d160-ed079f7044e4",
        "executionInfo": {
          "status": "ok",
          "timestamp": 1529615270626,
          "user_tz": 300,
          "elapsed": 387,
          "user": {
            "displayName": "saranya Mandava",
            "photoUrl": "https://lh3.googleusercontent.com/a/default-user=s128",
            "userId": "111547944025536722337"
          }
        }
      },
      "cell_type": "code",
      "source": [
        "#airports = sc.textFile(\"airports.txt\")\n",
        "print (airports)"
      ],
      "execution_count": 6,
      "outputs": [
        {
          "output_type": "stream",
          "text": [
            "/tmp/spark-253a3359-e08e-46f8-a37b-2a962a012ac2/userFiles-37438292-b09d-4233-b4e1-6050e4dda8f3/airports.txt MapPartitionsRDD[1] at textFile at NativeMethodAccessorImpl.java:0\n"
          ],
          "name": "stdout"
        }
      ]
    },
    {
      "metadata": {
        "id": "esSpLjXgx3io",
        "colab_type": "code",
        "colab": {
          "autoexec": {
            "startup": false,
            "wait_interval": 0
          }
        }
      },
      "cell_type": "code",
      "source": [
        "# Split the line based on the comma character,\n",
        "# ignoring commas within double quotes\n",
        "import re\n",
        "\n",
        "def split_on_comma(line: str):\n",
        "    splits = re.compile(''',(?=(?:[^\"]*\"[^\"]*\")*[^\"]*$)''').split(line)\n",
        "    return \"{}, {}\\t\".format(splits[1], splits[2])"
      ],
      "execution_count": 0,
      "outputs": []
    },
    {
      "metadata": {
        "id": "ptMUSIUuyHs3",
        "colab_type": "code",
        "colab": {
          "autoexec": {
            "startup": false,
            "wait_interval": 0
          }
        }
      },
      "cell_type": "code",
      "source": [
        "def filter_on_city(city):\n",
        "    return airports.filter(\n",
        "        lambda line: \n",
        "        re.compile(''',(?=(?:[^\"]*\"[^\"]*\")*[^\"]*$)''')\n",
        "        .split(line)[3] == \"\\\"%s\\\"\" % city)\n",
        "\n",
        "#airports_with_city_names = airports_in_iceland.map(split_on_comma)\n",
        "#print(airports_with_city_names.collect())"
      ],
      "execution_count": 0,
      "outputs": []
    },
    {
      "metadata": {
        "id": "xAlvLDBu5JW1",
        "colab_type": "code",
        "colab": {
          "autoexec": {
            "startup": false,
            "wait_interval": 0
          }
        }
      },
      "cell_type": "code",
      "source": [
        "def airports_in_country(country_name, count):\n",
        "    print(\"Airports in %s:\" % country_name)\n",
        "    return (filter_on_city(country_name).map(split_on_comma).take(count))\n",
        "          "
      ],
      "execution_count": 0,
      "outputs": []
    },
    {
      "metadata": {
        "id": "esIHURL35Ptz",
        "colab_type": "code",
        "colab": {
          "autoexec": {
            "startup": false,
            "wait_interval": 0
          },
          "base_uri": "https://localhost:8080/",
          "height": 71
        },
        "outputId": "d6a8690b-9279-450c-d971-ddf00cad461b",
        "executionInfo": {
          "status": "ok",
          "timestamp": 1529615282707,
          "user_tz": 300,
          "elapsed": 1912,
          "user": {
            "displayName": "saranya Mandava",
            "photoUrl": "https://lh3.googleusercontent.com/a/default-user=s128",
            "userId": "111547944025536722337"
          }
        }
      },
      "cell_type": "code",
      "source": [
        "print (airports_in_country(\"Iceland\", 10))"
      ],
      "execution_count": 10,
      "outputs": [
        {
          "output_type": "stream",
          "text": [
            "Airports in Iceland:\n",
            "['\"Akureyri\", \"Akureyri\"\\t', '\"Egilsstadir\", \"Egilsstadir\"\\t', '\"Hornafjordur\", \"Hofn\"\\t', '\"Husavik\", \"Husavik\"\\t', '\"Isafjordur\", \"Isafjordur\"\\t', '\"Keflavik International Airport\", \"Keflavik\"\\t', '\"Patreksfjordur\", \"Patreksfjordur\"\\t', '\"Reykjavik\", \"Reykjavik\"\\t', '\"Siglufjordur\", \"Siglufjordur\"\\t', '\"Vestmannaeyjar\", \"Vestmannaeyjar\"\\t']\n"
          ],
          "name": "stdout"
        }
      ]
    },
    {
      "metadata": {
        "id": "KnRKOrxM4s5s",
        "colab_type": "text"
      },
      "cell_type": "markdown",
      "source": [
        "**Question 2**: For this question, you will leverage pair RDD's. Pair RDD's expose operations that enable you to act on each key of a key-value in parallel to regroup/aggregate data across the network. In this case, you will leverage a pair RDD to count the number of words in a file. The **ask** is to utilize a pair RDD to count the number of times a word occurs in a body of text (i.e. the WordCount.txt file).\n",
        "\n",
        "**Dataset**: https://www.dropbox.com/s/unau4wxfsidrddq/WordCount.txt?raw=1 - Download the file and save it to a local folder and then utilize the textfile method of the SparkContext package to read in the file\n",
        "\n",
        "Reference(s):\n",
        "\n",
        "https://programmathics.com/big-data/apache-spark/apache-spark-resilient-distributed-dataset-rdd-programming-part-1/apache-spark-resilient-distributed-dataset-rdd-programming-action-operations/\n",
        "\n",
        "https://programmathics.com/big-data/apache-spark/apache-spark-working-with-key-value-pairs-in-rdd/apache-spark-pyspark-actions-on-pair-rdd/\n",
        "\n",
        "\n"
      ]
    },
    {
      "metadata": {
        "id": "6DL1DDeCSx0U",
        "colab_type": "code",
        "colab": {
          "autoexec": {
            "startup": false,
            "wait_interval": 0
          },
          "resources": {
            "http://localhost:8080/nbextensions/google.colab/files.js": {
              "data": "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",
              "ok": true,
              "headers": [
                [
                  "content-type",
                  "application/javascript"
                ]
              ],
              "status": 200,
              "status_text": ""
            }
          },
          "base_uri": "https://localhost:8080/",
          "height": 86
        },
        "outputId": "d86a5b51-17ee-4fb2-ecfd-b7086a5e86a1",
        "executionInfo": {
          "status": "ok",
          "timestamp": 1529615505368,
          "user_tz": 300,
          "elapsed": 25291,
          "user": {
            "displayName": "saranya Mandava",
            "photoUrl": "https://lh3.googleusercontent.com/a/default-user=s128",
            "userId": "111547944025536722337"
          }
        }
      },
      "cell_type": "code",
      "source": [
        "from google.colab import files\n",
        "uploaded = files.upload()\n",
        "\n",
        "for fn in uploaded.keys():\n",
        "    print('Uploaded file \"{name}\" with length {length} bytes'.format(name=fn, length=len(uploaded[fn])))"
      ],
      "execution_count": 11,
      "outputs": [
        {
          "output_type": "display_data",
          "data": {
            "text/html": [
              "\n",
              "     <input type=\"file\" id=\"files-3aa7a850-e349-4f54-a53c-d3879af60049\" name=\"files[]\" multiple disabled />\n",
              "     <output id=\"result-3aa7a850-e349-4f54-a53c-d3879af60049\">\n",
              "      Upload widget is only available when the cell has been executed in the\n",
              "      current browser session. Please rerun this cell to enable.\n",
              "      </output>\n",
              "      <script src=\"/nbextensions/google.colab/files.js\"></script> "
            ],
            "text/plain": [
              "<IPython.core.display.HTML object>"
            ]
          },
          "metadata": {
            "tags": []
          }
        },
        {
          "output_type": "stream",
          "text": [
            "Saving WordCount.txt to WordCount.txt\n",
            "Uploaded file \"WordCount.txt\" with length 4250 bytes\n"
          ],
          "name": "stdout"
        }
      ]
    },
    {
      "metadata": {
        "id": "tPS41noZ9qyJ",
        "colab_type": "code",
        "colab": {
          "autoexec": {
            "startup": false,
            "wait_interval": 0
          }
        }
      },
      "cell_type": "code",
      "source": [
        "!kill -9 -1  # Kill the VM - with a vengeance! Use with caution..."
      ],
      "execution_count": 0,
      "outputs": []
    },
    {
      "metadata": {
        "id": "nLmu05L_6lki",
        "colab_type": "code",
        "colab": {
          "autoexec": {
            "startup": false,
            "wait_interval": 0
          },
          "base_uri": "https://localhost:8080/",
          "height": 68
        },
        "outputId": "48bc7e40-2925-4989-9ed3-66882340d84c",
        "executionInfo": {
          "status": "ok",
          "timestamp": 1529615516712,
          "user_tz": 300,
          "elapsed": 1061,
          "user": {
            "displayName": "saranya Mandava",
            "photoUrl": "https://lh3.googleusercontent.com/a/default-user=s128",
            "userId": "111547944025536722337"
          }
        }
      },
      "cell_type": "code",
      "source": [
        "#data = sc.textFile(\"WordCount.csv\")\n",
        "\n",
        "lines = sc.textFile(\"WordCount.txt\")\n",
        "print(lines)\n",
        "\n",
        "# Tokenize, and set up pair RDD with base 1 count\n",
        "words = lines.flatMap(lambda line: line.split(' '))\n",
        "pairRDD = words.map(lambda word: (word, 1))\n",
        "\n",
        "# Reduce by key to accumulate counts for each word\n",
        "word_counts = pairRDD.reduceByKey(lambda x, y: x + y)\n",
        "\n",
        "# Let's try doing a bunch at once - ugly, but functional\n",
        "# lines.flatMap(lambda line: line.split(' ')).map(lambda word: (word, 1)).reduceByKey(lambda x, y: x + y).first()\n",
        "\n",
        "# Also, there's a built-in, but it's good to understand the above\n",
        "# words.countByValue()['The']\n",
        "\n",
        "print(word_counts.take(5))\n",
        "\n",
        "word_counts.coalesce(1) # Combine to a single worker\n",
        "\n",
        "\n"
      ],
      "execution_count": 12,
      "outputs": [
        {
          "output_type": "stream",
          "text": [
            "WordCount.txt MapPartitionsRDD[4] at textFile at NativeMethodAccessorImpl.java:0\n",
            "[('The', 10), ('of', 33), ('New', 20), ('begins', 1), ('around', 4)]\n"
          ],
          "name": "stdout"
        },
        {
          "output_type": "execute_result",
          "data": {
            "text/plain": [
              "CoalescedRDD[11] at coalesce at NativeMethodAccessorImpl.java:0"
            ]
          },
          "metadata": {
            "tags": []
          },
          "execution_count": 12
        }
      ]
    },
    {
      "metadata": {
        "id": "6oryAmAq42V1",
        "colab_type": "text"
      },
      "cell_type": "markdown",
      "source": [
        "**Question 3:** This question will provide an opportunity to work with the \"groupByKey\" operator. The \"groupByKey\" operator when called on a **key, value** pair  returns a dataset of (K, Iterable<V>) pairs. For example, you can utilize the \"groupByKey\" operator to list all the airport within a country. The **ask** here is to leverage the \"groupByKey\" operator to get a listing of all locations by status. \n",
        "  \n",
        " **Dataset**: https://www.dropbox.com/s/4z3i0b05p7p22b2/RealEstate.csv?raw=1"
      ]
    },
    {
      "metadata": {
        "id": "kgL3ves5VkHu",
        "colab_type": "code",
        "colab": {
          "autoexec": {
            "startup": false,
            "wait_interval": 0
          }
        }
      },
      "cell_type": "code",
      "source": [
        "\n",
        "sc.addFile('https://raw.githubusercontent.com/saranyamandava/ML-Sprint-Challenges/master/Datasets/RealEstate.csv')\n",
        "lines = sc.textFile(SparkFiles.get('RealEstate.csv'))"
      ],
      "execution_count": 0,
      "outputs": []
    },
    {
      "metadata": {
        "id": "v7Sk6inF8G-O",
        "colab_type": "code",
        "colab": {
          "autoexec": {
            "startup": false,
            "wait_interval": 0
          },
          "base_uri": "https://localhost:8080/",
          "height": 102
        },
        "outputId": "842e412e-2ba6-4d0d-c9b3-58aabb53ccb4",
        "executionInfo": {
          "status": "ok",
          "timestamp": 1529616247926,
          "user_tz": 300,
          "elapsed": 665,
          "user": {
            "displayName": "saranya Mandava",
            "photoUrl": "https://lh3.googleusercontent.com/a/default-user=s128",
            "userId": "111547944025536722337"
          }
        }
      },
      "cell_type": "code",
      "source": [
        "lines.take(5)"
      ],
      "execution_count": 16,
      "outputs": [
        {
          "output_type": "execute_result",
          "data": {
            "text/plain": [
              "['MLS,Location,Price,Bedrooms,Bathrooms,Size,Price SQ Ft,Status',\n",
              " '132842,Arroyo Grande,795000.00,3,3,2371,335.30,Short Sale',\n",
              " '134364,Paso Robles,399000.00,4,3,2818,141.59,Short Sale',\n",
              " '135141,Paso Robles,545000.00,4,3,3032,179.75,Short Sale',\n",
              " '135712,Morro Bay,909000.00,4,4,3540,256.78,Short Sale']"
            ]
          },
          "metadata": {
            "tags": []
          },
          "execution_count": 16
        }
      ]
    },
    {
      "metadata": {
        "id": "aZEom9ep5Ll4",
        "colab_type": "code",
        "colab": {
          "autoexec": {
            "startup": false,
            "wait_interval": 0
          },
          "base_uri": "https://localhost:8080/",
          "height": 105
        },
        "outputId": "77f34c00-e445-467b-ca85-18218243e267",
        "executionInfo": {
          "status": "ok",
          "timestamp": 1529616331039,
          "user_tz": 300,
          "elapsed": 826,
          "user": {
            "displayName": "saranya Mandava",
            "photoUrl": "https://lh3.googleusercontent.com/a/default-user=s128",
            "userId": "111547944025536722337"
          }
        }
      },
      "cell_type": "code",
      "source": [
        "header = lines.first()\n",
        "cleaned_lines = lines.filter(lambda row: row != header)\n",
        "\n",
        "StatusLocationPairRdd = cleaned_lines.map(lambda line: \\\n",
        "       (line.split(\",\")[7], line.split(\",\")[1]))\n",
        "\n",
        "LocationByStatus = StatusLocationPairRdd.groupByKey()\n",
        "\n",
        "#Save grouping by Status\n",
        "#LocationByStatus.coalesce(1).saveAsTextFile(\"py_out/status.txt\")\n",
        "\n",
        "for status, location in LocationByStatus.collectAsMap().items():\n",
        "    print(\"{}: {}\".format(status, list(location)))\n",
        "  \n"
      ],
      "execution_count": 19,
      "outputs": [
        {
          "output_type": "stream",
          "text": [
            "Short Sale: ['Paso Robles', 'Paso Robles', 'Morro Bay', 'Santa Maria-Orcutt', 'Oceano', 'Santa Maria-Orcutt', 'Santa Maria-Orcutt', 'Morro Bay', 'Atascadero', 'Santa Maria-Orcutt', 'Santa Maria-Orcutt', 'Arroyo Grande', 'Santa Maria-Orcutt', 'Santa Maria-Orcutt', 'Paso Robles', 'Los Alamos', 'San Miguel', 'Paso Robles', 'San Luis Obispo', 'Morro Bay', 'Cayucos', 'Santa Maria-Orcutt', 'Santa Maria-Orcutt', 'Santa Maria-Orcutt', 'Santa Maria-Orcutt', 'Pismo Beach', 'Santa Maria-Orcutt', 'Santa Maria-Orcutt', 'Santa Maria-Orcutt', 'Santa Maria-Orcutt', 'Santa Maria-Orcutt', 'Santa Maria-Orcutt', 'Atascadero', 'Nipomo', 'Guadalupe', 'Santa Maria-Orcutt', 'Pismo Beach', 'Santa Maria-Orcutt', 'Morro Bay', 'Santa Maria-Orcutt', 'Santa Maria-Orcutt', 'Nipomo', 'Los Osos', 'Arroyo Grande', 'Templeton', 'Templeton', 'Grover Beach', 'Santa Maria-Orcutt', 'Santa Maria-Orcutt', 'Santa Maria-Orcutt', 'Santa Maria-Orcutt', 'Santa Maria-Orcutt', 'Santa Maria-Orcutt', 'Cambria', 'Nipomo', 'Nipomo', 'Paso Robles', 'Pismo Beach', 'Los Osos', 'Santa Maria-Orcutt', 'Santa Maria-Orcutt', 'Santa Maria-Orcutt', 'Grover Beach', 'Nipomo', 'Santa Maria-Orcutt', 'Paso Robles', 'Santa Maria-Orcutt', 'Paso Robles', 'Nipomo', 'Santa Maria-Orcutt', 'Santa Maria-Orcutt', 'Santa Maria-Orcutt', 'Arroyo Grande', 'San Luis Obispo', 'Santa Maria-Orcutt', 'Atascadero', 'Santa Maria-Orcutt', 'Paso Robles', 'Santa Maria-Orcutt', 'Paso Robles', 'Templeton', 'San Luis Obispo', 'Paso Robles', 'Santa Maria-Orcutt', 'Los Osos', 'Atascadero', 'Paso Robles', 'Santa Maria-Orcutt', 'Arroyo Grande', 'Paso Robles', 'Santa Maria-Orcutt', 'Cambria', 'Pismo Beach', 'Santa Maria-Orcutt', 'Santa Maria-Orcutt', 'Santa Maria-Orcutt', 'Santa Maria-Orcutt', 'Guadalupe', 'San Luis Obispo', 'San Miguel', 'Grover Beach', 'Santa Maria-Orcutt', 'Santa Maria-Orcutt', 'Paso Robles', 'Santa Maria-Orcutt', 'Cambria', 'Bradley', 'Paso Robles', 'Arroyo Grande', 'Atascadero', 'Santa Maria-Orcutt', 'Los Osos', 'Santa Ynez', 'Santa Ynez', 'Santa Maria-Orcutt', 'San Luis Obispo', 'Pismo Beach', 'Santa Maria-Orcutt', 'Los Osos', 'Templeton', 'Los Alamos', 'Grover Beach', 'Santa Maria-Orcutt', 'Paso Robles', 'San Miguel', 'Pismo Beach', 'Morro Bay', 'Paso Robles', 'Coalinga', 'Paso Robles', 'Santa Ynez', 'Paso Robles', 'San Miguel', 'Paso Robles', 'Pismo Beach', 'Buellton', 'Santa Maria-Orcutt', 'Santa Maria-Orcutt', 'Atascadero', 'Santa Maria-Orcutt', 'San Luis Obispo', 'Santa Maria-Orcutt', 'Cambria', 'Paso Robles', 'Santa Maria-Orcutt', 'Los Osos', 'Santa Maria-Orcutt', 'Coalinga', 'Santa Maria-Orcutt', 'Oceano', 'Paso Robles', 'Nipomo', 'Santa Maria-Orcutt', 'Lockwood', 'Santa Maria-Orcutt', 'Los Osos', 'Los Osos', 'Los Osos', 'Los Osos', 'Los Osos', 'Los Osos', 'Atascadero', 'Paso Robles', 'Santa Maria-Orcutt', 'Santa Maria-Orcutt', 'Nipomo', 'Arroyo Grande', 'Atascadero', 'Atascadero', 'Lompoc', 'Morro Bay', 'Santa Maria-Orcutt', 'Santa Maria-Orcutt', 'Santa Maria-Orcutt', 'Solvang', 'Atascadero', 'Santa Maria-Orcutt', 'Santa Maria-Orcutt', 'Paso Robles', 'Paso Robles', 'San Miguel', 'Santa Maria-Orcutt', 'Arroyo Grande', 'Nipomo', 'Paso Robles', 'Santa Maria-Orcutt', 'Santa Maria-Orcutt', 'Santa Maria-Orcutt', 'Nipomo', 'Santa Maria-Orcutt', 'Santa Maria-Orcutt', 'Paso Robles', 'Paso Robles', 'Paso Robles', 'Santa Maria-Orcutt', 'Solvang', 'Arroyo Grande', 'Santa Maria-Orcutt', 'Paso Robles', 'Santa Maria-Orcutt', 'Santa Maria-Orcutt', 'Arroyo Grande', 'Paso Robles', 'Arroyo Grande', 'Santa Maria-Orcutt', 'Santa Maria-Orcutt', 'Los Osos', 'Paso Robles', 'Nipomo', 'Grover Beach', 'Grover Beach', 'Santa Maria-Orcutt', 'Santa Maria-Orcutt', 'Santa Maria-Orcutt', 'Lompoc', 'Santa Maria-Orcutt', 'Paso Robles', 'Templeton', 'Paso Robles', 'Paso Robles', 'Atascadero', 'Santa Maria-Orcutt', 'Buellton', 'Santa Maria-Orcutt', 'Atascadero', 'Atascadero', 'Santa Maria-Orcutt', 'Santa Maria-Orcutt', 'Oceano', 'Santa Maria-Orcutt', 'Nipomo', 'Santa Maria-Orcutt', 'Paso Robles', 'Atascadero', 'Santa Maria-Orcutt', 'Santa Maria-Orcutt', 'Nipomo', 'Paso Robles', 'Santa Maria-Orcutt', 'Paso Robles', 'Santa Maria-Orcutt', 'Solvang', 'Arroyo Grande', 'Los Osos', 'Morro Bay', 'Santa Maria-Orcutt', 'Lompoc', 'Templeton', 'Santa Maria-Orcutt', 'Santa Maria-Orcutt', 'Santa Maria-Orcutt', 'Atascadero', 'Atascadero', 'Grover Beach', 'Arroyo Grande', 'Santa Maria-Orcutt', 'Atascadero', 'San Miguel', 'Santa Maria-Orcutt', 'Santa Maria-Orcutt', 'Santa Maria-Orcutt', 'Santa Maria-Orcutt', 'Paso Robles', 'Arroyo Grande', 'Santa Maria-Orcutt', 'Arroyo Grande', 'Santa Maria-Orcutt', 'Atascadero', 'Santa Maria-Orcutt', 'Lompoc', 'Arroyo Grande', 'Santa Maria-Orcutt', 'Arroyo Grande', 'Santa Maria-Orcutt', 'Paso Robles', 'Santa Maria-Orcutt', 'Atascadero', 'Nipomo', 'Nipomo', 'San Miguel', 'Paso Robles', 'Santa Maria-Orcutt', 'Lompoc', 'Paso Robles', 'Paso Robles', 'Atascadero', 'Coalinga', 'San Miguel', 'Santa Maria-Orcutt', 'Buellton', 'Paso Robles', 'Nipomo', 'Atascadero', 'Los Alamos', 'Santa Maria-Orcutt', 'Santa Maria-Orcutt', 'Nipomo', 'Santa Maria-Orcutt', 'Santa Maria-Orcutt', 'Atascadero', 'Templeton', 'Santa Maria-Orcutt', 'Pismo Beach', 'Pismo Beach', 'Atascadero', 'Lompoc', 'Santa Maria-Orcutt', 'Santa Maria-Orcutt', 'Paso Robles', 'Santa Maria-Orcutt', 'Santa Maria-Orcutt', 'Lompoc', 'Santa Maria-Orcutt', 'Santa Maria-Orcutt', 'Santa Maria-Orcutt', 'Santa Maria-Orcutt', 'Lompoc', 'Santa Maria-Orcutt', 'Santa Maria-Orcutt', 'San Luis Obispo', 'Santa Maria-Orcutt', 'Oceano', 'Santa Maria-Orcutt', 'Nipomo', 'Santa Maria-Orcutt', 'Santa Maria-Orcutt', 'Santa Maria-Orcutt', 'Santa Maria-Orcutt', 'Santa Maria-Orcutt', 'Grover Beach', 'Santa Maria-Orcutt', 'Santa Maria-Orcutt', 'Santa Maria-Orcutt', 'Lompoc', 'Santa Maria-Orcutt', 'Santa Maria-Orcutt', 'Santa Maria-Orcutt', 'Santa Maria-Orcutt', 'San Luis Obispo', 'Los Osos', 'Avila Beach', 'Paso Robles', 'Santa Maria-Orcutt', 'Santa Maria-Orcutt', 'Nipomo', 'Bradley', 'Santa Maria-Orcutt', 'Paso Robles', 'Los Osos', 'Santa Maria-Orcutt', 'Paso Robles', 'Nipomo', 'Arroyo Grande', 'Grover Beach', 'Santa Maria-Orcutt', 'Paso Robles', 'Santa Maria-Orcutt', 'Paso Robles', 'Nipomo', 'Los Osos', 'Oceano', 'Santa Maria-Orcutt', 'Santa Maria-Orcutt', 'Santa Maria-Orcutt', 'Santa Maria-Orcutt', 'Atascadero', 'Santa Maria-Orcutt', 'Santa Maria-Orcutt', 'Santa Maria-Orcutt', 'Coalinga', 'Santa Maria-Orcutt', 'Santa Maria-Orcutt', 'Paso Robles', 'Atascadero', 'Atascadero', 'Grover Beach', 'Solvang', 'Nipomo', 'Arroyo Grande', 'Santa Maria-Orcutt', 'Santa Maria-Orcutt', 'Nipomo', 'Santa Maria-Orcutt', 'Atascadero', 'Paso Robles', 'Santa Maria-Orcutt', 'Santa Maria-Orcutt', 'Santa Maria-Orcutt', 'Paso Robles', 'Grover Beach', 'Lompoc', 'Santa Maria-Orcutt', 'Santa Maria-Orcutt', 'Santa Maria-Orcutt', 'Santa Maria-Orcutt', 'Santa Maria-Orcutt', 'Atascadero', 'Arroyo Grande', 'Santa Maria-Orcutt', 'Santa Maria-Orcutt', 'Santa Maria-Orcutt', 'Santa Maria-Orcutt', 'Pismo Beach', 'Atascadero', 'Los Osos', 'Nipomo', 'Santa Maria-Orcutt', 'Solvang', 'Atascadero', 'Santa Maria-Orcutt', 'Santa Maria-Orcutt', 'Santa Maria-Orcutt', 'San Miguel', 'San Miguel', 'Santa Maria-Orcutt', 'Santa Maria-Orcutt', 'Paso Robles', 'Grover Beach', 'Nipomo', 'Santa Maria-Orcutt', 'Buellton', 'Santa Maria-Orcutt', 'Atascadero', 'Morro Bay', 'Santa Maria-Orcutt', 'Santa Maria-Orcutt', 'Nipomo', 'Lompoc', 'Santa Maria-Orcutt', 'Oceano', 'Santa Maria-Orcutt', 'Santa Maria-Orcutt', 'Santa Maria-Orcutt', 'Guadalupe', 'Lompoc', 'Santa Maria-Orcutt', 'Santa Maria-Orcutt', 'Santa Maria-Orcutt', 'Paso Robles', 'Atascadero', 'Bakersfield', 'Santa Maria-Orcutt', 'Paso Robles', 'Atascadero', 'Atascadero', 'Santa Maria-Orcutt', 'Grover Beach', 'Santa Maria-Orcutt', 'Paso Robles', 'Santa Maria-Orcutt', 'Santa Maria-Orcutt', 'Santa Maria-Orcutt', 'Buellton', 'Buellton', 'Buellton', 'Buellton', 'Santa Maria-Orcutt', 'Santa Maria-Orcutt', 'San Miguel', 'Grover Beach', 'Paso Robles', 'Santa Maria-Orcutt', 'Santa Maria-Orcutt', 'Santa Maria-Orcutt', 'Santa Maria-Orcutt', 'Santa Maria-Orcutt', 'Santa Maria-Orcutt', 'Arroyo Grande', 'San Luis Obispo', 'Santa Maria-Orcutt', 'New Cuyama', 'Paso Robles', 'Atascadero', 'Santa Maria-Orcutt', 'Grover Beach', 'Arroyo Grande', 'Santa Maria-Orcutt', 'Santa Maria-Orcutt', 'Santa Maria-Orcutt', 'Santa Maria-Orcutt', 'Santa Maria-Orcutt', 'Arroyo Grande', 'Grover Beach', 'Santa Maria-Orcutt', 'Santa Maria-Orcutt', 'Santa Maria-Orcutt', 'Santa Maria-Orcutt', 'Paso Robles', 'Atascadero', 'Santa Maria-Orcutt', 'Grover Beach', 'Santa Maria-Orcutt', 'Santa Maria-Orcutt', 'Santa Maria-Orcutt', 'Santa Maria-Orcutt', 'Santa Maria-Orcutt', 'Santa Maria-Orcutt', 'Templeton', 'Santa Maria-Orcutt', 'Santa Maria-Orcutt', 'Coalinga', 'Coalinga', 'Atascadero', 'Grover Beach', 'Nipomo', 'Paso Robles', 'Grover Beach', 'Santa Ynez', 'Santa Maria-Orcutt', 'Atascadero', 'Cambria', 'Oceano', 'Santa Maria-Orcutt', 'Santa Maria-Orcutt', 'Coalinga']\n",
            "Status: ['Location']\n",
            "Foreclosure: ['Templeton', 'Morro Bay', 'Morro Bay', 'Morro Bay', 'Morro Bay', 'Santa Maria-Orcutt', 'Santa Maria-Orcutt', 'Santa Maria-Orcutt', 'Solvang', 'Atascadero', 'Atascadero', 'Atascadero', 'Atascadero', 'Atascadero', 'Paso Robles', 'Arroyo Grande', 'Paso Robles', 'Cambria', 'Santa Maria-Orcutt', 'Avila Beach', 'Avila Beach', 'Oceano', 'Guadalupe', 'Bradley', 'King City', 'Creston', 'King City', 'Pismo Beach', 'Lompoc', 'Santa Maria-Orcutt', 'Paso Robles', 'Santa Maria-Orcutt', 'Grover Beach', 'King City', 'Paso Robles', 'Atascadero', 'Lompoc', 'San Luis Obispo', 'Atascadero', 'Morro Bay', 'Oceano', 'Atascadero', 'Santa Maria-Orcutt', 'Atascadero', 'Santa Maria-Orcutt', 'Pismo Beach', 'Santa Maria-Orcutt', 'Paso Robles', 'Paso Robles', 'Los Osos', 'Los Osos', 'Nipomo', 'Paso Robles', 'Santa Maria-Orcutt', 'Atascadero', 'Santa Maria-Orcutt', 'Cambria', 'Arroyo Grande', 'Santa Maria-Orcutt', 'Cambria', 'San Luis Obispo', 'Nipomo', 'Paso Robles', 'Santa Ynez', 'Paso Robles', 'Atascadero', 'Atascadero', 'Santa Maria-Orcutt', 'Lompoc', 'Nipomo', 'Buellton', 'Santa Maria-Orcutt', 'Arroyo Grande', 'Santa Maria-Orcutt', 'Los Osos', 'San Luis Obispo', 'Paso Robles', 'Paso Robles', 'Paso Robles', 'Santa Maria-Orcutt', 'Lompoc', 'Santa Maria-Orcutt', 'Atascadero', 'Buellton', 'Santa Maria-Orcutt', 'Greenfield', 'Santa Maria-Orcutt', 'Paso Robles', 'Arroyo Grande', 'Atascadero', 'Lompoc', 'Nipomo', 'Paso Robles', 'Atascadero', 'Santa Maria-Orcutt', 'Lompoc', 'Atascadero', 'Paso Robles', 'Paso Robles', 'Paso Robles', 'Paso Robles', 'Nipomo', 'Soledad', 'Paso Robles', 'Santa Maria-Orcutt', 'Santa Margarita', 'Atascadero', 'San Miguel', 'Buellton', 'San Luis Obispo', 'Santa Maria-Orcutt', 'Lompoc', 'San Miguel', 'Lompoc', 'Buellton', 'Santa Maria-Orcutt', 'Lompoc', 'Santa Maria-Orcutt', 'Nipomo', 'Santa Maria-Orcutt', 'Paso Robles', 'Santa Maria-Orcutt', 'Paso Robles', 'Lompoc', 'Santa Maria-Orcutt', 'Atascadero', 'Santa Maria-Orcutt', 'Soledad', 'Santa Maria-Orcutt', 'Santa Maria-Orcutt', 'Templeton', 'Paso Robles', 'Santa Maria-Orcutt', 'Santa Maria-Orcutt', 'Paso Robles', 'San Simeon', 'Santa Maria-Orcutt', 'Nipomo', 'Cambria', 'Lompoc', 'Solvang', 'Lompoc', 'Lompoc', 'Atascadero', 'Santa Maria-Orcutt', 'Santa Maria-Orcutt', 'Oceano', 'Solvang', 'Lompoc', 'Paso Robles', 'Santa Maria-Orcutt', 'San Miguel', 'Santa Maria-Orcutt', 'Arroyo Grande', 'Atascadero', 'Santa Maria-Orcutt', 'Soledad', 'Santa Maria-Orcutt', 'Paso Robles', 'Templeton', 'Santa Maria-Orcutt', 'San Luis Obispo']\n",
            "Regular: [' Lompoc', 'Santa Maria-Orcutt', ' Nipomo', ' Arroyo Grande', ' Nipomo', ' Morro Bay', ' Pismo Beach', ' Cambria', ' Paso Robles', ' Out Of Area', ' Los Osos', ' Paso Robles', ' Santa Maria-Orcutt', ' Santa Maria-Orcutt', ' Cambria', ' Pismo Beach', ' Santa Maria-Orcutt', ' Grover Beach', ' Arroyo Grande', ' Santa Maria-Orcutt', ' Arroyo Grande', ' Templeton', ' Atascadero', ' Pismo Beach', ' Pismo Beach', ' Atascadero', ' Arroyo Grande', ' Arroyo Grande', ' Santa Maria-Orcutt', ' Paso Robles', ' Morro Bay', ' Oceano', ' Los Osos', ' Los Osos', ' Arroyo Grande', ' Cayucos', ' Cambria', ' Santa Maria-Orcutt', ' Los Osos', ' Creston', ' Atascadero', ' Atascadero', ' Los Osos', 'Out Of Area', ' Cambria', ' Paso Robles', ' Cambria', ' Cambria', ' Pismo Beach', ' Grover Beach', ' Santa Maria-Orcutt', ' Atascadero', ' Santa Maria-Orcutt', ' San Luis Obispo', ' Atascadero', ' San Luis Obispo', ' Morro Bay', ' Atascadero', ' Morro Bay', ' Paso Robles', ' Cambria', ' Paso Robles', ' Atascadero', ' Cambria', ' Paso Robles', ' Paso Robles', ' Cayucos', ' Cambria', ' Paso Robles', ' Cambria', ' Santa Maria-Orcutt', ' Atascadero', ' Arroyo Grande', ' Pismo Beach', 'Out Of Area', ' Arroyo Grande', ' Santa Maria-Orcutt', ' Paso Robles', ' Santa Maria-Orcutt', ' San Luis Obispo', ' Los Osos', ' Arroyo Grande', ' Paso Robles', ' Arroyo Grande', ' Santa Maria-Orcutt', ' Solvang', ' Cambria', ' Bradley', ' Nipomo', ' Santa Maria-Orcutt', ' Arroyo Grande', ' Atascadero', 'Out Of Area', ' Pismo Beach', ' San Miguel', ' Pismo Beach', ' Paso Robles', ' Paso Robles', ' Solvang', ' Paso Robles', ' Paso Robles', ' Arroyo Grande', ' Cambria']\n"
          ],
          "name": "stdout"
        }
      ]
    },
    {
      "metadata": {
        "id": "Tkcj7Fa-9efS",
        "colab_type": "text"
      },
      "cell_type": "markdown",
      "source": [
        "**Question 4**: In tie question, we will step through select operations in SparkSQL. The dataset that we will use is the same one as Question 3. \n",
        "\n",
        "**a)** Read in the file and output the schema of the file\n",
        "\n",
        "**b)** Print only the following columns from the table: \"location\", \"price\", \n",
        "   \"bedrooms\", \"bathrooms\", \"status\"\n",
        "   \n",
        "**c) ** Print records where the location is Morro Bay\n",
        "\n",
        "**d) ** Print the count of locations \n",
        "\n",
        "**e) ** Print records with price less than 500000 \n",
        "\n",
        "**f) ** Print the records by price in descending order\n",
        "\n",
        "**g)** Group the records by location and aggregate by average price\n",
        "\n",
        "**h)** Group by location, aggregate the average price and sort by average price\n",
        "\n",
        "\n",
        "**Reference (Spark SQL)**: https://spark.apache.org/docs/1.2.1/sql-programming-guide.html"
      ]
    },
    {
      "metadata": {
        "id": "av_aeX1cPSsH",
        "colab_type": "code",
        "colab": {
          "autoexec": {
            "startup": false,
            "wait_interval": 0
          },
          "base_uri": "https://localhost:8080/",
          "height": 187
        },
        "outputId": "a6c0881d-1035-4814-e051-206cdf51240c",
        "executionInfo": {
          "status": "ok",
          "timestamp": 1529618814983,
          "user_tz": 300,
          "elapsed": 408,
          "user": {
            "displayName": "saranya Mandava",
            "photoUrl": "https://lh3.googleusercontent.com/a/default-user=s128",
            "userId": "111547944025536722337"
          }
        }
      },
      "cell_type": "code",
      "source": [
        "sc = SparkContext.getOrCreate()\n",
        "sc.getConf().getAll()"
      ],
      "execution_count": 6,
      "outputs": [
        {
          "output_type": "execute_result",
          "data": {
            "text/plain": [
              "[('spark.driver.host', '40f8688769ba'),\n",
              " ('spark.driver.port', '35554'),\n",
              " ('spark.rdd.compress', 'True'),\n",
              " ('spark.serializer.objectStreamReset', '100'),\n",
              " ('spark.app.id', 'local-1529618797216'),\n",
              " ('spark.master', 'local[*]'),\n",
              " ('spark.executor.id', 'driver'),\n",
              " ('spark.submit.deployMode', 'client'),\n",
              " ('spark.ui.showConsoleProgress', 'true'),\n",
              " ('spark.app.name', 'pyspark-shell')]"
            ]
          },
          "metadata": {
            "tags": []
          },
          "execution_count": 6
        }
      ]
    },
    {
      "metadata": {
        "id": "45v_PEvIPmp0",
        "colab_type": "code",
        "colab": {
          "autoexec": {
            "startup": false,
            "wait_interval": 0
          }
        }
      },
      "cell_type": "code",
      "source": [
        "from pyspark.sql import SQLContext\n",
        "sqlContext = SQLContext(sc)"
      ],
      "execution_count": 0,
      "outputs": []
    },
    {
      "metadata": {
        "id": "xRrasoDxP-Mm",
        "colab_type": "code",
        "colab": {
          "autoexec": {
            "startup": false,
            "wait_interval": 0
          },
          "base_uri": "https://localhost:8080/",
          "height": 34
        },
        "outputId": "55a99231-61d6-4102-9f14-1c2da566f802",
        "executionInfo": {
          "status": "ok",
          "timestamp": 1529618931789,
          "user_tz": 300,
          "elapsed": 1476,
          "user": {
            "displayName": "saranya Mandava",
            "photoUrl": "https://lh3.googleusercontent.com/a/default-user=s128",
            "userId": "111547944025536722337"
          }
        }
      },
      "cell_type": "code",
      "source": [
        "!wget -nc https://raw.githubusercontent.com/saranyamandava/ML-Sprint-Challenges/master/Datasets/RealEstate.csv -O RealEstate.csv"
      ],
      "execution_count": 13,
      "outputs": [
        {
          "output_type": "stream",
          "text": [
            "File `RealEstate.csv' already there; not retrieving.\r\n"
          ],
          "name": "stdout"
        }
      ]
    },
    {
      "metadata": {
        "id": "nq-4CovRPqRI",
        "colab_type": "code",
        "colab": {
          "autoexec": {
            "startup": false,
            "wait_interval": 0
          },
          "base_uri": "https://localhost:8080/",
          "height": 187
        },
        "outputId": "22db3e98-bce6-42f3-a7c0-95d7e6b255b1",
        "executionInfo": {
          "status": "ok",
          "timestamp": 1529618875236,
          "user_tz": 300,
          "elapsed": 4706,
          "user": {
            "displayName": "saranya Mandava",
            "photoUrl": "https://lh3.googleusercontent.com/a/default-user=s128",
            "userId": "111547944025536722337"
          }
        }
      },
      "cell_type": "code",
      "source": [
        "df = spark.read.format(\"csv\").option(\"header\", \"true\").option(\"inferSchema\", \"true\").load(\"RealEstate.csv\")\n",
        "df.printSchema()"
      ],
      "execution_count": 12,
      "outputs": [
        {
          "output_type": "stream",
          "text": [
            "root\n",
            " |-- MLS: integer (nullable = true)\n",
            " |-- Location: string (nullable = true)\n",
            " |-- Price: double (nullable = true)\n",
            " |-- Bedrooms: integer (nullable = true)\n",
            " |-- Bathrooms: integer (nullable = true)\n",
            " |-- Size: integer (nullable = true)\n",
            " |-- Price SQ Ft: double (nullable = true)\n",
            " |-- Status: string (nullable = true)\n",
            "\n"
          ],
          "name": "stdout"
        }
      ]
    },
    {
      "metadata": {
        "id": "hP1coFIpY-Gb",
        "colab_type": "code",
        "colab": {
          "autoexec": {
            "startup": false,
            "wait_interval": 0
          }
        }
      },
      "cell_type": "code",
      "source": [
        "df.createOrReplaceTempView(\"listings\")"
      ],
      "execution_count": 0,
      "outputs": []
    },
    {
      "metadata": {
        "id": "aXEtWAQnZO2S",
        "colab_type": "code",
        "colab": {
          "autoexec": {
            "startup": false,
            "wait_interval": 0
          },
          "base_uri": "https://localhost:8080/",
          "height": 459
        },
        "outputId": "25103c79-7017-4cc4-b8bb-4083974a9ab6",
        "executionInfo": {
          "status": "ok",
          "timestamp": 1529618962984,
          "user_tz": 300,
          "elapsed": 793,
          "user": {
            "displayName": "saranya Mandava",
            "photoUrl": "https://lh3.googleusercontent.com/a/default-user=s128",
            "userId": "111547944025536722337"
          }
        }
      },
      "cell_type": "code",
      "source": [
        "sqlDF = spark.sql(\"SELECT Location, Price, Bedrooms, Bathrooms, Status FROM listings\")\n",
        "sqlDF.show()"
      ],
      "execution_count": 15,
      "outputs": [
        {
          "output_type": "stream",
          "text": [
            "+------------------+--------+--------+---------+----------+\n",
            "|          Location|   Price|Bedrooms|Bathrooms|    Status|\n",
            "+------------------+--------+--------+---------+----------+\n",
            "|     Arroyo Grande|795000.0|       3|        3|Short Sale|\n",
            "|       Paso Robles|399000.0|       4|        3|Short Sale|\n",
            "|       Paso Robles|545000.0|       4|        3|Short Sale|\n",
            "|         Morro Bay|909000.0|       4|        4|Short Sale|\n",
            "|Santa Maria-Orcutt|109900.0|       3|        1|Short Sale|\n",
            "|            Oceano|324900.0|       3|        3|Short Sale|\n",
            "|Santa Maria-Orcutt|192900.0|       4|        2|Short Sale|\n",
            "|Santa Maria-Orcutt|215000.0|       3|        2|Short Sale|\n",
            "|         Morro Bay|999000.0|       4|        3|Short Sale|\n",
            "|        Atascadero|319000.0|       3|        2|Short Sale|\n",
            "|Santa Maria-Orcutt|350000.0|       3|        2|Short Sale|\n",
            "|Santa Maria-Orcutt|249000.0|       3|        2|Short Sale|\n",
            "|     Arroyo Grande|299000.0|       2|        2|Short Sale|\n",
            "|Santa Maria-Orcutt|235900.0|       3|        2|Short Sale|\n",
            "|Santa Maria-Orcutt|348000.0|       3|        2|Short Sale|\n",
            "|       Paso Robles|314000.0|       4|        3|Short Sale|\n",
            "|        Los Alamos|399000.0|       4|        2|Short Sale|\n",
            "|        San Miguel|599000.0|       3|        3|Short Sale|\n",
            "|       Paso Robles|299000.0|       3|        2|Short Sale|\n",
            "|   San Luis Obispo|425000.0|       3|        3|Short Sale|\n",
            "+------------------+--------+--------+---------+----------+\n",
            "only showing top 20 rows\n",
            "\n"
          ],
          "name": "stdout"
        }
      ]
    },
    {
      "metadata": {
        "id": "H9L0xyCaZSUk",
        "colab_type": "code",
        "colab": {
          "autoexec": {
            "startup": false,
            "wait_interval": 0
          },
          "base_uri": "https://localhost:8080/",
          "height": 323
        },
        "outputId": "0a112a03-929d-42ac-a0ad-9ac04c7ce3a5",
        "executionInfo": {
          "status": "ok",
          "timestamp": 1529618985689,
          "user_tz": 300,
          "elapsed": 591,
          "user": {
            "displayName": "saranya Mandava",
            "photoUrl": "https://lh3.googleusercontent.com/a/default-user=s128",
            "userId": "111547944025536722337"
          }
        }
      },
      "cell_type": "code",
      "source": [
        "location = \"Morro Bay\"\n",
        "sqlDF = spark.sql(\"SELECT * FROM listings WHERE Location == \\\"%s\\\"\" % location)\n",
        "sqlDF.show()"
      ],
      "execution_count": 16,
      "outputs": [
        {
          "output_type": "stream",
          "text": [
            "+------+---------+---------+--------+---------+----+-----------+-----------+\n",
            "|   MLS| Location|    Price|Bedrooms|Bathrooms|Size|Price SQ Ft|     Status|\n",
            "+------+---------+---------+--------+---------+----+-----------+-----------+\n",
            "|135712|Morro Bay| 909000.0|       4|        4|3540|     256.78| Short Sale|\n",
            "|137159|Morro Bay| 999000.0|       4|        3|3360|     297.32| Short Sale|\n",
            "|140077|Morro Bay|1100000.0|       4|        3|4168|     263.92| Short Sale|\n",
            "|142528|Morro Bay| 415000.0|       3|        3|1350|     307.41| Short Sale|\n",
            "|143534|Morro Bay| 789000.0|       3|        3|2100|     375.71|Foreclosure|\n",
            "|144314|Morro Bay| 899000.0|       3|        3|2430|     369.96|Foreclosure|\n",
            "|144316|Morro Bay|1045000.0|       3|        3|2100|     497.62|Foreclosure|\n",
            "|144318|Morro Bay| 774000.0|       2|        2|1550|     499.35|Foreclosure|\n",
            "|149230|Morro Bay| 359000.0|       3|        2|1008|     356.15| Short Sale|\n",
            "|150262|Morro Bay| 395000.0|       4|        2|1736|     227.53| Short Sale|\n",
            "|150987|Morro Bay| 311900.0|       0|        1| 910|     342.75|Foreclosure|\n",
            "|151470|Morro Bay| 529000.0|       3|        3|1510|     350.33| Short Sale|\n",
            "|153769|Morro Bay| 435000.0|       3|        2|1236|     351.94| Short Sale|\n",
            "+------+---------+---------+--------+---------+----+-----------+-----------+\n",
            "\n"
          ],
          "name": "stdout"
        }
      ]
    },
    {
      "metadata": {
        "id": "ibEf0sthZX-7",
        "colab_type": "code",
        "colab": {
          "autoexec": {
            "startup": false,
            "wait_interval": 0
          },
          "base_uri": "https://localhost:8080/",
          "height": 34
        },
        "outputId": "89dd00bc-7e1f-49a8-c1fa-98bcfee7a988",
        "executionInfo": {
          "status": "ok",
          "timestamp": 1529619016520,
          "user_tz": 300,
          "elapsed": 607,
          "user": {
            "displayName": "saranya Mandava",
            "photoUrl": "https://lh3.googleusercontent.com/a/default-user=s128",
            "userId": "111547944025536722337"
          }
        }
      },
      "cell_type": "code",
      "source": [
        "print(sqlDF.count())"
      ],
      "execution_count": 17,
      "outputs": [
        {
          "output_type": "stream",
          "text": [
            "13\n"
          ],
          "name": "stdout"
        }
      ]
    },
    {
      "metadata": {
        "id": "gCuUiD0fZfCY",
        "colab_type": "code",
        "colab": {
          "autoexec": {
            "startup": false,
            "wait_interval": 0
          },
          "base_uri": "https://localhost:8080/",
          "height": 476
        },
        "outputId": "91b14c77-949f-4262-eb98-c2354529c894",
        "executionInfo": {
          "status": "ok",
          "timestamp": 1529619035605,
          "user_tz": 300,
          "elapsed": 769,
          "user": {
            "displayName": "saranya Mandava",
            "photoUrl": "https://lh3.googleusercontent.com/a/default-user=s128",
            "userId": "111547944025536722337"
          }
        }
      },
      "cell_type": "code",
      "source": [
        "price = 500000\n",
        "sqlDF = spark.sql(\"SELECT * FROM listings WHERE Price < %d\" % price)\n",
        "print(sqlDF.count())\n",
        "sqlDF.show()"
      ],
      "execution_count": 18,
      "outputs": [
        {
          "output_type": "stream",
          "text": [
            "629\n",
            "+------+------------------+--------+--------+---------+----+-----------+----------+\n",
            "|   MLS|          Location|   Price|Bedrooms|Bathrooms|Size|Price SQ Ft|    Status|\n",
            "+------+------------------+--------+--------+---------+----+-----------+----------+\n",
            "|134364|       Paso Robles|399000.0|       4|        3|2818|     141.59|Short Sale|\n",
            "|136282|Santa Maria-Orcutt|109900.0|       3|        1|1249|      87.99|Short Sale|\n",
            "|136431|            Oceano|324900.0|       3|        3|1800|      180.5|Short Sale|\n",
            "|137036|Santa Maria-Orcutt|192900.0|       4|        2|1603|     120.34|Short Sale|\n",
            "|137090|Santa Maria-Orcutt|215000.0|       3|        2|1450|     148.28|Short Sale|\n",
            "|137570|        Atascadero|319000.0|       3|        2|1323|     241.12|Short Sale|\n",
            "|138053|Santa Maria-Orcutt|350000.0|       3|        2|1750|      200.0|Short Sale|\n",
            "|138730|Santa Maria-Orcutt|249000.0|       3|        2|1400|     177.86|Short Sale|\n",
            "|139291|     Arroyo Grande|299000.0|       2|        2|1257|     237.87|Short Sale|\n",
            "|139427|Santa Maria-Orcutt|235900.0|       3|        2|1400|      168.5|Short Sale|\n",
            "|139461|Santa Maria-Orcutt|348000.0|       3|        2|1600|      217.5|Short Sale|\n",
            "|139661|       Paso Robles|314000.0|       4|        3|1794|     175.03|Short Sale|\n",
            "|139918|        Los Alamos|399000.0|       4|        2|1850|     215.68|Short Sale|\n",
            "|140044|       Paso Robles|299000.0|       3|        2|1719|     173.94|Short Sale|\n",
            "|140073|   San Luis Obispo|425000.0|       3|        3|1472|     288.72|Short Sale|\n",
            "|140113|Santa Maria-Orcutt|110000.0|       2|        1|1000|      110.0|Short Sale|\n",
            "|140395|Santa Maria-Orcutt|200000.0|       3|        2|1139|     175.59|Short Sale|\n",
            "|140460|Santa Maria-Orcutt|134900.0|       3|        1|1080|     124.91|Short Sale|\n",
            "|140703|Santa Maria-Orcutt|250000.0|       4|        3|2000|      125.0|Short Sale|\n",
            "|140731|Santa Maria-Orcutt|239950.0|       4|        2|1348|      178.0|Short Sale|\n",
            "+------+------------------+--------+--------+---------+----+-----------+----------+\n",
            "only showing top 20 rows\n",
            "\n"
          ],
          "name": "stdout"
        }
      ]
    },
    {
      "metadata": {
        "id": "F1FIIvIwZj8i",
        "colab_type": "code",
        "colab": {
          "autoexec": {
            "startup": false,
            "wait_interval": 0
          },
          "base_uri": "https://localhost:8080/",
          "height": 459
        },
        "outputId": "01dd2fa4-a9aa-46e9-aa05-d1e8bfb766a7",
        "executionInfo": {
          "status": "ok",
          "timestamp": 1529619060863,
          "user_tz": 300,
          "elapsed": 1376,
          "user": {
            "displayName": "saranya Mandava",
            "photoUrl": "https://lh3.googleusercontent.com/a/default-user=s128",
            "userId": "111547944025536722337"
          }
        }
      },
      "cell_type": "code",
      "source": [
        "df.groupBy(\"Location\").count().show()"
      ],
      "execution_count": 19,
      "outputs": [
        {
          "output_type": "stream",
          "text": [
            "+-------------------+-----+\n",
            "|           Location|count|\n",
            "+-------------------+-----+\n",
            "|        Pismo Beach|   12|\n",
            "|          King City|    3|\n",
            "|         New Cuyama|    1|\n",
            "|             Nipomo|    3|\n",
            "|             Oceano|   10|\n",
            "|             Nipomo|   34|\n",
            "|          Templeton|   11|\n",
            "|      Arroyo Grande|   12|\n",
            "|        Bakersfield|    1|\n",
            "|          Guadalupe|    4|\n",
            "|            Creston|    1|\n",
            "|       Grover Beach|   20|\n",
            "|         Atascadero|   10|\n",
            "|          Morro Bay|    4|\n",
            "| Santa Maria-Orcutt|   13|\n",
            "|        Avila Beach|    3|\n",
            "|             Lompoc|    1|\n",
            "|        Paso Robles|   85|\n",
            "|            Creston|    1|\n",
            "|            Cayucos|    2|\n",
            "+-------------------+-----+\n",
            "only showing top 20 rows\n",
            "\n"
          ],
          "name": "stdout"
        }
      ]
    },
    {
      "metadata": {
        "id": "FaywjMwGZtTE",
        "colab_type": "code",
        "colab": {
          "autoexec": {
            "startup": false,
            "wait_interval": 0
          },
          "base_uri": "https://localhost:8080/",
          "height": 479
        },
        "outputId": "3f78bff3-f87d-4734-eb25-e803567d3371",
        "executionInfo": {
          "status": "ok",
          "timestamp": 1529619080401,
          "user_tz": 300,
          "elapsed": 1519,
          "user": {
            "displayName": "saranya Mandava",
            "photoUrl": "https://lh3.googleusercontent.com/a/default-user=s128",
            "userId": "111547944025536722337"
          }
        }
      },
      "cell_type": "code",
      "source": [
        "grouped_agg = df.groupBy(\"Location\").avg()\n",
        "grouped_agg.show()"
      ],
      "execution_count": 20,
      "outputs": [
        {
          "output_type": "stream",
          "text": [
            "+-------------------+------------------+------------------+------------------+------------------+------------------+------------------+\n",
            "|           Location|          avg(MLS)|        avg(Price)|     avg(Bedrooms)|    avg(Bathrooms)|         avg(Size)|  avg(Price SQ Ft)|\n",
            "+-------------------+------------------+------------------+------------------+------------------+------------------+------------------+\n",
            "|        Pismo Beach|148322.08333333334| 772374.5833333334|2.5833333333333335|2.5833333333333335|1810.4166666666667|462.28416666666664|\n",
            "|          King City|149289.66666666666|          131190.0|3.3333333333333335|               2.0|2032.3333333333333| 71.51333333333334|\n",
            "|         New Cuyama|          154233.0|           40900.0|               3.0|               1.0|            1201.0|             34.05|\n",
            "|             Nipomo|          154403.0| 454166.6666666667|3.3333333333333335|2.6666666666666665|1931.6666666666667|187.92333333333332|\n",
            "|             Oceano|          150528.4|          392640.0|               2.6|               2.1|            1445.7|240.79700000000003|\n",
            "|             Nipomo|150911.35294117648| 430629.4117647059| 3.323529411764706|2.4411764705882355|1946.6764705882354|  211.899705882353|\n",
            "|          Templeton|149334.18181818182| 705890.9090909091| 3.272727272727273|2.8181818181818183| 2889.181818181818| 257.5154545454546|\n",
            "|      Arroyo Grande|154452.41666666666|1013958.3333333334|              3.25|               2.5|           2202.25| 361.4208333333333|\n",
            "|        Bakersfield|          154028.0|           91500.0|               3.0|               2.0|            1313.0|             69.69|\n",
            "|          Guadalupe|          147908.5|          117250.0|               2.5|               1.5|             973.5|           120.175|\n",
            "|            Creston|          148842.0|          309900.0|               3.0|               2.0|            1705.0|            181.76|\n",
            "|       Grover Beach|          151680.7|          365615.0|               2.8|              1.95|            1449.1|          265.0195|\n",
            "|         Atascadero|          154452.3|          477950.0|               3.5|               2.6|            1913.6|            285.76|\n",
            "|          Morro Bay|          154418.0|          659700.0|               3.0|               2.0|           1786.75|374.13750000000005|\n",
            "| Santa Maria-Orcutt|154442.53846153847|332546.07692307694| 3.076923076923077| 2.230769230769231|            1719.0|183.03692307692307|\n",
            "|        Avila Beach|149805.66666666666|1205666.6666666667|2.6666666666666665|               3.0|2584.3333333333335| 566.5500000000001|\n",
            "|             Lompoc|          154325.0|          149900.0|               3.0|               1.0|            1000.0|             149.9|\n",
            "|        Paso Robles|          150680.2|334280.22352941177|3.2705882352941176|2.2823529411764705|1782.0235294117647|191.17752941176474|\n",
            "|            Creston|          154420.0|          549000.0|               3.0|               2.0|            1701.0|            322.75|\n",
            "|            Cayucos|          154451.0|          610000.0|               2.5|               2.5|            1634.5|            385.11|\n",
            "+-------------------+------------------+------------------+------------------+------------------+------------------+------------------+\n",
            "only showing top 20 rows\n",
            "\n"
          ],
          "name": "stdout"
        }
      ]
    },
    {
      "metadata": {
        "id": "5kVUaLdqZugQ",
        "colab_type": "code",
        "colab": {
          "autoexec": {
            "startup": false,
            "wait_interval": 0
          },
          "base_uri": "https://localhost:8080/",
          "height": 479
        },
        "outputId": "7d460847-bb0e-4130-a7e5-e782c939aa3d",
        "executionInfo": {
          "status": "ok",
          "timestamp": 1529619095131,
          "user_tz": 300,
          "elapsed": 1931,
          "user": {
            "displayName": "saranya Mandava",
            "photoUrl": "https://lh3.googleusercontent.com/a/default-user=s128",
            "userId": "111547944025536722337"
          }
        }
      },
      "cell_type": "code",
      "source": [
        "grouped_agg.orderBy(grouped_agg['avg(Price)']).show()"
      ],
      "execution_count": 21,
      "outputs": [
        {
          "output_type": "stream",
          "text": [
            "+-------------------+------------------+------------------+------------------+------------------+------------------+------------------+\n",
            "|           Location|          avg(MLS)|        avg(Price)|     avg(Bedrooms)|    avg(Bathrooms)|         avg(Size)|  avg(Price SQ Ft)|\n",
            "+-------------------+------------------+------------------+------------------+------------------+------------------+------------------+\n",
            "|         New Cuyama|          154233.0|           40900.0|               3.0|               1.0|            1201.0|             34.05|\n",
            "|    Santa Margarita|          153839.0|           59900.0|               1.0|               1.0|             628.0|             95.38|\n",
            "|        Bakersfield|          154028.0|           91500.0|               3.0|               2.0|            1313.0|             69.69|\n",
            "|          Guadalupe|          147908.5|          117250.0|               2.5|               1.5|             973.5|           120.175|\n",
            "|          King City|149289.66666666666|          131190.0|3.3333333333333335|               2.0|2032.3333333333333| 71.51333333333334|\n",
            "|             Lompoc|          154325.0|          149900.0|               3.0|               1.0|            1000.0|             149.9|\n",
            "|        Out Of Area|154492.33333333334|          173900.0|3.3333333333333335|2.3333333333333335|1490.6666666666667|116.23333333333333|\n",
            "|            Soledad|154198.33333333334|184053.33333333334| 4.333333333333333|2.3333333333333335|            1842.0|102.69333333333333|\n",
            "|         Greenfield|          153343.0|          184800.0|               4.0|               2.0|            2018.0|             91.58|\n",
            "|           Coalinga|152530.42857142858|202071.42857142858|3.4285714285714284|               2.0| 1593.142857142857|124.34285714285714|\n",
            "| Santa Maria-Orcutt|150831.38490566038|231106.17735849056|3.1849056603773587|2.2867924528301886| 1591.811320754717|147.58871698113194|\n",
            "|             Lompoc|152848.03846153847|241260.76923076922|3.3461538461538463|2.1538461538461537|1512.4615384615386|159.87115384615387|\n",
            "|         San Simeon|          154344.0|          274900.0|               2.0|               2.0|            1218.0|             225.7|\n",
            "|         San Miguel|151120.85714285713|283642.85714285716| 3.142857142857143| 2.142857142857143|1678.0714285714287|163.16071428571425|\n",
            "|            Creston|          148842.0|          309900.0|               3.0|               2.0|            1705.0|            181.76|\n",
            "|            Solvang|          154545.5|          325000.0|               2.5|               2.0|            1628.0|           193.305|\n",
            "| Santa Maria-Orcutt|154442.53846153847|332546.07692307694| 3.076923076923077| 2.230769230769231|            1719.0|183.03692307692307|\n",
            "|        Paso Robles|          150680.2|334280.22352941177|3.2705882352941176|2.2823529411764705|1782.0235294117647|191.17752941176474|\n",
            "|           Los Osos|150046.14285714287| 359704.7619047619| 2.619047619047619| 2.238095238095238|1525.8095238095239|231.31142857142856|\n",
            "|       Grover Beach|          151680.7|          365615.0|               2.8|              1.95|            1449.1|          265.0195|\n",
            "+-------------------+------------------+------------------+------------------+------------------+------------------+------------------+\n",
            "only showing top 20 rows\n",
            "\n"
          ],
          "name": "stdout"
        }
      ]
    },
    {
      "metadata": {
        "id": "gLyoeOyVZ-6_",
        "colab_type": "text"
      },
      "cell_type": "markdown",
      "source": [
        "**Alternate Way:**"
      ]
    },
    {
      "metadata": {
        "id": "Lot8ecTEZyfb",
        "colab_type": "code",
        "colab": {
          "autoexec": {
            "startup": false,
            "wait_interval": 0
          },
          "base_uri": "https://localhost:8080/",
          "height": 1836
        },
        "outputId": "25b77dd0-5f56-4d06-e0ee-b1b12b85a1d1",
        "executionInfo": {
          "status": "ok",
          "timestamp": 1529619144491,
          "user_tz": 300,
          "elapsed": 2651,
          "user": {
            "displayName": "saranya Mandava",
            "photoUrl": "https://lh3.googleusercontent.com/a/default-user=s128",
            "userId": "111547944025536722337"
          }
        }
      },
      "cell_type": "code",
      "source": [
        "# Selecting multiple columns, formatting as table\n",
        "df.select('Location', 'Price', 'Status').show(5)\n",
        "\n",
        "# Filter to a specific location\n",
        "df.filter(df['Location'] == 'Nipomo').show(5)\n",
        "\n",
        "# Counts of properties grouped by location\n",
        "df.groupBy('Location').count().show(5)\n",
        "\n",
        "# Get all properties with price < 500000\n",
        "df.filter(df['Price'] < 500000).show(5)\n",
        "\n",
        "# Order by price descending\n",
        "df.orderBy(df['Price'], ascending=False).show(5)\n",
        "\n",
        "# Group by location and aggregate by average price\n",
        "df.groupBy('Location').avg('Price').show()\n",
        "\n",
        "# Group, average, and sort\n",
        "df.groupBy('Location').avg('Price').orderBy('avg(Price)').show()\n"
      ],
      "execution_count": 22,
      "outputs": [
        {
          "output_type": "stream",
          "text": [
            "+------------------+--------+----------+\n",
            "|          Location|   Price|    Status|\n",
            "+------------------+--------+----------+\n",
            "|     Arroyo Grande|795000.0|Short Sale|\n",
            "|       Paso Robles|399000.0|Short Sale|\n",
            "|       Paso Robles|545000.0|Short Sale|\n",
            "|         Morro Bay|909000.0|Short Sale|\n",
            "|Santa Maria-Orcutt|109900.0|Short Sale|\n",
            "+------------------+--------+----------+\n",
            "only showing top 5 rows\n",
            "\n",
            "+------+--------+--------+--------+---------+----+-----------+----------+\n",
            "|   MLS|Location|   Price|Bedrooms|Bathrooms|Size|Price SQ Ft|    Status|\n",
            "+------+--------+--------+--------+---------+----+-----------+----------+\n",
            "|141847|  Nipomo|340000.0|       3|        1|1110|     306.31|Short Sale|\n",
            "|142818|  Nipomo|525000.0|       3|        3|2365|     221.99|Short Sale|\n",
            "|143540|  Nipomo|498000.0|       4|        3|2341|     212.73|Short Sale|\n",
            "|143884|  Nipomo|430000.0|       4|        2|2168|     198.34|Short Sale|\n",
            "|144815|  Nipomo|320000.0|       4|        2|1929|     165.89|Short Sale|\n",
            "+------+--------+--------+--------+---------+----+-----------+----------+\n",
            "only showing top 5 rows\n",
            "\n",
            "+-----------+-----+\n",
            "|   Location|count|\n",
            "+-----------+-----+\n",
            "|Pismo Beach|   12|\n",
            "|  King City|    3|\n",
            "| New Cuyama|    1|\n",
            "|     Nipomo|    3|\n",
            "|     Oceano|   10|\n",
            "+-----------+-----+\n",
            "only showing top 5 rows\n",
            "\n",
            "+------+------------------+--------+--------+---------+----+-----------+----------+\n",
            "|   MLS|          Location|   Price|Bedrooms|Bathrooms|Size|Price SQ Ft|    Status|\n",
            "+------+------------------+--------+--------+---------+----+-----------+----------+\n",
            "|134364|       Paso Robles|399000.0|       4|        3|2818|     141.59|Short Sale|\n",
            "|136282|Santa Maria-Orcutt|109900.0|       3|        1|1249|      87.99|Short Sale|\n",
            "|136431|            Oceano|324900.0|       3|        3|1800|      180.5|Short Sale|\n",
            "|137036|Santa Maria-Orcutt|192900.0|       4|        2|1603|     120.34|Short Sale|\n",
            "|137090|Santa Maria-Orcutt|215000.0|       3|        2|1450|     148.28|Short Sale|\n",
            "+------+------------------+--------+--------+---------+----+-----------+----------+\n",
            "only showing top 5 rows\n",
            "\n",
            "+------+----------------+---------+--------+---------+----+-----------+----------+\n",
            "|   MLS|        Location|    Price|Bedrooms|Bathrooms|Size|Price SQ Ft|    Status|\n",
            "+------+----------------+---------+--------+---------+----+-----------+----------+\n",
            "|154526|   Arroyo Grande|5499000.0|       4|        5|5060|    1086.76|   Regular|\n",
            "|154491|         Cambria|2995000.0|       5|        4|3684|     812.98|   Regular|\n",
            "|154463| San Luis Obispo|2369000.0|       5|        6|4174|     567.56|   Regular|\n",
            "|154434|         Cambria|2000000.0|       4|        4|3576|     559.28|   Regular|\n",
            "|152768|     Avila Beach|1999000.0|       4|        5|5307|     376.67|Short Sale|\n",
            "+------+----------------+---------+--------+---------+----+-----------+----------+\n",
            "only showing top 5 rows\n",
            "\n",
            "+-------------------+------------------+\n",
            "|           Location|        avg(Price)|\n",
            "+-------------------+------------------+\n",
            "|        Pismo Beach| 772374.5833333334|\n",
            "|          King City|          131190.0|\n",
            "|         New Cuyama|           40900.0|\n",
            "|             Nipomo| 454166.6666666667|\n",
            "|             Oceano|          392640.0|\n",
            "|             Nipomo| 430629.4117647059|\n",
            "|          Templeton| 705890.9090909091|\n",
            "|      Arroyo Grande|1013958.3333333334|\n",
            "|        Bakersfield|           91500.0|\n",
            "|          Guadalupe|          117250.0|\n",
            "|            Creston|          309900.0|\n",
            "|       Grover Beach|          365615.0|\n",
            "|         Atascadero|          477950.0|\n",
            "|          Morro Bay|          659700.0|\n",
            "| Santa Maria-Orcutt|332546.07692307694|\n",
            "|        Avila Beach|1205666.6666666667|\n",
            "|             Lompoc|          149900.0|\n",
            "|        Paso Robles|334280.22352941177|\n",
            "|            Creston|          549000.0|\n",
            "|            Cayucos|          610000.0|\n",
            "+-------------------+------------------+\n",
            "only showing top 20 rows\n",
            "\n",
            "+-------------------+------------------+\n",
            "|           Location|        avg(Price)|\n",
            "+-------------------+------------------+\n",
            "|         New Cuyama|           40900.0|\n",
            "|    Santa Margarita|           59900.0|\n",
            "|        Bakersfield|           91500.0|\n",
            "|          Guadalupe|          117250.0|\n",
            "|          King City|          131190.0|\n",
            "|             Lompoc|          149900.0|\n",
            "|        Out Of Area|          173900.0|\n",
            "|            Soledad|184053.33333333334|\n",
            "|         Greenfield|          184800.0|\n",
            "|           Coalinga|202071.42857142858|\n",
            "| Santa Maria-Orcutt|231106.17735849056|\n",
            "|             Lompoc|241260.76923076922|\n",
            "|         San Simeon|          274900.0|\n",
            "|         San Miguel|283642.85714285716|\n",
            "|            Creston|          309900.0|\n",
            "|            Solvang|          325000.0|\n",
            "| Santa Maria-Orcutt|332546.07692307694|\n",
            "|        Paso Robles|334280.22352941177|\n",
            "|           Los Osos| 359704.7619047619|\n",
            "|       Grover Beach|          365615.0|\n",
            "+-------------------+------------------+\n",
            "only showing top 20 rows\n",
            "\n"
          ],
          "name": "stdout"
        }
      ]
    }
  ]
}