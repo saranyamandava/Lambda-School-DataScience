{
  "nbformat": 4,
  "nbformat_minor": 0,
  "metadata": {
    "colab": {
      "name": "Week12_Spark Coding Challenge #2.ipynb",
      "version": "0.3.2",
      "views": {},
      "default_view": {},
      "provenance": [
        {
          "file_id": "1XOL2jQ8O6w5j3HpuD_41l0GLgX4Nropk",
          "timestamp": 1529420851187
        },
        {
          "file_id": "1ohgu-I-gCiGgo0tZRkm8qJ5Gy8g2btTy",
          "timestamp": 1529420420062
        },
        {
          "file_id": "1ynYAlO3MZLiZoIJq-mU8mCKRhN1Znxxd",
          "timestamp": 1528984378749
        },
        {
          "file_id": "1WkgmnBd3wTIW5DR1jvokNlfnCQNrfR9l",
          "timestamp": 1528979233025
        },
        {
          "file_id": "1oJCI_YSdpHmHwcpGYmnB5c-LBXh50MHM",
          "timestamp": 1528924839108
        },
        {
          "file_id": "15VZIkdnCuuYPwgQYuf958E09sP4lTISb",
          "timestamp": 1528642554887
        },
        {
          "file_id": "1ze4oqASRYRH4sM47GcSEvsIy9HlVxi6p",
          "timestamp": 1528579590698
        },
        {
          "file_id": "1-EV69_DVCzbpMWLiPYHSroeL91624q7j",
          "timestamp": 1528555981083
        },
        {
          "file_id": "1O-exHskPOjgEs1Hrm7utpkHJ-bLmWxbS",
          "timestamp": 1528507363505
        }
      ],
      "collapsed_sections": []
    },
    "kernelspec": {
      "name": "python3",
      "display_name": "Python 3"
    }
  },
  "cells": [
    {
      "metadata": {
        "id": "b-y9l5SxPLKQ",
        "colab_type": "text"
      },
      "cell_type": "markdown",
      "source": [
        "### Coding Challenge #2:"
      ]
    },
    {
      "metadata": {
        "id": "z4NOP7B1W3vc",
        "colab_type": "text"
      },
      "cell_type": "markdown",
      "source": [
        "**Question 1:** This question is meant to provide you with exposure to Spark MLlib data types (i.e. specifically LabelPoint and Dense Vectors)\n",
        "\n",
        "**Dataset**: https://www.dropbox.com/s/cv8kpsqsgxzw5ar/Spiders.csv?dl=0\n",
        "\n",
        "In 2006, Japanese researchers conducted a study to uncover the presence/absense of an endangered burrowing spider based on the size of the grain. The dataset is representative of some of the research they undertook. If you are interested in reviewing the paper, it can be accessed via this link: \n",
        "https://www.jstage.jst.go.jp/article/asjaa/55/2/55_2_79/_pdf\n",
        "\n",
        "**ASK:**\n",
        "\n",
        "**Step 1:** Import the requisite packages\n",
        "\n",
        "from pyspark.mllib.regression import LabeledPoint\n",
        "\n",
        "from pyspark import SparkContext, SparkConf\n",
        "\n",
        "from pyspark.mllib.linalg import Vectors\n",
        "\n",
        "**Step 2: ** Read in the \"Spiders.csv\" file\n",
        "\n",
        "**Step 3:** Ignore the header row\n",
        "\n",
        "**Step 4: **Create a RDD of LabeledPoints with the presence or absence of spiders being the label and the value is a dense vector of the grain size\n",
        "\n",
        "**Step 5: ** Convert the RDD into a list/collection and output the list of LabelPoints\n",
        "\n",
        "\n",
        "\n"
      ]
    },
    {
      "metadata": {
        "id": "L7KiMP3Ezmqb",
        "colab_type": "code",
        "colab": {
          "autoexec": {
            "startup": false,
            "wait_interval": 0
          }
        }
      },
      "cell_type": "code",
      "source": [
        "# https://mikestaszel.com/2018/03/07/apache-spark-on-google-colaboratory/\n",
        "!apt-get install openjdk-8-jdk-headless -qq > /dev/null\n",
        "!wget -q http://apache.osuosl.org/spark/spark-2.3.1/spark-2.3.1-bin-hadoop2.7.tgz\n",
        "!tar xf spark-2.3.1-bin-hadoop2.7.tgz\n",
        "!pip install -q findspark"
      ],
      "execution_count": 0,
      "outputs": []
    },
    {
      "metadata": {
        "id": "mzttnVBr93AB",
        "colab_type": "code",
        "colab": {
          "autoexec": {
            "startup": false,
            "wait_interval": 0
          }
        }
      },
      "cell_type": "code",
      "source": [
        "import os\n",
        "os.environ[\"JAVA_HOME\"] = \"/usr/lib/jvm/java-8-openjdk-amd64\"\n",
        "os.environ[\"SPARK_HOME\"] = \"/content/spark-2.3.1-bin-hadoop2.7\""
      ],
      "execution_count": 0,
      "outputs": []
    },
    {
      "metadata": {
        "id": "96kqvjLS96Bf",
        "colab_type": "code",
        "colab": {
          "autoexec": {
            "startup": false,
            "wait_interval": 0
          }
        }
      },
      "cell_type": "code",
      "source": [
        "import findspark\n",
        "findspark.init()\n",
        "from pyspark.context import SparkContext\n",
        "from pyspark.sql import SparkSession\n",
        "spark = SparkSession.builder.master(\"local[*]\").getOrCreate()\n",
        "sc = SparkContext.getOrCreate()"
      ],
      "execution_count": 0,
      "outputs": []
    },
    {
      "metadata": {
        "id": "wvsjQl0ezc5k",
        "colab_type": "code",
        "colab": {
          "autoexec": {
            "startup": false,
            "wait_interval": 0
          }
        }
      },
      "cell_type": "code",
      "source": [
        "from pyspark.mllib.regression import LabeledPoint\n",
        "\n",
        "from pyspark import SparkContext, SparkConf\n",
        "\n",
        "from pyspark.mllib.linalg import Vectors"
      ],
      "execution_count": 0,
      "outputs": []
    },
    {
      "metadata": {
        "id": "dJnuvhXF-TZb",
        "colab_type": "code",
        "colab": {
          "autoexec": {
            "startup": false,
            "wait_interval": 0
          },
          "base_uri": "https://localhost:8080/",
          "height": 309
        },
        "outputId": "11dedcfd-3726-4ab8-f079-7ed9663e278a",
        "executionInfo": {
          "status": "ok",
          "timestamp": 1529444320725,
          "user_tz": 300,
          "elapsed": 1912,
          "user": {
            "displayName": "saranya Mandava",
            "photoUrl": "https://lh3.googleusercontent.com/a/default-user=s128",
            "userId": "111547944025536722337"
          }
        }
      },
      "cell_type": "code",
      "source": [
        "!wget https://www.dropbox.com/s/cv8kpsqsgxzw5ar/Spiders.csv?dl=0 -O Spiders.csv"
      ],
      "execution_count": 9,
      "outputs": [
        {
          "output_type": "stream",
          "text": [
            "--2018-06-19 21:38:40--  https://www.dropbox.com/s/cv8kpsqsgxzw5ar/Spiders.csv?dl=0\r\n",
            "Resolving www.dropbox.com (www.dropbox.com)... 162.125.7.1, 2620:100:6016:1::a27d:101\r\n",
            "Connecting to www.dropbox.com (www.dropbox.com)|162.125.7.1|:443... connected.\n",
            "HTTP request sent, awaiting response... 302 Found\n",
            "Location: https://uc4c80814bf69a54888aee6b150a.dl.dropboxusercontent.com/cd/0/get/AJRqU5Lhi5wOuBpOUf901y_Wnb6tpyRPoYnTrmVp2z7ytKTNwMuvGbo3E_OjLhvqoBmOkRRllF5MvUjsB3ztL0sSlsHtz1xNITQoWhODI33_JfIJKcCKbHJSgqCWcBNhvF6BhYkKDIx2I1cejEbZYA5B-Zlk42Hoge49LXehTFcdEbN5GciYf9F7_1yiBhCDHMw/file [following]\n",
            "--2018-06-19 21:38:40--  https://uc4c80814bf69a54888aee6b150a.dl.dropboxusercontent.com/cd/0/get/AJRqU5Lhi5wOuBpOUf901y_Wnb6tpyRPoYnTrmVp2z7ytKTNwMuvGbo3E_OjLhvqoBmOkRRllF5MvUjsB3ztL0sSlsHtz1xNITQoWhODI33_JfIJKcCKbHJSgqCWcBNhvF6BhYkKDIx2I1cejEbZYA5B-Zlk42Hoge49LXehTFcdEbN5GciYf9F7_1yiBhCDHMw/file\n",
            "Resolving uc4c80814bf69a54888aee6b150a.dl.dropboxusercontent.com (uc4c80814bf69a54888aee6b150a.dl.dropboxusercontent.com)... 162.125.7.6, 2620:100:601a:6::a27d:706\n",
            "Connecting to uc4c80814bf69a54888aee6b150a.dl.dropboxusercontent.com (uc4c80814bf69a54888aee6b150a.dl.dropboxusercontent.com)|162.125.7.6|:443... connected.\n",
            "HTTP request sent, awaiting response... 200 OK\n",
            "Length: 3696 (3.6K) [text/csv]\n",
            "Saving to: ‘Spiders.csv’\n",
            "\n",
            "Spiders.csv         100%[===================>]   3.61K  --.-KB/s    in 0s      \n",
            "\n",
            "2018-06-19 21:38:40 (320 MB/s) - ‘Spiders.csv’ saved [3696/3696]\n",
            "\n"
          ],
          "name": "stdout"
        }
      ]
    },
    {
      "metadata": {
        "id": "CrWMwg0e-rO1",
        "colab_type": "code",
        "colab": {
          "autoexec": {
            "startup": false,
            "wait_interval": 0
          },
          "base_uri": "https://localhost:8080/",
          "height": 102
        },
        "outputId": "2c88a8f4-2072-4e1e-805b-9b0876e98eff",
        "executionInfo": {
          "status": "ok",
          "timestamp": 1529444709914,
          "user_tz": 300,
          "elapsed": 587,
          "user": {
            "displayName": "saranya Mandava",
            "photoUrl": "https://lh3.googleusercontent.com/a/default-user=s128",
            "userId": "111547944025536722337"
          }
        }
      },
      "cell_type": "code",
      "source": [
        "spiders = sc.textFile('Spiders.csv')\n",
        "header = spiders.first()\n",
        "spiders = spiders.filter(lambda row: row != header)\n",
        "split_data = spiders.map(lambda row:row.split(','))\n",
        "split_data.take(5)"
      ],
      "execution_count": 14,
      "outputs": [
        {
          "output_type": "execute_result",
          "data": {
            "text/plain": [
              "[['0.245', 'Absent'],\n",
              " ['0.247', 'Absent'],\n",
              " ['0.285', 'Present'],\n",
              " ['0.299', 'Present'],\n",
              " ['0.327', 'Present']]"
            ]
          },
          "metadata": {
            "tags": []
          },
          "execution_count": 14
        }
      ]
    },
    {
      "metadata": {
        "id": "rP1jFHFP_cjq",
        "colab_type": "code",
        "colab": {
          "autoexec": {
            "startup": false,
            "wait_interval": 0
          },
          "base_uri": "https://localhost:8080/",
          "height": 54
        },
        "outputId": "a2e85760-72d4-4480-8a4c-352ee832a129",
        "executionInfo": {
          "status": "ok",
          "timestamp": 1529445182995,
          "user_tz": 300,
          "elapsed": 417,
          "user": {
            "displayName": "saranya Mandava",
            "photoUrl": "https://lh3.googleusercontent.com/a/default-user=s128",
            "userId": "111547944025536722337"
          }
        }
      },
      "cell_type": "code",
      "source": [
        "# Helper function to encode to LabeledPoints\n",
        "def construct_labeled_points(row):\n",
        "  grain_size = row[0]\n",
        "  presence = 1 if row[1] == 'Present' else 0\n",
        "  return LabeledPoint(presence, Vectors.dense(grain_size))\n",
        "\n",
        "labeled_points_rdd = split_data.map(construct_labeled_points)\n",
        "print(labeled_points_rdd.take(5))"
      ],
      "execution_count": 16,
      "outputs": [
        {
          "output_type": "stream",
          "text": [
            "[LabeledPoint(0.0, [0.245]), LabeledPoint(0.0, [0.247]), LabeledPoint(1.0, [0.285]), LabeledPoint(1.0, [0.299]), LabeledPoint(1.0, [0.327])]\n"
          ],
          "name": "stdout"
        }
      ]
    },
    {
      "metadata": {
        "id": "oXX0kIcBNJdq",
        "colab_type": "text"
      },
      "cell_type": "markdown",
      "source": [
        "**Question 2**:\n",
        "\n",
        "In this question, you are given the size of houses and associated prices and the **ask** is to predict the price of a house for a given square footage.\n",
        "\n",
        "Here is the snapshot of the dataset that contains the size of houses and the associated prices in the city of Los Gatos (where Netflix is headquartered):\n",
        "\n",
        "![alt text](https://www.dropbox.com/s/2woxl7v5t6i3g5f/HomePrices.JPG?raw=1)\n",
        "\n",
        "**ASK**:\n",
        "\n",
        "**Step 1**: Import the requisite packages\n",
        "\n",
        "from pyspark.mllib.regression import LabeledPoint\n",
        "\n",
        "from pyspark.mllib.classification import LinearRegressionWithSGD\n",
        "\n",
        "from pyspark import SparkContext, SparkConf\n",
        "\n",
        "from pyspark.mllib.linalg import Vectors\n",
        "\n",
        "\n",
        "**Step 2:** Create a LabeledPoint data type which includes the price of the house as the label and a dense vector of home sizes\n",
        "\n",
        "***Reference:*** https://spark.apache.org/docs/1.2.1/mllib-data-types.html\n",
        "\n",
        "**Step 3:** Create a RDD of the LabelPoint constructed in setp 2 (*Hint*: Utilize the parallelize method of the *SparkContext* object since it ensures that the elements of the RDD can be operated in parallel)\n",
        "\n",
        "**Step 4:** Train a LinearRegressionWithSGD model with  the num of iterations at 100 and a stepSize of 0.0000006\n",
        "\n",
        "**Reference: ** https://spark.apache.org/docs/2.3.0/mllib-linear-methods.html\n",
        "\n",
        "**Step 5:** Predict the price for a house with **2,600** sq ft\n",
        "\n"
      ]
    },
    {
      "metadata": {
        "id": "jR1w1adjCeVz",
        "colab_type": "code",
        "colab": {
          "autoexec": {
            "startup": false,
            "wait_interval": 0
          }
        }
      },
      "cell_type": "code",
      "source": [
        "from pyspark.mllib.regression import LabeledPoint\n",
        "\n",
        "from pyspark.mllib.regression import LinearRegressionWithSGD\n",
        "\n",
        "from pyspark import SparkContext, SparkConf\n",
        "\n",
        "from pyspark.mllib.linalg import Vectors"
      ],
      "execution_count": 0,
      "outputs": []
    },
    {
      "metadata": {
        "id": "SX5fzERLCyMd",
        "colab_type": "code",
        "colab": {
          "autoexec": {
            "startup": false,
            "wait_interval": 0
          },
          "base_uri": "https://localhost:8080/",
          "height": 85
        },
        "outputId": "8567e5f9-9380-4228-b57c-8e759a102979",
        "executionInfo": {
          "status": "ok",
          "timestamp": 1529446412330,
          "user_tz": 300,
          "elapsed": 1378,
          "user": {
            "displayName": "saranya Mandava",
            "photoUrl": "https://lh3.googleusercontent.com/a/default-user=s128",
            "userId": "111547944025536722337"
          }
        }
      },
      "cell_type": "code",
      "source": [
        "points = [(2200, 1720000), \n",
        "          (2400, 1890000),\n",
        "          (2146, 1500000),\n",
        "          (4415, 2200000),\n",
        "          (1344, 1120000),\n",
        "          (4608, 3870000),\n",
        "          (2193, 1270000), \n",
        "          (2850, 2460000), \n",
        "          (4090, 3480000), \n",
        "          (2059, 1530000)]\n",
        "points_rdd = sc.parallelize(points)\n",
        "# Helper function to encode to LabeledPoints\n",
        "def construct_labeled_points(row):\n",
        "  square_feet = row[0]\n",
        "  price = row[1]\n",
        "  return LabeledPoint(price, Vectors.dense(square_feet))\n",
        "\n",
        "points_rdd_labeled = points_rdd.map(construct_labeled_points)\n",
        "points_rdd_labeled.cache()\n",
        "\n",
        "# Train a linear regression model with 100 iterations\n",
        "# and stepsize 0.0000006\n",
        "model = LinearRegressionWithSGD.train(points_rdd_labeled, iterations=100, step=0.0000006)\n",
        "\n",
        "# Predict the price of a house that has a square footage of 2600\n",
        "prediction = model.predict(Vectors.dense(2600))\n",
        "print(prediction)\n",
        "print(model.intercept)\n",
        "print(model.weights)\n",
        "print(model.weights[0] * 2600)\n",
        "                                      "
      ],
      "execution_count": 25,
      "outputs": [
        {
          "output_type": "stream",
          "text": [
            "1922871.7203570446\n",
            "0.0\n",
            "[739.566046291171]\n",
            "1922871.7203570446\n"
          ],
          "name": "stdout"
        }
      ]
    },
    {
      "metadata": {
        "id": "xOWXkrKLwC-M",
        "colab_type": "text"
      },
      "cell_type": "markdown",
      "source": [
        "In **Question 3**, you are given the lot size of houses and the assocated prices in the city of Saratoga (cloe to the Netflix headquarters) and the ask is to uncover 4 clusters (**k = 4**)  based on the lot size and the price.\n",
        "\n",
        "Here is the snapshot of a subset of the dataset that contains the size of houses and the associated prices in the city of Saratoga:\n",
        "\n",
        "![alt text](https://www.dropbox.com/s/h8yyl0creyi11wg/HomePrices_COS.JPG?raw=1)\n",
        "\n",
        "**Source: ** https://www.neighborhoodscout.com/ca/saratoga/real-estate\n",
        "\n"
      ]
    },
    {
      "metadata": {
        "id": "E0dTXl5WWJ_p",
        "colab_type": "text"
      },
      "cell_type": "markdown",
      "source": [
        "**Question 2: Ask**\n",
        "\n",
        "**Step 1:** Import the relevant packages\n",
        "\n",
        "from pyspark.mllib.clustering import KMeans\n",
        "\n",
        "from pyspark import SparkContext, SparkConf\n",
        "\n",
        "from pyspark.mllib.linalg import Vectors\n",
        "\n",
        "**Step 2:** Initialize the Spark Context; the starting point/root of every Spark Application \n",
        "\n",
        "**Step 3:** Load the data into a RDD\n",
        "\n",
        "***Dataset***: https://www.dropbox.com/s/njtjw2272kwk0au/Home_Prices1_COS.csv?raw=1\n",
        "\n",
        "**Step 4:** Train the KMeans clustering model for 4 clusters and 5 iterations\n",
        "\n",
        "**Step 5: ** Load the RDD of dense vectors into a collection\n",
        "\n",
        "**Step 6: ** Predict the cluster for a select few data points i.e. elements 0, 18, 35, 6  and 15 of the collection"
      ]
    },
    {
      "metadata": {
        "id": "YkKT8G6YHUsC",
        "colab_type": "code",
        "colab": {
          "autoexec": {
            "startup": false,
            "wait_interval": 0
          }
        }
      },
      "cell_type": "code",
      "source": [
        "from pyspark.mllib.clustering import KMeans\n",
        "from pyspark import SparkContext, SparkConf\n",
        "from pyspark.mllib.linalg import Vectors"
      ],
      "execution_count": 0,
      "outputs": []
    },
    {
      "metadata": {
        "id": "VauJyPBrHY80",
        "colab_type": "code",
        "colab": {
          "autoexec": {
            "startup": false,
            "wait_interval": 0
          },
          "base_uri": "https://localhost:8080/",
          "height": 309
        },
        "outputId": "3e0eb573-33ba-4f5a-f9a9-53117e6d0597",
        "executionInfo": {
          "status": "ok",
          "timestamp": 1529446513275,
          "user_tz": 300,
          "elapsed": 2126,
          "user": {
            "displayName": "saranya Mandava",
            "photoUrl": "https://lh3.googleusercontent.com/a/default-user=s128",
            "userId": "111547944025536722337"
          }
        }
      },
      "cell_type": "code",
      "source": [
        "!wget https://www.dropbox.com/s/njtjw2272kwk0au/Home_Prices1_COS.csv?raw=1 -O home_prices.csv"
      ],
      "execution_count": 27,
      "outputs": [
        {
          "output_type": "stream",
          "text": [
            "--2018-06-19 22:15:12--  https://www.dropbox.com/s/njtjw2272kwk0au/Home_Prices1_COS.csv?raw=1\r\n",
            "Resolving www.dropbox.com (www.dropbox.com)... 162.125.1.1, 2620:100:601a:1::a27d:701\r\n",
            "Connecting to www.dropbox.com (www.dropbox.com)|162.125.1.1|:443... connected.\n",
            "HTTP request sent, awaiting response... 302 Found\n",
            "Location: https://uc5cdd10a1d53a56d341fcdee703.dl.dropboxusercontent.com/cd/0/inline/AJRW2XkXwEKACnLZCVA-NoZBVOKpkVjo-uOo90w5GpR7_K80VmDR0kCH6eeY4nK02dbpau56zn0eLkEWdqlB0xOgPSzCb86jw9DL11J_f5nh5A9xvHTefW-fkOB82OYs00CHSgasCN7OU4QcNXu_fDgges6Filv5iAFwMgWsIjLPafss-B0TA6cMzaoo5wAiEUc/file [following]\n",
            "--2018-06-19 22:15:12--  https://uc5cdd10a1d53a56d341fcdee703.dl.dropboxusercontent.com/cd/0/inline/AJRW2XkXwEKACnLZCVA-NoZBVOKpkVjo-uOo90w5GpR7_K80VmDR0kCH6eeY4nK02dbpau56zn0eLkEWdqlB0xOgPSzCb86jw9DL11J_f5nh5A9xvHTefW-fkOB82OYs00CHSgasCN7OU4QcNXu_fDgges6Filv5iAFwMgWsIjLPafss-B0TA6cMzaoo5wAiEUc/file\n",
            "Resolving uc5cdd10a1d53a56d341fcdee703.dl.dropboxusercontent.com (uc5cdd10a1d53a56d341fcdee703.dl.dropboxusercontent.com)... 162.125.7.6, 2620:100:6016:6::a27d:106\n",
            "Connecting to uc5cdd10a1d53a56d341fcdee703.dl.dropboxusercontent.com (uc5cdd10a1d53a56d341fcdee703.dl.dropboxusercontent.com)|162.125.7.6|:443... connected.\n",
            "HTTP request sent, awaiting response... 200 OK\n",
            "Length: 547 [text/plain]\n",
            "Saving to: ‘home_prices.csv’\n",
            "\n",
            "home_prices.csv     100%[===================>]     547  --.-KB/s    in 0s      \n",
            "\n",
            "2018-06-19 22:15:12 (48.5 MB/s) - ‘home_prices.csv’ saved [547/547]\n",
            "\n"
          ],
          "name": "stdout"
        }
      ]
    },
    {
      "metadata": {
        "id": "Jz1j312OHNBr",
        "colab_type": "code",
        "colab": {
          "autoexec": {
            "startup": false,
            "wait_interval": 0
          },
          "base_uri": "https://localhost:8080/",
          "height": 34
        },
        "outputId": "7b3720c6-77d2-4ce6-d1b3-4f864396b2c8",
        "executionInfo": {
          "status": "ok",
          "timestamp": 1529446518503,
          "user_tz": 300,
          "elapsed": 532,
          "user": {
            "displayName": "saranya Mandava",
            "photoUrl": "https://lh3.googleusercontent.com/a/default-user=s128",
            "userId": "111547944025536722337"
          }
        }
      },
      "cell_type": "code",
      "source": [
        "home_prices = sc.textFile('home_prices.csv')\n",
        "home_prices.take(5)"
      ],
      "execution_count": 28,
      "outputs": [
        {
          "output_type": "execute_result",
          "data": {
            "text/plain": [
              "['12839,2405', '10000,2200', '8040,1400', '13104,1800', '10000,2351']"
            ]
          },
          "metadata": {
            "tags": []
          },
          "execution_count": 28
        }
      ]
    },
    {
      "metadata": {
        "id": "fx9P1dmeJEV7",
        "colab_type": "code",
        "colab": {
          "autoexec": {
            "startup": false,
            "wait_interval": 0
          },
          "base_uri": "https://localhost:8080/",
          "height": 34
        },
        "outputId": "21c7961b-2748-4720-8f5f-1a4f99f1991c",
        "executionInfo": {
          "status": "ok",
          "timestamp": 1529447209539,
          "user_tz": 300,
          "elapsed": 827,
          "user": {
            "displayName": "saranya Mandava",
            "photoUrl": "https://lh3.googleusercontent.com/a/default-user=s128",
            "userId": "111547944025536722337"
          }
        }
      },
      "cell_type": "code",
      "source": [
        "from pyspark.mllib.clustering import KMeans\n",
        "from pyspark import SparkContext, SparkConf\n",
        "from pyspark.mllib.linalg import Vectors\n",
        "\n",
        "# !wget https://www.dropbox.com/s/njtjw2272kwk0au/Home_Prices1_COS.csv?raw=1 -O home_prices.csv\n",
        "home_prices = sc.textFile('home_prices.csv')\n",
        "\n",
        "# Split on comma and change numbers to dense vector\n",
        "home_prices_split = home_prices.map(lambda row : Vectors.dense(row.split(',')))\n",
        "\n",
        "# Train the actual KMeans model\n",
        "kmeans_model = KMeans.train(home_prices_split, 4, maxIterations=5)\n",
        "\n",
        "homes = home_prices_split.collect()\n",
        "homes[0]\n"
      ],
      "execution_count": 33,
      "outputs": [
        {
          "output_type": "execute_result",
          "data": {
            "text/plain": [
              "DenseVector([12839.0, 2405.0])"
            ]
          },
          "metadata": {
            "tags": []
          },
          "execution_count": 33
        }
      ]
    },
    {
      "metadata": {
        "id": "xO9t_bcfJzqS",
        "colab_type": "code",
        "colab": {
          "autoexec": {
            "startup": false,
            "wait_interval": 0
          },
          "base_uri": "https://localhost:8080/",
          "height": 1615
        },
        "outputId": "deb9d59c-bea0-423d-dbe3-6a2fe675cd94",
        "executionInfo": {
          "status": "ok",
          "timestamp": 1529447407781,
          "user_tz": 300,
          "elapsed": 400,
          "user": {
            "displayName": "saranya Mandava",
            "photoUrl": "https://lh3.googleusercontent.com/a/default-user=s128",
            "userId": "111547944025536722337"
          }
        }
      },
      "cell_type": "code",
      "source": [
        "for point in homes:\n",
        "    print('Point:', point)\n",
        "    print('Cluster:', kmeans_model.predict(point))"
      ],
      "execution_count": 36,
      "outputs": [
        {
          "output_type": "stream",
          "text": [
            "Point: [12839.0,2405.0]\n",
            "Cluster: 3\n",
            "Point: [10000.0,2200.0]\n",
            "Cluster: 3\n",
            "Point: [8040.0,1400.0]\n",
            "Cluster: 3\n",
            "Point: [13104.0,1800.0]\n",
            "Cluster: 3\n",
            "Point: [10000.0,2351.0]\n",
            "Cluster: 3\n",
            "Point: [3049.0,795.0]\n",
            "Cluster: 0\n",
            "Point: [38768.0,2725.0]\n",
            "Cluster: 1\n",
            "Point: [16250.0,2150.0]\n",
            "Cluster: 3\n",
            "Point: [43026.0,2724.0]\n",
            "Cluster: 1\n",
            "Point: [44431.0,2675.0]\n",
            "Cluster: 1\n",
            "Point: [40000.0,2930.0]\n",
            "Cluster: 1\n",
            "Point: [1260.0,870.0]\n",
            "Cluster: 0\n",
            "Point: [15000.0,2210.0]\n",
            "Cluster: 3\n",
            "Point: [10032.0,1145.0]\n",
            "Cluster: 3\n",
            "Point: [12420.0,2419.0]\n",
            "Cluster: 3\n",
            "Point: [69696.0,2750.0]\n",
            "Cluster: 2\n",
            "Point: [12600.0,2035.0]\n",
            "Cluster: 3\n",
            "Point: [10240.0,1150.0]\n",
            "Cluster: 3\n",
            "Point: [876.0,665.0]\n",
            "Cluster: 0\n",
            "Point: [8125.0,1430.0]\n",
            "Cluster: 3\n",
            "Point: [11792.0,1920.0]\n",
            "Cluster: 3\n",
            "Point: [1512.0,1230.0]\n",
            "Cluster: 0\n",
            "Point: [1276.0,975.0]\n",
            "Cluster: 0\n",
            "Point: [67518.0,2400.0]\n",
            "Cluster: 2\n",
            "Point: [9810.0,1725.0]\n",
            "Cluster: 3\n",
            "Point: [6324.0,2300.0]\n",
            "Cluster: 0\n",
            "Point: [12510.0,1700.0]\n",
            "Cluster: 3\n",
            "Point: [15616.0,1915.0]\n",
            "Cluster: 3\n",
            "Point: [15476.0,2278.0]\n",
            "Cluster: 3\n",
            "Point: [13390.0,2497.5]\n",
            "Cluster: 3\n",
            "Point: [1158.0,725.0]\n",
            "Cluster: 0\n",
            "Point: [2000.0,870.0]\n",
            "Cluster: 0\n",
            "Point: [2614.0,730.0]\n",
            "Cluster: 0\n",
            "Point: [13433.0,2050.0]\n",
            "Cluster: 3\n",
            "Point: [12500.0,3330.0]\n",
            "Cluster: 3\n",
            "Point: [15750.0,1120.0]\n",
            "Cluster: 3\n",
            "Point: [13996.0,4100.0]\n",
            "Cluster: 3\n",
            "Point: [10450.0,1655.0]\n",
            "Cluster: 3\n",
            "Point: [7500.0,1550.0]\n",
            "Cluster: 3\n",
            "Point: [12125.0,2100.0]\n",
            "Cluster: 3\n",
            "Point: [14500.0,2100.0]\n",
            "Cluster: 3\n",
            "Point: [10000.0,1175.0]\n",
            "Cluster: 3\n",
            "Point: [10019.0,2047.5]\n",
            "Cluster: 3\n",
            "Point: [48787.0,3998.0]\n",
            "Cluster: 1\n",
            "Point: [53579.0,2688.0]\n",
            "Cluster: 1\n",
            "Point: [10788.0,2251.0]\n",
            "Cluster: 3\n",
            "Point: [11865.0,1906.0]\n",
            "Cluster: 3\n"
          ],
          "name": "stdout"
        }
      ]
    }
  ]
}