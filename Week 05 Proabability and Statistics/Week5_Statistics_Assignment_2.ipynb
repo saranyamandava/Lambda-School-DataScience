{
  "nbformat": 4,
  "nbformat_minor": 0,
  "metadata": {
    "colab": {
      "name": "Week5_Statistics Assignment #2.ipynb",
      "version": "0.3.2",
      "provenance": [],
      "collapsed_sections": []
    },
    "kernelspec": {
      "name": "python3",
      "display_name": "Python 3"
    }
  },
  "cells": [
    {
      "cell_type": "markdown",
      "metadata": {
        "id": "view-in-github",
        "colab_type": "text"
      },
      "source": [
        "[View in Colaboratory](https://colab.research.google.com/github/saranyamandava/Lambda-School-DataScience/blob/master/Week5_Statistics_Assignment_2.ipynb)"
      ]
    },
    {
      "metadata": {
        "id": "Vim6ATB8ADUI",
        "colab_type": "text"
      },
      "cell_type": "markdown",
      "source": [
        "## Project Assignment #2\n",
        "\n",
        "In this project assignment, we will get exposed to 'Empirical Cumulative Distribution Frequency' (i.e. ECDF)\n",
        "\n",
        "One of the drawbacks of Bee Swarm plots is that if you have a lot of data, then the plot can get quite cluttered. Therefore when working with large data sets, it is better to leverage the ECDF plot since it provides a complete picture into the distribution of the data. \n",
        "\n",
        "**Ask #1**\n",
        "\n",
        "The first ask in this assignment is to plot the ECDF depicting the distibution for the city of NEW HAVEN. Utilize the same dataset that you utilized in Coding Challenge #1 (i.e. \"Accidental Drug Related Deaths 2012-2017 (State of Connecticut)\" data set available from the Data.Gov website)\n",
        "\n",
        "https://catalog.data.gov/dataset?groups=local&organization_type=State+Government#topic=local_navigation\n",
        "\n",
        "What insights can you glean regarding the distribution of data?\n",
        "\n",
        "**Key Takeaway:** When examining the distribution of data, a good rule of thumb is to plot the ECDF first\n",
        "\n",
        "**Ask #2**\n",
        "\n",
        "Compare the ECDF to percentiles. Recall that you computed the 25th, 50th and 75th percentiles using the Box Plot\n",
        "\n",
        "**Hint**: **1)** First plot the ECDF and then overlay the ECDF with markers (i.e. Diamonds) depciting the 25th, 50th and 75th percentiles, **2)** Ensure that the Y-axis of the ECDF plot remains between 0 and 1\n"
      ]
    },
    {
      "metadata": {
        "id": "-NjmqBvFLHC7",
        "colab_type": "code",
        "colab": {
          "base_uri": "https://localhost:8080/",
          "height": 364
        },
        "outputId": "0866b561-46c8-49ea-a819-41e56e0963a9"
      },
      "cell_type": "code",
      "source": [
        "import numpy as np\n",
        "import pandas as pd\n",
        "import matplotlib.pyplot as plt\n",
        "import seaborn as sns\n",
        "\n",
        "df = pd.read_csv('https://www.dropbox.com/s/coj42u6mdjp5sb1/Accidental_Drug_Related_Deaths__2012-2017.csv?raw=1')\n",
        "\n",
        "df_NH = df.loc[df['Death City'].isin(['NEW HAVEN'])]\n",
        "\n",
        "xs = np.sort(df_NH['Age'])\n",
        "\n",
        "ys = np.arange(1, len(xs) + 1)/len(xs)\n",
        "\n",
        "plt.plot(xs, ys, marker='.',linestyle='none')"
      ],
      "execution_count": 0,
      "outputs": [
        {
          "output_type": "execute_result",
          "data": {
            "text/plain": [
              "[<matplotlib.lines.Line2D at 0x7fe0c9d69630>]"
            ]
          },
          "metadata": {
            "tags": []
          },
          "execution_count": 5
        },
        {
          "output_type": "display_data",
          "data": {
            "image/png": "[encoded data removed]",
            "text/plain": [
              "<matplotlib.figure.Figure at 0x7fe0cc0d7a58>"
            ]
          },
          "metadata": {
            "tags": []
          }
        }
      ]
    },
    {
      "metadata": {
        "id": "JY125qa7LQKR",
        "colab_type": "code",
        "colab": {
          "base_uri": "https://localhost:8080/",
          "height": 364
        },
        "outputId": "de5260e2-8e0e-44d8-e258-a6ebcd65a2d8"
      },
      "cell_type": "code",
      "source": [
        "plt.show()\n",
        "plt.plot(xs, ys, marker='.',linestyle='none')\n",
        "percentiles = np.array([25,50,75])\n",
        "\n",
        "# Calculate the percentiles\n",
        "ptiles = np.percentile(df_NH['Age'], percentiles)\n",
        "\n",
        "# Overlay the percentiles with red diamonds. Rescaling the percentiles array - dividing by 100.\n",
        "plt.plot(ptiles, percentiles/100, marker='D', color='red', linestyle='none')"
      ],
      "execution_count": 0,
      "outputs": [
        {
          "output_type": "execute_result",
          "data": {
            "text/plain": [
              "[<matplotlib.lines.Line2D at 0x7fe0c9d24278>]"
            ]
          },
          "metadata": {
            "tags": []
          },
          "execution_count": 6
        },
        {
          "output_type": "display_data",
          "data": {
            "image/png": "[encoded data removed]",
            "text/plain": [
              "<matplotlib.figure.Figure at 0x7fe0c9d24400>"
            ]
          },
          "metadata": {
            "tags": []
          }
        }
      ]
    },
    {
      "metadata": {
        "id": "ZVTFe5Gp1Kkf",
        "colab_type": "text"
      },
      "cell_type": "markdown",
      "source": [
        "we observe that it is steeper around the middle of the domain of the data, and tapers off after age 60."
      ]
    },
    {
      "metadata": {
        "id": "aUV1ZJRBMggq",
        "colab_type": "code",
        "colab": {
          "base_uri": "https://localhost:8080/",
          "height": 624
        },
        "outputId": "7620254b-b6ba-4d1a-c660-9c1d7600a6d8"
      },
      "cell_type": "code",
      "source": [
        "plt.hist(df_NH['Age'],bins=len(df_NH['Age'].unique()))"
      ],
      "execution_count": 0,
      "outputs": [
        {
          "output_type": "execute_result",
          "data": {
            "text/plain": [
              "(array([10.,  2.,  2., 16.,  8.,  7., 15.,  5.,  6.,  5., 14., 10.,  5.,\n",
              "         9.,  4., 11.,  8.,  8.,  7.,  7., 20., 11., 11., 12.,  9., 10.,\n",
              "         8., 19.,  1., 13.,  7.,  6.,  5.,  3.,  1.,  1.,  2.,  1.,  2.,\n",
              "         1.,  0.,  0.,  0.,  0.,  0.,  0.,  0.,  0.,  0.,  0.,  0.,  1.]),\n",
              " array([20.        , 21.28846154, 22.57692308, 23.86538462, 25.15384615,\n",
              "        26.44230769, 27.73076923, 29.01923077, 30.30769231, 31.59615385,\n",
              "        32.88461538, 34.17307692, 35.46153846, 36.75      , 38.03846154,\n",
              "        39.32692308, 40.61538462, 41.90384615, 43.19230769, 44.48076923,\n",
              "        45.76923077, 47.05769231, 48.34615385, 49.63461538, 50.92307692,\n",
              "        52.21153846, 53.5       , 54.78846154, 56.07692308, 57.36538462,\n",
              "        58.65384615, 59.94230769, 61.23076923, 62.51923077, 63.80769231,\n",
              "        65.09615385, 66.38461538, 67.67307692, 68.96153846, 70.25      ,\n",
              "        71.53846154, 72.82692308, 74.11538462, 75.40384615, 76.69230769,\n",
              "        77.98076923, 79.26923077, 80.55769231, 81.84615385, 83.13461538,\n",
              "        84.42307692, 85.71153846, 87.        ]),\n",
              " <a list of 52 Patch objects>)"
            ]
          },
          "metadata": {
            "tags": []
          },
          "execution_count": 7
        },
        {
          "output_type": "display_data",
          "data": {
            "image/png": "[encoded data removed]",
            "text/plain": [
              "<matplotlib.figure.Figure at 0x7fe0c9d24438>"
            ]
          },
          "metadata": {
            "tags": []
          }
        }
      ]
    }
  ]
}