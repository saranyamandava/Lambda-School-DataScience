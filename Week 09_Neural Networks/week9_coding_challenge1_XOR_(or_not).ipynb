{
  "nbformat": 4,
  "nbformat_minor": 0,
  "metadata": {
    "colab": {
      "name": "week9_coding challenge1- XOR (or not).ipynb",
      "version": "0.3.2",
      "provenance": [],
      "collapsed_sections": []
    },
    "kernelspec": {
      "name": "python3",
      "display_name": "Python 3"
    }
  },
  "cells": [
    {
      "metadata": {
        "id": "PlJrdCkzqmcg",
        "colab_type": "text"
      },
      "cell_type": "markdown",
      "source": [
        "In this challenge we jump directly into building neural networks. We won't get into much theory or generality, but by the end of this exercise you'll build a very simple example of one, and in the mean time gain some intuition for how they work. First, we import numpy as usual."
      ]
    },
    {
      "metadata": {
        "id": "5wjq6pOrq8FN",
        "colab_type": "code",
        "colab": {}
      },
      "cell_type": "code",
      "source": [
        "# LAMBDA SCHOOL\n",
        "#\n",
        "# MACHINE LEARNING\n",
        "#\n",
        "# MIT LICENSE\n",
        "\n",
        "import numpy as np"
      ],
      "execution_count": 0,
      "outputs": []
    },
    {
      "metadata": {
        "id": "P0rnp70Yq9wg",
        "colab_type": "text"
      },
      "cell_type": "markdown",
      "source": [
        "Next, look at the Wikipedia article for the XOR function (https://en.wikipedia.org/wiki/XOR_gate). Basically, it's a function that takes in two truth values (aka booleans) x and y and spits out a third truth value f(x,y) according to the following rule: f(x,y) is true when x is true OR y is true, but not both. If we use the common representation wherein \"1\" means \"True\" and \"0\" means \"False\", this means that f(0,0) = f(1,1) = 0 and f(0,1) = f(1,0) = 1. Check that this makes sense!\n",
        "\n",
        "Your first task for today is to implement the XOR function. There are slick ways to do this using modular arithmetic (if you're in to that sort of thing), but implement it however you like. Check that it gives the right values for each of the inputs (0,0), (0,1), (1,0), and (1,1)."
      ]
    },
    {
      "metadata": {
        "id": "xoBdblQaq8tz",
        "colab_type": "code",
        "colab": {}
      },
      "cell_type": "code",
      "source": [
        "def xorFunction(x, y):\n",
        "    return  (x^y)"
      ],
      "execution_count": 0,
      "outputs": []
    },
    {
      "metadata": {
        "id": "3k71Zs36slNz",
        "colab_type": "text"
      },
      "cell_type": "markdown",
      "source": [
        "Great. Now, define a function sigma(x) that acts the way that the sigmoid function does. If you don't remember exactly how this works, check Wikipedia or ask one of your classmates."
      ]
    },
    {
      "metadata": {
        "id": "MePiuRkbsP3O",
        "colab_type": "code",
        "colab": {}
      },
      "cell_type": "code",
      "source": [
        "def sigma(x):\n",
        "    return  (1/(1+np.exp(-x)))"
      ],
      "execution_count": 0,
      "outputs": []
    },
    {
      "metadata": {
        "id": "KuwFEeMmtU1d",
        "colab_type": "text"
      },
      "cell_type": "markdown",
      "source": [
        "Most machine learning algorithms have free parameters that we tweak to get the behavior we want, and this is no exception. Introduce two variables a and b and assign them both to the value 10 (for now)."
      ]
    },
    {
      "metadata": {
        "id": "JYgJFgIvtFt3",
        "colab_type": "code",
        "colab": {}
      },
      "cell_type": "code",
      "source": [
        "a = 10\n",
        "b = 5"
      ],
      "execution_count": 0,
      "outputs": []
    },
    {
      "metadata": {
        "id": "yyazrFrntlGM",
        "colab_type": "text"
      },
      "cell_type": "markdown",
      "source": [
        "Finally, here's our first neural network. Just like linear and logistic regression, it's nothing more than a function that takes in our inputs (x and y) and returns an output according to some prescribed rule. Today our rule consists of the following steps:\n",
        "\n",
        "Step 1: Take x and y and calculate ax + by.\n",
        "\n",
        "Step 2: Plug the result of step 1 into the sigma function we introduced earlier.\n",
        "\n",
        "Step 3: Take the result of step 2 and round it to the nearest whole number.\n",
        "\n",
        "Define a function NN(x,y) that takes in x and y and returns the result of performing these steps."
      ]
    },
    {
      "metadata": {
        "id": "0pjkc4h4tHOB",
        "colab_type": "code",
        "colab": {}
      },
      "cell_type": "code",
      "source": [
        "def NN(x,y):\n",
        "    # Your code here\n",
        "    z = a*x+b*y\n",
        "    return (np.round(sigma(z)))\n",
        "    "
      ],
      "execution_count": 0,
      "outputs": []
    },
    {
      "metadata": {
        "id": "EfO2KeSKejwq",
        "colab_type": "code",
        "colab": {
          "base_uri": "https://localhost:8080/",
          "height": 34
        },
        "outputId": "abf58e6a-7f5e-4c32-fd0b-34a7ab76fdfc"
      },
      "cell_type": "code",
      "source": [
        "print (NN(10,20))"
      ],
      "execution_count": 0,
      "outputs": [
        {
          "output_type": "stream",
          "text": [
            "1.0\n"
          ],
          "name": "stdout"
        }
      ]
    },
    {
      "metadata": {
        "id": "GtOLsTqxub-n",
        "colab_type": "text"
      },
      "cell_type": "markdown",
      "source": [
        "See what happens when you plug the values (0,0), (0,1), (1,0), and (1,1) into NN. The last (and possible trickiest) part of this assignment is to try and find values of a and b such that NN and XOR give the same outputs on each of those inputs. If you find a solution, share it. If you can't, talk with your classmates and see how they do. Feel free to collaborate!"
      ]
    },
    {
      "metadata": {
        "id": "11FE1Eh8fCT2",
        "colab_type": "code",
        "colab": {
          "base_uri": "https://localhost:8080/",
          "height": 51
        },
        "outputId": "09f8e195-0b84-48df-97c8-195a42803fec"
      },
      "cell_type": "code",
      "source": [
        "print (NN(0,0))\n",
        "print (0^0)"
      ],
      "execution_count": 0,
      "outputs": [
        {
          "output_type": "stream",
          "text": [
            "0.0\n",
            "0\n"
          ],
          "name": "stdout"
        }
      ]
    },
    {
      "metadata": {
        "id": "plpB0ygUfQco",
        "colab_type": "code",
        "colab": {
          "base_uri": "https://localhost:8080/",
          "height": 51
        },
        "outputId": "51a3a46f-3317-4605-9f2d-67d5c0e7bfeb"
      },
      "cell_type": "code",
      "source": [
        "print (NN(0,1))\n",
        "print (0^1)"
      ],
      "execution_count": 0,
      "outputs": [
        {
          "output_type": "stream",
          "text": [
            "1.0\n",
            "1\n"
          ],
          "name": "stdout"
        }
      ]
    },
    {
      "metadata": {
        "id": "hxQZ5gH2fWQc",
        "colab_type": "code",
        "colab": {
          "base_uri": "https://localhost:8080/",
          "height": 51
        },
        "outputId": "63b6f34d-d2b3-4ae5-d7c4-1a4f7135f6a8"
      },
      "cell_type": "code",
      "source": [
        "print (NN(1,0))\n",
        "print (1^0)"
      ],
      "execution_count": 0,
      "outputs": [
        {
          "output_type": "stream",
          "text": [
            "1.0\n",
            "1\n"
          ],
          "name": "stdout"
        }
      ]
    },
    {
      "metadata": {
        "id": "Qo1a69vyfZEN",
        "colab_type": "code",
        "colab": {
          "base_uri": "https://localhost:8080/",
          "height": 51
        },
        "outputId": "ba566806-7b0a-4168-be61-57d08c6fdb36"
      },
      "cell_type": "code",
      "source": [
        "print (NN(1,1))\n",
        "print (1^1)"
      ],
      "execution_count": 0,
      "outputs": [
        {
          "output_type": "stream",
          "text": [
            "1.0\n",
            "0\n"
          ],
          "name": "stdout"
        }
      ]
    }
  ]
}