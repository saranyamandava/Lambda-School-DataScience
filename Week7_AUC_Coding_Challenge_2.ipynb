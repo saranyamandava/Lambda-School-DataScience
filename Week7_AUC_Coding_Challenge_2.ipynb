{
  "nbformat": 4,
  "nbformat_minor": 0,
  "metadata": {
    "colab": {
      "name": "Week7_AUC Coding Challenge-2.ipynb",
      "version": "0.3.2",
      "provenance": [],
      "collapsed_sections": []
    },
    "kernelspec": {
      "name": "python3",
      "display_name": "Python 3"
    }
  },
  "cells": [
    {
      "cell_type": "markdown",
      "metadata": {
        "id": "view-in-github",
        "colab_type": "text"
      },
      "source": [
        "[View in Colaboratory](https://colab.research.google.com/github/saranyamandava/Lambda-School-DataScience/blob/master/Week7_AUC_Coding_Challenge_2.ipynb)"
      ]
    },
    {
      "metadata": {
        "id": "aD8Yb0P8D04e",
        "colab_type": "text"
      },
      "cell_type": "markdown",
      "source": [
        "# Area-Under-Curve Measurement\n",
        "\n",
        "Objectives:\n",
        "* Compute true positive, true negative, false positive, and false negative classification rate\n",
        "* Adjust classification threshold to control above rates\n",
        "* Plot AUC  to demonstrate accuracy\n",
        "* Calculate AUC as a single value\n",
        "\n",
        "### Background\n",
        "\n",
        "You want to be familiar with ROC and AUC.\n",
        "\n",
        "#### Receiver Operating Characteristic Curve (ROC)\n",
        "\n",
        "[wikipedia](https://en.wikipedia.org/wiki/Receiver_operating_characteristic)\n",
        "[Precision and Recall](https://en.wikipedia.org/wiki/Precision_and_recall) [sklearn](http://scikit-learn.org/stable/auto_examples/model_selection/plot_roc.html)\n",
        "\n",
        "#### Area Under Curve (AUC)\n",
        "\n",
        "[sklearn](http://scikit-learn.org/stable/modules/generated/sklearn.metrics.auc.html)\n",
        "\n",
        "The ROC curve provides a visualization of the performance of a classifier, with false-positive rates along the $x$ axis and true-positive rates along the $y$ axis. A perfect classifier produces no false positives (100% specificity) and no false negatives (100% sensitivity). In reality, classifiers are not so discerning.\n",
        "\n",
        "### Do:\n",
        "\n",
        "Correct the bugs in the following code blocks in order to work through the mechanics of building an AUC. \n",
        "\n",
        "Once you've calculated `FPR` and `TPR` for the Logistic Regression classifier on its Sprint Challenge dataset and visualized the results, modify it to compute the same data using the _test_ data, instead of the _train_ data."
      ]
    },
    {
      "metadata": {
        "id": "9JrCk2HEPwoI",
        "colab_type": "text"
      },
      "cell_type": "markdown",
      "source": [
        "### 1. Compute Linear Regression Model\n",
        "\n",
        "Create a training set and train a Logistic Regression model with it"
      ]
    },
    {
      "metadata": {
        "id": "5UeD3N5_PwCF",
        "colab_type": "code",
        "colab": {
          "base_uri": "https://localhost:8080/",
          "height": 85
        },
        "outputId": "caf2abaa-4ad3-4deb-f462-8bc9eed5e072"
      },
      "cell_type": "code",
      "source": [
        "import  numpy  as  np\n",
        "import  pandas  as  pd\n",
        "from  sklearn.linear_model import LogisticRegression\n",
        "from sklearn.model_selection import train_test_split\n",
        "\n",
        "data = pd.read_csv('https://www.dropbox.com/s/bnwfu81bjpf22hp/logistic_regression.csv?raw=1', index_col=0)\n",
        "# Use train_test_split to create a training set\n",
        "train_x, test_x, train_y, test_y = train_test_split(data[['x1','x2']],data['y'])\n",
        "\n",
        "# Create and train(fit) the model\n",
        "regr = LogisticRegression()\n",
        "regr.fit(train_x, train_y)"
      ],
      "execution_count": 1,
      "outputs": [
        {
          "output_type": "execute_result",
          "data": {
            "text/plain": [
              "LogisticRegression(C=1.0, class_weight=None, dual=False, fit_intercept=True,\n",
              "          intercept_scaling=1, max_iter=100, multi_class='ovr', n_jobs=1,\n",
              "          penalty='l2', random_state=None, solver='liblinear', tol=0.0001,\n",
              "          verbose=0, warm_start=False)"
            ]
          },
          "metadata": {
            "tags": []
          },
          "execution_count": 1
        }
      ]
    },
    {
      "metadata": {
        "id": "jSfpHHfJFPc5",
        "colab_type": "text"
      },
      "cell_type": "markdown",
      "source": [
        "### 2. Predict values for $\\hat{y}$ for the test set"
      ]
    },
    {
      "metadata": {
        "id": "x3K306_pFUQc",
        "colab_type": "code",
        "colab": {
          "base_uri": "https://localhost:8080/",
          "height": 51
        },
        "outputId": "ab14f587-6c37-4dec-8b47-982bc287f559"
      },
      "cell_type": "code",
      "source": [
        "# Predict y_hat for the test set created previously\n",
        "\n",
        "y_hat = regr.predict(train_x)\n",
        "print(y_hat)"
      ],
      "execution_count": 2,
      "outputs": [
        {
          "output_type": "stream",
          "text": [
            "[1. 0. 0. 0. 0. 0. 0. 0. 0. 0. 1. 1. 1. 1. 1. 1. 1. 1. 1. 1. 0. 1. 1. 1.\n",
            " 1. 1. 1. 1. 0. 1.]\n"
          ],
          "name": "stdout"
        }
      ]
    },
    {
      "metadata": {
        "id": "xS6VlmpYTzPx",
        "colab_type": "text"
      },
      "cell_type": "markdown",
      "source": [
        "### Observe precision"
      ]
    },
    {
      "metadata": {
        "id": "Fv_8vZvrT44v",
        "colab_type": "code",
        "colab": {
          "base_uri": "https://localhost:8080/",
          "height": 1071
        },
        "outputId": "db7ece66-0af7-4f2e-f2a0-d459d280dc17"
      },
      "cell_type": "code",
      "source": [
        "# True positive: if the prediction is 1, and the original data is 1, their sum is 2\n",
        "true_positives = (y_hat+train_y)==2\n",
        "# False positive: if the prediction is 1, but the original data is 0, their difference is 1\n",
        "false_positives = (y_hat-train_y)==1\n",
        "print(true_positives.T)\n",
        "print(false_positives.T)"
      ],
      "execution_count": 3,
      "outputs": [
        {
          "output_type": "stream",
          "text": [
            "24     True\n",
            "6     False\n",
            "10    False\n",
            "14    False\n",
            "16    False\n",
            "9     False\n",
            "17    False\n",
            "2     False\n",
            "5     False\n",
            "7     False\n",
            "21     True\n",
            "29     True\n",
            "25     True\n",
            "27     True\n",
            "20     True\n",
            "18    False\n",
            "1     False\n",
            "26     True\n",
            "19    False\n",
            "34     True\n",
            "3     False\n",
            "33     True\n",
            "39     True\n",
            "35     True\n",
            "23     True\n",
            "37     True\n",
            "22     True\n",
            "36     True\n",
            "28    False\n",
            "30     True\n",
            "Name: y, dtype: bool\n",
            "24    False\n",
            "6     False\n",
            "10    False\n",
            "14    False\n",
            "16    False\n",
            "9     False\n",
            "17    False\n",
            "2     False\n",
            "5     False\n",
            "7     False\n",
            "21    False\n",
            "29    False\n",
            "25    False\n",
            "27    False\n",
            "20    False\n",
            "18     True\n",
            "1      True\n",
            "26    False\n",
            "19     True\n",
            "34    False\n",
            "3     False\n",
            "33    False\n",
            "39    False\n",
            "35    False\n",
            "23    False\n",
            "37    False\n",
            "22    False\n",
            "36    False\n",
            "28    False\n",
            "30    False\n",
            "Name: y, dtype: bool\n"
          ],
          "name": "stdout"
        }
      ]
    },
    {
      "metadata": {
        "id": "Yybc_0TTTo6s",
        "colab_type": "code",
        "colab": {
          "base_uri": "https://localhost:8080/",
          "height": 612
        },
        "outputId": "007c44db-4d83-4764-b02e-486ecbb2c194"
      },
      "cell_type": "code",
      "source": [
        "# The probabilities computed by Logistic Regression:\n",
        "# The columns correspond with class 0 or 1\n",
        "proba = regr.predict_proba(train_x)\n",
        "print(proba)\n",
        "\n",
        "# The decision function computed by Logistic Regression - this is simply\n",
        "# \\sum w_i x_i + b, before the logit function has been applied\n",
        "dec = regr.decision_function(train_x)\n",
        "print(dec)"
      ],
      "execution_count": 4,
      "outputs": [
        {
          "output_type": "stream",
          "text": [
            "[[0.17140144 0.82859856]\n",
            " [0.77136533 0.22863467]\n",
            " [0.95334825 0.04665175]\n",
            " [0.70363719 0.29636281]\n",
            " [0.84633509 0.15366491]\n",
            " [0.9449071  0.0550929 ]\n",
            " [0.72096784 0.27903216]\n",
            " [0.76418577 0.23581423]\n",
            " [0.93540484 0.06459516]\n",
            " [0.81997398 0.18002602]\n",
            " [0.04829297 0.95170703]\n",
            " [0.02896897 0.97103103]\n",
            " [0.00959439 0.99040561]\n",
            " [0.0516722  0.9483278 ]\n",
            " [0.02164609 0.97835391]\n",
            " [0.23464418 0.76535582]\n",
            " [0.44323307 0.55676693]\n",
            " [0.01250866 0.98749134]\n",
            " [0.45919969 0.54080031]\n",
            " [0.07247026 0.92752974]\n",
            " [0.90274264 0.09725736]\n",
            " [0.1080886  0.8919114 ]\n",
            " [0.19118925 0.80881075]\n",
            " [0.04148832 0.95851168]\n",
            " [0.09931779 0.90068221]\n",
            " [0.00921131 0.99078869]\n",
            " [0.06381629 0.93618371]\n",
            " [0.1718594  0.8281406 ]\n",
            " [0.50508783 0.49491217]\n",
            " [0.48937492 0.51062508]]\n",
            "[ 1.57572741 -1.21603668 -3.01726978 -0.86467847 -1.70614108 -2.84206583\n",
            " -0.94926749 -1.17576658 -2.67283993 -1.51617122  2.98097118  3.51213312\n",
            "  4.6369362   2.90978031  3.81104671  1.18227062  0.22805097  4.36874676\n",
            "  0.16356493  2.54934858 -2.22807686  2.11041556  1.4423012   3.13996975\n",
            "  2.20482778  4.67806955  2.68580317  1.57250622 -0.02035204  0.0425067 ]\n"
          ],
          "name": "stdout"
        }
      ]
    },
    {
      "metadata": {
        "id": "PYmuA8VwJ4_y",
        "colab_type": "text"
      },
      "cell_type": "markdown",
      "source": [
        "### 2.1 Build ROC curves"
      ]
    },
    {
      "metadata": {
        "id": "Jcyi6Z16OGuM",
        "colab_type": "code",
        "colab": {
          "base_uri": "https://localhost:8080/",
          "height": 544
        },
        "outputId": "282580a0-942f-4e16-a108-9b54939d2544"
      },
      "cell_type": "code",
      "source": [
        "thresholds = np.linspace(0.0,1.0,11)\n",
        "predictions = pd.DataFrame()\n",
        "\n",
        "for decision_threshold in thresholds:\n",
        "    decision_threshold = np.round(decision_threshold,2)\n",
        "    true_false_array = (proba[::,1:2:] > decision_threshold).T[0]\n",
        "    predictions[str(decision_threshold)] = true_false_array.astype(int)\n",
        "        \n",
        "print(predictions)"
      ],
      "execution_count": 5,
      "outputs": [
        {
          "output_type": "stream",
          "text": [
            "    0.0  0.1  0.2  0.3  0.4  0.5  0.6  0.7  0.8  0.9  1.0\n",
            "0     1    1    1    1    1    1    1    1    1    0    0\n",
            "1     1    1    1    0    0    0    0    0    0    0    0\n",
            "2     1    0    0    0    0    0    0    0    0    0    0\n",
            "3     1    1    1    0    0    0    0    0    0    0    0\n",
            "4     1    1    0    0    0    0    0    0    0    0    0\n",
            "5     1    0    0    0    0    0    0    0    0    0    0\n",
            "6     1    1    1    0    0    0    0    0    0    0    0\n",
            "7     1    1    1    0    0    0    0    0    0    0    0\n",
            "8     1    0    0    0    0    0    0    0    0    0    0\n",
            "9     1    1    0    0    0    0    0    0    0    0    0\n",
            "10    1    1    1    1    1    1    1    1    1    1    0\n",
            "11    1    1    1    1    1    1    1    1    1    1    0\n",
            "12    1    1    1    1    1    1    1    1    1    1    0\n",
            "13    1    1    1    1    1    1    1    1    1    1    0\n",
            "14    1    1    1    1    1    1    1    1    1    1    0\n",
            "15    1    1    1    1    1    1    1    1    0    0    0\n",
            "16    1    1    1    1    1    1    0    0    0    0    0\n",
            "17    1    1    1    1    1    1    1    1    1    1    0\n",
            "18    1    1    1    1    1    1    0    0    0    0    0\n",
            "19    1    1    1    1    1    1    1    1    1    1    0\n",
            "20    1    0    0    0    0    0    0    0    0    0    0\n",
            "21    1    1    1    1    1    1    1    1    1    0    0\n",
            "22    1    1    1    1    1    1    1    1    1    0    0\n",
            "23    1    1    1    1    1    1    1    1    1    1    0\n",
            "24    1    1    1    1    1    1    1    1    1    1    0\n",
            "25    1    1    1    1    1    1    1    1    1    1    0\n",
            "26    1    1    1    1    1    1    1    1    1    1    0\n",
            "27    1    1    1    1    1    1    1    1    1    0    0\n",
            "28    1    1    1    1    1    0    0    0    0    0    0\n",
            "29    1    1    1    1    1    1    0    0    0    0    0\n"
          ],
          "name": "stdout"
        }
      ]
    },
    {
      "metadata": {
        "id": "nDEdBrtYFjEr",
        "colab_type": "text"
      },
      "cell_type": "markdown",
      "source": [
        "### 3. Calculate TP and FP at each discrimination level"
      ]
    },
    {
      "metadata": {
        "id": "B73O-XcrF9Wd",
        "colab_type": "code",
        "colab": {
          "base_uri": "https://localhost:8080/",
          "height": 835
        },
        "outputId": "1da13bfe-b7d0-4e00-b542-d363434d8d3e"
      },
      "cell_type": "code",
      "source": [
        "# Base case:\n",
        "false_positives = np.sum(predictions['0.1']-train_y.values == 1)\n",
        "true_positives = np.sum(predictions['0.1']+train_y.values==2)\n",
        "print('False positive rate at threshold 0.1: ',false_positives/np.sum(train_y==0))\n",
        "print('True positive rate at threshold 0.1: ',true_positives/np.sum(train_y==1))\n",
        "\n",
        "# Now automate the base case across the set of all decision thresholds\n",
        "fp = pd.DataFrame()\n",
        "tp = pd.DataFrame()\n",
        "for threshold in predictions.columns:\n",
        "    fp[threshold] = [np.sum(predictions[threshold]-train_y.values==1)/np.sum(train_y==0)]\n",
        "    tp[threshold] = [np.sum(predictions[threshold]+train_y.values==2)/np.sum(train_y==1)]\n",
        "\n",
        "# The false positives and true positive rated, based on the sliding decision threshold\n",
        "print(fp.T)\n",
        "print(tp.T)\n",
        "\n",
        "import matplotlib.pyplot as plt\n",
        "plt.plot(fp.T,tp.T);\n",
        "plt.plot([0, 1], [0, 1], 'k--', lw=2)\n",
        "plt.xlabel('False Positive Rate')\n",
        "plt.ylabel('True Positive Rate')\n",
        "plt.title('Receiver operating characteristic example')\n",
        "    "
      ],
      "execution_count": 6,
      "outputs": [
        {
          "output_type": "stream",
          "text": [
            "False positive rate at threshold 0.1:  0.6923076923076923\n",
            "True positive rate at threshold 0.1:  1.0\n",
            "            0\n",
            "0.0  1.000000\n",
            "0.1  0.692308\n",
            "0.2  0.538462\n",
            "0.3  0.230769\n",
            "0.4  0.230769\n",
            "0.5  0.230769\n",
            "0.6  0.076923\n",
            "0.7  0.076923\n",
            "0.8  0.000000\n",
            "0.9  0.000000\n",
            "1.0  0.000000\n",
            "            0\n",
            "0.0  1.000000\n",
            "0.1  1.000000\n",
            "0.2  1.000000\n",
            "0.3  1.000000\n",
            "0.4  1.000000\n",
            "0.5  0.941176\n",
            "0.6  0.882353\n",
            "0.7  0.882353\n",
            "0.8  0.882353\n",
            "0.9  0.647059\n",
            "1.0  0.000000\n"
          ],
          "name": "stdout"
        },
        {
          "output_type": "execute_result",
          "data": {
            "text/plain": [
              "Text(0.5,1,'Receiver operating characteristic example')"
            ]
          },
          "metadata": {
            "tags": []
          },
          "execution_count": 6
        },
        {
          "output_type": "display_data",
          "data": {
            "image/png": "[encoded data removed]",
            "text/plain": [
              "<matplotlib.figure.Figure at 0x7f80ea8fe5f8>"
            ]
          },
          "metadata": {
            "tags": []
          }
        }
      ]
    },
    {
      "metadata": {
        "id": "Jhg7EM4YQ6nG",
        "colab_type": "text"
      },
      "cell_type": "markdown",
      "source": [
        "### 4. Example using sklearn"
      ]
    },
    {
      "metadata": {
        "id": "t2xGVuYcQfAo",
        "colab_type": "code",
        "colab": {
          "base_uri": "https://localhost:8080/",
          "height": 17
        },
        "outputId": "3d6aa4d6-8fef-4b74-8631-12c0297b4616"
      },
      "cell_type": "code",
      "source": [
        "from sklearn import metrics"
      ],
      "execution_count": 7,
      "outputs": []
    },
    {
      "metadata": {
        "id": "O1_hD-raG2s2",
        "colab_type": "code",
        "colab": {
          "base_uri": "https://localhost:8080/",
          "height": 415
        },
        "outputId": "d9381435-0236-421c-e116-884c03e13fc8"
      },
      "cell_type": "code",
      "source": [
        "# The Area-Under-The-Curve Score\n",
        "print(metrics.auc(fp.T,tp.T))\n",
        "print(metrics.roc_auc_score(train_y.values,proba[::,1:2:]))\n",
        "\n",
        "# Producing the same false/true positive data via a library and plotting it\n",
        "fpr, tpr, _ = metrics.roc_curve(train_y.values,proba[::,1:2:])\n",
        "print(fpr)\n",
        "print(tpr)\n",
        "plt.plot(fpr,tpr);"
      ],
      "execution_count": 8,
      "outputs": [
        {
          "output_type": "stream",
          "text": [
            "0.9773755656108597\n",
            "0.9728506787330315\n",
            "[0.         0.         0.23076923 0.23076923 1.        ]\n",
            "[0.05882353 0.88235294 0.88235294 1.         1.        ]\n"
          ],
          "name": "stdout"
        },
        {
          "output_type": "display_data",
          "data": {
            "image/png": "[encoded data removed]",
            "text/plain": [
              "<matplotlib.figure.Figure at 0x7f80ead4d860>"
            ]
          },
          "metadata": {
            "tags": []
          }
        }
      ]
    },
    {
      "metadata": {
        "id": "QS0KgX-_QbX6",
        "colab_type": "text"
      },
      "cell_type": "markdown",
      "source": [
        "## Do\n",
        "\n",
        "### 5. Compute the ROC and AUC using the _testset_ instead of the _trainset_\n"
      ]
    },
    {
      "metadata": {
        "id": "CVtzXgERHI4B",
        "colab_type": "code",
        "colab": {
          "base_uri": "https://localhost:8080/",
          "height": 364
        },
        "outputId": "5ec9757b-d3c6-4d8e-eb95-7a3f4eb3cf05"
      },
      "cell_type": "code",
      "source": [
        "# Compute and plot\n",
        "\n",
        "# Compute and plot# Comput \n",
        "proba = regr.predict_proba(test_x)\n",
        "\n",
        "fpr, tpr, _ = metrics.roc_curve(test_y.values,proba[::,1:2:])\n",
        "\n",
        "print('AUC:', metrics.auc(fpr.T,tpr.T))\n",
        "\n",
        "plt.plot(fpr,tpr);"
      ],
      "execution_count": 9,
      "outputs": [
        {
          "output_type": "stream",
          "text": [
            "AUC: 1.0\n"
          ],
          "name": "stdout"
        },
        {
          "output_type": "display_data",
          "data": {
            "image/png": "[encoded data removed]",
            "text/plain": [
              "<matplotlib.figure.Figure at 0x7f80ea8e74e0>"
            ]
          },
          "metadata": {
            "tags": []
          }
        }
      ]
    }
  ]
}