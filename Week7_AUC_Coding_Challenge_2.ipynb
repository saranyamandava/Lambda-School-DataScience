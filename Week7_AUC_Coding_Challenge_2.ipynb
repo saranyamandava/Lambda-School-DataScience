{
  "nbformat": 4,
  "nbformat_minor": 0,
  "metadata": {
    "colab": {
      "name": "Week7_AUC Coding Challenge-2.ipynb",
      "version": "0.3.2",
      "provenance": [],
      "collapsed_sections": []
    },
    "kernelspec": {
      "name": "python3",
      "display_name": "Python 3"
    }
  },
  "cells": [
    {
      "cell_type": "markdown",
      "metadata": {
        "id": "view-in-github",
        "colab_type": "text"
      },
      "source": [
        "[View in Colaboratory](https://colab.research.google.com/github/saranyamandava/Lambda-School-DataScience/blob/master/Week7_AUC_Coding_Challenge_2.ipynb)"
      ]
    },
    {
      "metadata": {
        "id": "aD8Yb0P8D04e",
        "colab_type": "text"
      },
      "cell_type": "markdown",
      "source": [
        "# Area-Under-Curve Measurement\n",
        "\n",
        "Objectives:\n",
        "* Compute true positive, true negative, false positive, and false negative classification rate\n",
        "* Adjust classification threshold to control above rates\n",
        "* Plot AUC  to demonstrate accuracy\n",
        "* Calculate AUC as a single value\n",
        "\n",
        "### Background\n",
        "\n",
        "You want to be familiar with ROC and AUC.\n",
        "\n",
        "#### Receiver Operating Characteristic Curve (ROC)\n",
        "\n",
        "[wikipedia](https://en.wikipedia.org/wiki/Receiver_operating_characteristic)\n",
        "[Precision and Recall](https://en.wikipedia.org/wiki/Precision_and_recall) [sklearn](http://scikit-learn.org/stable/auto_examples/model_selection/plot_roc.html)\n",
        "\n",
        "#### Area Under Curve (AUC)\n",
        "\n",
        "[sklearn](http://scikit-learn.org/stable/modules/generated/sklearn.metrics.auc.html)\n",
        "\n",
        "The ROC curve provides a visualization of the performance of a classifier, with false-positive rates along the $x$ axis and true-positive rates along the $y$ axis. A perfect classifier produces no false positives (100% specificity) and no false negatives (100% sensitivity). In reality, classifiers are not so discerning.\n",
        "\n",
        "### Do:\n",
        "\n",
        "Correct the bugs in the following code blocks in order to work through the mechanics of building an AUC. \n",
        "\n",
        "Once you've calculated `FPR` and `TPR` for the Logistic Regression classifier on its Sprint Challenge dataset and visualized the results, modify it to compute the same data using the _test_ data, instead of the _train_ data."
      ]
    },
    {
      "metadata": {
        "id": "9JrCk2HEPwoI",
        "colab_type": "text"
      },
      "cell_type": "markdown",
      "source": [
        "### 1. Compute Linear Regression Model\n",
        "\n",
        "Create a training set and train a Logistic Regression model with it"
      ]
    },
    {
      "metadata": {
        "id": "5UeD3N5_PwCF",
        "colab_type": "code",
        "colab": {
          "base_uri": "https://localhost:8080/",
          "height": 85
        },
        "outputId": "3c02b540-1fb6-4fb9-e351-e242fcbd1ed3"
      },
      "cell_type": "code",
      "source": [
        "import  numpy  as  np\n",
        "import  pandas  as  pd\n",
        "from  sklearn.linear_model import LogisticRegression\n",
        "from sklearn.model_selection import train_test_split\n",
        "\n",
        "data = pd.read_csv('https://www.dropbox.com/s/bnwfu81bjpf22hp/logistic_regression.csv?raw=1', index_col=0)\n",
        "# Use train_test_split to create a training set\n",
        "train_x, test_x, train_y, test_y = train_test_split(data[['x1','x2']],data['y'])\n",
        "\n",
        "# Create and train(fit) the model\n",
        "regr = LogisticRegression()\n",
        "regr.fit(train_x, train_y)"
      ],
      "execution_count": 0,
      "outputs": [
        {
          "output_type": "execute_result",
          "data": {
            "text/plain": [
              "LogisticRegression(C=1.0, class_weight=None, dual=False, fit_intercept=True,\n",
              "          intercept_scaling=1, max_iter=100, multi_class='ovr', n_jobs=1,\n",
              "          penalty='l2', random_state=None, solver='liblinear', tol=0.0001,\n",
              "          verbose=0, warm_start=False)"
            ]
          },
          "metadata": {
            "tags": []
          },
          "execution_count": 6
        }
      ]
    },
    {
      "metadata": {
        "id": "jSfpHHfJFPc5",
        "colab_type": "text"
      },
      "cell_type": "markdown",
      "source": [
        "### 2. Predict values for $\\hat{y}$ for the test set"
      ]
    },
    {
      "metadata": {
        "id": "x3K306_pFUQc",
        "colab_type": "code",
        "colab": {
          "base_uri": "https://localhost:8080/",
          "height": 51
        },
        "outputId": "0d487aa3-6127-48b4-986b-d6a18d70f5d8"
      },
      "cell_type": "code",
      "source": [
        "# Predict y_hat for the test set created previously\n",
        "\n",
        "y_hat = regr.predict(train_x)\n",
        "print(y_hat)"
      ],
      "execution_count": 0,
      "outputs": [
        {
          "output_type": "stream",
          "text": [
            "[1. 1. 0. 0. 1. 1. 1. 0. 0. 0. 0. 1. 0. 0. 1. 1. 0. 0. 0. 1. 0. 0. 1. 1.\n",
            " 1. 0. 1. 0. 1. 1.]\n"
          ],
          "name": "stdout"
        }
      ]
    },
    {
      "metadata": {
        "id": "xS6VlmpYTzPx",
        "colab_type": "text"
      },
      "cell_type": "markdown",
      "source": [
        "### Observe precision"
      ]
    },
    {
      "metadata": {
        "id": "Fv_8vZvrT44v",
        "colab_type": "code",
        "colab": {
          "base_uri": "https://localhost:8080/",
          "height": 1071
        },
        "outputId": "4ab4c5a9-1349-44eb-fe5b-ff54621e79e1"
      },
      "cell_type": "code",
      "source": [
        "# True positive: if the prediction is 1, and the original data is 1, their sum is 2\n",
        "true_positives = (y_hat+train_y)==2\n",
        "# False positive: if the prediction is 1, but the original data is 0, their difference is 1\n",
        "false_positives = (y_hat-train_y)==1\n",
        "print(true_positives.T)\n",
        "print(false_positives.T)"
      ],
      "execution_count": 0,
      "outputs": [
        {
          "output_type": "stream",
          "text": [
            "32     True\n",
            "37     True\n",
            "11    False\n",
            "1     False\n",
            "35     True\n",
            "33     True\n",
            "21     True\n",
            "8     False\n",
            "7     False\n",
            "10    False\n",
            "12    False\n",
            "24     True\n",
            "15    False\n",
            "16    False\n",
            "34     True\n",
            "27     True\n",
            "17    False\n",
            "14    False\n",
            "13    False\n",
            "38     True\n",
            "30    False\n",
            "9     False\n",
            "36     True\n",
            "31     True\n",
            "25     True\n",
            "5     False\n",
            "18    False\n",
            "4     False\n",
            "26     True\n",
            "29     True\n",
            "Name: y, dtype: bool\n",
            "32    False\n",
            "37    False\n",
            "11    False\n",
            "1     False\n",
            "35    False\n",
            "33    False\n",
            "21    False\n",
            "8     False\n",
            "7     False\n",
            "10    False\n",
            "12    False\n",
            "24    False\n",
            "15    False\n",
            "16    False\n",
            "34    False\n",
            "27    False\n",
            "17    False\n",
            "14    False\n",
            "13    False\n",
            "38    False\n",
            "30    False\n",
            "9     False\n",
            "36    False\n",
            "31    False\n",
            "25    False\n",
            "5     False\n",
            "18     True\n",
            "4     False\n",
            "26    False\n",
            "29    False\n",
            "Name: y, dtype: bool\n"
          ],
          "name": "stdout"
        }
      ]
    },
    {
      "metadata": {
        "id": "Yybc_0TTTo6s",
        "colab_type": "code",
        "colab": {
          "base_uri": "https://localhost:8080/",
          "height": 612
        },
        "outputId": "1c31305b-198a-4ca3-c7cf-f3fe850e20b9"
      },
      "cell_type": "code",
      "source": [
        "# The probabilities computed by Logistic Regression:\n",
        "# The columns correspond with class 0 or 1\n",
        "proba = regr.predict_proba(train_x)\n",
        "print(proba)\n",
        "\n",
        "# The decision function computed by Logistic Regression - this is simply\n",
        "# \\sum w_i x_i + b, before the logit function has been applied\n",
        "dec = regr.decision_function(train_x)\n",
        "print(dec)"
      ],
      "execution_count": 0,
      "outputs": [
        {
          "output_type": "stream",
          "text": [
            "[[0.01415575 0.98584425]\n",
            " [0.0068751  0.9931249 ]\n",
            " [0.62670332 0.37329668]\n",
            " [0.60028794 0.39971206]\n",
            " [0.05506723 0.94493277]\n",
            " [0.22651096 0.77348904]\n",
            " [0.07912503 0.92087497]\n",
            " [0.7826045  0.2173955 ]\n",
            " [0.88549305 0.11450695]\n",
            " [0.97835222 0.02164778]\n",
            " [0.76160757 0.23839243]\n",
            " [0.19478912 0.80521088]\n",
            " [0.80402277 0.19597723]\n",
            " [0.93627303 0.06372697]\n",
            " [0.07990297 0.92009703]\n",
            " [0.03690859 0.96309141]\n",
            " [0.78555107 0.21444893]\n",
            " [0.76567721 0.23432279]\n",
            " [0.93256947 0.06743053]\n",
            " [0.01782394 0.98217606]\n",
            " [0.67677756 0.32322244]\n",
            " [0.97594312 0.02405688]\n",
            " [0.3238595  0.6761405 ]\n",
            " [0.25271627 0.74728373]\n",
            " [0.00556115 0.99443885]\n",
            " [0.96825851 0.03174149]\n",
            " [0.27884263 0.72115737]\n",
            " [0.74982141 0.25017859]\n",
            " [0.01162833 0.98837167]\n",
            " [0.03564318 0.96435682]]\n",
            "[ 4.24337715  4.97295055 -0.51809977 -0.40666499  2.84255893  1.22811814\n",
            "  2.45429504 -1.28090921 -2.04550912 -3.81096674 -1.16151325  1.41918664\n",
            " -1.41162913 -2.68729927  2.44366605  3.26170405 -1.29831383 -1.1840611\n",
            " -2.62684574  4.00922786 -0.73900191 -3.70298343  0.73609113  1.08417752\n",
            "  5.18637417 -3.41787432  0.95020979 -1.09766006  4.44261418  3.29790355]\n"
          ],
          "name": "stdout"
        }
      ]
    },
    {
      "metadata": {
        "id": "PYmuA8VwJ4_y",
        "colab_type": "text"
      },
      "cell_type": "markdown",
      "source": [
        "### 2.1 Build ROC curves"
      ]
    },
    {
      "metadata": {
        "id": "Jcyi6Z16OGuM",
        "colab_type": "code",
        "colab": {
          "base_uri": "https://localhost:8080/",
          "height": 544
        },
        "outputId": "77578d9a-bb2c-4954-b2d3-32e4b313a265"
      },
      "cell_type": "code",
      "source": [
        "thresholds = np.linspace(0.0,1.0,11)\n",
        "predictions = pd.DataFrame()\n",
        "\n",
        "for decision_threshold in thresholds:\n",
        "    decision_threshold = np.round(decision_threshold,2)\n",
        "    true_false_array = (proba[::,1:2:] > decision_threshold).T[0]\n",
        "    predictions[str(decision_threshold)] = true_false_array.astype(int)\n",
        "        \n",
        "print(predictions)"
      ],
      "execution_count": 0,
      "outputs": [
        {
          "output_type": "stream",
          "text": [
            "    0.0  0.1  0.2  0.3  0.4  0.5  0.6  0.7  0.8  0.9  1.0\n",
            "0     1    1    1    1    1    1    1    1    1    1    0\n",
            "1     1    1    1    1    1    1    1    1    1    1    0\n",
            "2     1    1    1    1    0    0    0    0    0    0    0\n",
            "3     1    1    1    1    0    0    0    0    0    0    0\n",
            "4     1    1    1    1    1    1    1    1    1    1    0\n",
            "5     1    1    1    1    1    1    1    1    0    0    0\n",
            "6     1    1    1    1    1    1    1    1    1    1    0\n",
            "7     1    1    1    0    0    0    0    0    0    0    0\n",
            "8     1    1    0    0    0    0    0    0    0    0    0\n",
            "9     1    0    0    0    0    0    0    0    0    0    0\n",
            "10    1    1    1    0    0    0    0    0    0    0    0\n",
            "11    1    1    1    1    1    1    1    1    1    0    0\n",
            "12    1    1    0    0    0    0    0    0    0    0    0\n",
            "13    1    0    0    0    0    0    0    0    0    0    0\n",
            "14    1    1    1    1    1    1    1    1    1    1    0\n",
            "15    1    1    1    1    1    1    1    1    1    1    0\n",
            "16    1    1    1    0    0    0    0    0    0    0    0\n",
            "17    1    1    1    0    0    0    0    0    0    0    0\n",
            "18    1    0    0    0    0    0    0    0    0    0    0\n",
            "19    1    1    1    1    1    1    1    1    1    1    0\n",
            "20    1    1    1    1    0    0    0    0    0    0    0\n",
            "21    1    0    0    0    0    0    0    0    0    0    0\n",
            "22    1    1    1    1    1    1    1    0    0    0    0\n",
            "23    1    1    1    1    1    1    1    1    0    0    0\n",
            "24    1    1    1    1    1    1    1    1    1    1    0\n",
            "25    1    0    0    0    0    0    0    0    0    0    0\n",
            "26    1    1    1    1    1    1    1    1    0    0    0\n",
            "27    1    1    1    0    0    0    0    0    0    0    0\n",
            "28    1    1    1    1    1    1    1    1    1    1    0\n",
            "29    1    1    1    1    1    1    1    1    1    1    0\n"
          ],
          "name": "stdout"
        }
      ]
    },
    {
      "metadata": {
        "id": "nDEdBrtYFjEr",
        "colab_type": "text"
      },
      "cell_type": "markdown",
      "source": [
        "### 3. Calculate TP and FP at each discrimination level"
      ]
    },
    {
      "metadata": {
        "id": "B73O-XcrF9Wd",
        "colab_type": "code",
        "colab": {
          "base_uri": "https://localhost:8080/",
          "height": 835
        },
        "outputId": "8ef946d5-ff9f-4e58-a4da-63f3c05c5156"
      },
      "cell_type": "code",
      "source": [
        "# Base case:\n",
        "false_positives = np.sum(predictions['0.1']-train_y.values == 1)\n",
        "true_positives = np.sum(predictions['0.1']+train_y.values==2)\n",
        "print('False positive rate at threshold 0.1: ',false_positives/np.sum(train_y==0))\n",
        "print('True positive rate at threshold 0.1: ',true_positives/np.sum(train_y==1))\n",
        "\n",
        "# Now automate the base case across the set of all decision thresholds\n",
        "fp = pd.DataFrame()\n",
        "tp = pd.DataFrame()\n",
        "for threshold in predictions.columns:\n",
        "    fp[threshold] = [np.sum(predictions[threshold]-train_y.values==1)/np.sum(train_y==0)]\n",
        "    tp[threshold] = [np.sum(predictions[threshold]+train_y.values==2)/np.sum(train_y==1)]\n",
        "\n",
        "# The false positives and true positive rated, based on the sliding decision threshold\n",
        "print(fp.T)\n",
        "print(tp.T)\n",
        "\n",
        "import matplotlib.pyplot as plt\n",
        "plt.plot(fp.T,tp.T);\n",
        "plt.plot([0, 1], [0, 1], 'k--', lw=2)\n",
        "plt.xlabel('False Positive Rate')\n",
        "plt.ylabel('True Positive Rate')\n",
        "plt.title('Receiver operating characteristic example')\n",
        "    "
      ],
      "execution_count": 0,
      "outputs": [
        {
          "output_type": "stream",
          "text": [
            "False positive rate at threshold 0.1:  0.0\n",
            "True positive rate at threshold 0.1:  1.0\n",
            "            0\n",
            "0.0  1.000000\n",
            "0.1  0.666667\n",
            "0.2  0.533333\n",
            "0.3  0.200000\n",
            "0.4  0.066667\n",
            "0.5  0.066667\n",
            "0.6  0.066667\n",
            "0.7  0.066667\n",
            "0.8  0.000000\n",
            "0.9  0.000000\n",
            "1.0  0.000000\n",
            "            0\n",
            "0.0  1.000000\n",
            "0.1  1.000000\n",
            "0.2  1.000000\n",
            "0.3  1.000000\n",
            "0.4  0.933333\n",
            "0.5  0.933333\n",
            "0.6  0.933333\n",
            "0.7  0.866667\n",
            "0.8  0.733333\n",
            "0.9  0.666667\n",
            "1.0  0.000000\n"
          ],
          "name": "stdout"
        },
        {
          "output_type": "execute_result",
          "data": {
            "text/plain": [
              "Text(0.5,1,'Receiver operating characteristic example')"
            ]
          },
          "metadata": {
            "tags": []
          },
          "execution_count": 14
        },
        {
          "output_type": "display_data",
          "data": {
            "image/png": "[encoded data removed]",
            "text/plain": [
              "<matplotlib.figure.Figure at 0x7efe0fa01780>"
            ]
          },
          "metadata": {
            "tags": []
          }
        }
      ]
    },
    {
      "metadata": {
        "id": "Jhg7EM4YQ6nG",
        "colab_type": "text"
      },
      "cell_type": "markdown",
      "source": [
        "### 4. Example using sklearn"
      ]
    },
    {
      "metadata": {
        "id": "t2xGVuYcQfAo",
        "colab_type": "code",
        "colab": {}
      },
      "cell_type": "code",
      "source": [
        "from sklearn import metrics"
      ],
      "execution_count": 0,
      "outputs": []
    },
    {
      "metadata": {
        "id": "O1_hD-raG2s2",
        "colab_type": "code",
        "colab": {
          "base_uri": "https://localhost:8080/",
          "height": 449
        },
        "outputId": "23092ee1-b9b5-4e6d-a222-d3c61ffe4a36"
      },
      "cell_type": "code",
      "source": [
        "# The Area-Under-The-Curve Score\n",
        "print(metrics.auc(fp.T,tp.T))\n",
        "print(metrics.roc_auc_score(train_y.values,proba[::,1:2:]))\n",
        "\n",
        "# Producing the same false/true positive data via a library and plotting it\n",
        "fpr, tpr, _ = metrics.roc_curve(train_y.values,proba[::,1:2:])\n",
        "print(fpr)\n",
        "print(tpr)\n",
        "plt.plot(fpr,tpr);"
      ],
      "execution_count": 0,
      "outputs": [
        {
          "output_type": "stream",
          "text": [
            "0.9822222222222222\n",
            "0.9822222222222223\n",
            "[0.         0.         0.06666667 0.06666667 0.2        0.2\n",
            " 1.        ]\n",
            "[0.06666667 0.86666667 0.86666667 0.93333333 0.93333333 1.\n",
            " 1.        ]\n"
          ],
          "name": "stdout"
        },
        {
          "output_type": "display_data",
          "data": {
            "image/png": "[encoded data removed]",
            "text/plain": [
              "<matplotlib.figure.Figure at 0x7efe0fa787f0>"
            ]
          },
          "metadata": {
            "tags": []
          }
        }
      ]
    },
    {
      "metadata": {
        "id": "QS0KgX-_QbX6",
        "colab_type": "text"
      },
      "cell_type": "markdown",
      "source": [
        "## Do\n",
        "\n",
        "### 5. Compute the ROC and AUC using the _testset_ instead of the _trainset_\n"
      ]
    },
    {
      "metadata": {
        "id": "CVtzXgERHI4B",
        "colab_type": "code",
        "colab": {
          "base_uri": "https://localhost:8080/",
          "height": 364
        },
        "outputId": "406a40f4-3725-4af8-a33a-d137c2beda01"
      },
      "cell_type": "code",
      "source": [
        "# Compute and plot\n",
        "\n",
        "# Compute and plot# Comput \n",
        "proba = regr.predict_proba(test_x)\n",
        "\n",
        "fpr, tpr, _ = metrics.roc_curve(test_y.values,proba[::,1:2:])\n",
        "\n",
        "print('AUC:', metrics.auc(fpr.T,tpr.T))\n",
        "\n",
        "plt.plot(fpr,tpr);"
      ],
      "execution_count": 0,
      "outputs": [
        {
          "output_type": "stream",
          "text": [
            "AUC: 0.9600000000000001\n"
          ],
          "name": "stdout"
        },
        {
          "output_type": "display_data",
          "data": {
            "image/png": "[encoded data removed]",
            "text/plain": [
              "<matplotlib.figure.Figure at 0x7efe0d94ea58>"
            ]
          },
          "metadata": {
            "tags": []
          }
        }
      ]
    }
  ]
}