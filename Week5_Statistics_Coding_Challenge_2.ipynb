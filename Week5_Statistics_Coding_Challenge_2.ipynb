{
  "nbformat": 4,
  "nbformat_minor": 0,
  "metadata": {
    "colab": {
      "name": "Copy of Statistics Coding Challenge # 2.ipynb",
      "version": "0.3.2",
      "views": {},
      "default_view": {},
      "provenance": [
        {
          "file_id": "19LpsAk1DQoHmJFhF9-182mfvdRdFcvja",
          "timestamp": 1525198317681
        }
      ]
    },
    "kernelspec": {
      "name": "python3",
      "display_name": "Python 3"
    }
  },
  "cells": [
    {
      "metadata": {
        "id": "5Df5yvC99sYU",
        "colab_type": "text"
      },
      "cell_type": "markdown",
      "source": [
        "## Coding Challenge #2\n",
        "\n",
        "In this coding challenge, we are going to use the \"Index, Violent, Property, and Firearm Rates By County: Beginning 1990\" data set available from the Data.Gov website (https://catalog.data.gov/dataset?groups=local&organization_type=State+Government#topic=local_navigation).\n",
        "\n",
        "There are a few objectives you need to accomplish:\n",
        "\n",
        "1) Examine the data set for any missing values. The attributes of interest are 'Violent Count', 'Property Count', and 'Population'\n",
        "\n",
        "2) If there are any missing values, replace it with the median for that specific attribute within the corresponding County.\n",
        "\n",
        "For example if the 'Violent Count' attribute for the county of Albany has missing values, then replace it with the median of the 'Violent Count' for the county of Albany\n",
        "Note: If there are no missing values, you can use the data set as is\n",
        "\n",
        "3) Construct a box plot to surface the 25%, 50% and 75% percentiles of the 'Violent Count' by County from year 1990 to 2016 - just hone in on the following three counties: Bronx, New York and Queens\n",
        "\n",
        "4) Compute the Variance and Standard Deviation of the 'Violent Count' by County from year 1990 to 2016 - just hone in on the following three counties: Bronx, New York and Queens\n",
        "\n",
        "5) Contruct a Bee Swarm Plot to surface the spread of the 'Violent Count' by County from year 1990 to 2016 - just hone in on the following three counties: Bronx, New York and Queens\n",
        "\n",
        "6) Hone in on the data set for the Year 2016. How does the 'Violent Count' and the 'Population' vary together? Construct a scatter plot that plots the 'Violent Count' v/s the Total Population' for each of the 3 Counties. Does the Scatter Plot point to a positive covariance? Now, compute the Covariance.\n",
        "\n",
        "7) Hone in on the data set for the Year 2016. How does the 'Violent Count' and the 'Property Count' vary together? Construct a scatter plot that plots the 'Violent Count' v/s the Total Property Count' for each of the 3 Counties. Does the Scatter Plot point to a positive covariance? Now, compute the Covariance.\n",
        "\n",
        "8) Compute the Correlation Coefficient between the 2 variable i.e. 'Violent Count' and the 'Population' for the county of Bronx\n"
      ]
    },
    {
      "metadata": {
        "id": "f8O2s-KzOyT0",
        "colab_type": "code",
        "colab": {
          "autoexec": {
            "startup": false,
            "wait_interval": 0
          },
          "base_uri": "https://localhost:8080/",
          "height": 221
        },
        "outputId": "57524462-e49d-4b90-e000-acb204d94a8a",
        "executionInfo": {
          "status": "ok",
          "timestamp": 1525195241468,
          "user_tz": 300,
          "elapsed": 1825,
          "user": {
            "displayName": "",
            "photoUrl": "",
            "userId": ""
          }
        }
      },
      "cell_type": "code",
      "source": [
        "\n",
        "!wget https://data.ny.gov/api/views/34dd-6g2j/rows.csv?accessType=DOWNLOAD -O /tmp/Firearm_rates.csv"
      ],
      "execution_count": 0,
      "outputs": [
        {
          "output_type": "stream",
          "text": [
            "--2018-05-01 17:20:40--  https://data.ny.gov/api/views/34dd-6g2j/rows.csv?accessType=DOWNLOAD\r\n",
            "Resolving data.ny.gov (data.ny.gov)... 52.206.140.199\n",
            "Connecting to data.ny.gov (data.ny.gov)|52.206.140.199|:443... connected.\n",
            "HTTP request sent, awaiting response... 200 OK\n",
            "Length: unspecified [text/csv]\n",
            "Saving to: ‘/tmp/Firearm_rates.csv’\n",
            "\n",
            "/tmp/Firearm_rates.     [ <=>                ]  99.56K  --.-KB/s    in 0.03s   \n",
            "\n",
            "Last-modified header invalid -- time-stamp ignored.\n",
            "2018-05-01 17:20:41 (3.72 MB/s) - ‘/tmp/Firearm_rates.csv’ saved [101948]\n",
            "\n"
          ],
          "name": "stdout"
        }
      ]
    },
    {
      "metadata": {
        "id": "Pi4BgCvsPkJJ",
        "colab_type": "code",
        "colab": {
          "autoexec": {
            "startup": false,
            "wait_interval": 0
          },
          "base_uri": "https://localhost:8080/",
          "height": 476
        },
        "outputId": "489ba863-d087-455f-f83d-3d396596b98a",
        "executionInfo": {
          "status": "ok",
          "timestamp": 1525195299669,
          "user_tz": 300,
          "elapsed": 345,
          "user": {
            "displayName": "",
            "photoUrl": "",
            "userId": ""
          }
        }
      },
      "cell_type": "code",
      "source": [
        "import numpy as np\n",
        "import pandas as pd\n",
        "# read the file into a dataframe\n",
        "data = pd.read_csv(\"/tmp/Firearm_rates.csv\")\n",
        "print (data.columns)\n",
        "print (data.head(10))"
      ],
      "execution_count": 0,
      "outputs": [
        {
          "output_type": "stream",
          "text": [
            "Index(['County', 'Year', 'Population', 'Index Count', 'Index Rate',\n",
            "       'Violent Count', 'Violent Rate', 'Property Count', 'Property Rate',\n",
            "       'Firearm Count', 'Firearm Rate'],\n",
            "      dtype='object')\n",
            "   County  Year  Population  Index Count  Index Rate  Violent Count  \\\n",
            "0  Albany  2016    308401.0         8764      2841.8           1102   \n",
            "1  Albany  2015    308613.0         8635      2798.0           1041   \n",
            "2  Albany  2014    308166.0         9181      2979.2           1003   \n",
            "3  Albany  2013    306300.0         9457      3087.5           1006   \n",
            "4  Albany  2012    305204.0         9975      3268.3           1012   \n",
            "5  Albany  2011    305571.0        10725      3509.8           1163   \n",
            "6  Albany  2010    295267.0        11036      3737.6           1182   \n",
            "7  Albany  2009    298400.0        10613      3556.6           1289   \n",
            "8  Albany  2008    299789.0        10750      3585.9           1356   \n",
            "9  Albany  2007    297154.0        10584      3561.8           1468   \n",
            "\n",
            "   Violent Rate  Property Count  Property Rate  Firearm Count  Firearm Rate  \n",
            "0         357.3            7662         2484.4          126.0          40.9  \n",
            "1         337.3            7594         2460.7          114.0          36.9  \n",
            "2         325.5            8178         2653.8          147.0          47.7  \n",
            "3         328.4            8451         2759.1          150.0          49.0  \n",
            "4         331.6            8963         2936.7          137.0          44.9  \n",
            "5         380.6            9562         3129.2          196.0          64.1  \n",
            "6         400.3            9854         3337.3          154.0          52.2  \n",
            "7         432.0            9324         3124.7          191.0          64.0  \n",
            "8         452.3            9394         3133.5          238.0          79.4  \n",
            "9         494.0            9116         3067.8          208.0          70.0  \n"
          ],
          "name": "stdout"
        }
      ]
    },
    {
      "metadata": {
        "id": "Z5pa-JsDP6Ka",
        "colab_type": "code",
        "colab": {
          "autoexec": {
            "startup": false,
            "wait_interval": 0
          },
          "base_uri": "https://localhost:8080/",
          "height": 221
        },
        "outputId": "38d01b03-447d-4164-f58d-ed8b58e1bf78",
        "executionInfo": {
          "status": "ok",
          "timestamp": 1525195302880,
          "user_tz": 300,
          "elapsed": 334,
          "user": {
            "displayName": "",
            "photoUrl": "",
            "userId": ""
          }
        }
      },
      "cell_type": "code",
      "source": [
        "# check for missing or null values\n",
        "\n",
        "print (data.isnull().sum())\n",
        "\n",
        "# none of the columns of interest has null values."
      ],
      "execution_count": 0,
      "outputs": [
        {
          "output_type": "stream",
          "text": [
            "County             0\n",
            "Year               0\n",
            "Population         0\n",
            "Index Count        0\n",
            "Index Rate         0\n",
            "Violent Count      0\n",
            "Violent Rate       0\n",
            "Property Count     0\n",
            "Property Rate      0\n",
            "Firearm Count     75\n",
            "Firearm Rate      75\n",
            "dtype: int64\n"
          ],
          "name": "stdout"
        }
      ]
    },
    {
      "metadata": {
        "id": "97rtVuWjtgYN",
        "colab_type": "code",
        "colab": {
          "autoexec": {
            "startup": false,
            "wait_interval": 0
          },
          "base_uri": "https://localhost:8080/",
          "height": 68
        },
        "outputId": "ac867b06-3c6c-41c0-ecf0-65b40cc265e1",
        "executionInfo": {
          "status": "ok",
          "timestamp": 1525195306245,
          "user_tz": 300,
          "elapsed": 343,
          "user": {
            "displayName": "",
            "photoUrl": "",
            "userId": ""
          }
        }
      },
      "cell_type": "code",
      "source": [
        "data.Year.unique()"
      ],
      "execution_count": 0,
      "outputs": [
        {
          "output_type": "execute_result",
          "data": {
            "text/plain": [
              "array([2016, 2015, 2014, 2013, 2012, 2011, 2010, 2009, 2008, 2007, 2006,\n",
              "       2005, 2004, 2003, 2002, 2001, 2000, 1999, 1998, 1997, 1996, 1995,\n",
              "       1994, 1993, 1992, 1991, 1990])"
            ]
          },
          "metadata": {
            "tags": []
          },
          "execution_count": 67
        }
      ]
    },
    {
      "metadata": {
        "id": "N-ZSHNcoRYXI",
        "colab_type": "code",
        "colab": {
          "autoexec": {
            "startup": false,
            "wait_interval": 0
          },
          "base_uri": "https://localhost:8080/",
          "height": 457
        },
        "outputId": "fd7a7a7d-e9f1-47d4-b411-94b0fe21b732",
        "executionInfo": {
          "status": "ok",
          "timestamp": 1525195309445,
          "user_tz": 300,
          "elapsed": 531,
          "user": {
            "displayName": "",
            "photoUrl": "",
            "userId": ""
          }
        }
      },
      "cell_type": "code",
      "source": [
        "#Construct a box plot to surface the 25%, 50% and 75% percentiles of the 'Violent Count' by County from year 1990 to 2016 - \n",
        "#just hone in on the following three counties: Bronx, New York and Queens\n",
        "import matplotlib.pyplot as plt\n",
        "import seaborn as sns\n",
        "\n",
        "data1 = data.loc[data['County'].isin([\"Bronx\",\"New York\",\"Queens\"])]\n",
        "sns.boxplot(x=\"County\", y=\"Violent Count\", data=data1, hue = \"County\")\n",
        "plt.xticks(fontsize = 8, rotation = 90)\n",
        "\n",
        "#from the boxplot, it can be seen that, median of Bronx is higher, second is New york and last is Queens county. \n",
        "#All the three county's has outliers i.e, values greater than 1.5 times of median.\n"
      ],
      "execution_count": 0,
      "outputs": [
        {
          "output_type": "stream",
          "text": [
            "/usr/local/lib/python3.6/dist-packages/seaborn/categorical.py:482: FutureWarning: remove_na is deprecated and is a private function. Do not use.\n",
            "  box_data = remove_na(group_data[hue_mask])\n"
          ],
          "name": "stderr"
        },
        {
          "output_type": "execute_result",
          "data": {
            "text/plain": [
              "(array([0, 1, 2]), <a list of 3 Text xticklabel objects>)"
            ]
          },
          "metadata": {
            "tags": []
          },
          "execution_count": 68
        },
        {
          "output_type": "display_data",
          "data": {
            "image/png": "[encoded data removed]",
            "text/plain": [
              "<matplotlib.figure.Figure at 0x7f37a505d400>"
            ]
          },
          "metadata": {
            "tags": []
          }
        }
      ]
    },
    {
      "metadata": {
        "id": "6ki-nUpJWhYd",
        "colab_type": "code",
        "colab": {
          "autoexec": {
            "startup": false,
            "wait_interval": 0
          },
          "base_uri": "https://localhost:8080/",
          "height": 799
        },
        "outputId": "b4487015-572d-4e60-89fe-bc5b6f2f8b0a",
        "executionInfo": {
          "status": "ok",
          "timestamp": 1525196808633,
          "user_tz": 300,
          "elapsed": 397,
          "user": {
            "displayName": "",
            "photoUrl": "",
            "userId": ""
          }
        }
      },
      "cell_type": "code",
      "source": [
        "#Compute the Variance and Standard Deviation of the 'Violent Count' by County from year 1990 to 2016 - \n",
        "#just hone in on the following three counties: Bronx, New York and Queens\n",
        "data2 = data1.groupby(\"County\")['Violent Count']\n",
        "\n",
        "mean = data2.mean()\n",
        "print (\"mean for each county\")\n",
        "print (mean)\n",
        "print (\"\\n\")\n",
        "\n",
        "stdeviation = data2.std()\n",
        "print (\"Standard Deviation for each county\")\n",
        "print (stdeviation)\n",
        "print (\"\\n\")\n",
        "\n",
        "print (\"Variance for each county\")\n",
        "varianc = data2.var()\n",
        "print (varianc)\n",
        "print (\"\\n\")\n",
        "\n",
        "print (\"25th percentile for each county\")\n",
        "print (data2.apply(np.percentile, 25))\n",
        "print (\"\\n\")\n",
        "\n",
        "print (\"50th percentile for each county\")\n",
        "print (data2.apply(np.percentile, 50))\n",
        "print (\"\\n\")\n",
        "\n",
        "print (\"75th percentile for each county\")\n",
        "print (data2.apply(np.percentile, 75))"
      ],
      "execution_count": 0,
      "outputs": [
        {
          "output_type": "stream",
          "text": [
            "mean for each county\n",
            "County\n",
            "Bronx       17687.444444\n",
            "New York    17419.888889\n",
            "Queens      15510.111111\n",
            "Name: Violent Count, dtype: float64\n",
            "\n",
            "\n",
            "Standard Deviation for each county\n",
            "County\n",
            "Bronx        7447.220165\n",
            "New York    11150.953282\n",
            "Queens       7545.773174\n",
            "Name: Violent Count, dtype: float64\n",
            "\n",
            "\n",
            "Variance for each county\n",
            "County\n",
            "Bronx       5.546109e+07\n",
            "New York    1.243438e+08\n",
            "Queens      5.693869e+07\n",
            "Name: Violent Count, dtype: float64\n",
            "\n",
            "\n",
            "25th percentile for each county\n",
            "County\n",
            "Bronx       12519.0\n",
            "New York     9061.5\n",
            "Queens       9978.0\n",
            "Name: Violent Count, dtype: float64\n",
            "\n",
            "\n",
            "50th percentile for each county\n",
            "County\n",
            "Bronx       13817.0\n",
            "New York    12179.0\n",
            "Queens      11106.0\n",
            "Name: Violent Count, dtype: float64\n",
            "\n",
            "\n",
            "75th percentile for each county\n",
            "County\n",
            "Bronx       20103.5\n",
            "New York    21090.0\n",
            "Queens      18309.0\n",
            "Name: Violent Count, dtype: float64\n"
          ],
          "name": "stdout"
        }
      ]
    },
    {
      "metadata": {
        "id": "jWWDJfQSVB2h",
        "colab_type": "code",
        "colab": {
          "autoexec": {
            "startup": false,
            "wait_interval": 0
          },
          "base_uri": "https://localhost:8080/",
          "height": 361
        },
        "outputId": "6914d4c8-e68c-43a8-82f7-f98f66b99fcb",
        "executionInfo": {
          "status": "ok",
          "timestamp": 1525196965746,
          "user_tz": 300,
          "elapsed": 546,
          "user": {
            "displayName": "",
            "photoUrl": "",
            "userId": ""
          }
        }
      },
      "cell_type": "code",
      "source": [
        "#Swarm plot\n",
        "sns.swarmplot(x='County', y='Violent Count', data=data1, hue = 'County')\n",
        "plt.xlabel('County')\n",
        "plt.ylabel('Violent Count')\n",
        "plt.show()"
      ],
      "execution_count": 0,
      "outputs": [
        {
          "output_type": "display_data",
          "data": {
            "image/png": "[encoded data removed]",
            "text/plain": [
              "<matplotlib.figure.Figure at 0x7f37a5150fd0>"
            ]
          },
          "metadata": {
            "tags": []
          }
        }
      ]
    },
    {
      "metadata": {
        "id": "4G3IS0d4Yevg",
        "colab_type": "code",
        "colab": {
          "autoexec": {
            "startup": false,
            "wait_interval": 0
          },
          "base_uri": "https://localhost:8080/",
          "height": 364
        },
        "outputId": "13d596ff-3ad5-4be7-d45e-2f69d2e8cf4a",
        "executionInfo": {
          "status": "ok",
          "timestamp": 1525196979201,
          "user_tz": 300,
          "elapsed": 529,
          "user": {
            "displayName": "",
            "photoUrl": "",
            "userId": ""
          }
        }
      },
      "cell_type": "code",
      "source": [
        "#Hone in on the data set for the Year 2016. How does the 'Violent Count' and the 'Population' vary together? \n",
        "#Construct a scatter plot that plots the 'Violent Count' v/s the Total Population' for each of the 3 Counties. \n",
        "#Does the Scatter Plot point to a positive covariance? Now, compute the Covariance.\n",
        "\n",
        "data3 = data.loc[data['County'].isin([\"Bronx\",\"New York\",\"Queens\"]) & data['Year'].isin([\"2016\"])]\n",
        "plt.plot(data3['Violent Count'],data3['Population'],'og')\n",
        "\n",
        "covar = np.cov(data3['Violent Count'],data3['Population'])\n",
        "print (covar[0])"
      ],
      "execution_count": 0,
      "outputs": [
        {
          "output_type": "stream",
          "text": [
            "[ 7.49138233e+06 -7.55505372e+08]\n"
          ],
          "name": "stdout"
        },
        {
          "output_type": "display_data",
          "data": {
            "image/png": "[encoded data removed]",
            "text/plain": [
              "<matplotlib.figure.Figure at 0x7f37a52a26d8>"
            ]
          },
          "metadata": {
            "tags": []
          }
        }
      ]
    },
    {
      "metadata": {
        "id": "ElbB9kTe0wsZ",
        "colab_type": "code",
        "colab": {
          "autoexec": {
            "startup": false,
            "wait_interval": 0
          },
          "base_uri": "https://localhost:8080/",
          "height": 378
        },
        "outputId": "9f63266f-5a24-4d49-b863-1271fb40c9c5",
        "executionInfo": {
          "status": "ok",
          "timestamp": 1525197220814,
          "user_tz": 300,
          "elapsed": 600,
          "user": {
            "displayName": "",
            "photoUrl": "",
            "userId": ""
          }
        }
      },
      "cell_type": "code",
      "source": [
        "#data with Bronx county and all the years\n",
        "data_BR = data.loc[data['County'].isin([\"Bronx\"])]\n",
        "plt.plot(data_BR['Population']/1000,data_BR['Violent Count'],'og')\n",
        "\n",
        "plt.xlabel(\"Population\")\n",
        "plt.ylabel(\"Violent Count\")"
      ],
      "execution_count": 0,
      "outputs": [
        {
          "output_type": "execute_result",
          "data": {
            "text/plain": [
              "Text(0,0.5,'Violent Count')"
            ]
          },
          "metadata": {
            "tags": []
          },
          "execution_count": 98
        },
        {
          "output_type": "display_data",
          "data": {
            "image/png": "[encoded data removed]",
            "text/plain": [
              "<matplotlib.figure.Figure at 0x7f37a519b588>"
            ]
          },
          "metadata": {
            "tags": []
          }
        }
      ]
    },
    {
      "metadata": {
        "id": "9QmRSzdOycEY",
        "colab_type": "code",
        "colab": {
          "autoexec": {
            "startup": false,
            "wait_interval": 0
          },
          "base_uri": "https://localhost:8080/",
          "height": 378
        },
        "outputId": "8fd7ec30-4a50-49cc-ddce-8ab5bafaf58c",
        "executionInfo": {
          "status": "ok",
          "timestamp": 1525198081541,
          "user_tz": 300,
          "elapsed": 762,
          "user": {
            "displayName": "",
            "photoUrl": "",
            "userId": ""
          }
        }
      },
      "cell_type": "code",
      "source": [
        "#data with New York county and all the years\n",
        "data_NY = data.loc[data['County'].isin([\"New York\"])]\n",
        "plt.plot(data_NY['Population']/1000,data_NY['Violent Count'],'og')\n",
        "\n",
        "plt.xlabel(\"Population\")\n",
        "plt.ylabel(\"Violent Count\")\n",
        "\n",
        "#from the plot, it can be seen that, as the population increses, violent count decreases"
      ],
      "execution_count": 0,
      "outputs": [
        {
          "output_type": "execute_result",
          "data": {
            "text/plain": [
              "Text(0,0.5,'Violent Count')"
            ]
          },
          "metadata": {
            "tags": []
          },
          "execution_count": 111
        },
        {
          "output_type": "display_data",
          "data": {
            "image/png": "[encoded data removed]",
            "text/plain": [
              "<matplotlib.figure.Figure at 0x7f37a49aacc0>"
            ]
          },
          "metadata": {
            "tags": []
          }
        }
      ]
    },
    {
      "metadata": {
        "id": "lLvZCrJz2H3I",
        "colab_type": "code",
        "colab": {
          "autoexec": {
            "startup": false,
            "wait_interval": 0
          },
          "base_uri": "https://localhost:8080/",
          "height": 378
        },
        "outputId": "b2029924-46a0-42f9-9691-bc923cbaf24f",
        "executionInfo": {
          "status": "ok",
          "timestamp": 1525198062137,
          "user_tz": 300,
          "elapsed": 643,
          "user": {
            "displayName": "",
            "photoUrl": "",
            "userId": ""
          }
        }
      },
      "cell_type": "code",
      "source": [
        "#data with Queens county and all the years\n",
        "data_Queens = data.loc[data['County'].isin([\"Queens\"])]\n",
        "plt.plot(data_Queens['Population']/1000,data_Queens['Violent Count'],'og') # divide by 1000 in order to display in 1000's\n",
        "\n",
        "plt.xlabel(\"Population\")\n",
        "plt.ylabel(\"Violent Count\")\n",
        "\n",
        "#from the plot, it can be seen that, as the population increses, violent count decreases"
      ],
      "execution_count": 0,
      "outputs": [
        {
          "output_type": "execute_result",
          "data": {
            "text/plain": [
              "Text(0,0.5,'Violent Count')"
            ]
          },
          "metadata": {
            "tags": []
          },
          "execution_count": 110
        },
        {
          "output_type": "display_data",
          "data": {
            "image/png": "[encoded data removed]",
            "text/plain": [
              "<matplotlib.figure.Figure at 0x7f37a4a3eef0>"
            ]
          },
          "metadata": {
            "tags": []
          }
        }
      ]
    },
    {
      "metadata": {
        "id": "nOJihthRaYEp",
        "colab_type": "code",
        "colab": {
          "autoexec": {
            "startup": false,
            "wait_interval": 0
          },
          "base_uri": "https://localhost:8080/",
          "height": 602
        },
        "outputId": "3f348857-3964-49cd-93a6-a979fccfcbaa",
        "executionInfo": {
          "status": "ok",
          "timestamp": 1525198184915,
          "user_tz": 300,
          "elapsed": 622,
          "user": {
            "displayName": "",
            "photoUrl": "",
            "userId": ""
          }
        }
      },
      "cell_type": "code",
      "source": [
        "#Covariance is the measure of how quantities vary together\n",
        "#In the case of Bronx, it is evident from the Scatter plot that the 'Violent Count' goes down as the population increases\n",
        "#Suggests a negative covariance\n",
        "#Let's validate that by computing the Covariance\n",
        "\n",
        "#To compute the Covariance, you use the 'cov' function\n",
        "\n",
        "#The 'cov' returns a 2 dimensional array where the entries [0,1] and [1,0] are the covariances. Entry [0,0] is the variance of the data in x, and entry [1,1] is the variance of the data in y\n",
        "#This 2 dimensional array is called the covariance matrix, since it structures the data as self- and covariance.\n",
        "\n",
        "print (\"covariance of Violent Count and Population for Bronx County:\")\n",
        "print (np.cov(data_BR['Violent Count'],data_BR['Population'])[0][1])\n",
        "print (\"\\n\")\n",
        "\n",
        "print (\"covariance of Violent Count and Population for New York County:\")\n",
        "print (np.cov(data_NY['Violent Count'],data_NY['Population'])[0][1])\n",
        "print (\"\\n\")\n",
        "\n",
        "print (\"covariance of Violent Count and Population for Queens County:\")\n",
        "print (np.cov(data_Queens['Violent Count'],data_Queens['Population'])[0][1])\n",
        "\n",
        "plt.plot(data_BR['Violent Count'],data_BR['Property Count'],'og')\n",
        "print (\"\\n\")\n",
        "\n",
        "covar1 = np.cov(data_BR['Violent Count'],data_BR['Property Count'])\n",
        "plt.xlabel('Violent Count')\n",
        "plt.ylabel('Property Count')\n",
        "\n",
        "# from the graph, it can be seen that, as the violent count increases property count also increases and hence positively correlated.\n",
        "\n",
        "print (\"covariance of Violent count and Property for Bronx County:\")\n",
        "print (covar1[0][1])"
      ],
      "execution_count": 0,
      "outputs": [
        {
          "output_type": "stream",
          "text": [
            "covariance of Violent Count and Population for Bronx County:\n",
            "-973009766.6131793\n",
            "\n",
            "\n",
            "covariance of Violent Count and Population for New York County:\n",
            "-570021519.4323975\n",
            "\n",
            "\n",
            "covariance of Violent Count and Population for Queens County:\n",
            "-973009766.6131793\n",
            "\n",
            "\n",
            "covariance of Violent count and Property for Bronx County:\n",
            "266045935.05555558\n"
          ],
          "name": "stdout"
        },
        {
          "output_type": "display_data",
          "data": {
            "image/png": "[encoded data removed]",
            "text/plain": [
              "<matplotlib.figure.Figure at 0x7f37a4b54cc0>"
            ]
          },
          "metadata": {
            "tags": []
          }
        }
      ]
    },
    {
      "metadata": {
        "id": "zyRvJ4ypbB2y",
        "colab_type": "code",
        "colab": {
          "autoexec": {
            "startup": false,
            "wait_interval": 0
          },
          "base_uri": "https://localhost:8080/",
          "height": 34
        },
        "outputId": "f6dc276e-4048-447a-fe8a-754d43a4f752",
        "executionInfo": {
          "status": "ok",
          "timestamp": 1525190355025,
          "user_tz": 300,
          "elapsed": 377,
          "user": {
            "displayName": "",
            "photoUrl": "",
            "userId": ""
          }
        }
      },
      "cell_type": "code",
      "source": [
        "#Compute the Correlation Coefficient between the 2 variable i.e. 'Violent Count' and the 'Population' for the county of Bronx\n",
        "\n",
        "#The Correlation Co is computed using the np.corrcoef() function\n",
        "  \n",
        "#Like the np.cov(), it takes two arrays as arguments and returns a 2 dimensional array\n",
        "\n",
        "# Entries [0,0] and [1,1] are equal to 1 since there is a storng positive correlation between the variable and itself\n",
        "\n",
        "# The value of interest is entry [0,1]\n",
        "\n",
        "data4 = data.loc[data['County'].isin([\"Bronx\"])]\n",
        "corr = np.corrcoef(data4['Violent Count'],data4['Population'])\n",
        "print (corr[0][1])\n",
        "\n",
        "#There seems to be a strong negative correlation between 'Population' and 'Violent Count'"
      ],
      "execution_count": 0,
      "outputs": [
        {
          "output_type": "stream",
          "text": [
            "-0.802718328253374\n"
          ],
          "name": "stdout"
        }
      ]
    }
  ]
}