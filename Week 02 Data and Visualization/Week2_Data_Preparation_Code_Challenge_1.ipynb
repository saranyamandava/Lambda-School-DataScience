{
  "nbformat": 4,
  "nbformat_minor": 0,
  "metadata": {
    "colab": {
      "name": "Week2_Data Preparation Code Challenge - 1.ipynb",
      "version": "0.3.2",
      "views": {},
      "default_view": {},
      "provenance": [
        {
          "file_id": "1h36Oh01dlINb0-6cD0qjW609eh2m5IJu",
          "timestamp": 1523290576611
        },
        {
          "file_id": "11h8tJEap_yyG3z2Yj6A9GooLB4qYOZ5S",
          "timestamp": 1523284913389
        },
        {
          "file_id": "12DkW3_i-jh3PdK8nV02Tvx4il336ODda",
          "timestamp": 1523053132164
        }
      ],
      "collapsed_sections": []
    },
    "kernelspec": {
      "name": "python3",
      "display_name": "Python 3"
    }
  },
  "cells": [
    {
      "metadata": {
        "id": "PECjvvnAAkV2",
        "colab_type": "text"
      },
      "cell_type": "markdown",
      "source": [
        "\n",
        "Replace the missing values in the attached data set with the median of the age and salary columns respectively.\n",
        "\n",
        "The data set is posted here:\n",
        "\n",
        "https://www.dropbox.com/s/91tthp8h6hgxzi6/Data-CodeChallenge1.csv?raw=1\n",
        "\n",
        "*Hint*: https://chrisalbon.com/machine_learning/preprocessing_structured_data/impute_missing_values_with_means/\n",
        "\n",
        "Utilize the Imputer class from the sklearn.preprocessing page\n",
        " \n",
        "*API documentation*: http://scikit-learn.org/stable/modules/generated/sklearn.preprocessing.Imputer.html\n",
        "\n",
        "\n"
      ]
    },
    {
      "metadata": {
        "id": "ujC8Ge9uBsEr",
        "colab_type": "code",
        "colab": {
          "autoexec": {
            "startup": false,
            "wait_interval": 0
          },
          "base_uri": "https://localhost:8080/",
          "height": 204
        },
        "outputId": "9b89193c-865a-4ad6-a385-4864c4df3cc6",
        "executionInfo": {
          "status": "ok",
          "timestamp": 1532461122652,
          "user_tz": 300,
          "elapsed": 431,
          "user": {
            "displayName": "saranya Mandava",
            "photoUrl": "https://lh3.googleusercontent.com/a/default-user=s128",
            "userId": "111547944025536722337"
          }
        }
      },
      "cell_type": "code",
      "source": [
        "import pandas as pd\n",
        "import numpy as np\n",
        "\n",
        "dataset = pd.read_csv('https://raw.githubusercontent.com/saranyamandava/Lambda-School-DataScience/master/Week%2001%20Data%20and%20Visualization/homeownerdata.csv')\n",
        "\n",
        "print(dataset)"
      ],
      "execution_count": 3,
      "outputs": [
        {
          "output_type": "stream",
          "text": [
            "  Cities in East Bay   Age    Salary Own Home?\n",
            "0         Pleasanton  44.0  172000.0        No\n",
            "1       Walnut Creek  27.0  148000.0       Yes\n",
            "2             Dublin  30.0  154000.0        No\n",
            "3       Walnut Creek  38.0  161000.0        No\n",
            "4             Dublin  40.0       NaN       Yes\n",
            "5         Pleasanton  35.0  158000.0       Yes\n",
            "6       Walnut Creek   NaN  152000.0        No\n",
            "7         Pleasanton  48.0  179000.0       Yes\n",
            "8             Dublin  50.0  183000.0        No\n",
            "9         Pleasanton  37.0  167000.0       Yes\n"
          ],
          "name": "stdout"
        }
      ]
    },
    {
      "metadata": {
        "id": "QFvaG1oFyf2F",
        "colab_type": "code",
        "colab": {
          "autoexec": {
            "startup": false,
            "wait_interval": 0
          },
          "base_uri": "https://localhost:8080/",
          "height": 204
        },
        "outputId": "833bd8d1-d594-428d-e97e-b3075ad9fdd4",
        "executionInfo": {
          "status": "ok",
          "timestamp": 1532461126480,
          "user_tz": 300,
          "elapsed": 371,
          "user": {
            "displayName": "saranya Mandava",
            "photoUrl": "https://lh3.googleusercontent.com/a/default-user=s128",
            "userId": "111547944025536722337"
          }
        }
      },
      "cell_type": "code",
      "source": [
        "df = dataset\n",
        "age_values = df['Age'].median()\n",
        "salary_values = df['Salary'].median()\n",
        "values = {'Age':age_values,'Salary':salary_values}\n",
        "df.fillna(value = values,inplace=True)\n",
        "print (df)"
      ],
      "execution_count": 4,
      "outputs": [
        {
          "output_type": "stream",
          "text": [
            "  Cities in East Bay   Age    Salary Own Home?\n",
            "0         Pleasanton  44.0  172000.0        No\n",
            "1       Walnut Creek  27.0  148000.0       Yes\n",
            "2             Dublin  30.0  154000.0        No\n",
            "3       Walnut Creek  38.0  161000.0        No\n",
            "4             Dublin  40.0  161000.0       Yes\n",
            "5         Pleasanton  35.0  158000.0       Yes\n",
            "6       Walnut Creek  38.0  152000.0        No\n",
            "7         Pleasanton  48.0  179000.0       Yes\n",
            "8             Dublin  50.0  183000.0        No\n",
            "9         Pleasanton  37.0  167000.0       Yes\n"
          ],
          "name": "stdout"
        }
      ]
    }
  ]
}