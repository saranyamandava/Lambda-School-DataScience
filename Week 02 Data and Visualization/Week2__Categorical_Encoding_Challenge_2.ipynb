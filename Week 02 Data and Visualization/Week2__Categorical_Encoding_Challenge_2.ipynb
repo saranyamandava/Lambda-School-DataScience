{
  "nbformat": 4,
  "nbformat_minor": 0,
  "metadata": {
    "colab": {
      "name": "Week2_ Categorical Encoding Challenge-2.ipynb",
      "version": "0.3.2",
      "views": {},
      "default_view": {},
      "provenance": [
        {
          "file_id": "1WUB0Bz4OU0XSJOV2v4sW5CoAe3G1xSZR",
          "timestamp": 1523377300084
        },
        {
          "file_id": "1V_Mklmy6mkS-gaLtcry5ZHyfBbXaeFAD",
          "timestamp": 1523372077194
        }
      ]
    },
    "kernelspec": {
      "name": "python3",
      "display_name": "Python 3"
    }
  },
  "cells": [
    {
      "metadata": {
        "id": "Dd-KLrCnex_Z",
        "colab_type": "text"
      },
      "cell_type": "markdown",
      "source": [
        "## Categorical Encodidng\n",
        "\n",
        "In this challenge, we will touch on another data preparation task that you should be aware of. This task revolves around dealing with \"Categorical\" variables. As you already know by now, Machine Learning models are based on mathematical equations. If the underlying data set contains categorical data, then the categorical variables needed to be converted into numbers since a mathematical equation only contains numbers. \n",
        "\n",
        "The data set used in Coding Challenge #1 contains 2 categorical variables i.e. 'Cities in Bay Area' and 'Own Home?'. The first categorical variable contains 3 categories i.e. 'Pleasanton', 'Walnut Creek' and 'Dublin' and the second categorical variable contains 2 categories i.e. 'Yes' and 'No.\n",
        "\n",
        "Ask? Encode the 'Cities in Bay Area' categorical variable into numbers.\n",
        "\n",
        "*Hint*: Utilize the LabelEncoder class from the sklearn.preprocessing page\n",
        "\n",
        "*Additional Resource*: http://pbpython.com/categorical-encoding.html"
      ]
    },
    {
      "metadata": {
        "id": "ELg-MYAmDnLq",
        "colab_type": "code",
        "colab": {
          "autoexec": {
            "startup": false,
            "wait_interval": 0
          },
          "base_uri": "https://localhost:8080/",
          "height": 102
        },
        "outputId": "72ce2ec7-e3e8-4cec-d7f6-2c59a1bacbd7",
        "executionInfo": {
          "status": "ok",
          "timestamp": 1523375295856,
          "user_tz": 300,
          "elapsed": 3319,
          "user": {
            "displayName": "",
            "photoUrl": "",
            "userId": ""
          }
        }
      },
      "cell_type": "code",
      "source": [
        "import numpy as np\n",
        "from sklearn.preprocessing import LabelEncoder\n",
        "import pandas as pd\n",
        "data = pd.read_csv('https://www.dropbox.com/s/ldbp498ukkdy3fd/Data-CodeChallenge2.csv?raw=1')\n",
        "data.dtypes"
      ],
      "execution_count": 0,
      "outputs": [
        {
          "output_type": "execute_result",
          "data": {
            "text/plain": [
              "Cities in East Bay    object\n",
              "Age                    int64\n",
              "Salary                 int64\n",
              "Own Home?             object\n",
              "dtype: object"
            ]
          },
          "metadata": {
            "tags": []
          },
          "execution_count": 1
        }
      ]
    },
    {
      "metadata": {
        "id": "UgqCpXtfPpVK",
        "colab_type": "code",
        "colab": {
          "autoexec": {
            "startup": false,
            "wait_interval": 0
          },
          "base_uri": "https://localhost:8080/",
          "height": 204
        },
        "outputId": "5291087d-4bc0-4aff-ca9b-d282cce4de15",
        "executionInfo": {
          "status": "ok",
          "timestamp": 1523377242240,
          "user_tz": 300,
          "elapsed": 361,
          "user": {
            "displayName": "",
            "photoUrl": "",
            "userId": ""
          }
        }
      },
      "cell_type": "code",
      "source": [
        "pd.get_dummies(data, columns=[\"Cities in East Bay\"]).head()\n",
        "pd.get_dummies(data, columns=[\"Cities in East Bay\"], prefix=[\"Cities\"]).head()"
      ],
      "execution_count": 0,
      "outputs": [
        {
          "output_type": "execute_result",
          "data": {
            "text/html": [
              "<div>\n",
              "<style scoped>\n",
              "    .dataframe tbody tr th:only-of-type {\n",
              "        vertical-align: middle;\n",
              "    }\n",
              "\n",
              "    .dataframe tbody tr th {\n",
              "        vertical-align: top;\n",
              "    }\n",
              "\n",
              "    .dataframe thead th {\n",
              "        text-align: right;\n",
              "    }\n",
              "</style>\n",
              "<table border=\"1\" class=\"dataframe\">\n",
              "  <thead>\n",
              "    <tr style=\"text-align: right;\">\n",
              "      <th></th>\n",
              "      <th>Age</th>\n",
              "      <th>Salary</th>\n",
              "      <th>Own Home?</th>\n",
              "      <th>Cities_Dublin</th>\n",
              "      <th>Cities_Pleasanton</th>\n",
              "      <th>Cities_Walnut Creek</th>\n",
              "    </tr>\n",
              "  </thead>\n",
              "  <tbody>\n",
              "    <tr>\n",
              "      <th>0</th>\n",
              "      <td>44</td>\n",
              "      <td>172000</td>\n",
              "      <td>No</td>\n",
              "      <td>0</td>\n",
              "      <td>1</td>\n",
              "      <td>0</td>\n",
              "    </tr>\n",
              "    <tr>\n",
              "      <th>1</th>\n",
              "      <td>27</td>\n",
              "      <td>148000</td>\n",
              "      <td>Yes</td>\n",
              "      <td>0</td>\n",
              "      <td>0</td>\n",
              "      <td>1</td>\n",
              "    </tr>\n",
              "    <tr>\n",
              "      <th>2</th>\n",
              "      <td>30</td>\n",
              "      <td>154000</td>\n",
              "      <td>No</td>\n",
              "      <td>1</td>\n",
              "      <td>0</td>\n",
              "      <td>0</td>\n",
              "    </tr>\n",
              "    <tr>\n",
              "      <th>3</th>\n",
              "      <td>38</td>\n",
              "      <td>161000</td>\n",
              "      <td>No</td>\n",
              "      <td>0</td>\n",
              "      <td>0</td>\n",
              "      <td>1</td>\n",
              "    </tr>\n",
              "    <tr>\n",
              "      <th>4</th>\n",
              "      <td>40</td>\n",
              "      <td>161000</td>\n",
              "      <td>Yes</td>\n",
              "      <td>1</td>\n",
              "      <td>0</td>\n",
              "      <td>0</td>\n",
              "    </tr>\n",
              "  </tbody>\n",
              "</table>\n",
              "</div>"
            ],
            "text/plain": [
              "   Age  Salary Own Home?  Cities_Dublin  Cities_Pleasanton  \\\n",
              "0   44  172000        No              0                  1   \n",
              "1   27  148000       Yes              0                  0   \n",
              "2   30  154000        No              1                  0   \n",
              "3   38  161000        No              0                  0   \n",
              "4   40  161000       Yes              1                  0   \n",
              "\n",
              "   Cities_Walnut Creek  \n",
              "0                    0  \n",
              "1                    1  \n",
              "2                    0  \n",
              "3                    1  \n",
              "4                    0  "
            ]
          },
          "metadata": {
            "tags": []
          },
          "execution_count": 7
        }
      ]
    },
    {
      "metadata": {
        "id": "vGsqVOPhEEeW",
        "colab_type": "text"
      },
      "cell_type": "markdown",
      "source": [
        "## Stretch goal\n",
        "`LabelEncoding` suggests a value difference between different classes. Instead, explore `OneHotEncoder` [OneHotEncoder](http://scikit-learn.org/stable/modules/generated/sklearn.preprocessing.OneHotEncoder.html) to produce categorical labels that are not biased:\n"
      ]
    },
    {
      "metadata": {
        "id": "fLMNpcKOEYUm",
        "colab_type": "code",
        "colab": {
          "autoexec": {
            "startup": false,
            "wait_interval": 0
          }
        }
      },
      "cell_type": "code",
      "source": [
        "from sklearn.preprocessing import OneHotEncoder\n",
        "cities_one_hot = OneHotEncoder().fit_transform(dataset[['Cities in East Bay']]).toarray()\n",
        "cities = pd.DataFrame(cities_one_hot, columns=['Dublin', 'Pleasanton', 'Walnut Creek'], dtype=np.int64)\n",
        "dataset = dataset.join([cities]).drop(['Cities in East Bay'], axis=1)\n",
        "dataset"
      ],
      "execution_count": 0,
      "outputs": []
    }
  ]
}