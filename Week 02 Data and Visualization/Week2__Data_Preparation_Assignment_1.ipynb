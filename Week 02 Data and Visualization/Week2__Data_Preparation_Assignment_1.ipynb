{
  "nbformat": 4,
  "nbformat_minor": 0,
  "metadata": {
    "colab": {
      "name": "Week2_ Data Preparation Assignment - 1.ipynb",
      "version": "0.3.2",
      "views": {},
      "default_view": {},
      "provenance": [
        {
          "file_id": "1R9vNt_eWBMzmWZls3zZS7YUXo7R6g2Nd",
          "timestamp": 1524863691670
        }
      ],
      "collapsed_sections": []
    },
    "kernelspec": {
      "name": "python3",
      "display_name": "Python 3"
    }
  },
  "cells": [
    {
      "metadata": {
        "id": "oDi_fpUsyfmL",
        "colab_type": "text"
      },
      "cell_type": "markdown",
      "source": [
        "# Data Preparation\n",
        "\n",
        "Below are examples of the Titanic dataset, containing passenger records on board the titanic, and the OKCupid dataset, containing records authorized by OKCupid for use in Machine Learning research.\n",
        "\n",
        "Your assignment is to combine the results of the Titanic and OKCupid datasets. You should replace each passenger aboard the titanic and their relevant data with a matching individual from the OKCupid dataset.\n",
        "\n",
        "There should be no duplicates in the remaining dataset, with no NaNs, nulls, or missing information. More specifics at the bottom."
      ]
    },
    {
      "metadata": {
        "id": "pywly5CoyZMG",
        "colab_type": "code",
        "colab": {
          "autoexec": {
            "startup": false,
            "wait_interval": 0
          },
          "base_uri": "https://localhost:8080/",
          "height": 238
        },
        "outputId": "c07ac3c6-b3f3-486b-e5a2-fcd79c347222",
        "executionInfo": {
          "status": "ok",
          "timestamp": 1524859574387,
          "user_tz": 300,
          "elapsed": 3086,
          "user": {
            "displayName": "",
            "photoUrl": "",
            "userId": ""
          }
        }
      },
      "cell_type": "code",
      "source": [
        "import numpy as np\n",
        "import pandas as pd\n",
        "import seaborn as sns\n",
        "titanic = sns.load_dataset('titanic')\n",
        "\n",
        "# The first few records\n",
        "print(titanic.head())"
      ],
      "execution_count": 0,
      "outputs": [
        {
          "output_type": "stream",
          "text": [
            "   survived  pclass     sex   age  sibsp  parch     fare embarked  class  \\\n",
            "0         0       3    male  22.0      1      0   7.2500        S  Third   \n",
            "1         1       1  female  38.0      1      0  71.2833        C  First   \n",
            "2         1       3  female  26.0      0      0   7.9250        S  Third   \n",
            "3         1       1  female  35.0      1      0  53.1000        S  First   \n",
            "4         0       3    male  35.0      0      0   8.0500        S  Third   \n",
            "\n",
            "     who  adult_male deck  embark_town alive  alone  \n",
            "0    man        True  NaN  Southampton    no  False  \n",
            "1  woman       False    C    Cherbourg   yes  False  \n",
            "2  woman       False  NaN  Southampton   yes   True  \n",
            "3  woman       False    C  Southampton   yes  False  \n",
            "4    man        True  NaN  Southampton    no   True  \n"
          ],
          "name": "stdout"
        }
      ]
    },
    {
      "metadata": {
        "id": "EJREtHLd4VDC",
        "colab_type": "code",
        "colab": {
          "autoexec": {
            "startup": false,
            "wait_interval": 0
          },
          "base_uri": "https://localhost:8080/",
          "height": 34
        },
        "outputId": "e239e75d-e54e-4d59-b907-b796e8928799",
        "executionInfo": {
          "status": "ok",
          "timestamp": 1524859577585,
          "user_tz": 300,
          "elapsed": 378,
          "user": {
            "displayName": "",
            "photoUrl": "",
            "userId": ""
          }
        }
      },
      "cell_type": "code",
      "source": [
        "# 891 passengers with 15 data entries per\n",
        "print(titanic.shape)"
      ],
      "execution_count": 0,
      "outputs": [
        {
          "output_type": "stream",
          "text": [
            "(891, 15)\n"
          ],
          "name": "stdout"
        }
      ]
    },
    {
      "metadata": {
        "id": "xORLT36EifIx",
        "colab_type": "code",
        "colab": {
          "autoexec": {
            "startup": false,
            "wait_interval": 0
          },
          "base_uri": "https://localhost:8080/",
          "height": 517
        },
        "outputId": "b2dae447-15e7-438e-ec3b-d47eb8ec0962",
        "executionInfo": {
          "status": "ok",
          "timestamp": 1524859581026,
          "user_tz": 300,
          "elapsed": 679,
          "user": {
            "displayName": "",
            "photoUrl": "",
            "userId": ""
          }
        }
      },
      "cell_type": "code",
      "source": [
        "# describe produces interesting statistics about a pandas DataFrame or Series\n",
        "print(titanic.describe(include=[np.number]))\n",
        "\n",
        "import matplotlib.pyplot as plt\n",
        "plt.plot(titanic['fare'],titanic['age'],'or')\n",
        "plt.axvline(titanic['fare'].mean(),color=\"grey\")"
      ],
      "execution_count": 0,
      "outputs": [
        {
          "output_type": "stream",
          "text": [
            "         survived      pclass         age       sibsp       parch        fare\n",
            "count  891.000000  891.000000  714.000000  891.000000  891.000000  891.000000\n",
            "mean     0.383838    2.308642   29.699118    0.523008    0.381594   32.204208\n",
            "std      0.486592    0.836071   14.526497    1.102743    0.806057   49.693429\n",
            "min      0.000000    1.000000    0.420000    0.000000    0.000000    0.000000\n",
            "25%      0.000000    2.000000   20.125000    0.000000    0.000000    7.910400\n",
            "50%      0.000000    3.000000   28.000000    0.000000    0.000000   14.454200\n",
            "75%      1.000000    3.000000   38.000000    1.000000    0.000000   31.000000\n",
            "max      1.000000    3.000000   80.000000    8.000000    6.000000  512.329200\n"
          ],
          "name": "stdout"
        },
        {
          "output_type": "execute_result",
          "data": {
            "text/plain": [
              "<matplotlib.lines.Line2D at 0x7f40227590b8>"
            ]
          },
          "metadata": {
            "tags": []
          },
          "execution_count": 3
        },
        {
          "output_type": "display_data",
          "data": {
            "image/png": "[encoded data removed]",
            "text/plain": [
              "<matplotlib.figure.Figure at 0x7f4034b73588>"
            ]
          },
          "metadata": {
            "tags": []
          }
        }
      ]
    },
    {
      "metadata": {
        "id": "1c6gV5LejKcb",
        "colab_type": "text"
      },
      "cell_type": "markdown",
      "source": [
        "### OKCupid\n",
        "\n",
        "The OKCupid dataset is 150MB and needs to be downloaded to your Colab session before you can load it. It loads using the same command as the titanic."
      ]
    },
    {
      "metadata": {
        "id": "8e9v96QD9QsC",
        "colab_type": "code",
        "colab": {
          "autoexec": {
            "startup": false,
            "wait_interval": 0
          },
          "base_uri": "https://localhost:8080/",
          "height": 309
        },
        "outputId": "e1cb2a5f-246a-41d4-fee2-ecd96fbb1b2b",
        "executionInfo": {
          "status": "ok",
          "timestamp": 1524859591512,
          "user_tz": 300,
          "elapsed": 6525,
          "user": {
            "displayName": "",
            "photoUrl": "",
            "userId": ""
          }
        }
      },
      "cell_type": "code",
      "source": [
        "!wget https://www.dropbox.com/s/kurta6eazegc3su/JSE_OkCupid_profiles.csv?raw=1 -O /tmp/JSE_OkCupid_profiles.csv"
      ],
      "execution_count": 0,
      "outputs": [
        {
          "output_type": "stream",
          "text": [
            "--2018-04-27 20:06:26--  https://www.dropbox.com/s/kurta6eazegc3su/JSE_OkCupid_profiles.csv?raw=1\r\n",
            "Resolving www.dropbox.com (www.dropbox.com)... 162.125.7.1, 2620:100:6016:1::a27d:101\n",
            "Connecting to www.dropbox.com (www.dropbox.com)|162.125.7.1|:443... connected.\n",
            "HTTP request sent, awaiting response... 302 Found\n",
            "Location: https://dl.dropboxusercontent.com/content_link/4o4K5pzu89QtyE2qio40A7w2J58MhD1YhveIeC39YdqTTg06P8w7pfUYbKHGnhN2/file [following]\n",
            "--2018-04-27 20:06:26--  https://dl.dropboxusercontent.com/content_link/4o4K5pzu89QtyE2qio40A7w2J58MhD1YhveIeC39YdqTTg06P8w7pfUYbKHGnhN2/file\n",
            "Resolving dl.dropboxusercontent.com (dl.dropboxusercontent.com)... 162.125.7.6, 2620:100:601a:6::a27d:706\n",
            "Connecting to dl.dropboxusercontent.com (dl.dropboxusercontent.com)|162.125.7.6|:443... connected.\n",
            "HTTP request sent, awaiting response... 200 OK\n",
            "Length: 151614805 (145M) [text/csv]\n",
            "Saving to: ‘/tmp/JSE_OkCupid_profiles.csv’\n",
            "\n",
            "/tmp/JSE_OkCupid_pr 100%[===================>] 144.59M  37.6MB/s    in 3.8s    \n",
            "\n",
            "2018-04-27 20:06:31 (37.6 MB/s) - ‘/tmp/JSE_OkCupid_profiles.csv’ saved [151614805/151614805]\n",
            "\n"
          ],
          "name": "stdout"
        }
      ]
    },
    {
      "metadata": {
        "id": "9jKkl2Cy8ySu",
        "colab_type": "code",
        "colab": {
          "autoexec": {
            "startup": false,
            "wait_interval": 0
          },
          "base_uri": "https://localhost:8080/",
          "height": 170
        },
        "outputId": "17aad51f-3e7f-4d7c-9b7e-bf6dbba49116",
        "executionInfo": {
          "status": "ok",
          "timestamp": 1524859594537,
          "user_tz": 300,
          "elapsed": 2871,
          "user": {
            "displayName": "",
            "photoUrl": "",
            "userId": ""
          }
        }
      },
      "cell_type": "code",
      "source": [
        "okcupid = pd.read_csv('/tmp/JSE_OkCupid_profiles.csv')\n",
        "\n",
        "# almost 60000 individuals with 31 columns each\n",
        "print(okcupid.shape)\n",
        "\n",
        "# There are many more columns in OKCupid than titanic\n",
        "print(okcupid.columns)\n",
        "\n",
        "# The set of body_types \n",
        "print(okcupid.body_type.unique())"
      ],
      "execution_count": 0,
      "outputs": [
        {
          "output_type": "stream",
          "text": [
            "(59946, 31)\n",
            "Index(['age', 'body_type', 'diet', 'drinks', 'drugs', 'education', 'essay0',\n",
            "       'essay1', 'essay2', 'essay3', 'essay4', 'essay5', 'essay6', 'essay7',\n",
            "       'essay8', 'essay9', 'ethnicity', 'height', 'income', 'job',\n",
            "       'last_online', 'location', 'offspring', 'orientation', 'pets',\n",
            "       'religion', 'sex', 'sign', 'smokes', 'speaks', 'status'],\n",
            "      dtype='object')\n",
            "['a little extra' 'average' 'thin' 'athletic' 'fit' nan 'skinny' 'curvy'\n",
            " 'full figured' 'jacked' 'rather not say' 'used up' 'overweight']\n"
          ],
          "name": "stdout"
        }
      ]
    },
    {
      "metadata": {
        "id": "C_uI8e20_TVo",
        "colab_type": "code",
        "colab": {
          "autoexec": {
            "startup": false,
            "wait_interval": 0
          },
          "base_uri": "https://localhost:8080/",
          "height": 544
        },
        "outputId": "00cac367-d8e6-4b72-983d-1cd97494b129",
        "executionInfo": {
          "status": "ok",
          "timestamp": 1524859598657,
          "user_tz": 300,
          "elapsed": 761,
          "user": {
            "displayName": "",
            "photoUrl": "",
            "userId": ""
          }
        }
      },
      "cell_type": "code",
      "source": [
        "# The number of unique entries for each column\n",
        "for column in okcupid.columns:\n",
        "  print(column, okcupid[column].unique().size)"
      ],
      "execution_count": 0,
      "outputs": [
        {
          "output_type": "stream",
          "text": [
            "age 54\n",
            "body_type 13\n",
            "diet 19\n",
            "drinks 7\n",
            "drugs 4\n",
            "education 33\n",
            "essay0 54351\n",
            "essay1 51517\n",
            "essay2 48636\n",
            "essay3 43534\n",
            "essay4 49261\n",
            "essay5 48964\n",
            "essay6 43604\n",
            "essay7 45555\n",
            "essay8 39325\n",
            "essay9 45444\n",
            "ethnicity 218\n",
            "height 61\n",
            "income 13\n",
            "job 22\n",
            "last_online 30123\n",
            "location 199\n",
            "offspring 16\n",
            "orientation 3\n",
            "pets 16\n",
            "religion 46\n",
            "sex 2\n",
            "sign 49\n",
            "smokes 6\n",
            "speaks 7648\n",
            "status 5\n"
          ],
          "name": "stdout"
        }
      ]
    },
    {
      "metadata": {
        "id": "Tk9Wgi3GDdHz",
        "colab_type": "code",
        "colab": {
          "autoexec": {
            "startup": false,
            "wait_interval": 0
          },
          "base_uri": "https://localhost:8080/",
          "height": 595
        },
        "outputId": "9a7e3109-1acf-4a04-8f7e-b88639bb8990",
        "executionInfo": {
          "status": "ok",
          "timestamp": 1524859604806,
          "user_tz": 300,
          "elapsed": 531,
          "user": {
            "displayName": "",
            "photoUrl": "",
            "userId": ""
          }
        }
      },
      "cell_type": "code",
      "source": [
        "print(okcupid[1:10].isnull())"
      ],
      "execution_count": 0,
      "outputs": [
        {
          "output_type": "stream",
          "text": [
            "     age  body_type   diet  drinks  drugs  education  essay0  essay1  essay2  \\\n",
            "1  False      False  False   False  False      False   False   False   False   \n",
            "2  False      False  False   False   True      False   False   False   False   \n",
            "3  False      False  False   False   True      False   False   False   False   \n",
            "4  False      False   True   False  False      False   False   False   False   \n",
            "5  False      False  False   False   True      False   False   False   False   \n",
            "6  False      False  False   False  False      False   False   False   False   \n",
            "7  False      False  False   False  False      False    True   False   False   \n",
            "8  False       True  False   False   True      False    True   False    True   \n",
            "9  False      False  False   False  False      False   False   False   False   \n",
            "\n",
            "   essay3   ...    location  offspring  orientation   pets  religion    sex  \\\n",
            "1    True   ...       False      False        False  False     False  False   \n",
            "2   False   ...       False       True        False  False      True  False   \n",
            "3   False   ...       False      False        False  False      True  False   \n",
            "4   False   ...       False       True        False  False      True  False   \n",
            "5   False   ...       False      False        False  False     False  False   \n",
            "6   False   ...       False       True        False  False      True  False   \n",
            "7   False   ...       False      False        False  False     False  False   \n",
            "8   False   ...       False      False        False  False     False  False   \n",
            "9   False   ...       False       True        False  False     False  False   \n",
            "\n",
            "    sign  smokes  speaks  status  \n",
            "1  False   False   False   False  \n",
            "2  False   False   False   False  \n",
            "3  False   False   False   False  \n",
            "4  False   False   False   False  \n",
            "5  False   False   False   False  \n",
            "6  False    True   False   False  \n",
            "7  False   False   False   False  \n",
            "8  False   False   False   False  \n",
            "9  False   False   False   False  \n",
            "\n",
            "[9 rows x 31 columns]\n"
          ],
          "name": "stdout"
        }
      ]
    },
    {
      "metadata": {
        "id": "59Qnyj9bkUhE",
        "colab_type": "text"
      },
      "cell_type": "markdown",
      "source": [
        "### Duplicates\n",
        "\n",
        "There are no duplicates in OKCupid and 107 titanic duplicates."
      ]
    },
    {
      "metadata": {
        "id": "5Cr0C2rWEsbQ",
        "colab_type": "code",
        "colab": {
          "autoexec": {
            "startup": false,
            "wait_interval": 0
          },
          "base_uri": "https://localhost:8080/",
          "height": 51
        },
        "outputId": "b3e889be-749d-4162-cc30-8df2cf6eb51e",
        "executionInfo": {
          "status": "ok",
          "timestamp": 1524859622548,
          "user_tz": 300,
          "elapsed": 746,
          "user": {
            "displayName": "",
            "photoUrl": "",
            "userId": ""
          }
        }
      },
      "cell_type": "code",
      "source": [
        "print(okcupid.duplicated().sum())\n",
        "print(titanic.duplicated().sum())"
      ],
      "execution_count": 0,
      "outputs": [
        {
          "output_type": "stream",
          "text": [
            "0\n",
            "107\n"
          ],
          "name": "stdout"
        }
      ]
    },
    {
      "metadata": {
        "id": "87kUO0AppxKK",
        "colab_type": "text"
      },
      "cell_type": "markdown",
      "source": [
        "## Instructions\n",
        "\n",
        "Titanic contains 891 records with 107 duplicates. The final table should contain 784 records. The titanic dataset is also full of  redudant columns: `survived : alive`, `sex : who : adult_male`, which can be identified if they are truly redundant and can be removed if so.\n",
        "\n",
        "The OKCupid dataset has ~60k records. There are 31 columns that match many of the features (importantly age/sex) in the titanic set.\n",
        "\n",
        "Update each row of the titanic dataset to contain OKCupid data that matches in demographic information. Select a few columns from the OKCUpid dataset to transfer to the titanic dataset as well to increase the personality of each entry. Do not move the extremely long written records in the OKCupid dataset as part of this process. Those records will be useful later for NLP and text mining.\n",
        "\n",
        "_Document and justify your decisions!_"
      ]
    },
    {
      "metadata": {
        "id": "Otgysupmt4z0",
        "colab_type": "code",
        "colab": {
          "autoexec": {
            "startup": false,
            "wait_interval": 0
          },
          "base_uri": "https://localhost:8080/",
          "height": 34
        },
        "outputId": "32939131-9b90-4759-e942-84ffad6f8c8c",
        "executionInfo": {
          "status": "ok",
          "timestamp": 1524859687087,
          "user_tz": 300,
          "elapsed": 356,
          "user": {
            "displayName": "",
            "photoUrl": "",
            "userId": ""
          }
        }
      },
      "cell_type": "code",
      "source": [
        "titanic.shape"
      ],
      "execution_count": 0,
      "outputs": [
        {
          "output_type": "execute_result",
          "data": {
            "text/plain": [
              "(891, 15)"
            ]
          },
          "metadata": {
            "tags": []
          },
          "execution_count": 9
        }
      ]
    },
    {
      "metadata": {
        "id": "T5ajxFkuuFvB",
        "colab_type": "code",
        "colab": {
          "autoexec": {
            "startup": false,
            "wait_interval": 0
          },
          "base_uri": "https://localhost:8080/",
          "height": 34
        },
        "outputId": "bc43adf5-6b91-4206-ec39-868e3d3ecddd",
        "executionInfo": {
          "status": "ok",
          "timestamp": 1524859701700,
          "user_tz": 300,
          "elapsed": 689,
          "user": {
            "displayName": "",
            "photoUrl": "",
            "userId": ""
          }
        }
      },
      "cell_type": "code",
      "source": [
        "titanic = titanic.drop_duplicates()\n",
        "titanic.shape"
      ],
      "execution_count": 0,
      "outputs": [
        {
          "output_type": "execute_result",
          "data": {
            "text/plain": [
              "(784, 15)"
            ]
          },
          "metadata": {
            "tags": []
          },
          "execution_count": 10
        }
      ]
    },
    {
      "metadata": {
        "id": "j335dmgmuLw6",
        "colab_type": "code",
        "colab": {
          "autoexec": {
            "startup": false,
            "wait_interval": 0
          },
          "base_uri": "https://localhost:8080/",
          "height": 204
        },
        "outputId": "3d43260e-9826-4c1d-a456-594453d33f07",
        "executionInfo": {
          "status": "ok",
          "timestamp": 1524859718124,
          "user_tz": 300,
          "elapsed": 361,
          "user": {
            "displayName": "",
            "photoUrl": "",
            "userId": ""
          }
        }
      },
      "cell_type": "code",
      "source": [
        "# Axis=1 tells .drop that these are column labels\n",
        "titanic1 = titanic.drop(['pclass', 'alive', 'adult_male', 'who', 'embarked'], axis=1)\n",
        "titanic1.head()"
      ],
      "execution_count": 0,
      "outputs": [
        {
          "output_type": "execute_result",
          "data": {
            "text/html": [
              "<div>\n",
              "<style scoped>\n",
              "    .dataframe tbody tr th:only-of-type {\n",
              "        vertical-align: middle;\n",
              "    }\n",
              "\n",
              "    .dataframe tbody tr th {\n",
              "        vertical-align: top;\n",
              "    }\n",
              "\n",
              "    .dataframe thead th {\n",
              "        text-align: right;\n",
              "    }\n",
              "</style>\n",
              "<table border=\"1\" class=\"dataframe\">\n",
              "  <thead>\n",
              "    <tr style=\"text-align: right;\">\n",
              "      <th></th>\n",
              "      <th>survived</th>\n",
              "      <th>sex</th>\n",
              "      <th>age</th>\n",
              "      <th>sibsp</th>\n",
              "      <th>parch</th>\n",
              "      <th>fare</th>\n",
              "      <th>class</th>\n",
              "      <th>deck</th>\n",
              "      <th>embark_town</th>\n",
              "      <th>alone</th>\n",
              "    </tr>\n",
              "  </thead>\n",
              "  <tbody>\n",
              "    <tr>\n",
              "      <th>0</th>\n",
              "      <td>0</td>\n",
              "      <td>male</td>\n",
              "      <td>22.0</td>\n",
              "      <td>1</td>\n",
              "      <td>0</td>\n",
              "      <td>7.2500</td>\n",
              "      <td>Third</td>\n",
              "      <td>NaN</td>\n",
              "      <td>Southampton</td>\n",
              "      <td>False</td>\n",
              "    </tr>\n",
              "    <tr>\n",
              "      <th>1</th>\n",
              "      <td>1</td>\n",
              "      <td>female</td>\n",
              "      <td>38.0</td>\n",
              "      <td>1</td>\n",
              "      <td>0</td>\n",
              "      <td>71.2833</td>\n",
              "      <td>First</td>\n",
              "      <td>C</td>\n",
              "      <td>Cherbourg</td>\n",
              "      <td>False</td>\n",
              "    </tr>\n",
              "    <tr>\n",
              "      <th>2</th>\n",
              "      <td>1</td>\n",
              "      <td>female</td>\n",
              "      <td>26.0</td>\n",
              "      <td>0</td>\n",
              "      <td>0</td>\n",
              "      <td>7.9250</td>\n",
              "      <td>Third</td>\n",
              "      <td>NaN</td>\n",
              "      <td>Southampton</td>\n",
              "      <td>True</td>\n",
              "    </tr>\n",
              "    <tr>\n",
              "      <th>3</th>\n",
              "      <td>1</td>\n",
              "      <td>female</td>\n",
              "      <td>35.0</td>\n",
              "      <td>1</td>\n",
              "      <td>0</td>\n",
              "      <td>53.1000</td>\n",
              "      <td>First</td>\n",
              "      <td>C</td>\n",
              "      <td>Southampton</td>\n",
              "      <td>False</td>\n",
              "    </tr>\n",
              "    <tr>\n",
              "      <th>4</th>\n",
              "      <td>0</td>\n",
              "      <td>male</td>\n",
              "      <td>35.0</td>\n",
              "      <td>0</td>\n",
              "      <td>0</td>\n",
              "      <td>8.0500</td>\n",
              "      <td>Third</td>\n",
              "      <td>NaN</td>\n",
              "      <td>Southampton</td>\n",
              "      <td>True</td>\n",
              "    </tr>\n",
              "  </tbody>\n",
              "</table>\n",
              "</div>"
            ],
            "text/plain": [
              "   survived     sex   age  sibsp  parch     fare  class deck  embark_town  \\\n",
              "0         0    male  22.0      1      0   7.2500  Third  NaN  Southampton   \n",
              "1         1  female  38.0      1      0  71.2833  First    C    Cherbourg   \n",
              "2         1  female  26.0      0      0   7.9250  Third  NaN  Southampton   \n",
              "3         1  female  35.0      1      0  53.1000  First    C  Southampton   \n",
              "4         0    male  35.0      0      0   8.0500  Third  NaN  Southampton   \n",
              "\n",
              "   alone  \n",
              "0  False  \n",
              "1  False  \n",
              "2   True  \n",
              "3  False  \n",
              "4   True  "
            ]
          },
          "metadata": {
            "tags": []
          },
          "execution_count": 11
        }
      ]
    },
    {
      "metadata": {
        "id": "IIUzFkUIuWx9",
        "colab_type": "code",
        "colab": {
          "autoexec": {
            "startup": false,
            "wait_interval": 0
          },
          "base_uri": "https://localhost:8080/",
          "height": 1969
        },
        "outputId": "c53d0c96-16c6-4c6f-de33-4ed4aaf3941d",
        "executionInfo": {
          "status": "ok",
          "timestamp": 1524859763046,
          "user_tz": 300,
          "elapsed": 404,
          "user": {
            "displayName": "",
            "photoUrl": "",
            "userId": ""
          }
        }
      },
      "cell_type": "code",
      "source": [
        "titanic1.isnull()"
      ],
      "execution_count": 0,
      "outputs": [
        {
          "output_type": "execute_result",
          "data": {
            "text/html": [
              "<div>\n",
              "<style scoped>\n",
              "    .dataframe tbody tr th:only-of-type {\n",
              "        vertical-align: middle;\n",
              "    }\n",
              "\n",
              "    .dataframe tbody tr th {\n",
              "        vertical-align: top;\n",
              "    }\n",
              "\n",
              "    .dataframe thead th {\n",
              "        text-align: right;\n",
              "    }\n",
              "</style>\n",
              "<table border=\"1\" class=\"dataframe\">\n",
              "  <thead>\n",
              "    <tr style=\"text-align: right;\">\n",
              "      <th></th>\n",
              "      <th>survived</th>\n",
              "      <th>sex</th>\n",
              "      <th>age</th>\n",
              "      <th>sibsp</th>\n",
              "      <th>parch</th>\n",
              "      <th>fare</th>\n",
              "      <th>class</th>\n",
              "      <th>deck</th>\n",
              "      <th>embark_town</th>\n",
              "      <th>alone</th>\n",
              "    </tr>\n",
              "  </thead>\n",
              "  <tbody>\n",
              "    <tr>\n",
              "      <th>0</th>\n",
              "      <td>False</td>\n",
              "      <td>False</td>\n",
              "      <td>False</td>\n",
              "      <td>False</td>\n",
              "      <td>False</td>\n",
              "      <td>False</td>\n",
              "      <td>False</td>\n",
              "      <td>True</td>\n",
              "      <td>False</td>\n",
              "      <td>False</td>\n",
              "    </tr>\n",
              "    <tr>\n",
              "      <th>1</th>\n",
              "      <td>False</td>\n",
              "      <td>False</td>\n",
              "      <td>False</td>\n",
              "      <td>False</td>\n",
              "      <td>False</td>\n",
              "      <td>False</td>\n",
              "      <td>False</td>\n",
              "      <td>False</td>\n",
              "      <td>False</td>\n",
              "      <td>False</td>\n",
              "    </tr>\n",
              "    <tr>\n",
              "      <th>2</th>\n",
              "      <td>False</td>\n",
              "      <td>False</td>\n",
              "      <td>False</td>\n",
              "      <td>False</td>\n",
              "      <td>False</td>\n",
              "      <td>False</td>\n",
              "      <td>False</td>\n",
              "      <td>True</td>\n",
              "      <td>False</td>\n",
              "      <td>False</td>\n",
              "    </tr>\n",
              "    <tr>\n",
              "      <th>3</th>\n",
              "      <td>False</td>\n",
              "      <td>False</td>\n",
              "      <td>False</td>\n",
              "      <td>False</td>\n",
              "      <td>False</td>\n",
              "      <td>False</td>\n",
              "      <td>False</td>\n",
              "      <td>False</td>\n",
              "      <td>False</td>\n",
              "      <td>False</td>\n",
              "    </tr>\n",
              "    <tr>\n",
              "      <th>4</th>\n",
              "      <td>False</td>\n",
              "      <td>False</td>\n",
              "      <td>False</td>\n",
              "      <td>False</td>\n",
              "      <td>False</td>\n",
              "      <td>False</td>\n",
              "      <td>False</td>\n",
              "      <td>True</td>\n",
              "      <td>False</td>\n",
              "      <td>False</td>\n",
              "    </tr>\n",
              "    <tr>\n",
              "      <th>5</th>\n",
              "      <td>False</td>\n",
              "      <td>False</td>\n",
              "      <td>True</td>\n",
              "      <td>False</td>\n",
              "      <td>False</td>\n",
              "      <td>False</td>\n",
              "      <td>False</td>\n",
              "      <td>True</td>\n",
              "      <td>False</td>\n",
              "      <td>False</td>\n",
              "    </tr>\n",
              "    <tr>\n",
              "      <th>6</th>\n",
              "      <td>False</td>\n",
              "      <td>False</td>\n",
              "      <td>False</td>\n",
              "      <td>False</td>\n",
              "      <td>False</td>\n",
              "      <td>False</td>\n",
              "      <td>False</td>\n",
              "      <td>False</td>\n",
              "      <td>False</td>\n",
              "      <td>False</td>\n",
              "    </tr>\n",
              "    <tr>\n",
              "      <th>7</th>\n",
              "      <td>False</td>\n",
              "      <td>False</td>\n",
              "      <td>False</td>\n",
              "      <td>False</td>\n",
              "      <td>False</td>\n",
              "      <td>False</td>\n",
              "      <td>False</td>\n",
              "      <td>True</td>\n",
              "      <td>False</td>\n",
              "      <td>False</td>\n",
              "    </tr>\n",
              "    <tr>\n",
              "      <th>8</th>\n",
              "      <td>False</td>\n",
              "      <td>False</td>\n",
              "      <td>False</td>\n",
              "      <td>False</td>\n",
              "      <td>False</td>\n",
              "      <td>False</td>\n",
              "      <td>False</td>\n",
              "      <td>True</td>\n",
              "      <td>False</td>\n",
              "      <td>False</td>\n",
              "    </tr>\n",
              "    <tr>\n",
              "      <th>9</th>\n",
              "      <td>False</td>\n",
              "      <td>False</td>\n",
              "      <td>False</td>\n",
              "      <td>False</td>\n",
              "      <td>False</td>\n",
              "      <td>False</td>\n",
              "      <td>False</td>\n",
              "      <td>True</td>\n",
              "      <td>False</td>\n",
              "      <td>False</td>\n",
              "    </tr>\n",
              "    <tr>\n",
              "      <th>10</th>\n",
              "      <td>False</td>\n",
              "      <td>False</td>\n",
              "      <td>False</td>\n",
              "      <td>False</td>\n",
              "      <td>False</td>\n",
              "      <td>False</td>\n",
              "      <td>False</td>\n",
              "      <td>False</td>\n",
              "      <td>False</td>\n",
              "      <td>False</td>\n",
              "    </tr>\n",
              "    <tr>\n",
              "      <th>11</th>\n",
              "      <td>False</td>\n",
              "      <td>False</td>\n",
              "      <td>False</td>\n",
              "      <td>False</td>\n",
              "      <td>False</td>\n",
              "      <td>False</td>\n",
              "      <td>False</td>\n",
              "      <td>False</td>\n",
              "      <td>False</td>\n",
              "      <td>False</td>\n",
              "    </tr>\n",
              "    <tr>\n",
              "      <th>12</th>\n",
              "      <td>False</td>\n",
              "      <td>False</td>\n",
              "      <td>False</td>\n",
              "      <td>False</td>\n",
              "      <td>False</td>\n",
              "      <td>False</td>\n",
              "      <td>False</td>\n",
              "      <td>True</td>\n",
              "      <td>False</td>\n",
              "      <td>False</td>\n",
              "    </tr>\n",
              "    <tr>\n",
              "      <th>13</th>\n",
              "      <td>False</td>\n",
              "      <td>False</td>\n",
              "      <td>False</td>\n",
              "      <td>False</td>\n",
              "      <td>False</td>\n",
              "      <td>False</td>\n",
              "      <td>False</td>\n",
              "      <td>True</td>\n",
              "      <td>False</td>\n",
              "      <td>False</td>\n",
              "    </tr>\n",
              "    <tr>\n",
              "      <th>14</th>\n",
              "      <td>False</td>\n",
              "      <td>False</td>\n",
              "      <td>False</td>\n",
              "      <td>False</td>\n",
              "      <td>False</td>\n",
              "      <td>False</td>\n",
              "      <td>False</td>\n",
              "      <td>True</td>\n",
              "      <td>False</td>\n",
              "      <td>False</td>\n",
              "    </tr>\n",
              "    <tr>\n",
              "      <th>15</th>\n",
              "      <td>False</td>\n",
              "      <td>False</td>\n",
              "      <td>False</td>\n",
              "      <td>False</td>\n",
              "      <td>False</td>\n",
              "      <td>False</td>\n",
              "      <td>False</td>\n",
              "      <td>True</td>\n",
              "      <td>False</td>\n",
              "      <td>False</td>\n",
              "    </tr>\n",
              "    <tr>\n",
              "      <th>16</th>\n",
              "      <td>False</td>\n",
              "      <td>False</td>\n",
              "      <td>False</td>\n",
              "      <td>False</td>\n",
              "      <td>False</td>\n",
              "      <td>False</td>\n",
              "      <td>False</td>\n",
              "      <td>True</td>\n",
              "      <td>False</td>\n",
              "      <td>False</td>\n",
              "    </tr>\n",
              "    <tr>\n",
              "      <th>17</th>\n",
              "      <td>False</td>\n",
              "      <td>False</td>\n",
              "      <td>True</td>\n",
              "      <td>False</td>\n",
              "      <td>False</td>\n",
              "      <td>False</td>\n",
              "      <td>False</td>\n",
              "      <td>True</td>\n",
              "      <td>False</td>\n",
              "      <td>False</td>\n",
              "    </tr>\n",
              "    <tr>\n",
              "      <th>18</th>\n",
              "      <td>False</td>\n",
              "      <td>False</td>\n",
              "      <td>False</td>\n",
              "      <td>False</td>\n",
              "      <td>False</td>\n",
              "      <td>False</td>\n",
              "      <td>False</td>\n",
              "      <td>True</td>\n",
              "      <td>False</td>\n",
              "      <td>False</td>\n",
              "    </tr>\n",
              "    <tr>\n",
              "      <th>19</th>\n",
              "      <td>False</td>\n",
              "      <td>False</td>\n",
              "      <td>True</td>\n",
              "      <td>False</td>\n",
              "      <td>False</td>\n",
              "      <td>False</td>\n",
              "      <td>False</td>\n",
              "      <td>True</td>\n",
              "      <td>False</td>\n",
              "      <td>False</td>\n",
              "    </tr>\n",
              "    <tr>\n",
              "      <th>20</th>\n",
              "      <td>False</td>\n",
              "      <td>False</td>\n",
              "      <td>False</td>\n",
              "      <td>False</td>\n",
              "      <td>False</td>\n",
              "      <td>False</td>\n",
              "      <td>False</td>\n",
              "      <td>True</td>\n",
              "      <td>False</td>\n",
              "      <td>False</td>\n",
              "    </tr>\n",
              "    <tr>\n",
              "      <th>21</th>\n",
              "      <td>False</td>\n",
              "      <td>False</td>\n",
              "      <td>False</td>\n",
              "      <td>False</td>\n",
              "      <td>False</td>\n",
              "      <td>False</td>\n",
              "      <td>False</td>\n",
              "      <td>False</td>\n",
              "      <td>False</td>\n",
              "      <td>False</td>\n",
              "    </tr>\n",
              "    <tr>\n",
              "      <th>22</th>\n",
              "      <td>False</td>\n",
              "      <td>False</td>\n",
              "      <td>False</td>\n",
              "      <td>False</td>\n",
              "      <td>False</td>\n",
              "      <td>False</td>\n",
              "      <td>False</td>\n",
              "      <td>True</td>\n",
              "      <td>False</td>\n",
              "      <td>False</td>\n",
              "    </tr>\n",
              "    <tr>\n",
              "      <th>23</th>\n",
              "      <td>False</td>\n",
              "      <td>False</td>\n",
              "      <td>False</td>\n",
              "      <td>False</td>\n",
              "      <td>False</td>\n",
              "      <td>False</td>\n",
              "      <td>False</td>\n",
              "      <td>False</td>\n",
              "      <td>False</td>\n",
              "      <td>False</td>\n",
              "    </tr>\n",
              "    <tr>\n",
              "      <th>24</th>\n",
              "      <td>False</td>\n",
              "      <td>False</td>\n",
              "      <td>False</td>\n",
              "      <td>False</td>\n",
              "      <td>False</td>\n",
              "      <td>False</td>\n",
              "      <td>False</td>\n",
              "      <td>True</td>\n",
              "      <td>False</td>\n",
              "      <td>False</td>\n",
              "    </tr>\n",
              "    <tr>\n",
              "      <th>25</th>\n",
              "      <td>False</td>\n",
              "      <td>False</td>\n",
              "      <td>False</td>\n",
              "      <td>False</td>\n",
              "      <td>False</td>\n",
              "      <td>False</td>\n",
              "      <td>False</td>\n",
              "      <td>True</td>\n",
              "      <td>False</td>\n",
              "      <td>False</td>\n",
              "    </tr>\n",
              "    <tr>\n",
              "      <th>26</th>\n",
              "      <td>False</td>\n",
              "      <td>False</td>\n",
              "      <td>True</td>\n",
              "      <td>False</td>\n",
              "      <td>False</td>\n",
              "      <td>False</td>\n",
              "      <td>False</td>\n",
              "      <td>True</td>\n",
              "      <td>False</td>\n",
              "      <td>False</td>\n",
              "    </tr>\n",
              "    <tr>\n",
              "      <th>27</th>\n",
              "      <td>False</td>\n",
              "      <td>False</td>\n",
              "      <td>False</td>\n",
              "      <td>False</td>\n",
              "      <td>False</td>\n",
              "      <td>False</td>\n",
              "      <td>False</td>\n",
              "      <td>False</td>\n",
              "      <td>False</td>\n",
              "      <td>False</td>\n",
              "    </tr>\n",
              "    <tr>\n",
              "      <th>28</th>\n",
              "      <td>False</td>\n",
              "      <td>False</td>\n",
              "      <td>True</td>\n",
              "      <td>False</td>\n",
              "      <td>False</td>\n",
              "      <td>False</td>\n",
              "      <td>False</td>\n",
              "      <td>True</td>\n",
              "      <td>False</td>\n",
              "      <td>False</td>\n",
              "    </tr>\n",
              "    <tr>\n",
              "      <th>29</th>\n",
              "      <td>False</td>\n",
              "      <td>False</td>\n",
              "      <td>True</td>\n",
              "      <td>False</td>\n",
              "      <td>False</td>\n",
              "      <td>False</td>\n",
              "      <td>False</td>\n",
              "      <td>True</td>\n",
              "      <td>False</td>\n",
              "      <td>False</td>\n",
              "    </tr>\n",
              "    <tr>\n",
              "      <th>...</th>\n",
              "      <td>...</td>\n",
              "      <td>...</td>\n",
              "      <td>...</td>\n",
              "      <td>...</td>\n",
              "      <td>...</td>\n",
              "      <td>...</td>\n",
              "      <td>...</td>\n",
              "      <td>...</td>\n",
              "      <td>...</td>\n",
              "      <td>...</td>\n",
              "    </tr>\n",
              "    <tr>\n",
              "      <th>854</th>\n",
              "      <td>False</td>\n",
              "      <td>False</td>\n",
              "      <td>False</td>\n",
              "      <td>False</td>\n",
              "      <td>False</td>\n",
              "      <td>False</td>\n",
              "      <td>False</td>\n",
              "      <td>True</td>\n",
              "      <td>False</td>\n",
              "      <td>False</td>\n",
              "    </tr>\n",
              "    <tr>\n",
              "      <th>855</th>\n",
              "      <td>False</td>\n",
              "      <td>False</td>\n",
              "      <td>False</td>\n",
              "      <td>False</td>\n",
              "      <td>False</td>\n",
              "      <td>False</td>\n",
              "      <td>False</td>\n",
              "      <td>True</td>\n",
              "      <td>False</td>\n",
              "      <td>False</td>\n",
              "    </tr>\n",
              "    <tr>\n",
              "      <th>856</th>\n",
              "      <td>False</td>\n",
              "      <td>False</td>\n",
              "      <td>False</td>\n",
              "      <td>False</td>\n",
              "      <td>False</td>\n",
              "      <td>False</td>\n",
              "      <td>False</td>\n",
              "      <td>True</td>\n",
              "      <td>False</td>\n",
              "      <td>False</td>\n",
              "    </tr>\n",
              "    <tr>\n",
              "      <th>857</th>\n",
              "      <td>False</td>\n",
              "      <td>False</td>\n",
              "      <td>False</td>\n",
              "      <td>False</td>\n",
              "      <td>False</td>\n",
              "      <td>False</td>\n",
              "      <td>False</td>\n",
              "      <td>False</td>\n",
              "      <td>False</td>\n",
              "      <td>False</td>\n",
              "    </tr>\n",
              "    <tr>\n",
              "      <th>858</th>\n",
              "      <td>False</td>\n",
              "      <td>False</td>\n",
              "      <td>False</td>\n",
              "      <td>False</td>\n",
              "      <td>False</td>\n",
              "      <td>False</td>\n",
              "      <td>False</td>\n",
              "      <td>True</td>\n",
              "      <td>False</td>\n",
              "      <td>False</td>\n",
              "    </tr>\n",
              "    <tr>\n",
              "      <th>860</th>\n",
              "      <td>False</td>\n",
              "      <td>False</td>\n",
              "      <td>False</td>\n",
              "      <td>False</td>\n",
              "      <td>False</td>\n",
              "      <td>False</td>\n",
              "      <td>False</td>\n",
              "      <td>True</td>\n",
              "      <td>False</td>\n",
              "      <td>False</td>\n",
              "    </tr>\n",
              "    <tr>\n",
              "      <th>861</th>\n",
              "      <td>False</td>\n",
              "      <td>False</td>\n",
              "      <td>False</td>\n",
              "      <td>False</td>\n",
              "      <td>False</td>\n",
              "      <td>False</td>\n",
              "      <td>False</td>\n",
              "      <td>True</td>\n",
              "      <td>False</td>\n",
              "      <td>False</td>\n",
              "    </tr>\n",
              "    <tr>\n",
              "      <th>862</th>\n",
              "      <td>False</td>\n",
              "      <td>False</td>\n",
              "      <td>False</td>\n",
              "      <td>False</td>\n",
              "      <td>False</td>\n",
              "      <td>False</td>\n",
              "      <td>False</td>\n",
              "      <td>False</td>\n",
              "      <td>False</td>\n",
              "      <td>False</td>\n",
              "    </tr>\n",
              "    <tr>\n",
              "      <th>864</th>\n",
              "      <td>False</td>\n",
              "      <td>False</td>\n",
              "      <td>False</td>\n",
              "      <td>False</td>\n",
              "      <td>False</td>\n",
              "      <td>False</td>\n",
              "      <td>False</td>\n",
              "      <td>True</td>\n",
              "      <td>False</td>\n",
              "      <td>False</td>\n",
              "    </tr>\n",
              "    <tr>\n",
              "      <th>865</th>\n",
              "      <td>False</td>\n",
              "      <td>False</td>\n",
              "      <td>False</td>\n",
              "      <td>False</td>\n",
              "      <td>False</td>\n",
              "      <td>False</td>\n",
              "      <td>False</td>\n",
              "      <td>True</td>\n",
              "      <td>False</td>\n",
              "      <td>False</td>\n",
              "    </tr>\n",
              "    <tr>\n",
              "      <th>866</th>\n",
              "      <td>False</td>\n",
              "      <td>False</td>\n",
              "      <td>False</td>\n",
              "      <td>False</td>\n",
              "      <td>False</td>\n",
              "      <td>False</td>\n",
              "      <td>False</td>\n",
              "      <td>True</td>\n",
              "      <td>False</td>\n",
              "      <td>False</td>\n",
              "    </tr>\n",
              "    <tr>\n",
              "      <th>867</th>\n",
              "      <td>False</td>\n",
              "      <td>False</td>\n",
              "      <td>False</td>\n",
              "      <td>False</td>\n",
              "      <td>False</td>\n",
              "      <td>False</td>\n",
              "      <td>False</td>\n",
              "      <td>False</td>\n",
              "      <td>False</td>\n",
              "      <td>False</td>\n",
              "    </tr>\n",
              "    <tr>\n",
              "      <th>868</th>\n",
              "      <td>False</td>\n",
              "      <td>False</td>\n",
              "      <td>True</td>\n",
              "      <td>False</td>\n",
              "      <td>False</td>\n",
              "      <td>False</td>\n",
              "      <td>False</td>\n",
              "      <td>True</td>\n",
              "      <td>False</td>\n",
              "      <td>False</td>\n",
              "    </tr>\n",
              "    <tr>\n",
              "      <th>869</th>\n",
              "      <td>False</td>\n",
              "      <td>False</td>\n",
              "      <td>False</td>\n",
              "      <td>False</td>\n",
              "      <td>False</td>\n",
              "      <td>False</td>\n",
              "      <td>False</td>\n",
              "      <td>True</td>\n",
              "      <td>False</td>\n",
              "      <td>False</td>\n",
              "    </tr>\n",
              "    <tr>\n",
              "      <th>871</th>\n",
              "      <td>False</td>\n",
              "      <td>False</td>\n",
              "      <td>False</td>\n",
              "      <td>False</td>\n",
              "      <td>False</td>\n",
              "      <td>False</td>\n",
              "      <td>False</td>\n",
              "      <td>False</td>\n",
              "      <td>False</td>\n",
              "      <td>False</td>\n",
              "    </tr>\n",
              "    <tr>\n",
              "      <th>872</th>\n",
              "      <td>False</td>\n",
              "      <td>False</td>\n",
              "      <td>False</td>\n",
              "      <td>False</td>\n",
              "      <td>False</td>\n",
              "      <td>False</td>\n",
              "      <td>False</td>\n",
              "      <td>False</td>\n",
              "      <td>False</td>\n",
              "      <td>False</td>\n",
              "    </tr>\n",
              "    <tr>\n",
              "      <th>873</th>\n",
              "      <td>False</td>\n",
              "      <td>False</td>\n",
              "      <td>False</td>\n",
              "      <td>False</td>\n",
              "      <td>False</td>\n",
              "      <td>False</td>\n",
              "      <td>False</td>\n",
              "      <td>True</td>\n",
              "      <td>False</td>\n",
              "      <td>False</td>\n",
              "    </tr>\n",
              "    <tr>\n",
              "      <th>874</th>\n",
              "      <td>False</td>\n",
              "      <td>False</td>\n",
              "      <td>False</td>\n",
              "      <td>False</td>\n",
              "      <td>False</td>\n",
              "      <td>False</td>\n",
              "      <td>False</td>\n",
              "      <td>True</td>\n",
              "      <td>False</td>\n",
              "      <td>False</td>\n",
              "    </tr>\n",
              "    <tr>\n",
              "      <th>875</th>\n",
              "      <td>False</td>\n",
              "      <td>False</td>\n",
              "      <td>False</td>\n",
              "      <td>False</td>\n",
              "      <td>False</td>\n",
              "      <td>False</td>\n",
              "      <td>False</td>\n",
              "      <td>True</td>\n",
              "      <td>False</td>\n",
              "      <td>False</td>\n",
              "    </tr>\n",
              "    <tr>\n",
              "      <th>876</th>\n",
              "      <td>False</td>\n",
              "      <td>False</td>\n",
              "      <td>False</td>\n",
              "      <td>False</td>\n",
              "      <td>False</td>\n",
              "      <td>False</td>\n",
              "      <td>False</td>\n",
              "      <td>True</td>\n",
              "      <td>False</td>\n",
              "      <td>False</td>\n",
              "    </tr>\n",
              "    <tr>\n",
              "      <th>879</th>\n",
              "      <td>False</td>\n",
              "      <td>False</td>\n",
              "      <td>False</td>\n",
              "      <td>False</td>\n",
              "      <td>False</td>\n",
              "      <td>False</td>\n",
              "      <td>False</td>\n",
              "      <td>False</td>\n",
              "      <td>False</td>\n",
              "      <td>False</td>\n",
              "    </tr>\n",
              "    <tr>\n",
              "      <th>880</th>\n",
              "      <td>False</td>\n",
              "      <td>False</td>\n",
              "      <td>False</td>\n",
              "      <td>False</td>\n",
              "      <td>False</td>\n",
              "      <td>False</td>\n",
              "      <td>False</td>\n",
              "      <td>True</td>\n",
              "      <td>False</td>\n",
              "      <td>False</td>\n",
              "    </tr>\n",
              "    <tr>\n",
              "      <th>881</th>\n",
              "      <td>False</td>\n",
              "      <td>False</td>\n",
              "      <td>False</td>\n",
              "      <td>False</td>\n",
              "      <td>False</td>\n",
              "      <td>False</td>\n",
              "      <td>False</td>\n",
              "      <td>True</td>\n",
              "      <td>False</td>\n",
              "      <td>False</td>\n",
              "    </tr>\n",
              "    <tr>\n",
              "      <th>882</th>\n",
              "      <td>False</td>\n",
              "      <td>False</td>\n",
              "      <td>False</td>\n",
              "      <td>False</td>\n",
              "      <td>False</td>\n",
              "      <td>False</td>\n",
              "      <td>False</td>\n",
              "      <td>True</td>\n",
              "      <td>False</td>\n",
              "      <td>False</td>\n",
              "    </tr>\n",
              "    <tr>\n",
              "      <th>883</th>\n",
              "      <td>False</td>\n",
              "      <td>False</td>\n",
              "      <td>False</td>\n",
              "      <td>False</td>\n",
              "      <td>False</td>\n",
              "      <td>False</td>\n",
              "      <td>False</td>\n",
              "      <td>True</td>\n",
              "      <td>False</td>\n",
              "      <td>False</td>\n",
              "    </tr>\n",
              "    <tr>\n",
              "      <th>885</th>\n",
              "      <td>False</td>\n",
              "      <td>False</td>\n",
              "      <td>False</td>\n",
              "      <td>False</td>\n",
              "      <td>False</td>\n",
              "      <td>False</td>\n",
              "      <td>False</td>\n",
              "      <td>True</td>\n",
              "      <td>False</td>\n",
              "      <td>False</td>\n",
              "    </tr>\n",
              "    <tr>\n",
              "      <th>887</th>\n",
              "      <td>False</td>\n",
              "      <td>False</td>\n",
              "      <td>False</td>\n",
              "      <td>False</td>\n",
              "      <td>False</td>\n",
              "      <td>False</td>\n",
              "      <td>False</td>\n",
              "      <td>False</td>\n",
              "      <td>False</td>\n",
              "      <td>False</td>\n",
              "    </tr>\n",
              "    <tr>\n",
              "      <th>888</th>\n",
              "      <td>False</td>\n",
              "      <td>False</td>\n",
              "      <td>True</td>\n",
              "      <td>False</td>\n",
              "      <td>False</td>\n",
              "      <td>False</td>\n",
              "      <td>False</td>\n",
              "      <td>True</td>\n",
              "      <td>False</td>\n",
              "      <td>False</td>\n",
              "    </tr>\n",
              "    <tr>\n",
              "      <th>889</th>\n",
              "      <td>False</td>\n",
              "      <td>False</td>\n",
              "      <td>False</td>\n",
              "      <td>False</td>\n",
              "      <td>False</td>\n",
              "      <td>False</td>\n",
              "      <td>False</td>\n",
              "      <td>False</td>\n",
              "      <td>False</td>\n",
              "      <td>False</td>\n",
              "    </tr>\n",
              "    <tr>\n",
              "      <th>890</th>\n",
              "      <td>False</td>\n",
              "      <td>False</td>\n",
              "      <td>False</td>\n",
              "      <td>False</td>\n",
              "      <td>False</td>\n",
              "      <td>False</td>\n",
              "      <td>False</td>\n",
              "      <td>True</td>\n",
              "      <td>False</td>\n",
              "      <td>False</td>\n",
              "    </tr>\n",
              "  </tbody>\n",
              "</table>\n",
              "<p>784 rows × 10 columns</p>\n",
              "</div>"
            ],
            "text/plain": [
              "     survived    sex    age  sibsp  parch   fare  class   deck  embark_town  \\\n",
              "0       False  False  False  False  False  False  False   True        False   \n",
              "1       False  False  False  False  False  False  False  False        False   \n",
              "2       False  False  False  False  False  False  False   True        False   \n",
              "3       False  False  False  False  False  False  False  False        False   \n",
              "4       False  False  False  False  False  False  False   True        False   \n",
              "5       False  False   True  False  False  False  False   True        False   \n",
              "6       False  False  False  False  False  False  False  False        False   \n",
              "7       False  False  False  False  False  False  False   True        False   \n",
              "8       False  False  False  False  False  False  False   True        False   \n",
              "9       False  False  False  False  False  False  False   True        False   \n",
              "10      False  False  False  False  False  False  False  False        False   \n",
              "11      False  False  False  False  False  False  False  False        False   \n",
              "12      False  False  False  False  False  False  False   True        False   \n",
              "13      False  False  False  False  False  False  False   True        False   \n",
              "14      False  False  False  False  False  False  False   True        False   \n",
              "15      False  False  False  False  False  False  False   True        False   \n",
              "16      False  False  False  False  False  False  False   True        False   \n",
              "17      False  False   True  False  False  False  False   True        False   \n",
              "18      False  False  False  False  False  False  False   True        False   \n",
              "19      False  False   True  False  False  False  False   True        False   \n",
              "20      False  False  False  False  False  False  False   True        False   \n",
              "21      False  False  False  False  False  False  False  False        False   \n",
              "22      False  False  False  False  False  False  False   True        False   \n",
              "23      False  False  False  False  False  False  False  False        False   \n",
              "24      False  False  False  False  False  False  False   True        False   \n",
              "25      False  False  False  False  False  False  False   True        False   \n",
              "26      False  False   True  False  False  False  False   True        False   \n",
              "27      False  False  False  False  False  False  False  False        False   \n",
              "28      False  False   True  False  False  False  False   True        False   \n",
              "29      False  False   True  False  False  False  False   True        False   \n",
              "..        ...    ...    ...    ...    ...    ...    ...    ...          ...   \n",
              "854     False  False  False  False  False  False  False   True        False   \n",
              "855     False  False  False  False  False  False  False   True        False   \n",
              "856     False  False  False  False  False  False  False   True        False   \n",
              "857     False  False  False  False  False  False  False  False        False   \n",
              "858     False  False  False  False  False  False  False   True        False   \n",
              "860     False  False  False  False  False  False  False   True        False   \n",
              "861     False  False  False  False  False  False  False   True        False   \n",
              "862     False  False  False  False  False  False  False  False        False   \n",
              "864     False  False  False  False  False  False  False   True        False   \n",
              "865     False  False  False  False  False  False  False   True        False   \n",
              "866     False  False  False  False  False  False  False   True        False   \n",
              "867     False  False  False  False  False  False  False  False        False   \n",
              "868     False  False   True  False  False  False  False   True        False   \n",
              "869     False  False  False  False  False  False  False   True        False   \n",
              "871     False  False  False  False  False  False  False  False        False   \n",
              "872     False  False  False  False  False  False  False  False        False   \n",
              "873     False  False  False  False  False  False  False   True        False   \n",
              "874     False  False  False  False  False  False  False   True        False   \n",
              "875     False  False  False  False  False  False  False   True        False   \n",
              "876     False  False  False  False  False  False  False   True        False   \n",
              "879     False  False  False  False  False  False  False  False        False   \n",
              "880     False  False  False  False  False  False  False   True        False   \n",
              "881     False  False  False  False  False  False  False   True        False   \n",
              "882     False  False  False  False  False  False  False   True        False   \n",
              "883     False  False  False  False  False  False  False   True        False   \n",
              "885     False  False  False  False  False  False  False   True        False   \n",
              "887     False  False  False  False  False  False  False  False        False   \n",
              "888     False  False   True  False  False  False  False   True        False   \n",
              "889     False  False  False  False  False  False  False  False        False   \n",
              "890     False  False  False  False  False  False  False   True        False   \n",
              "\n",
              "     alone  \n",
              "0    False  \n",
              "1    False  \n",
              "2    False  \n",
              "3    False  \n",
              "4    False  \n",
              "5    False  \n",
              "6    False  \n",
              "7    False  \n",
              "8    False  \n",
              "9    False  \n",
              "10   False  \n",
              "11   False  \n",
              "12   False  \n",
              "13   False  \n",
              "14   False  \n",
              "15   False  \n",
              "16   False  \n",
              "17   False  \n",
              "18   False  \n",
              "19   False  \n",
              "20   False  \n",
              "21   False  \n",
              "22   False  \n",
              "23   False  \n",
              "24   False  \n",
              "25   False  \n",
              "26   False  \n",
              "27   False  \n",
              "28   False  \n",
              "29   False  \n",
              "..     ...  \n",
              "854  False  \n",
              "855  False  \n",
              "856  False  \n",
              "857  False  \n",
              "858  False  \n",
              "860  False  \n",
              "861  False  \n",
              "862  False  \n",
              "864  False  \n",
              "865  False  \n",
              "866  False  \n",
              "867  False  \n",
              "868  False  \n",
              "869  False  \n",
              "871  False  \n",
              "872  False  \n",
              "873  False  \n",
              "874  False  \n",
              "875  False  \n",
              "876  False  \n",
              "879  False  \n",
              "880  False  \n",
              "881  False  \n",
              "882  False  \n",
              "883  False  \n",
              "885  False  \n",
              "887  False  \n",
              "888  False  \n",
              "889  False  \n",
              "890  False  \n",
              "\n",
              "[784 rows x 10 columns]"
            ]
          },
          "metadata": {
            "tags": []
          },
          "execution_count": 12
        }
      ]
    },
    {
      "metadata": {
        "id": "aPbqLdhIuc3I",
        "colab_type": "code",
        "colab": {
          "autoexec": {
            "startup": false,
            "wait_interval": 0
          },
          "base_uri": "https://localhost:8080/",
          "height": 204
        },
        "outputId": "2e08d759-3ba0-41cf-fc80-aab8b3b63c7c",
        "executionInfo": {
          "status": "ok",
          "timestamp": 1524859787841,
          "user_tz": 300,
          "elapsed": 368,
          "user": {
            "displayName": "",
            "photoUrl": "",
            "userId": ""
          }
        }
      },
      "cell_type": "code",
      "source": [
        "titanic1.isnull().any()"
      ],
      "execution_count": 0,
      "outputs": [
        {
          "output_type": "execute_result",
          "data": {
            "text/plain": [
              "survived       False\n",
              "sex            False\n",
              "age             True\n",
              "sibsp          False\n",
              "parch          False\n",
              "fare           False\n",
              "class          False\n",
              "deck            True\n",
              "embark_town     True\n",
              "alone          False\n",
              "dtype: bool"
            ]
          },
          "metadata": {
            "tags": []
          },
          "execution_count": 13
        }
      ]
    },
    {
      "metadata": {
        "id": "WEKWKfrfuiMm",
        "colab_type": "code",
        "colab": {
          "autoexec": {
            "startup": false,
            "wait_interval": 0
          },
          "base_uri": "https://localhost:8080/",
          "height": 85
        },
        "outputId": "2669e1e6-cea2-42b3-808d-a44abca72e82",
        "executionInfo": {
          "status": "ok",
          "timestamp": 1524859811509,
          "user_tz": 300,
          "elapsed": 361,
          "user": {
            "displayName": "",
            "photoUrl": "",
            "userId": ""
          }
        }
      },
      "cell_type": "code",
      "source": [
        "print(\"Age Null Value Counts:\")\n",
        "titanic1.isnull().age.value_counts()"
      ],
      "execution_count": 0,
      "outputs": [
        {
          "output_type": "stream",
          "text": [
            "Age Null Value Counts:\n"
          ],
          "name": "stdout"
        },
        {
          "output_type": "execute_result",
          "data": {
            "text/plain": [
              "False    678\n",
              "True     106\n",
              "Name: age, dtype: int64"
            ]
          },
          "metadata": {
            "tags": []
          },
          "execution_count": 14
        }
      ]
    },
    {
      "metadata": {
        "id": "Ozr1rEuEunxW",
        "colab_type": "code",
        "colab": {
          "autoexec": {
            "startup": false,
            "wait_interval": 0
          },
          "base_uri": "https://localhost:8080/",
          "height": 85
        },
        "outputId": "102fe7bc-4936-45ee-b771-ebf74e74b5da",
        "executionInfo": {
          "status": "ok",
          "timestamp": 1524859832672,
          "user_tz": 300,
          "elapsed": 384,
          "user": {
            "displayName": "",
            "photoUrl": "",
            "userId": ""
          }
        }
      },
      "cell_type": "code",
      "source": [
        "print(\"Deck Null Value Counts:\")\n",
        "titanic1.isnull().deck.value_counts()"
      ],
      "execution_count": 0,
      "outputs": [
        {
          "output_type": "stream",
          "text": [
            "Deck Null Value Counts:\n"
          ],
          "name": "stdout"
        },
        {
          "output_type": "execute_result",
          "data": {
            "text/plain": [
              "True     582\n",
              "False    202\n",
              "Name: deck, dtype: int64"
            ]
          },
          "metadata": {
            "tags": []
          },
          "execution_count": 15
        }
      ]
    },
    {
      "metadata": {
        "id": "unRQl5aYurid",
        "colab_type": "code",
        "colab": {
          "autoexec": {
            "startup": false,
            "wait_interval": 0
          },
          "base_uri": "https://localhost:8080/",
          "height": 85
        },
        "outputId": "7a08383e-6d65-4809-e098-a4e5f66f883e",
        "executionInfo": {
          "status": "ok",
          "timestamp": 1524859849112,
          "user_tz": 300,
          "elapsed": 435,
          "user": {
            "displayName": "",
            "photoUrl": "",
            "userId": ""
          }
        }
      },
      "cell_type": "code",
      "source": [
        "print(\"Embark_Town Null Value Counts:\")\n",
        "titanic1.isnull().embark_town.value_counts()"
      ],
      "execution_count": 0,
      "outputs": [
        {
          "output_type": "stream",
          "text": [
            "Embark_Town Null Value Counts:\n"
          ],
          "name": "stdout"
        },
        {
          "output_type": "execute_result",
          "data": {
            "text/plain": [
              "False    782\n",
              "True       2\n",
              "Name: embark_town, dtype: int64"
            ]
          },
          "metadata": {
            "tags": []
          },
          "execution_count": 16
        }
      ]
    },
    {
      "metadata": {
        "id": "QtI39M0ruvcY",
        "colab_type": "code",
        "colab": {
          "autoexec": {
            "startup": false,
            "wait_interval": 0
          },
          "base_uri": "https://localhost:8080/",
          "height": 238
        },
        "outputId": "ca0a5741-fd58-4d0c-b155-b8230cc52014",
        "executionInfo": {
          "status": "ok",
          "timestamp": 1524859864214,
          "user_tz": 300,
          "elapsed": 371,
          "user": {
            "displayName": "",
            "photoUrl": "",
            "userId": ""
          }
        }
      },
      "cell_type": "code",
      "source": [
        "# Fill age with median value\n",
        "import math\n",
        "\n",
        "median = titanic1.age.median()\n",
        "print(median)\n",
        "\n",
        "median = math.ceil(median)\n",
        "print(median)\n",
        "\n",
        "titanic1.age.fillna(median, inplace=True)\n",
        "\n",
        "titanic1.head()"
      ],
      "execution_count": 0,
      "outputs": [
        {
          "output_type": "stream",
          "text": [
            "28.25\n",
            "29\n"
          ],
          "name": "stdout"
        },
        {
          "output_type": "execute_result",
          "data": {
            "text/html": [
              "<div>\n",
              "<style scoped>\n",
              "    .dataframe tbody tr th:only-of-type {\n",
              "        vertical-align: middle;\n",
              "    }\n",
              "\n",
              "    .dataframe tbody tr th {\n",
              "        vertical-align: top;\n",
              "    }\n",
              "\n",
              "    .dataframe thead th {\n",
              "        text-align: right;\n",
              "    }\n",
              "</style>\n",
              "<table border=\"1\" class=\"dataframe\">\n",
              "  <thead>\n",
              "    <tr style=\"text-align: right;\">\n",
              "      <th></th>\n",
              "      <th>survived</th>\n",
              "      <th>sex</th>\n",
              "      <th>age</th>\n",
              "      <th>sibsp</th>\n",
              "      <th>parch</th>\n",
              "      <th>fare</th>\n",
              "      <th>class</th>\n",
              "      <th>deck</th>\n",
              "      <th>embark_town</th>\n",
              "      <th>alone</th>\n",
              "    </tr>\n",
              "  </thead>\n",
              "  <tbody>\n",
              "    <tr>\n",
              "      <th>0</th>\n",
              "      <td>0</td>\n",
              "      <td>male</td>\n",
              "      <td>22.0</td>\n",
              "      <td>1</td>\n",
              "      <td>0</td>\n",
              "      <td>7.2500</td>\n",
              "      <td>Third</td>\n",
              "      <td>NaN</td>\n",
              "      <td>Southampton</td>\n",
              "      <td>False</td>\n",
              "    </tr>\n",
              "    <tr>\n",
              "      <th>1</th>\n",
              "      <td>1</td>\n",
              "      <td>female</td>\n",
              "      <td>38.0</td>\n",
              "      <td>1</td>\n",
              "      <td>0</td>\n",
              "      <td>71.2833</td>\n",
              "      <td>First</td>\n",
              "      <td>C</td>\n",
              "      <td>Cherbourg</td>\n",
              "      <td>False</td>\n",
              "    </tr>\n",
              "    <tr>\n",
              "      <th>2</th>\n",
              "      <td>1</td>\n",
              "      <td>female</td>\n",
              "      <td>26.0</td>\n",
              "      <td>0</td>\n",
              "      <td>0</td>\n",
              "      <td>7.9250</td>\n",
              "      <td>Third</td>\n",
              "      <td>NaN</td>\n",
              "      <td>Southampton</td>\n",
              "      <td>True</td>\n",
              "    </tr>\n",
              "    <tr>\n",
              "      <th>3</th>\n",
              "      <td>1</td>\n",
              "      <td>female</td>\n",
              "      <td>35.0</td>\n",
              "      <td>1</td>\n",
              "      <td>0</td>\n",
              "      <td>53.1000</td>\n",
              "      <td>First</td>\n",
              "      <td>C</td>\n",
              "      <td>Southampton</td>\n",
              "      <td>False</td>\n",
              "    </tr>\n",
              "    <tr>\n",
              "      <th>4</th>\n",
              "      <td>0</td>\n",
              "      <td>male</td>\n",
              "      <td>35.0</td>\n",
              "      <td>0</td>\n",
              "      <td>0</td>\n",
              "      <td>8.0500</td>\n",
              "      <td>Third</td>\n",
              "      <td>NaN</td>\n",
              "      <td>Southampton</td>\n",
              "      <td>True</td>\n",
              "    </tr>\n",
              "  </tbody>\n",
              "</table>\n",
              "</div>"
            ],
            "text/plain": [
              "   survived     sex   age  sibsp  parch     fare  class deck  embark_town  \\\n",
              "0         0    male  22.0      1      0   7.2500  Third  NaN  Southampton   \n",
              "1         1  female  38.0      1      0  71.2833  First    C    Cherbourg   \n",
              "2         1  female  26.0      0      0   7.9250  Third  NaN  Southampton   \n",
              "3         1  female  35.0      1      0  53.1000  First    C  Southampton   \n",
              "4         0    male  35.0      0      0   8.0500  Third  NaN  Southampton   \n",
              "\n",
              "   alone  \n",
              "0  False  \n",
              "1  False  \n",
              "2   True  \n",
              "3  False  \n",
              "4   True  "
            ]
          },
          "metadata": {
            "tags": []
          },
          "execution_count": 17
        }
      ]
    },
    {
      "metadata": {
        "id": "xE4aqLFbuzPb",
        "colab_type": "code",
        "colab": {
          "autoexec": {
            "startup": false,
            "wait_interval": 0
          },
          "base_uri": "https://localhost:8080/",
          "height": 1071
        },
        "outputId": "1db51551-13a1-41ea-b341-32c1ea6d3917",
        "executionInfo": {
          "status": "ok",
          "timestamp": 1524859879870,
          "user_tz": 300,
          "elapsed": 592,
          "user": {
            "displayName": "",
            "photoUrl": "",
            "userId": ""
          }
        }
      },
      "cell_type": "code",
      "source": [
        "titanic1.embark_town"
      ],
      "execution_count": 0,
      "outputs": [
        {
          "output_type": "execute_result",
          "data": {
            "text/plain": [
              "0      Southampton\n",
              "1        Cherbourg\n",
              "2      Southampton\n",
              "3      Southampton\n",
              "4      Southampton\n",
              "5       Queenstown\n",
              "6      Southampton\n",
              "7      Southampton\n",
              "8      Southampton\n",
              "9        Cherbourg\n",
              "10     Southampton\n",
              "11     Southampton\n",
              "12     Southampton\n",
              "13     Southampton\n",
              "14     Southampton\n",
              "15     Southampton\n",
              "16      Queenstown\n",
              "17     Southampton\n",
              "18     Southampton\n",
              "19       Cherbourg\n",
              "20     Southampton\n",
              "21     Southampton\n",
              "22      Queenstown\n",
              "23     Southampton\n",
              "24     Southampton\n",
              "25     Southampton\n",
              "26       Cherbourg\n",
              "27     Southampton\n",
              "28      Queenstown\n",
              "29     Southampton\n",
              "          ...     \n",
              "854    Southampton\n",
              "855    Southampton\n",
              "856    Southampton\n",
              "857    Southampton\n",
              "858      Cherbourg\n",
              "860    Southampton\n",
              "861    Southampton\n",
              "862    Southampton\n",
              "864    Southampton\n",
              "865    Southampton\n",
              "866      Cherbourg\n",
              "867    Southampton\n",
              "868    Southampton\n",
              "869    Southampton\n",
              "871    Southampton\n",
              "872    Southampton\n",
              "873    Southampton\n",
              "874      Cherbourg\n",
              "875      Cherbourg\n",
              "876    Southampton\n",
              "879      Cherbourg\n",
              "880    Southampton\n",
              "881    Southampton\n",
              "882    Southampton\n",
              "883    Southampton\n",
              "885     Queenstown\n",
              "887    Southampton\n",
              "888    Southampton\n",
              "889      Cherbourg\n",
              "890     Queenstown\n",
              "Name: embark_town, Length: 784, dtype: object"
            ]
          },
          "metadata": {
            "tags": []
          },
          "execution_count": 18
        }
      ]
    },
    {
      "metadata": {
        "id": "Ms0sSjnAu5dG",
        "colab_type": "code",
        "colab": {
          "autoexec": {
            "startup": false,
            "wait_interval": 0
          }
        }
      },
      "cell_type": "code",
      "source": [
        "titanic1.embark_town.fillna(method='ffill', inplace=True)\n",
        "titanic1.deck.fillna(method='ffill', inplace=True)"
      ],
      "execution_count": 0,
      "outputs": []
    },
    {
      "metadata": {
        "id": "cWqX6HmMu9ov",
        "colab_type": "code",
        "colab": {
          "autoexec": {
            "startup": false,
            "wait_interval": 0
          },
          "base_uri": "https://localhost:8080/",
          "height": 68
        },
        "outputId": "5f0ef284-b5e8-4134-d348-8c5602887720",
        "executionInfo": {
          "status": "ok",
          "timestamp": 1524859922202,
          "user_tz": 300,
          "elapsed": 426,
          "user": {
            "displayName": "",
            "photoUrl": "",
            "userId": ""
          }
        }
      },
      "cell_type": "code",
      "source": [
        "print(\"Embark_Town Null Value Counts:\")\n",
        "titanic1.isnull().embark_town.value_counts()"
      ],
      "execution_count": 0,
      "outputs": [
        {
          "output_type": "stream",
          "text": [
            "Embark_Town Null Value Counts:\n"
          ],
          "name": "stdout"
        },
        {
          "output_type": "execute_result",
          "data": {
            "text/plain": [
              "False    784\n",
              "Name: embark_town, dtype: int64"
            ]
          },
          "metadata": {
            "tags": []
          },
          "execution_count": 20
        }
      ]
    },
    {
      "metadata": {
        "id": "CS3BGdAXvBuz",
        "colab_type": "code",
        "colab": {
          "autoexec": {
            "startup": false,
            "wait_interval": 0
          },
          "base_uri": "https://localhost:8080/",
          "height": 85
        },
        "outputId": "01f1f119-2a18-4fb5-9863-d0f90f504cc4",
        "executionInfo": {
          "status": "ok",
          "timestamp": 1524859938904,
          "user_tz": 300,
          "elapsed": 431,
          "user": {
            "displayName": "",
            "photoUrl": "",
            "userId": ""
          }
        }
      },
      "cell_type": "code",
      "source": [
        "print(\"Deck Null Value Counts:\")\n",
        "titanic1.isnull().deck.value_counts()"
      ],
      "execution_count": 0,
      "outputs": [
        {
          "output_type": "stream",
          "text": [
            "Deck Null Value Counts:\n"
          ],
          "name": "stdout"
        },
        {
          "output_type": "execute_result",
          "data": {
            "text/plain": [
              "False    783\n",
              "True       1\n",
              "Name: deck, dtype: int64"
            ]
          },
          "metadata": {
            "tags": []
          },
          "execution_count": 21
        }
      ]
    },
    {
      "metadata": {
        "id": "jWku-gglvEux",
        "colab_type": "code",
        "colab": {
          "autoexec": {
            "startup": false,
            "wait_interval": 0
          },
          "base_uri": "https://localhost:8080/",
          "height": 1088
        },
        "outputId": "a4471c6d-4131-4dca-b38b-b2aac74977ae",
        "executionInfo": {
          "status": "ok",
          "timestamp": 1524859951176,
          "user_tz": 300,
          "elapsed": 384,
          "user": {
            "displayName": "",
            "photoUrl": "",
            "userId": ""
          }
        }
      },
      "cell_type": "code",
      "source": [
        "titanic1.deck"
      ],
      "execution_count": 0,
      "outputs": [
        {
          "output_type": "execute_result",
          "data": {
            "text/plain": [
              "0      NaN\n",
              "1        C\n",
              "2        C\n",
              "3        C\n",
              "4        C\n",
              "5        C\n",
              "6        E\n",
              "7        E\n",
              "8        E\n",
              "9        E\n",
              "10       G\n",
              "11       C\n",
              "12       C\n",
              "13       C\n",
              "14       C\n",
              "15       C\n",
              "16       C\n",
              "17       C\n",
              "18       C\n",
              "19       C\n",
              "20       C\n",
              "21       D\n",
              "22       D\n",
              "23       A\n",
              "24       A\n",
              "25       A\n",
              "26       A\n",
              "27       C\n",
              "28       C\n",
              "29       C\n",
              "      ... \n",
              "854      D\n",
              "855      D\n",
              "856      D\n",
              "857      E\n",
              "858      E\n",
              "860      E\n",
              "861      E\n",
              "862      D\n",
              "864      D\n",
              "865      D\n",
              "866      D\n",
              "867      A\n",
              "868      A\n",
              "869      A\n",
              "871      D\n",
              "872      B\n",
              "873      B\n",
              "874      B\n",
              "875      B\n",
              "876      B\n",
              "879      C\n",
              "880      C\n",
              "881      C\n",
              "882      C\n",
              "883      C\n",
              "885      C\n",
              "887      B\n",
              "888      B\n",
              "889      C\n",
              "890      C\n",
              "Name: deck, Length: 784, dtype: category\n",
              "Categories (7, object): [A, B, C, D, E, F, G]"
            ]
          },
          "metadata": {
            "tags": []
          },
          "execution_count": 22
        }
      ]
    },
    {
      "metadata": {
        "id": "Mh5mKBssvLXx",
        "colab_type": "code",
        "colab": {
          "autoexec": {
            "startup": false,
            "wait_interval": 0
          },
          "base_uri": "https://localhost:8080/",
          "height": 204
        },
        "outputId": "c8b04f44-3ddd-4877-bd79-f41c90076225",
        "executionInfo": {
          "status": "ok",
          "timestamp": 1524859978764,
          "user_tz": 300,
          "elapsed": 385,
          "user": {
            "displayName": "",
            "photoUrl": "",
            "userId": ""
          }
        }
      },
      "cell_type": "code",
      "source": [
        "titanic1.isnull().any()"
      ],
      "execution_count": 0,
      "outputs": [
        {
          "output_type": "execute_result",
          "data": {
            "text/plain": [
              "survived       False\n",
              "sex            False\n",
              "age            False\n",
              "sibsp          False\n",
              "parch          False\n",
              "fare           False\n",
              "class          False\n",
              "deck            True\n",
              "embark_town    False\n",
              "alone          False\n",
              "dtype: bool"
            ]
          },
          "metadata": {
            "tags": []
          },
          "execution_count": 23
        }
      ]
    },
    {
      "metadata": {
        "id": "IhdbbbtPvSGV",
        "colab_type": "text"
      },
      "cell_type": "markdown",
      "source": [
        "# **Merge Titanic and OKC Data**"
      ]
    },
    {
      "metadata": {
        "id": "Ata_iE2IvhA8",
        "colab_type": "text"
      },
      "cell_type": "markdown",
      "source": [
        "**Remove Underage Passengers ![alt text](https://)** \\\\\n",
        "The easiest way to figure out how to merge underage titanic passengers with OKCupid adults is to... just not do it. Drop those kids!"
      ]
    },
    {
      "metadata": {
        "id": "p-3C8TJ5vYzq",
        "colab_type": "code",
        "colab": {
          "autoexec": {
            "startup": false,
            "wait_interval": 0
          },
          "base_uri": "https://localhost:8080/",
          "height": 34
        },
        "outputId": "0e4e1996-263b-4dd4-c36d-76224ba16d82",
        "executionInfo": {
          "status": "ok",
          "timestamp": 1524860182985,
          "user_tz": 300,
          "elapsed": 411,
          "user": {
            "displayName": "",
            "photoUrl": "",
            "userId": ""
          }
        }
      },
      "cell_type": "code",
      "source": [
        "titanic_adults = titanic1[titanic1['age'] >= 18]\n",
        "titanic_adults.shape"
      ],
      "execution_count": 0,
      "outputs": [
        {
          "output_type": "execute_result",
          "data": {
            "text/plain": [
              "(674, 10)"
            ]
          },
          "metadata": {
            "tags": []
          },
          "execution_count": 24
        }
      ]
    },
    {
      "metadata": {
        "id": "BYkJOYevwMFs",
        "colab_type": "text"
      },
      "cell_type": "markdown",
      "source": [
        "**Remove Extra OKC Columns** \\\\\n",
        "There's a lot of OKC data that would make this merge uber complicated. The only aspects of the two datasets that really relate are age, gender, and income, so we'll keep those as well as a few others that might be interesting to look at. Drop the rest like it's hot. "
      ]
    },
    {
      "metadata": {
        "id": "p3OCp415wqkH",
        "colab_type": "code",
        "colab": {
          "autoexec": {
            "startup": false,
            "wait_interval": 0
          },
          "base_uri": "https://localhost:8080/",
          "height": 411
        },
        "outputId": "17aeb6d6-9d99-4b6a-ce2b-d84330f81f05",
        "executionInfo": {
          "status": "ok",
          "timestamp": 1524860380505,
          "user_tz": 300,
          "elapsed": 418,
          "user": {
            "displayName": "",
            "photoUrl": "",
            "userId": ""
          }
        }
      },
      "cell_type": "code",
      "source": [
        "okcupid_df = okcupid.drop(['essay0', 'essay1', 'essay2', 'essay3', 'essay4',\n",
        "                          'essay5', 'essay6', 'essay7', 'essay8', 'essay9',\n",
        "                          'last_online', 'location', 'speaks', 'status', \n",
        "                          'pets', 'religion'], axis=1)\n",
        "\n",
        "okcupid_df.head()"
      ],
      "execution_count": 0,
      "outputs": [
        {
          "output_type": "execute_result",
          "data": {
            "text/html": [
              "<div>\n",
              "<style scoped>\n",
              "    .dataframe tbody tr th:only-of-type {\n",
              "        vertical-align: middle;\n",
              "    }\n",
              "\n",
              "    .dataframe tbody tr th {\n",
              "        vertical-align: top;\n",
              "    }\n",
              "\n",
              "    .dataframe thead th {\n",
              "        text-align: right;\n",
              "    }\n",
              "</style>\n",
              "<table border=\"1\" class=\"dataframe\">\n",
              "  <thead>\n",
              "    <tr style=\"text-align: right;\">\n",
              "      <th></th>\n",
              "      <th>age</th>\n",
              "      <th>body_type</th>\n",
              "      <th>diet</th>\n",
              "      <th>drinks</th>\n",
              "      <th>drugs</th>\n",
              "      <th>education</th>\n",
              "      <th>ethnicity</th>\n",
              "      <th>height</th>\n",
              "      <th>income</th>\n",
              "      <th>job</th>\n",
              "      <th>offspring</th>\n",
              "      <th>orientation</th>\n",
              "      <th>sex</th>\n",
              "      <th>sign</th>\n",
              "      <th>smokes</th>\n",
              "    </tr>\n",
              "  </thead>\n",
              "  <tbody>\n",
              "    <tr>\n",
              "      <th>0</th>\n",
              "      <td>22</td>\n",
              "      <td>a little extra</td>\n",
              "      <td>strictly anything</td>\n",
              "      <td>socially</td>\n",
              "      <td>never</td>\n",
              "      <td>working on college/university</td>\n",
              "      <td>asian, white</td>\n",
              "      <td>75.0</td>\n",
              "      <td>-1</td>\n",
              "      <td>transportation</td>\n",
              "      <td>doesn&amp;rsquo;t have kids, but might want them</td>\n",
              "      <td>straight</td>\n",
              "      <td>m</td>\n",
              "      <td>gemini</td>\n",
              "      <td>sometimes</td>\n",
              "    </tr>\n",
              "    <tr>\n",
              "      <th>1</th>\n",
              "      <td>35</td>\n",
              "      <td>average</td>\n",
              "      <td>mostly other</td>\n",
              "      <td>often</td>\n",
              "      <td>sometimes</td>\n",
              "      <td>working on space camp</td>\n",
              "      <td>white</td>\n",
              "      <td>70.0</td>\n",
              "      <td>80000</td>\n",
              "      <td>hospitality / travel</td>\n",
              "      <td>doesn&amp;rsquo;t have kids, but might want them</td>\n",
              "      <td>straight</td>\n",
              "      <td>m</td>\n",
              "      <td>cancer</td>\n",
              "      <td>no</td>\n",
              "    </tr>\n",
              "    <tr>\n",
              "      <th>2</th>\n",
              "      <td>38</td>\n",
              "      <td>thin</td>\n",
              "      <td>anything</td>\n",
              "      <td>socially</td>\n",
              "      <td>NaN</td>\n",
              "      <td>graduated from masters program</td>\n",
              "      <td>NaN</td>\n",
              "      <td>68.0</td>\n",
              "      <td>-1</td>\n",
              "      <td>NaN</td>\n",
              "      <td>NaN</td>\n",
              "      <td>straight</td>\n",
              "      <td>m</td>\n",
              "      <td>pisces but it doesn&amp;rsquo;t matter</td>\n",
              "      <td>no</td>\n",
              "    </tr>\n",
              "    <tr>\n",
              "      <th>3</th>\n",
              "      <td>23</td>\n",
              "      <td>thin</td>\n",
              "      <td>vegetarian</td>\n",
              "      <td>socially</td>\n",
              "      <td>NaN</td>\n",
              "      <td>working on college/university</td>\n",
              "      <td>white</td>\n",
              "      <td>71.0</td>\n",
              "      <td>20000</td>\n",
              "      <td>student</td>\n",
              "      <td>doesn&amp;rsquo;t want kids</td>\n",
              "      <td>straight</td>\n",
              "      <td>m</td>\n",
              "      <td>pisces</td>\n",
              "      <td>no</td>\n",
              "    </tr>\n",
              "    <tr>\n",
              "      <th>4</th>\n",
              "      <td>29</td>\n",
              "      <td>athletic</td>\n",
              "      <td>NaN</td>\n",
              "      <td>socially</td>\n",
              "      <td>never</td>\n",
              "      <td>graduated from college/university</td>\n",
              "      <td>asian, black, other</td>\n",
              "      <td>66.0</td>\n",
              "      <td>-1</td>\n",
              "      <td>artistic / musical / writer</td>\n",
              "      <td>NaN</td>\n",
              "      <td>straight</td>\n",
              "      <td>m</td>\n",
              "      <td>aquarius</td>\n",
              "      <td>no</td>\n",
              "    </tr>\n",
              "  </tbody>\n",
              "</table>\n",
              "</div>"
            ],
            "text/plain": [
              "   age       body_type               diet    drinks      drugs  \\\n",
              "0   22  a little extra  strictly anything  socially      never   \n",
              "1   35         average       mostly other     often  sometimes   \n",
              "2   38            thin           anything  socially        NaN   \n",
              "3   23            thin         vegetarian  socially        NaN   \n",
              "4   29        athletic                NaN  socially      never   \n",
              "\n",
              "                           education            ethnicity  height  income  \\\n",
              "0      working on college/university         asian, white    75.0      -1   \n",
              "1              working on space camp                white    70.0   80000   \n",
              "2     graduated from masters program                  NaN    68.0      -1   \n",
              "3      working on college/university                white    71.0   20000   \n",
              "4  graduated from college/university  asian, black, other    66.0      -1   \n",
              "\n",
              "                           job                                     offspring  \\\n",
              "0               transportation  doesn&rsquo;t have kids, but might want them   \n",
              "1         hospitality / travel  doesn&rsquo;t have kids, but might want them   \n",
              "2                          NaN                                           NaN   \n",
              "3                      student                       doesn&rsquo;t want kids   \n",
              "4  artistic / musical / writer                                           NaN   \n",
              "\n",
              "  orientation sex                                sign     smokes  \n",
              "0    straight   m                              gemini  sometimes  \n",
              "1    straight   m                              cancer         no  \n",
              "2    straight   m  pisces but it doesn&rsquo;t matter         no  \n",
              "3    straight   m                              pisces         no  \n",
              "4    straight   m                            aquarius         no  "
            ]
          },
          "metadata": {
            "tags": []
          },
          "execution_count": 25
        }
      ]
    },
    {
      "metadata": {
        "id": "PDtTyl5Aw7Cf",
        "colab_type": "text"
      },
      "cell_type": "markdown",
      "source": [
        "**Closer Look at OCK income and Titanic fares.** \\\\\n",
        "Matching passengers with users based on age and gender shouldn't be too crazy since gender is binary, (Thomson would say \"binomial\") and ages are given in integer values. Matching on income is more complex since fare is only a proxy for income and OKC incomes have a lot of missing values coded as: (-1)"
      ]
    },
    {
      "metadata": {
        "id": "GKKAc8mpwFKJ",
        "colab_type": "code",
        "colab": {
          "autoexec": {
            "startup": false,
            "wait_interval": 0
          },
          "base_uri": "https://localhost:8080/",
          "height": 945
        },
        "outputId": "c53458ca-77c3-4b55-a996-5492154db6a1",
        "executionInfo": {
          "status": "ok",
          "timestamp": 1524860475188,
          "user_tz": 300,
          "elapsed": 750,
          "user": {
            "displayName": "",
            "photoUrl": "",
            "userId": ""
          }
        }
      },
      "cell_type": "code",
      "source": [
        "import matplotlib.pyplot as plt\n",
        "\n",
        "plt.hist(titanic_adults['fare'], normed=True, bins=50, label=\"titanic fares\")\n",
        "plt.title('Titanic Fares')\n",
        "plt.show();\n",
        "\n",
        "plt.figure()\n",
        "\n",
        "plt.hist(okcupid_df['income'], normed=True, bins=50)\n",
        "plt.title('OKCupid Incomes')\n",
        "plt.show();\n",
        "\n",
        "okcupid_df['income'].value_counts()"
      ],
      "execution_count": 0,
      "outputs": [
        {
          "output_type": "display_data",
          "data": {
            "image/png": "[encoded data removed]",
            "text/plain": [
              "<matplotlib.figure.Figure at 0x7f402274ab00>"
            ]
          },
          "metadata": {
            "tags": []
          }
        },
        {
          "output_type": "display_data",
          "data": {
            "image/png": "[encoded data removed]",
            "text/plain": [
              "<matplotlib.figure.Figure at 0x7f401a46c4e0>"
            ]
          },
          "metadata": {
            "tags": []
          }
        },
        {
          "output_type": "execute_result",
          "data": {
            "text/plain": [
              "-1          48442\n",
              " 20000       2952\n",
              " 100000      1621\n",
              " 80000       1111\n",
              " 30000       1048\n",
              " 40000       1005\n",
              " 50000        975\n",
              " 60000        736\n",
              " 70000        707\n",
              " 150000       631\n",
              " 1000000      521\n",
              " 250000       149\n",
              " 500000        48\n",
              "Name: income, dtype: int64"
            ]
          },
          "metadata": {
            "tags": []
          },
          "execution_count": 26
        }
      ]
    },
    {
      "metadata": {
        "id": "91_J2I4WxPKx",
        "colab_type": "code",
        "colab": {
          "autoexec": {
            "startup": false,
            "wait_interval": 0
          },
          "base_uri": "https://localhost:8080/",
          "height": 362
        },
        "outputId": "ff41ad14-9a81-4710-9376-d21758bce2bd",
        "executionInfo": {
          "status": "ok",
          "timestamp": 1524860518381,
          "user_tz": 300,
          "elapsed": 421,
          "user": {
            "displayName": "",
            "photoUrl": "",
            "userId": ""
          }
        }
      },
      "cell_type": "code",
      "source": [
        "plt.hist(titanic_adults['class'], normed=True, bins=5, label=\"titanic fares\")\n",
        "plt.title('Titanic Class')\n",
        "plt.show();"
      ],
      "execution_count": 0,
      "outputs": [
        {
          "output_type": "display_data",
          "data": {
            "image/png": "[encoded data removed]",
            "text/plain": [
              "<matplotlib.figure.Figure at 0x7f401a3fbe10>"
            ]
          },
          "metadata": {
            "tags": []
          }
        }
      ]
    },
    {
      "metadata": {
        "id": "tTL_IGUDxfCg",
        "colab_type": "text"
      },
      "cell_type": "markdown",
      "source": [
        "**Using fare/income to generate an OCK 'class' based on income quantiles** \\\\\n",
        "separate fares into three different \"Quantiles\". A Quantile is a division of a distribution based on some criteria. https://en.wikipedia.org/wiki/Quantile"
      ]
    },
    {
      "metadata": {
        "id": "_CBBkWsaxWkS",
        "colab_type": "code",
        "colab": {
          "autoexec": {
            "startup": false,
            "wait_interval": 0
          },
          "base_uri": "https://localhost:8080/",
          "height": 51
        },
        "outputId": "a07c2081-9589-419a-cc50-f611c0f0a728",
        "executionInfo": {
          "status": "ok",
          "timestamp": 1524860681633,
          "user_tz": 300,
          "elapsed": 394,
          "user": {
            "displayName": "",
            "photoUrl": "",
            "userId": ""
          }
        }
      },
      "cell_type": "code",
      "source": [
        "passengers = titanic_adults.shape[0]\n",
        "\n",
        "# First calculate the mean fare for First and Third Class passengers\n",
        "second_class_fare = titanic_adults[titanic_adults['class']=='First']['fare'].mean()\n",
        "third_class_fare = titanic_adults[titanic_adults['class']=='Third']['fare'].mean()\n",
        "\n",
        "# And then divided the distribution into 3 quantiles using those values as the cutoffs. \n",
        "upper_quantile = titanic_adults[titanic_adults['fare']<second_class_fare].shape[0] / passengers\n",
        "lower_quantile = titanic_adults[titanic_adults['fare']<third_class_fare].shape[0] / passengers\n",
        "\n",
        "print(upper_quantile)\n",
        "print(lower_quantile)"
      ],
      "execution_count": 0,
      "outputs": [
        {
          "output_type": "stream",
          "text": [
            "0.9065281899109793\n",
            "0.4035608308605341\n"
          ],
          "name": "stdout"
        }
      ]
    },
    {
      "metadata": {
        "id": "AnOq6-ZgyalU",
        "colab_type": "text"
      },
      "cell_type": "markdown",
      "source": [
        "If we want to divide up the OKCupid peeps into similar Quantiles, we first need to handle all of the -1 missing values. Missing values aren't always coded as NaNs. In government datasets you'll sometimes see something like 9999999 as code for a missing values, so if you don't check for outliers you're results are going to be very wrong. You'll catch these things if you graph your data."
      ]
    },
    {
      "metadata": {
        "id": "p-pYt8P6ydKp",
        "colab_type": "code",
        "colab": {
          "autoexec": {
            "startup": false,
            "wait_interval": 0
          }
        }
      },
      "cell_type": "code",
      "source": [
        "# The -1 values will mess up any numerical calculations, so lets replace them with NaNs \n",
        "okcupid_df['income'] = okcupid_df['income'].replace(-1, np.nan)"
      ],
      "execution_count": 0,
      "outputs": []
    },
    {
      "metadata": {
        "id": "AZUfOY-zytd-",
        "colab_type": "text"
      },
      "cell_type": "markdown",
      "source": [
        "Now we can calculate the OKCupid income level that corresponds to the Titanic Class/Fare Quantiles. This equivalency is vital to the matching of the two datasets."
      ]
    },
    {
      "metadata": {
        "id": "Vbs-AgG_yvUQ",
        "colab_type": "code",
        "colab": {
          "autoexec": {
            "startup": false,
            "wait_interval": 0
          },
          "base_uri": "https://localhost:8080/",
          "height": 34
        },
        "outputId": "67d9ee15-2b71-4c87-80c9-6b5ccb9dda80",
        "executionInfo": {
          "status": "ok",
          "timestamp": 1524861144480,
          "user_tz": 300,
          "elapsed": 390,
          "user": {
            "displayName": "",
            "photoUrl": "",
            "userId": ""
          }
        }
      },
      "cell_type": "code",
      "source": [
        "lower_value = okcupid_df['income'].quantile(lower_quantile)\n",
        "upper_value = okcupid_df['income'].quantile(upper_quantile)\n",
        "\n",
        "print([lower_value, upper_value])"
      ],
      "execution_count": 0,
      "outputs": [
        {
          "output_type": "stream",
          "text": [
            "[40000.0, 150000.0]\n"
          ],
          "name": "stdout"
        }
      ]
    },
    {
      "metadata": {
        "id": "2Iv3H0-v287m",
        "colab_type": "code",
        "colab": {
          "autoexec": {
            "startup": false,
            "wait_interval": 0
          },
          "base_uri": "https://localhost:8080/",
          "height": 411
        },
        "outputId": "ba90ff21-49cf-4120-b9db-04d32df5089f",
        "executionInfo": {
          "status": "ok",
          "timestamp": 1524862147253,
          "user_tz": 300,
          "elapsed": 397,
          "user": {
            "displayName": "",
            "photoUrl": "",
            "userId": ""
          }
        }
      },
      "cell_type": "code",
      "source": [
        "# Now that we have NaN values instead of -1 we can impute those the way that we're familiar with.\n",
        "okcupid_df['income'] = okcupid_df['income'].fillna(okcupid_df['income'].median())\n",
        "\n",
        "# Now we can create an OKCupid \"class\" column as well based on which quantile their incomes fall into.\n",
        "okcupid_df['class'] = pd.Series(['Third' if x<=lower_value else 'First' if x>=upper_value else 'Second' for x in okcupid_df['income']])\n",
        "\n",
        "okcupid_df.head()"
      ],
      "execution_count": 0,
      "outputs": [
        {
          "output_type": "execute_result",
          "data": {
            "text/html": [
              "<div>\n",
              "<style scoped>\n",
              "    .dataframe tbody tr th:only-of-type {\n",
              "        vertical-align: middle;\n",
              "    }\n",
              "\n",
              "    .dataframe tbody tr th {\n",
              "        vertical-align: top;\n",
              "    }\n",
              "\n",
              "    .dataframe thead th {\n",
              "        text-align: right;\n",
              "    }\n",
              "</style>\n",
              "<table border=\"1\" class=\"dataframe\">\n",
              "  <thead>\n",
              "    <tr style=\"text-align: right;\">\n",
              "      <th></th>\n",
              "      <th>age</th>\n",
              "      <th>body_type</th>\n",
              "      <th>diet</th>\n",
              "      <th>drinks</th>\n",
              "      <th>drugs</th>\n",
              "      <th>education</th>\n",
              "      <th>ethnicity</th>\n",
              "      <th>height</th>\n",
              "      <th>income</th>\n",
              "      <th>job</th>\n",
              "      <th>offspring</th>\n",
              "      <th>orientation</th>\n",
              "      <th>sex</th>\n",
              "      <th>sign</th>\n",
              "      <th>smokes</th>\n",
              "      <th>class</th>\n",
              "    </tr>\n",
              "  </thead>\n",
              "  <tbody>\n",
              "    <tr>\n",
              "      <th>0</th>\n",
              "      <td>22</td>\n",
              "      <td>a little extra</td>\n",
              "      <td>strictly anything</td>\n",
              "      <td>socially</td>\n",
              "      <td>never</td>\n",
              "      <td>working on college/university</td>\n",
              "      <td>asian, white</td>\n",
              "      <td>75.0</td>\n",
              "      <td>50000.0</td>\n",
              "      <td>transportation</td>\n",
              "      <td>doesn&amp;rsquo;t have kids, but might want them</td>\n",
              "      <td>straight</td>\n",
              "      <td>m</td>\n",
              "      <td>gemini</td>\n",
              "      <td>sometimes</td>\n",
              "      <td>Second</td>\n",
              "    </tr>\n",
              "    <tr>\n",
              "      <th>1</th>\n",
              "      <td>35</td>\n",
              "      <td>average</td>\n",
              "      <td>mostly other</td>\n",
              "      <td>often</td>\n",
              "      <td>sometimes</td>\n",
              "      <td>working on space camp</td>\n",
              "      <td>white</td>\n",
              "      <td>70.0</td>\n",
              "      <td>80000.0</td>\n",
              "      <td>hospitality / travel</td>\n",
              "      <td>doesn&amp;rsquo;t have kids, but might want them</td>\n",
              "      <td>straight</td>\n",
              "      <td>m</td>\n",
              "      <td>cancer</td>\n",
              "      <td>no</td>\n",
              "      <td>Second</td>\n",
              "    </tr>\n",
              "    <tr>\n",
              "      <th>2</th>\n",
              "      <td>38</td>\n",
              "      <td>thin</td>\n",
              "      <td>anything</td>\n",
              "      <td>socially</td>\n",
              "      <td>NaN</td>\n",
              "      <td>graduated from masters program</td>\n",
              "      <td>NaN</td>\n",
              "      <td>68.0</td>\n",
              "      <td>50000.0</td>\n",
              "      <td>NaN</td>\n",
              "      <td>NaN</td>\n",
              "      <td>straight</td>\n",
              "      <td>m</td>\n",
              "      <td>pisces but it doesn&amp;rsquo;t matter</td>\n",
              "      <td>no</td>\n",
              "      <td>Second</td>\n",
              "    </tr>\n",
              "    <tr>\n",
              "      <th>3</th>\n",
              "      <td>23</td>\n",
              "      <td>thin</td>\n",
              "      <td>vegetarian</td>\n",
              "      <td>socially</td>\n",
              "      <td>NaN</td>\n",
              "      <td>working on college/university</td>\n",
              "      <td>white</td>\n",
              "      <td>71.0</td>\n",
              "      <td>20000.0</td>\n",
              "      <td>student</td>\n",
              "      <td>doesn&amp;rsquo;t want kids</td>\n",
              "      <td>straight</td>\n",
              "      <td>m</td>\n",
              "      <td>pisces</td>\n",
              "      <td>no</td>\n",
              "      <td>Third</td>\n",
              "    </tr>\n",
              "    <tr>\n",
              "      <th>4</th>\n",
              "      <td>29</td>\n",
              "      <td>athletic</td>\n",
              "      <td>NaN</td>\n",
              "      <td>socially</td>\n",
              "      <td>never</td>\n",
              "      <td>graduated from college/university</td>\n",
              "      <td>asian, black, other</td>\n",
              "      <td>66.0</td>\n",
              "      <td>50000.0</td>\n",
              "      <td>artistic / musical / writer</td>\n",
              "      <td>NaN</td>\n",
              "      <td>straight</td>\n",
              "      <td>m</td>\n",
              "      <td>aquarius</td>\n",
              "      <td>no</td>\n",
              "      <td>Second</td>\n",
              "    </tr>\n",
              "  </tbody>\n",
              "</table>\n",
              "</div>"
            ],
            "text/plain": [
              "   age       body_type               diet    drinks      drugs  \\\n",
              "0   22  a little extra  strictly anything  socially      never   \n",
              "1   35         average       mostly other     often  sometimes   \n",
              "2   38            thin           anything  socially        NaN   \n",
              "3   23            thin         vegetarian  socially        NaN   \n",
              "4   29        athletic                NaN  socially      never   \n",
              "\n",
              "                           education            ethnicity  height   income  \\\n",
              "0      working on college/university         asian, white    75.0  50000.0   \n",
              "1              working on space camp                white    70.0  80000.0   \n",
              "2     graduated from masters program                  NaN    68.0  50000.0   \n",
              "3      working on college/university                white    71.0  20000.0   \n",
              "4  graduated from college/university  asian, black, other    66.0  50000.0   \n",
              "\n",
              "                           job                                     offspring  \\\n",
              "0               transportation  doesn&rsquo;t have kids, but might want them   \n",
              "1         hospitality / travel  doesn&rsquo;t have kids, but might want them   \n",
              "2                          NaN                                           NaN   \n",
              "3                      student                       doesn&rsquo;t want kids   \n",
              "4  artistic / musical / writer                                           NaN   \n",
              "\n",
              "  orientation sex                                sign     smokes   class  \n",
              "0    straight   m                              gemini  sometimes  Second  \n",
              "1    straight   m                              cancer         no  Second  \n",
              "2    straight   m  pisces but it doesn&rsquo;t matter         no  Second  \n",
              "3    straight   m                              pisces         no   Third  \n",
              "4    straight   m                            aquarius         no  Second  "
            ]
          },
          "metadata": {
            "tags": []
          },
          "execution_count": 32
        }
      ]
    },
    {
      "metadata": {
        "id": "sUtRu4363pOF",
        "colab_type": "text"
      },
      "cell_type": "markdown",
      "source": [
        "Now lets clean the rest of OKCupid. "
      ]
    },
    {
      "metadata": {
        "id": "olkZT_VK3q-0",
        "colab_type": "code",
        "colab": {
          "autoexec": {
            "startup": false,
            "wait_interval": 0
          }
        }
      },
      "cell_type": "code",
      "source": [
        "def fillna_mixed_columns(dataframe):\n",
        "    \"\"\"Fills missing dataframe values with the median value for numeric columns, ignoring non-numeric columns\n",
        "    https://stackoverflow.com/questions/25239958/impute-categorical-missing-values-in-scikit-learn\n",
        "    \n",
        "    Args:\n",
        "        dataframe (pandas.core.frame.DataFrame): dataframe with observations as rows and features as columns\n",
        "        \n",
        "    Returns:\n",
        "        dataframe with missing values in numeric columns filled with the columns' mean values\n",
        "        \n",
        "    \"\"\"\n",
        "    fill = pd.Series([dataframe[c].value_counts().index[0] \n",
        "                      if dataframe[c].dtype != np.dtype(np.int64) or dataframe[c].dtype != np.dtype(np.float64) \n",
        "                      else dataframe[c].mean() for c in dataframe], \n",
        "                     index=dataframe.columns)\n",
        "    \n",
        "    return dataframe.fillna(fill)"
      ],
      "execution_count": 0,
      "outputs": []
    },
    {
      "metadata": {
        "id": "26sX57ce4g6o",
        "colab_type": "code",
        "colab": {
          "autoexec": {
            "startup": false,
            "wait_interval": 0
          },
          "base_uri": "https://localhost:8080/",
          "height": 306
        },
        "outputId": "1bbbad8c-e126-4995-e491-3531f3575d55",
        "executionInfo": {
          "status": "ok",
          "timestamp": 1524862538991,
          "user_tz": 300,
          "elapsed": 595,
          "user": {
            "displayName": "",
            "photoUrl": "",
            "userId": ""
          }
        }
      },
      "cell_type": "code",
      "source": [
        "# fill in the remaining NaN values with most common value, as with the Titanic dataset\n",
        "\n",
        "cupid_filled = fillna_mixed_columns(okcupid_df)\n",
        "\n",
        "cupid_filled.isnull().any()"
      ],
      "execution_count": 0,
      "outputs": [
        {
          "output_type": "execute_result",
          "data": {
            "text/plain": [
              "age            False\n",
              "body_type      False\n",
              "diet           False\n",
              "drinks         False\n",
              "drugs          False\n",
              "education      False\n",
              "ethnicity      False\n",
              "height         False\n",
              "income         False\n",
              "job            False\n",
              "offspring      False\n",
              "orientation    False\n",
              "sex            False\n",
              "sign           False\n",
              "smokes         False\n",
              "class          False\n",
              "dtype: bool"
            ]
          },
          "metadata": {
            "tags": []
          },
          "execution_count": 35
        }
      ]
    },
    {
      "metadata": {
        "id": "Dqtbl2tD5fFY",
        "colab_type": "text"
      },
      "cell_type": "markdown",
      "source": [
        "Now we have two \"clean\" datasets with \"age\", \"sex\", and \"class\" features in both. We're ready to try and start matching information."
      ]
    },
    {
      "metadata": {
        "id": "oNl14oTv5arM",
        "colab_type": "code",
        "colab": {
          "autoexec": {
            "startup": false,
            "wait_interval": 0
          },
          "base_uri": "https://localhost:8080/",
          "height": 185
        },
        "outputId": "ee463464-8cca-45af-f872-3e47f3886eff",
        "executionInfo": {
          "status": "ok",
          "timestamp": 1524862697954,
          "user_tz": 300,
          "elapsed": 536,
          "user": {
            "displayName": "",
            "photoUrl": "",
            "userId": ""
          }
        }
      },
      "cell_type": "code",
      "source": [
        "def get_cupid_match(df, age, sex, income_class):\n",
        "  \n",
        "  # We can filter the cupid dataframe based on our three criteria to create a pool of all acceptable candidates\n",
        "  pool = df[(df['age']==age) & (df['sex']==sex) & (df['class']==income_class)]\n",
        "    \n",
        "  # Then, if the pool isn't empty, we'll just sample one and use that as our match\n",
        "  if pool.shape[0] > 0:\n",
        "      return pool.sample(1)\n",
        "  # But if there isn't a matching user, then we'll have grab a random person from the cupid dataframe \n",
        "  # and force them to have the right criteria.\n",
        "  else:\n",
        "      sample = df.sample(1)\n",
        "      sample['age'] = age\n",
        "      sample['sex'] = sex\n",
        "      sample['class'] = income_class\n",
        "      return sample\n",
        "    \n",
        "    \n",
        "# We'll test it out with one user.    \n",
        "get_cupid_match(cupid_filled, 35, 'm', 'First')"
      ],
      "execution_count": 0,
      "outputs": [
        {
          "output_type": "execute_result",
          "data": {
            "text/html": [
              "<div>\n",
              "<style scoped>\n",
              "    .dataframe tbody tr th:only-of-type {\n",
              "        vertical-align: middle;\n",
              "    }\n",
              "\n",
              "    .dataframe tbody tr th {\n",
              "        vertical-align: top;\n",
              "    }\n",
              "\n",
              "    .dataframe thead th {\n",
              "        text-align: right;\n",
              "    }\n",
              "</style>\n",
              "<table border=\"1\" class=\"dataframe\">\n",
              "  <thead>\n",
              "    <tr style=\"text-align: right;\">\n",
              "      <th></th>\n",
              "      <th>age</th>\n",
              "      <th>body_type</th>\n",
              "      <th>diet</th>\n",
              "      <th>drinks</th>\n",
              "      <th>drugs</th>\n",
              "      <th>education</th>\n",
              "      <th>ethnicity</th>\n",
              "      <th>height</th>\n",
              "      <th>income</th>\n",
              "      <th>job</th>\n",
              "      <th>offspring</th>\n",
              "      <th>orientation</th>\n",
              "      <th>sex</th>\n",
              "      <th>sign</th>\n",
              "      <th>smokes</th>\n",
              "      <th>class</th>\n",
              "    </tr>\n",
              "  </thead>\n",
              "  <tbody>\n",
              "    <tr>\n",
              "      <th>33932</th>\n",
              "      <td>35</td>\n",
              "      <td>fit</td>\n",
              "      <td>mostly anything</td>\n",
              "      <td>socially</td>\n",
              "      <td>never</td>\n",
              "      <td>graduated from law school</td>\n",
              "      <td>white</td>\n",
              "      <td>69.0</td>\n",
              "      <td>150000.0</td>\n",
              "      <td>law / legal services</td>\n",
              "      <td>doesn&amp;rsquo;t have kids</td>\n",
              "      <td>straight</td>\n",
              "      <td>m</td>\n",
              "      <td>capricorn and it&amp;rsquo;s fun to think about</td>\n",
              "      <td>no</td>\n",
              "      <td>First</td>\n",
              "    </tr>\n",
              "  </tbody>\n",
              "</table>\n",
              "</div>"
            ],
            "text/plain": [
              "       age body_type             diet    drinks  drugs  \\\n",
              "33932   35       fit  mostly anything  socially  never   \n",
              "\n",
              "                       education ethnicity  height    income  \\\n",
              "33932  graduated from law school     white    69.0  150000.0   \n",
              "\n",
              "                        job                offspring orientation sex  \\\n",
              "33932  law / legal services  doesn&rsquo;t have kids    straight   m   \n",
              "\n",
              "                                              sign smokes  class  \n",
              "33932  capricorn and it&rsquo;s fun to think about     no  First  "
            ]
          },
          "metadata": {
            "tags": []
          },
          "execution_count": 36
        }
      ]
    },
    {
      "metadata": {
        "id": "qs31lhVd7Cmm",
        "colab_type": "text"
      },
      "cell_type": "markdown",
      "source": [
        "Ok, so we know that we can get a matching user. All that's left is to loop through titanic looking at the 3 features that we need and grab the corresponding cupid match."
      ]
    },
    {
      "metadata": {
        "id": "G0KFWQPq6_9D",
        "colab_type": "code",
        "colab": {
          "autoexec": {
            "startup": false,
            "wait_interval": 0
          }
        }
      },
      "cell_type": "code",
      "source": [
        "# New DF to hold cupid matches.\n",
        "cupid_matches = pd.DataFrame() \n",
        "\n",
        "for person in range(titanic_adults.shape[0]):\n",
        "  \n",
        "  # Get info from titanic person\n",
        "  titanic_age = titanic_adults.iloc[person]['age']\n",
        "  titanic_sex = titanic_adults.iloc[person]['sex']\n",
        "  titanic_class = titanic_adults.iloc[person]['class']\n",
        "\n",
        "  # Grab the OKC match and add them to the cupid_matches dataframe\n",
        "  matching_person = get_cupid_match(cupid_filled, titanic_age, titanic_sex, titanic_class)\n",
        "  cupid_matches = cupid_matches.append(matching_person)"
      ],
      "execution_count": 0,
      "outputs": []
    },
    {
      "metadata": {
        "id": "sqJp9N307jMp",
        "colab_type": "code",
        "colab": {
          "autoexec": {
            "startup": false,
            "wait_interval": 0
          },
          "base_uri": "https://localhost:8080/",
          "height": 34
        },
        "outputId": "a4ef7e29-2bec-4ec5-8a11-a02ee09a413f",
        "executionInfo": {
          "status": "ok",
          "timestamp": 1524863221756,
          "user_tz": 300,
          "elapsed": 486,
          "user": {
            "displayName": "",
            "photoUrl": "",
            "userId": ""
          }
        }
      },
      "cell_type": "code",
      "source": [
        "cupid_matches.shape"
      ],
      "execution_count": 0,
      "outputs": [
        {
          "output_type": "execute_result",
          "data": {
            "text/plain": [
              "(674, 16)"
            ]
          },
          "metadata": {
            "tags": []
          },
          "execution_count": 38
        }
      ]
    },
    {
      "metadata": {
        "id": "7YP20rMX70ql",
        "colab_type": "code",
        "colab": {
          "autoexec": {
            "startup": false,
            "wait_interval": 0
          },
          "base_uri": "https://localhost:8080/",
          "height": 394
        },
        "outputId": "6ec54a6e-6484-4168-d0dc-31820d90b80e",
        "executionInfo": {
          "status": "ok",
          "timestamp": 1524863293361,
          "user_tz": 300,
          "elapsed": 486,
          "user": {
            "displayName": "",
            "photoUrl": "",
            "userId": ""
          }
        }
      },
      "cell_type": "code",
      "source": [
        "cupid_matches.head()"
      ],
      "execution_count": 0,
      "outputs": [
        {
          "output_type": "execute_result",
          "data": {
            "text/html": [
              "<div>\n",
              "<style scoped>\n",
              "    .dataframe tbody tr th:only-of-type {\n",
              "        vertical-align: middle;\n",
              "    }\n",
              "\n",
              "    .dataframe tbody tr th {\n",
              "        vertical-align: top;\n",
              "    }\n",
              "\n",
              "    .dataframe thead th {\n",
              "        text-align: right;\n",
              "    }\n",
              "</style>\n",
              "<table border=\"1\" class=\"dataframe\">\n",
              "  <thead>\n",
              "    <tr style=\"text-align: right;\">\n",
              "      <th></th>\n",
              "      <th>age</th>\n",
              "      <th>body_type</th>\n",
              "      <th>diet</th>\n",
              "      <th>drinks</th>\n",
              "      <th>drugs</th>\n",
              "      <th>education</th>\n",
              "      <th>ethnicity</th>\n",
              "      <th>height</th>\n",
              "      <th>income</th>\n",
              "      <th>job</th>\n",
              "      <th>offspring</th>\n",
              "      <th>orientation</th>\n",
              "      <th>sex</th>\n",
              "      <th>sign</th>\n",
              "      <th>smokes</th>\n",
              "      <th>class</th>\n",
              "    </tr>\n",
              "  </thead>\n",
              "  <tbody>\n",
              "    <tr>\n",
              "      <th>49535</th>\n",
              "      <td>22.0</td>\n",
              "      <td>average</td>\n",
              "      <td>mostly anything</td>\n",
              "      <td>socially</td>\n",
              "      <td>never</td>\n",
              "      <td>graduated from college/university</td>\n",
              "      <td>black, white</td>\n",
              "      <td>72.0</td>\n",
              "      <td>50000.0</td>\n",
              "      <td>other</td>\n",
              "      <td>doesn&amp;rsquo;t have kids, but wants them</td>\n",
              "      <td>straight</td>\n",
              "      <td>male</td>\n",
              "      <td>pisces but it doesn&amp;rsquo;t matter</td>\n",
              "      <td>no</td>\n",
              "      <td>Third</td>\n",
              "    </tr>\n",
              "    <tr>\n",
              "      <th>44754</th>\n",
              "      <td>38.0</td>\n",
              "      <td>a little extra</td>\n",
              "      <td>mostly anything</td>\n",
              "      <td>socially</td>\n",
              "      <td>never</td>\n",
              "      <td>working on space camp</td>\n",
              "      <td>white</td>\n",
              "      <td>74.0</td>\n",
              "      <td>30000.0</td>\n",
              "      <td>other</td>\n",
              "      <td>doesn&amp;rsquo;t have kids</td>\n",
              "      <td>straight</td>\n",
              "      <td>female</td>\n",
              "      <td>libra and it&amp;rsquo;s fun to think about</td>\n",
              "      <td>no</td>\n",
              "      <td>First</td>\n",
              "    </tr>\n",
              "    <tr>\n",
              "      <th>21811</th>\n",
              "      <td>26.0</td>\n",
              "      <td>curvy</td>\n",
              "      <td>mostly anything</td>\n",
              "      <td>socially</td>\n",
              "      <td>never</td>\n",
              "      <td>graduated from masters program</td>\n",
              "      <td>white</td>\n",
              "      <td>64.0</td>\n",
              "      <td>50000.0</td>\n",
              "      <td>other</td>\n",
              "      <td>doesn&amp;rsquo;t have kids</td>\n",
              "      <td>straight</td>\n",
              "      <td>female</td>\n",
              "      <td>gemini</td>\n",
              "      <td>no</td>\n",
              "      <td>Third</td>\n",
              "    </tr>\n",
              "    <tr>\n",
              "      <th>19651</th>\n",
              "      <td>35.0</td>\n",
              "      <td>athletic</td>\n",
              "      <td>mostly anything</td>\n",
              "      <td>socially</td>\n",
              "      <td>sometimes</td>\n",
              "      <td>working on two-year college</td>\n",
              "      <td>white</td>\n",
              "      <td>67.0</td>\n",
              "      <td>30000.0</td>\n",
              "      <td>executive / management</td>\n",
              "      <td>doesn&amp;rsquo;t have kids</td>\n",
              "      <td>straight</td>\n",
              "      <td>female</td>\n",
              "      <td>sagittarius but it doesn&amp;rsquo;t matter</td>\n",
              "      <td>yes</td>\n",
              "      <td>First</td>\n",
              "    </tr>\n",
              "    <tr>\n",
              "      <th>10767</th>\n",
              "      <td>35.0</td>\n",
              "      <td>fit</td>\n",
              "      <td>mostly anything</td>\n",
              "      <td>socially</td>\n",
              "      <td>sometimes</td>\n",
              "      <td>graduated from law school</td>\n",
              "      <td>white</td>\n",
              "      <td>71.0</td>\n",
              "      <td>50000.0</td>\n",
              "      <td>law / legal services</td>\n",
              "      <td>has kids</td>\n",
              "      <td>straight</td>\n",
              "      <td>male</td>\n",
              "      <td>taurus and it&amp;rsquo;s fun to think about</td>\n",
              "      <td>no</td>\n",
              "      <td>Third</td>\n",
              "    </tr>\n",
              "  </tbody>\n",
              "</table>\n",
              "</div>"
            ],
            "text/plain": [
              "        age       body_type             diet    drinks      drugs  \\\n",
              "49535  22.0         average  mostly anything  socially      never   \n",
              "44754  38.0  a little extra  mostly anything  socially      never   \n",
              "21811  26.0           curvy  mostly anything  socially      never   \n",
              "19651  35.0        athletic  mostly anything  socially  sometimes   \n",
              "10767  35.0             fit  mostly anything  socially  sometimes   \n",
              "\n",
              "                               education     ethnicity  height   income  \\\n",
              "49535  graduated from college/university  black, white    72.0  50000.0   \n",
              "44754              working on space camp         white    74.0  30000.0   \n",
              "21811     graduated from masters program         white    64.0  50000.0   \n",
              "19651        working on two-year college         white    67.0  30000.0   \n",
              "10767          graduated from law school         white    71.0  50000.0   \n",
              "\n",
              "                          job                                offspring  \\\n",
              "49535                   other  doesn&rsquo;t have kids, but wants them   \n",
              "44754                   other                  doesn&rsquo;t have kids   \n",
              "21811                   other                  doesn&rsquo;t have kids   \n",
              "19651  executive / management                  doesn&rsquo;t have kids   \n",
              "10767    law / legal services                                 has kids   \n",
              "\n",
              "      orientation     sex                                      sign smokes  \\\n",
              "49535    straight    male        pisces but it doesn&rsquo;t matter     no   \n",
              "44754    straight  female   libra and it&rsquo;s fun to think about     no   \n",
              "21811    straight  female                                    gemini     no   \n",
              "19651    straight  female   sagittarius but it doesn&rsquo;t matter    yes   \n",
              "10767    straight    male  taurus and it&rsquo;s fun to think about     no   \n",
              "\n",
              "       class  \n",
              "49535  Third  \n",
              "44754  First  \n",
              "21811  Third  \n",
              "19651  First  \n",
              "10767  Third  "
            ]
          },
          "metadata": {
            "tags": []
          },
          "execution_count": 39
        }
      ]
    },
    {
      "metadata": {
        "id": "slpro_S074ml",
        "colab_type": "code",
        "colab": {
          "autoexec": {
            "startup": false,
            "wait_interval": 0
          },
          "base_uri": "https://localhost:8080/",
          "height": 204
        },
        "outputId": "e44c197e-fc7c-4554-90b1-b4057447030c",
        "executionInfo": {
          "status": "ok",
          "timestamp": 1524863310460,
          "user_tz": 300,
          "elapsed": 469,
          "user": {
            "displayName": "",
            "photoUrl": "",
            "userId": ""
          }
        }
      },
      "cell_type": "code",
      "source": [
        "titanic_adults.head()"
      ],
      "execution_count": 0,
      "outputs": [
        {
          "output_type": "execute_result",
          "data": {
            "text/html": [
              "<div>\n",
              "<style scoped>\n",
              "    .dataframe tbody tr th:only-of-type {\n",
              "        vertical-align: middle;\n",
              "    }\n",
              "\n",
              "    .dataframe tbody tr th {\n",
              "        vertical-align: top;\n",
              "    }\n",
              "\n",
              "    .dataframe thead th {\n",
              "        text-align: right;\n",
              "    }\n",
              "</style>\n",
              "<table border=\"1\" class=\"dataframe\">\n",
              "  <thead>\n",
              "    <tr style=\"text-align: right;\">\n",
              "      <th></th>\n",
              "      <th>survived</th>\n",
              "      <th>sex</th>\n",
              "      <th>age</th>\n",
              "      <th>sibsp</th>\n",
              "      <th>parch</th>\n",
              "      <th>fare</th>\n",
              "      <th>class</th>\n",
              "      <th>deck</th>\n",
              "      <th>embark_town</th>\n",
              "      <th>alone</th>\n",
              "    </tr>\n",
              "  </thead>\n",
              "  <tbody>\n",
              "    <tr>\n",
              "      <th>0</th>\n",
              "      <td>0</td>\n",
              "      <td>male</td>\n",
              "      <td>22.0</td>\n",
              "      <td>1</td>\n",
              "      <td>0</td>\n",
              "      <td>7.2500</td>\n",
              "      <td>Third</td>\n",
              "      <td>NaN</td>\n",
              "      <td>Southampton</td>\n",
              "      <td>False</td>\n",
              "    </tr>\n",
              "    <tr>\n",
              "      <th>1</th>\n",
              "      <td>1</td>\n",
              "      <td>female</td>\n",
              "      <td>38.0</td>\n",
              "      <td>1</td>\n",
              "      <td>0</td>\n",
              "      <td>71.2833</td>\n",
              "      <td>First</td>\n",
              "      <td>C</td>\n",
              "      <td>Cherbourg</td>\n",
              "      <td>False</td>\n",
              "    </tr>\n",
              "    <tr>\n",
              "      <th>2</th>\n",
              "      <td>1</td>\n",
              "      <td>female</td>\n",
              "      <td>26.0</td>\n",
              "      <td>0</td>\n",
              "      <td>0</td>\n",
              "      <td>7.9250</td>\n",
              "      <td>Third</td>\n",
              "      <td>C</td>\n",
              "      <td>Southampton</td>\n",
              "      <td>True</td>\n",
              "    </tr>\n",
              "    <tr>\n",
              "      <th>3</th>\n",
              "      <td>1</td>\n",
              "      <td>female</td>\n",
              "      <td>35.0</td>\n",
              "      <td>1</td>\n",
              "      <td>0</td>\n",
              "      <td>53.1000</td>\n",
              "      <td>First</td>\n",
              "      <td>C</td>\n",
              "      <td>Southampton</td>\n",
              "      <td>False</td>\n",
              "    </tr>\n",
              "    <tr>\n",
              "      <th>4</th>\n",
              "      <td>0</td>\n",
              "      <td>male</td>\n",
              "      <td>35.0</td>\n",
              "      <td>0</td>\n",
              "      <td>0</td>\n",
              "      <td>8.0500</td>\n",
              "      <td>Third</td>\n",
              "      <td>C</td>\n",
              "      <td>Southampton</td>\n",
              "      <td>True</td>\n",
              "    </tr>\n",
              "  </tbody>\n",
              "</table>\n",
              "</div>"
            ],
            "text/plain": [
              "   survived     sex   age  sibsp  parch     fare  class deck  embark_town  \\\n",
              "0         0    male  22.0      1      0   7.2500  Third  NaN  Southampton   \n",
              "1         1  female  38.0      1      0  71.2833  First    C    Cherbourg   \n",
              "2         1  female  26.0      0      0   7.9250  Third    C  Southampton   \n",
              "3         1  female  35.0      1      0  53.1000  First    C  Southampton   \n",
              "4         0    male  35.0      0      0   8.0500  Third    C  Southampton   \n",
              "\n",
              "   alone  \n",
              "0  False  \n",
              "1  False  \n",
              "2   True  \n",
              "3  False  \n",
              "4   True  "
            ]
          },
          "metadata": {
            "tags": []
          },
          "execution_count": 40
        }
      ]
    },
    {
      "metadata": {
        "id": "uEWDgLLh8HxM",
        "colab_type": "text"
      },
      "cell_type": "markdown",
      "source": [
        "**Re-index the dataframes** \\\\\n",
        "Reindexing the dataframes will give us a unique and matching value for each observation in both datasets. This will make merging them oh so easy. Before reindexing you might want to double check your columns to make sure that the two datasets truly are in the same order so that you can be confident that the reindex will assigning the new indices correctly. I spot checked the data by printing a few things out above, but you could be more thorough with your own analysis. Let me know if I've made a mistake."
      ]
    },
    {
      "metadata": {
        "id": "TsHNdRna8L-x",
        "colab_type": "code",
        "colab": {
          "autoexec": {
            "startup": false,
            "wait_interval": 0
          }
        }
      },
      "cell_type": "code",
      "source": [
        "# Lets reindex both dataframes so that we can use the index as the unique identifier to merge them on.\n",
        "cupid_matches = cupid_matches.reset_index(drop=True)\n",
        "titanic_adults = titanic_adults.reset_index(drop=True)\n",
        "\n",
        "# Also, accessing the index in a merge is annoying, so lets create a new column \n",
        "# that we can access more directly to represent the row index.\n",
        "\n",
        "titanic_adults['merge_index'] = titanic_adults.index\n",
        "cupid_matches['merge_index'] = cupid_matches.index"
      ],
      "execution_count": 0,
      "outputs": []
    },
    {
      "metadata": {
        "id": "F17m1LFs8l6k",
        "colab_type": "code",
        "colab": {
          "autoexec": {
            "startup": false,
            "wait_interval": 0
          },
          "base_uri": "https://localhost:8080/",
          "height": 423
        },
        "outputId": "b59e85a7-4261-40b8-e7e5-ce97d654ad80",
        "executionInfo": {
          "status": "ok",
          "timestamp": 1524863507690,
          "user_tz": 300,
          "elapsed": 699,
          "user": {
            "displayName": "",
            "photoUrl": "",
            "userId": ""
          }
        }
      },
      "cell_type": "code",
      "source": [
        "final_df = pd.merge(titanic_adults, cupid_matches, on='merge_index')\n",
        "\n",
        "final_df.head()"
      ],
      "execution_count": 0,
      "outputs": [
        {
          "output_type": "execute_result",
          "data": {
            "text/html": [
              "<div>\n",
              "<style scoped>\n",
              "    .dataframe tbody tr th:only-of-type {\n",
              "        vertical-align: middle;\n",
              "    }\n",
              "\n",
              "    .dataframe tbody tr th {\n",
              "        vertical-align: top;\n",
              "    }\n",
              "\n",
              "    .dataframe thead th {\n",
              "        text-align: right;\n",
              "    }\n",
              "</style>\n",
              "<table border=\"1\" class=\"dataframe\">\n",
              "  <thead>\n",
              "    <tr style=\"text-align: right;\">\n",
              "      <th></th>\n",
              "      <th>survived</th>\n",
              "      <th>sex_x</th>\n",
              "      <th>age_x</th>\n",
              "      <th>sibsp</th>\n",
              "      <th>parch</th>\n",
              "      <th>fare</th>\n",
              "      <th>class_x</th>\n",
              "      <th>deck</th>\n",
              "      <th>embark_town</th>\n",
              "      <th>alone</th>\n",
              "      <th>...</th>\n",
              "      <th>ethnicity</th>\n",
              "      <th>height</th>\n",
              "      <th>income</th>\n",
              "      <th>job</th>\n",
              "      <th>offspring</th>\n",
              "      <th>orientation</th>\n",
              "      <th>sex_y</th>\n",
              "      <th>sign</th>\n",
              "      <th>smokes</th>\n",
              "      <th>class_y</th>\n",
              "    </tr>\n",
              "  </thead>\n",
              "  <tbody>\n",
              "    <tr>\n",
              "      <th>0</th>\n",
              "      <td>0</td>\n",
              "      <td>male</td>\n",
              "      <td>22.0</td>\n",
              "      <td>1</td>\n",
              "      <td>0</td>\n",
              "      <td>7.2500</td>\n",
              "      <td>Third</td>\n",
              "      <td>NaN</td>\n",
              "      <td>Southampton</td>\n",
              "      <td>False</td>\n",
              "      <td>...</td>\n",
              "      <td>black, white</td>\n",
              "      <td>72.0</td>\n",
              "      <td>50000.0</td>\n",
              "      <td>other</td>\n",
              "      <td>doesn&amp;rsquo;t have kids, but wants them</td>\n",
              "      <td>straight</td>\n",
              "      <td>male</td>\n",
              "      <td>pisces but it doesn&amp;rsquo;t matter</td>\n",
              "      <td>no</td>\n",
              "      <td>Third</td>\n",
              "    </tr>\n",
              "    <tr>\n",
              "      <th>1</th>\n",
              "      <td>1</td>\n",
              "      <td>female</td>\n",
              "      <td>38.0</td>\n",
              "      <td>1</td>\n",
              "      <td>0</td>\n",
              "      <td>71.2833</td>\n",
              "      <td>First</td>\n",
              "      <td>C</td>\n",
              "      <td>Cherbourg</td>\n",
              "      <td>False</td>\n",
              "      <td>...</td>\n",
              "      <td>white</td>\n",
              "      <td>74.0</td>\n",
              "      <td>30000.0</td>\n",
              "      <td>other</td>\n",
              "      <td>doesn&amp;rsquo;t have kids</td>\n",
              "      <td>straight</td>\n",
              "      <td>female</td>\n",
              "      <td>libra and it&amp;rsquo;s fun to think about</td>\n",
              "      <td>no</td>\n",
              "      <td>First</td>\n",
              "    </tr>\n",
              "    <tr>\n",
              "      <th>2</th>\n",
              "      <td>1</td>\n",
              "      <td>female</td>\n",
              "      <td>26.0</td>\n",
              "      <td>0</td>\n",
              "      <td>0</td>\n",
              "      <td>7.9250</td>\n",
              "      <td>Third</td>\n",
              "      <td>C</td>\n",
              "      <td>Southampton</td>\n",
              "      <td>True</td>\n",
              "      <td>...</td>\n",
              "      <td>white</td>\n",
              "      <td>64.0</td>\n",
              "      <td>50000.0</td>\n",
              "      <td>other</td>\n",
              "      <td>doesn&amp;rsquo;t have kids</td>\n",
              "      <td>straight</td>\n",
              "      <td>female</td>\n",
              "      <td>gemini</td>\n",
              "      <td>no</td>\n",
              "      <td>Third</td>\n",
              "    </tr>\n",
              "    <tr>\n",
              "      <th>3</th>\n",
              "      <td>1</td>\n",
              "      <td>female</td>\n",
              "      <td>35.0</td>\n",
              "      <td>1</td>\n",
              "      <td>0</td>\n",
              "      <td>53.1000</td>\n",
              "      <td>First</td>\n",
              "      <td>C</td>\n",
              "      <td>Southampton</td>\n",
              "      <td>False</td>\n",
              "      <td>...</td>\n",
              "      <td>white</td>\n",
              "      <td>67.0</td>\n",
              "      <td>30000.0</td>\n",
              "      <td>executive / management</td>\n",
              "      <td>doesn&amp;rsquo;t have kids</td>\n",
              "      <td>straight</td>\n",
              "      <td>female</td>\n",
              "      <td>sagittarius but it doesn&amp;rsquo;t matter</td>\n",
              "      <td>yes</td>\n",
              "      <td>First</td>\n",
              "    </tr>\n",
              "    <tr>\n",
              "      <th>4</th>\n",
              "      <td>0</td>\n",
              "      <td>male</td>\n",
              "      <td>35.0</td>\n",
              "      <td>0</td>\n",
              "      <td>0</td>\n",
              "      <td>8.0500</td>\n",
              "      <td>Third</td>\n",
              "      <td>C</td>\n",
              "      <td>Southampton</td>\n",
              "      <td>True</td>\n",
              "      <td>...</td>\n",
              "      <td>white</td>\n",
              "      <td>71.0</td>\n",
              "      <td>50000.0</td>\n",
              "      <td>law / legal services</td>\n",
              "      <td>has kids</td>\n",
              "      <td>straight</td>\n",
              "      <td>male</td>\n",
              "      <td>taurus and it&amp;rsquo;s fun to think about</td>\n",
              "      <td>no</td>\n",
              "      <td>Third</td>\n",
              "    </tr>\n",
              "  </tbody>\n",
              "</table>\n",
              "<p>5 rows × 27 columns</p>\n",
              "</div>"
            ],
            "text/plain": [
              "   survived   sex_x  age_x  sibsp  parch     fare class_x deck  embark_town  \\\n",
              "0         0    male   22.0      1      0   7.2500   Third  NaN  Southampton   \n",
              "1         1  female   38.0      1      0  71.2833   First    C    Cherbourg   \n",
              "2         1  female   26.0      0      0   7.9250   Third    C  Southampton   \n",
              "3         1  female   35.0      1      0  53.1000   First    C  Southampton   \n",
              "4         0    male   35.0      0      0   8.0500   Third    C  Southampton   \n",
              "\n",
              "   alone   ...        ethnicity  height   income                     job  \\\n",
              "0  False   ...     black, white    72.0  50000.0                   other   \n",
              "1  False   ...            white    74.0  30000.0                   other   \n",
              "2   True   ...            white    64.0  50000.0                   other   \n",
              "3  False   ...            white    67.0  30000.0  executive / management   \n",
              "4   True   ...            white    71.0  50000.0    law / legal services   \n",
              "\n",
              "                                 offspring orientation   sex_y  \\\n",
              "0  doesn&rsquo;t have kids, but wants them    straight    male   \n",
              "1                  doesn&rsquo;t have kids    straight  female   \n",
              "2                  doesn&rsquo;t have kids    straight  female   \n",
              "3                  doesn&rsquo;t have kids    straight  female   \n",
              "4                                 has kids    straight    male   \n",
              "\n",
              "                                       sign  smokes  class_y  \n",
              "0        pisces but it doesn&rsquo;t matter      no    Third  \n",
              "1   libra and it&rsquo;s fun to think about      no    First  \n",
              "2                                    gemini      no    Third  \n",
              "3   sagittarius but it doesn&rsquo;t matter     yes    First  \n",
              "4  taurus and it&rsquo;s fun to think about      no    Third  \n",
              "\n",
              "[5 rows x 27 columns]"
            ]
          },
          "metadata": {
            "tags": []
          },
          "execution_count": 43
        }
      ]
    },
    {
      "metadata": {
        "id": "sPKWsSzC8yon",
        "colab_type": "code",
        "colab": {
          "autoexec": {
            "startup": false,
            "wait_interval": 0
          },
          "base_uri": "https://localhost:8080/",
          "height": 34
        },
        "outputId": "23bd3a0a-aab8-476a-9a0e-55ba18ac7933",
        "executionInfo": {
          "status": "ok",
          "timestamp": 1524863547636,
          "user_tz": 300,
          "elapsed": 511,
          "user": {
            "displayName": "",
            "photoUrl": "",
            "userId": ""
          }
        }
      },
      "cell_type": "code",
      "source": [
        "final_df.shape"
      ],
      "execution_count": 0,
      "outputs": [
        {
          "output_type": "execute_result",
          "data": {
            "text/plain": [
              "(674, 27)"
            ]
          },
          "metadata": {
            "tags": []
          },
          "execution_count": 44
        }
      ]
    },
    {
      "metadata": {
        "id": "6m3lEnAA82_C",
        "colab_type": "code",
        "colab": {
          "autoexec": {
            "startup": false,
            "wait_interval": 0
          },
          "base_uri": "https://localhost:8080/",
          "height": 51
        },
        "outputId": "f0579e77-023c-41e1-8caa-51f9bde9ddbc",
        "executionInfo": {
          "status": "ok",
          "timestamp": 1524863565880,
          "user_tz": 300,
          "elapsed": 533,
          "user": {
            "displayName": "",
            "photoUrl": "",
            "userId": ""
          }
        }
      },
      "cell_type": "code",
      "source": [
        "final_df.duplicated().value_counts()"
      ],
      "execution_count": 0,
      "outputs": [
        {
          "output_type": "execute_result",
          "data": {
            "text/plain": [
              "False    674\n",
              "dtype: int64"
            ]
          },
          "metadata": {
            "tags": []
          },
          "execution_count": 45
        }
      ]
    },
    {
      "metadata": {
        "id": "uKz05yQLwqMU",
        "colab_type": "text"
      },
      "cell_type": "markdown",
      "source": [
        ""
      ]
    },
    {
      "metadata": {
        "id": "FMnMRs4NrpEB",
        "colab_type": "text"
      },
      "cell_type": "markdown",
      "source": [
        "### Benchmark\n",
        "\n",
        "The titanic dataset is very popular for beginning Data Science training.\n",
        "\n",
        "Your final dataset should perfectly match these two obvious and famous benchmarks of the titanic data, with other new, interesting analysis available from your combinations:"
      ]
    },
    {
      "metadata": {
        "id": "jL2b-emDr1Hj",
        "colab_type": "code",
        "colab": {
          "autoexec": {
            "startup": false,
            "wait_interval": 0
          },
          "base_uri": "https://localhost:8080/",
          "height": 142
        },
        "outputId": "3dca1e95-07d7-475a-b930-f11c96d48fad",
        "executionInfo": {
          "status": "ok",
          "timestamp": 1524863579993,
          "user_tz": 300,
          "elapsed": 605,
          "user": {
            "displayName": "",
            "photoUrl": "",
            "userId": ""
          }
        }
      },
      "cell_type": "code",
      "source": [
        "titanic.groupby('sex')[['survived']].mean()"
      ],
      "execution_count": 0,
      "outputs": [
        {
          "output_type": "execute_result",
          "data": {
            "text/html": [
              "<div>\n",
              "<style scoped>\n",
              "    .dataframe tbody tr th:only-of-type {\n",
              "        vertical-align: middle;\n",
              "    }\n",
              "\n",
              "    .dataframe tbody tr th {\n",
              "        vertical-align: top;\n",
              "    }\n",
              "\n",
              "    .dataframe thead th {\n",
              "        text-align: right;\n",
              "    }\n",
              "</style>\n",
              "<table border=\"1\" class=\"dataframe\">\n",
              "  <thead>\n",
              "    <tr style=\"text-align: right;\">\n",
              "      <th></th>\n",
              "      <th>survived</th>\n",
              "    </tr>\n",
              "    <tr>\n",
              "      <th>sex</th>\n",
              "      <th></th>\n",
              "    </tr>\n",
              "  </thead>\n",
              "  <tbody>\n",
              "    <tr>\n",
              "      <th>female</th>\n",
              "      <td>0.740614</td>\n",
              "    </tr>\n",
              "    <tr>\n",
              "      <th>male</th>\n",
              "      <td>0.215886</td>\n",
              "    </tr>\n",
              "  </tbody>\n",
              "</table>\n",
              "</div>"
            ],
            "text/plain": [
              "        survived\n",
              "sex             \n",
              "female  0.740614\n",
              "male    0.215886"
            ]
          },
          "metadata": {
            "tags": []
          },
          "execution_count": 46
        }
      ]
    },
    {
      "metadata": {
        "id": "0EYtEZ6Gr3CC",
        "colab_type": "code",
        "colab": {
          "autoexec": {
            "startup": false,
            "wait_interval": 0
          },
          "base_uri": "https://localhost:8080/",
          "height": 142
        },
        "outputId": "5276c657-8ab3-4c29-d66d-ffa4d0b56096",
        "executionInfo": {
          "status": "ok",
          "timestamp": 1524863585840,
          "user_tz": 300,
          "elapsed": 588,
          "user": {
            "displayName": "",
            "photoUrl": "",
            "userId": ""
          }
        }
      },
      "cell_type": "code",
      "source": [
        "titanic.groupby(['sex', 'class'])['survived'].aggregate('mean').unstack()"
      ],
      "execution_count": 0,
      "outputs": [
        {
          "output_type": "execute_result",
          "data": {
            "text/html": [
              "<div>\n",
              "<style scoped>\n",
              "    .dataframe tbody tr th:only-of-type {\n",
              "        vertical-align: middle;\n",
              "    }\n",
              "\n",
              "    .dataframe tbody tr th {\n",
              "        vertical-align: top;\n",
              "    }\n",
              "\n",
              "    .dataframe thead th {\n",
              "        text-align: right;\n",
              "    }\n",
              "</style>\n",
              "<table border=\"1\" class=\"dataframe\">\n",
              "  <thead>\n",
              "    <tr style=\"text-align: right;\">\n",
              "      <th>class</th>\n",
              "      <th>First</th>\n",
              "      <th>Second</th>\n",
              "      <th>Third</th>\n",
              "    </tr>\n",
              "    <tr>\n",
              "      <th>sex</th>\n",
              "      <th></th>\n",
              "      <th></th>\n",
              "      <th></th>\n",
              "    </tr>\n",
              "  </thead>\n",
              "  <tbody>\n",
              "    <tr>\n",
              "      <th>female</th>\n",
              "      <td>0.967742</td>\n",
              "      <td>0.917808</td>\n",
              "      <td>0.472441</td>\n",
              "    </tr>\n",
              "    <tr>\n",
              "      <th>male</th>\n",
              "      <td>0.371901</td>\n",
              "      <td>0.184783</td>\n",
              "      <td>0.158273</td>\n",
              "    </tr>\n",
              "  </tbody>\n",
              "</table>\n",
              "</div>"
            ],
            "text/plain": [
              "class      First    Second     Third\n",
              "sex                                 \n",
              "female  0.967742  0.917808  0.472441\n",
              "male    0.371901  0.184783  0.158273"
            ]
          },
          "metadata": {
            "tags": []
          },
          "execution_count": 47
        }
      ]
    },
    {
      "metadata": {
        "id": "hIImiG28QAb-",
        "colab_type": "text"
      },
      "cell_type": "markdown",
      "source": [
        "### Suggested search terms\n",
        "\n",
        "python pandas replace columns\n",
        "\n",
        "python pandas concatenate columns\n",
        "\n",
        "python pandas concatenate rows\n",
        "\n",
        "python pandas remove duplicates\n",
        "\n",
        "python pandas merge and join records"
      ]
    },
    {
      "metadata": {
        "id": "D8K8brpnuwCn",
        "colab_type": "text"
      },
      "cell_type": "markdown",
      "source": [
        "\n",
        "# Stretch goal\n",
        "\n",
        "Analyze the data in your new titanic dataset using the visualization tutorials found here:\n",
        "\n",
        "\n",
        "[Seaborn plots](https://jakevdp.github.io/PythonDataScienceHandbook/04.14-visualization-with-seaborn.html)"
      ]
    }
  ]
}