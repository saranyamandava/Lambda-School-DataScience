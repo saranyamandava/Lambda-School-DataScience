{
  "nbformat": 4,
  "nbformat_minor": 0,
  "metadata": {
    "colab": {
      "name": "Week1_Finite Difference Coding Challenge_2.ipynb",
      "version": "0.3.2",
      "views": {},
      "default_view": {},
      "provenance": [
        {
          "file_id": "1LNeef9eqrAgrDLeqOmaPvFw41cMm7w8F",
          "timestamp": 1532460012061
        },
        {
          "file_id": "1Qi1Xg6gq1fIc3KueI2_cI09bpr_hveFo",
          "timestamp": 1522767441639
        }
      ],
      "collapsed_sections": []
    },
    "kernelspec": {
      "name": "python3",
      "display_name": "Python 3"
    }
  },
  "cells": [
    {
      "metadata": {
        "id": "OWyOlHG2DJmm",
        "colab_type": "text"
      },
      "cell_type": "markdown",
      "source": [
        "There are two derivatives that we can take programmatically: the first is the analytical, or exact, derivative of a function. This is the 'real' derivative. If we have a nice equation describing the function, we can deduce a nice equation describing the function's derivative. A traditional first course in calculus is mostly about learning to do this by hand. The second type of derivative is the numerical derivative of a function. If we can't or don't want to calculate the exact derivative, we use the numerical derivative as an approximate substitute. This is fine for many purposes. especially when we're working with messy data that has some uncertainty in it to begin with.\n",
        "\n",
        "### The analytical derivative of a function\n",
        "The analytical derivative of a function `f(x) = x^n` is equal to `nx^(n-1)`. You can apply this rule to any function in order to calculate its derivative.\n",
        "\n",
        "[Sympy](http://www.sympygamma.com) can calculate the analytical derivative of a function. \n",
        "\n",
        "\n",
        "### The numerical derivative of a function\n",
        "When we know the function and it's not too complicated, it is usually easiest to find the analytical derivative of the function and then use it to calculate the derivative at some value `x`. When we don't have a nice equation describing our function, we can use the \"finite difference\" method to calculate the derivative at value `x`.\n",
        "\n",
        "To start, let's look at the definition of the exact derivative f'(x). It goes something like this: first, calculate the difference between f(x + 0.1) and f(x), divided by 0.1:\n",
        "\n",
        "`[f(x + 0.1) - f(x)] / 0.1`\n",
        "\n",
        "We think of this as a \"small change in f per small change in x.\" Now make the difference smaller:\n",
        "\n",
        "`[f(x + 0.01) - f(x)] / 0.01`\n",
        "\n",
        "Now even smaller:\n",
        "\n",
        "[f(x + 0.001) - f(x)] / 0.001`\n",
        "\n",
        "If our function has a derivative at all (and not all functions do, although most every function we'll work with does), as we make the finite difference smaller and smaller this ratio will settle down to some definite number. f'(x) is, by definition, the value it settles down to. But this gives us a useful way to approximate f'(x): rather than calculating what the ratio settles down to as the finite difference (or \"step size\") grows infinitely small, we can just use a small *enough* step size. The smaller the step size, the better an approximation we can expect. For example, the ratio\n",
        "\n",
        "`[f(x + 0.000001) - f(x)] / 0.000001`\n",
        "\n",
        "is an excellent approximation to f'(x).\n"
      ]
    },
    {
      "metadata": {
        "id": "8cKfkHHlBLJm",
        "colab_type": "text"
      },
      "cell_type": "markdown",
      "source": [
        "## Symbolic derivative\n",
        "\n",
        "This graph shows the derivative of $sin(x)$, $cos(x)$. Because we already know the derivative of $sin(x)$ symbolically, it is easy to compute the derivative and graph it.\n",
        "\n",
        "Not the offset in plotting the derivative, `plt.plot(x,d_x*x+d_x-0.67,'r')`: `d_x*x` is the equation for a line slope, and `d_x-0.67` is the `y` intercept so that we can lay the derivative line on top of the `sin` function that it is derivative of."
      ]
    },
    {
      "metadata": {
        "id": "DWMdd5JfGObD",
        "colab_type": "code",
        "colab": {
          "autoexec": {
            "startup": false,
            "wait_interval": 0
          },
          "base_uri": "https://localhost:8080/",
          "height": 364
        },
        "outputId": "b1f3094f-b242-4b97-fac2-a1aa69e0909d",
        "executionInfo": {
          "status": "ok",
          "timestamp": 1532460143502,
          "user_tz": 300,
          "elapsed": 648,
          "user": {
            "displayName": "saranya Mandava",
            "photoUrl": "https://lh3.googleusercontent.com/a/default-user=s128",
            "userId": "111547944025536722337"
          }
        }
      },
      "cell_type": "code",
      "source": [
        "import numpy as np\n",
        "import matplotlib.pyplot as plt\n",
        "\n",
        "x = np.linspace(-4,np.pi,100)\n",
        "sin_x = np.sin(x)\n",
        "plt.plot(x,sin_x)\n",
        "d_x = np.cos(0.67)\n",
        "plt.plot(x,d_x*x+d_x-0.67,'r')\n",
        "plt.axvline(0.67,color=\"gray\")"
      ],
      "execution_count": 1,
      "outputs": [
        {
          "output_type": "execute_result",
          "data": {
            "text/plain": [
              "<matplotlib.lines.Line2D at 0x7fdbf51cf240>"
            ]
          },
          "metadata": {
            "tags": []
          },
          "execution_count": 1
        },
        {
          "output_type": "display_data",
          "data": {
            "image/png": "[encoded data removed]",
            "text/plain": [
              "<matplotlib.figure.Figure at 0x7fdbf51cf278>"
            ]
          },
          "metadata": {
            "tags": []
          }
        }
      ]
    },
    {
      "metadata": {
        "id": "VeF0lNJKCpcD",
        "colab_type": "text"
      },
      "cell_type": "markdown",
      "source": [
        "*italicized text*### Finite Difference - Your Assignment\n",
        "\n",
        "When we calculate finite differences using tabular data in an array form, we can only calculate the derivative using the values that exist in the array.\n",
        "\n",
        "The derivative at any point `p` in an array of data `y`, a function of `x`, is simply `(y[p+1]-y[p]) / (x[p+1]-x[p])`.\n"
      ]
    },
    {
      "metadata": {
        "id": "AIiHpEpdHbIZ",
        "colab_type": "code",
        "colab": {
          "autoexec": {
            "startup": false,
            "wait_interval": 0
          },
          "base_uri": "https://localhost:8080/",
          "height": 551
        },
        "outputId": "92e948f6-7c42-490b-92c4-d70b2843c0e6",
        "executionInfo": {
          "status": "ok",
          "timestamp": 1532460148107,
          "user_tz": 300,
          "elapsed": 446,
          "user": {
            "displayName": "saranya Mandava",
            "photoUrl": "https://lh3.googleusercontent.com/a/default-user=s128",
            "userId": "111547944025536722337"
          }
        }
      },
      "cell_type": "code",
      "source": [
        "import numpy as np\n",
        "import matplotlib.pyplot as plt\n",
        "\n",
        "# create your input array\n",
        "x = [-7, -5, -3, -1, 1, 3, 5, 7, 8]\n",
        "\n",
        "# fill it with values from a hand drawn -sigmoid-ish function\n",
        "y = [4, 3, 1.5, 0.3, -1.8, -3, -4, -4.1, -4]\n",
        "\n",
        "# tranpose it so it looks like the lecture matrix\n",
        "y = np.matrix([[-7, -5, -3, -1, 1, 3, 5, 7, 8],[4, 3, 1.5, 0.3, -1.8, -3, -4, -4.1, -4]])\n",
        "print(y)\n",
        "print(y.T)\n",
        "y = y.T\n",
        "\n",
        "# plot it as a sanity test:\n",
        "plt.plot(y[::,0:1:],y[::,1:2:],'ro')\n",
        "\n"
      ],
      "execution_count": 2,
      "outputs": [
        {
          "output_type": "stream",
          "text": [
            "[[-7.  -5.  -3.  -1.   1.   3.   5.   7.   8. ]\n",
            " [ 4.   3.   1.5  0.3 -1.8 -3.  -4.  -4.1 -4. ]]\n",
            "[[-7.   4. ]\n",
            " [-5.   3. ]\n",
            " [-3.   1.5]\n",
            " [-1.   0.3]\n",
            " [ 1.  -1.8]\n",
            " [ 3.  -3. ]\n",
            " [ 5.  -4. ]\n",
            " [ 7.  -4.1]\n",
            " [ 8.  -4. ]]\n"
          ],
          "name": "stdout"
        },
        {
          "output_type": "execute_result",
          "data": {
            "text/plain": [
              "[<matplotlib.lines.Line2D at 0x7fdbf2917080>]"
            ]
          },
          "metadata": {
            "tags": []
          },
          "execution_count": 2
        },
        {
          "output_type": "display_data",
          "data": {
            "image/png": "[encoded data removed]",
            "text/plain": [
              "<matplotlib.figure.Figure at 0x7fdbf51c4898>"
            ]
          },
          "metadata": {
            "tags": []
          }
        }
      ]
    },
    {
      "metadata": {
        "id": "4I992J5Ij176",
        "colab_type": "text"
      },
      "cell_type": "markdown",
      "source": [
        "# Linear interpolation between two values\n",
        "\n",
        "Filling in for data that is missing\n",
        "\n"
      ]
    },
    {
      "metadata": {
        "id": "usQ1YRkEj9W6",
        "colab_type": "code",
        "colab": {
          "autoexec": {
            "startup": false,
            "wait_interval": 0
          },
          "base_uri": "https://localhost:8080/",
          "height": 385
        },
        "outputId": "a8b39596-772e-44b3-f84a-8273f6cace78",
        "executionInfo": {
          "status": "ok",
          "timestamp": 1532460152748,
          "user_tz": 300,
          "elapsed": 424,
          "user": {
            "displayName": "saranya Mandava",
            "photoUrl": "https://lh3.googleusercontent.com/a/default-user=s128",
            "userId": "111547944025536722337"
          }
        }
      },
      "cell_type": "code",
      "source": [
        "def interpolate(x,x_prime,fraction):\n",
        "  # fraction must be between 0 and 1\n",
        "  return x+(x_prime*fraction - x*(1.0-fraction))\n",
        "  \n",
        "m = np.matrix([[1,3],[-1.8,-3]]).T\n",
        "plt.plot(m[::,0:1:],m[::,1:2:],'ro')\n",
        "plt.plot(m[::,0:1:],m[::,1:2:],'black')\n",
        "plt.xlim((-7,8))\n",
        "plt.ylim((-5,4))\n",
        "x_at = 2.0\n",
        "plt.axvline(x_at,color=\"gray\")\n",
        "\n",
        "x_values = m[::,0:1:]\n",
        "y_values = m[::,1:2:]\n",
        "\n",
        "\n",
        "fraction = (x_at-x_values[0])/(x_values[1]-x_values[0])\n",
        "y_interpolated = interpolate(y_values[0],y_values[1],fraction)\n",
        "\n",
        "\n",
        "\n",
        "print(y_interpolated)\n",
        "plt.axhline(y_interpolated,color=\"gray\")\n"
      ],
      "execution_count": 3,
      "outputs": [
        {
          "output_type": "stream",
          "text": [
            "[[-2.4]]\n"
          ],
          "name": "stdout"
        },
        {
          "output_type": "execute_result",
          "data": {
            "text/plain": [
              "<matplotlib.lines.Line2D at 0x7fdbf28417b8>"
            ]
          },
          "metadata": {
            "tags": []
          },
          "execution_count": 3
        },
        {
          "output_type": "display_data",
          "data": {
            "image/png": "[encoded data removed]",
            "text/plain": [
              "<matplotlib.figure.Figure at 0x7fdbf290b048>"
            ]
          },
          "metadata": {
            "tags": []
          }
        }
      ]
    },
    {
      "metadata": {
        "id": "xJ4Htp4qX2Lt",
        "colab_type": "code",
        "colab": {
          "autoexec": {
            "startup": false,
            "wait_interval": 0
          },
          "base_uri": "https://localhost:8080/",
          "height": 364
        },
        "outputId": "e48aa0c1-4858-49f7-f387-fb5350959b80",
        "executionInfo": {
          "status": "ok",
          "timestamp": 1532460156426,
          "user_tz": 300,
          "elapsed": 537,
          "user": {
            "displayName": "saranya Mandava",
            "photoUrl": "https://lh3.googleusercontent.com/a/default-user=s128",
            "userId": "111547944025536722337"
          }
        }
      },
      "cell_type": "code",
      "source": [
        "# Lets actually compute the finite difference\n",
        "\n",
        "def d_f_x_finite_difference(x_array,f_x,at_x):\n",
        "  upper = np.argmax(x_array>at_x)\n",
        "  lower = upper-1\n",
        "  if(upper==0):\n",
        "    upper = 1\n",
        "    lower = 0\n",
        "  return ((f_x[upper]-f_x[lower])/(x_array[upper]-x_array[lower]))\n",
        "\n",
        "\n",
        "\n",
        "# choose a value along x to compute the derivative\n",
        "at_x = 6\n",
        "\n",
        "# compute the derivative with d_f_x_finite_difference\n",
        "d_x = d_f_x_finite_difference(y[::,0:1:],y[::,1:2:],at_x)\n",
        "\n",
        "# interpolate the value of x at `at_x` because we don't have \n",
        "# a sample there\n",
        "x_samples = y[::,0:1:]\n",
        "y_samples = y[::,1:2:]\n",
        "\n",
        "x_argm = np.argmax(x_samples>at_x)\n",
        "x_upper = x_samples[x_argm]\n",
        "x_lower = x_samples[x_argm-1]\n",
        "\n",
        "fraction = (at_x-x_lower)/(x_upper-x_lower)\n",
        "y_interpolated = interpolate(y_samples[x_argm-1],y_samples[x_argm],fraction)\n",
        "\n",
        "# graph the derivative as a line of the form y = mx+b\n",
        "mxb = d_x*x_samples.T - d_x*at_x+y_interpolated\n",
        "mxb = np.matrix(mxb).T\n",
        "\n",
        "plt.plot(y[::,0:1:],y[::,1:2:],'r')\n",
        "plt.plot(y[::,0:1:],mxb,'b')\n",
        "\n",
        "# getting `b` right is tricky, but the mx part is easy"
      ],
      "execution_count": 4,
      "outputs": [
        {
          "output_type": "execute_result",
          "data": {
            "text/plain": [
              "[<matplotlib.lines.Line2D at 0x7fdbf2833a58>]"
            ]
          },
          "metadata": {
            "tags": []
          },
          "execution_count": 4
        },
        {
          "output_type": "display_data",
          "data": {
            "image/png": "[encoded data removed]",
            "text/plain": [
              "<matplotlib.figure.Figure at 0x7fdbf28f3d68>"
            ]
          },
          "metadata": {
            "tags": []
          }
        }
      ]
    },
    {
      "metadata": {
        "id": "tlye6rREY3Qc",
        "colab_type": "code",
        "colab": {
          "autoexec": {
            "startup": false,
            "wait_interval": 0
          }
        }
      },
      "cell_type": "code",
      "source": [
        "# Hypothetically:\n",
        "\n",
        "# Hey, we measured hypoconfabulator after configuring at 1.2 bar pressure,\n",
        "# here are the values:\n",
        "\n",
        "y = [9, 2, 3, 9, 1, 4, 4, 2] \n",
        "x = [0, 1, 2, 3, 4, 5, 6, 7] # We were not given x, x is simply the\n",
        "# indices of the y array"
      ],
      "execution_count": 0,
      "outputs": []
    }
  ]
}