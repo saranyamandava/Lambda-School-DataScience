{
  "nbformat": 4,
  "nbformat_minor": 0,
  "metadata": {
    "colab": {
      "name": "Week1 Vector Mean Coding Challenge - 3.ipynb",
      "version": "0.3.2",
      "views": {},
      "default_view": {},
      "provenance": [
        {
          "file_id": "11vkypJApb_0RZFQxC47Kz-uUt5pQs1CF",
          "timestamp": 1522863878010
        },
        {
          "file_id": "1ZA73SQpZwa4rArNigO2HHMpCNHrRPRXr",
          "timestamp": 1522853996311
        }
      ],
      "collapsed_sections": []
    },
    "kernelspec": {
      "name": "python3",
      "display_name": "Python 3"
    }
  },
  "cells": [
    {
      "metadata": {
        "id": "pvORCN22-kUH",
        "colab_type": "code",
        "colab": {
          "autoexec": {
            "startup": false,
            "wait_interval": 0
          }
        }
      },
      "cell_type": "code",
      "source": [
        "import numpy as np"
      ],
      "execution_count": 0,
      "outputs": []
    },
    {
      "metadata": {
        "id": "P02PwVyLCkLE",
        "colab_type": "text"
      },
      "cell_type": "markdown",
      "source": [
        "Write a function that takes in a vector (in the form of a 1D numpy array) and returns the average value across its components.\n",
        "\n",
        "For example, [4,2] should return 3 and [5, 6, 7, 8] should return 6.5. You can assume the vector will have at least one coomponent."
      ]
    },
    {
      "metadata": {
        "id": "dmtDPKX9CsX0",
        "colab_type": "code",
        "colab": {
          "autoexec": {
            "startup": false,
            "wait_interval": 0
          },
          "base_uri": "https://localhost:8080/",
          "height": 34
        },
        "outputId": "1be0e386-c07e-4921-ec17-6e0026774c8b",
        "executionInfo": {
          "status": "ok",
          "timestamp": 1522860815788,
          "user_tz": 300,
          "elapsed": 310,
          "user": {
            "displayName": "",
            "photoUrl": "",
            "userId": ""
          }
        }
      },
      "cell_type": "code",
      "source": [
        "def average(vector):\n",
        " a = sum(vector)\n",
        " b = vector.size \n",
        " return a/b\n",
        "c = average(np.array([1,2,3,4]))\n",
        "print (c)\n"
      ],
      "execution_count": 0,
      "outputs": [
        {
          "output_type": "stream",
          "text": [
            "2.5\n"
          ],
          "name": "stdout"
        }
      ]
    },
    {
      "metadata": {
        "id": "f0HXg2gTKR8B",
        "colab_type": "text"
      },
      "cell_type": "markdown",
      "source": [
        "Let's see if it worked:"
      ]
    },
    {
      "metadata": {
        "id": "2lrtNAjYKThU",
        "colab_type": "code",
        "colab": {
          "autoexec": {
            "startup": false,
            "wait_interval": 0
          },
          "base_uri": "https://localhost:8080/",
          "height": 136
        },
        "outputId": "9947d751-686e-4b61-83a8-37a46e60d577",
        "executionInfo": {
          "status": "ok",
          "timestamp": 1522857040836,
          "user_tz": 300,
          "elapsed": 317,
          "user": {
            "displayName": "",
            "photoUrl": "",
            "userId": ""
          }
        }
      },
      "cell_type": "code",
      "source": [
        "testSet = [[np.array([1, 2, 3, 4]), 2.5],\n",
        "        [np.array([18, 65, 11]), 94/3],\n",
        "        [np.array([10]), 10],\n",
        "        [np.array([-8]), -8],\n",
        "        [np.array([-4,-1,-2]), -7/3],\n",
        "        [np.array([0,0,0]), 0],\n",
        "        [np.array([-10,10]), 0]]\n",
        "\n",
        "for test in testSet:\n",
        "  if (average(test[0]) == test[1]):\n",
        "    print (\"Correct result\")\n",
        "  else:\n",
        "    print (\"Incorrect result\")"
      ],
      "execution_count": 0,
      "outputs": [
        {
          "output_type": "stream",
          "text": [
            "Correct result\n",
            "Correct result\n",
            "Correct result\n",
            "Correct result\n",
            "Correct result\n",
            "Correct result\n",
            "Correct result\n"
          ],
          "name": "stdout"
        }
      ]
    },
    {
      "metadata": {
        "id": "Jp20wSX3LPUF",
        "colab_type": "text"
      },
      "cell_type": "markdown",
      "source": [
        "## Bonus Challenge\n",
        "\n",
        "`testSet` is a small group of points. Rearrange the values in testSet to be 2d, then rotate them around their centroid by 45 degrees."
      ]
    },
    {
      "metadata": {
        "id": "EcpeYCxFLud2",
        "colab_type": "code",
        "colab": {
          "autoexec": {
            "startup": false,
            "wait_interval": 0
          },
          "base_uri": "https://localhost:8080/",
          "height": 755
        },
        "outputId": "2d0684b9-e81f-4318-e765-1cb26cc6c8ab",
        "executionInfo": {
          "status": "ok",
          "timestamp": 1522863859906,
          "user_tz": 300,
          "elapsed": 593,
          "user": {
            "displayName": "",
            "photoUrl": "",
            "userId": ""
          }
        }
      },
      "cell_type": "code",
      "source": [
        "import matplotlib.pyplot as plt\n",
        "# rearrange\n",
        "new = []\n",
        "for test in testSet:\n",
        "  y = test[0].flatten()\n",
        "  new.append(y.flatten())\n",
        "result = np.concatenate(new)\n",
        "print (result) \n",
        "print (result.shape)\n",
        "result = np.append(result,0)\n",
        "result = np.matrix(result)\n",
        "print (result)\n",
        "z = result.reshape((2,-1))\n",
        "print(z)\n",
        "# find centroid\n",
        "centroid = np.mean(z,1)\n",
        "print (centroid)\n",
        "plt.plot(centroid[0],centroid[1],'gv')\n",
        "# translate\n",
        "centered = z - centroid\n",
        "print (centered)\n",
        "plt.plot(centered[0:1,::],centered[1:2,::],'bo')\n",
        "# rotate\n",
        "theta = np.pi/4\n",
        "r = np.matrix([[np.cos(theta),-np.sin(theta)],[np.sin(theta),np.cos(theta)]])\n",
        "rotated = r*centered\n",
        "print (rotated)\n",
        "plt.plot(rotated[0:1,::],rotated[1:2,::], 'yo')\n",
        "# undo translation\n",
        "final = rotated + centroid\n",
        "plt.plot(final[0:1,::],final[1:2,::], 'go')\n"
      ],
      "execution_count": 0,
      "outputs": [
        {
          "output_type": "stream",
          "text": [
            "[  1   2   3   4  18  65  11  10  -8  -4  -1  -2   0   0   0 -10  10]\n",
            "(17,)\n",
            "[[  1   2   3   4  18  65  11  10  -8  -4  -1  -2   0   0   0 -10  10   0]]\n",
            "[[  1   2   3   4  18  65  11  10  -8]\n",
            " [ -4  -1  -2   0   0   0 -10  10   0]]\n",
            "[[11.77777778]\n",
            " [-0.77777778]]\n",
            "[[-10.77777778  -9.77777778  -8.77777778  -7.77777778   6.22222222\n",
            "   53.22222222  -0.77777778  -1.77777778 -19.77777778]\n",
            " [ -3.22222222  -0.22222222  -1.22222222   0.77777778   0.77777778\n",
            "    0.77777778  -9.22222222  10.77777778   0.77777778]]\n",
            "[[ -5.34258457  -6.75679813  -5.34258457  -6.04969135   3.84980359\n",
            "   37.0838223    5.97112393  -8.87811847 -14.53497272]\n",
            " [ -9.89949494  -7.07106781  -7.07106781  -4.94974747   4.94974747\n",
            "   38.18376618  -7.07106781   6.36396103 -13.43502884]]\n"
          ],
          "name": "stdout"
        },
        {
          "output_type": "execute_result",
          "data": {
            "text/plain": [
              "[<matplotlib.lines.Line2D at 0x7fb19fd67ba8>,\n",
              " <matplotlib.lines.Line2D at 0x7fb19fd767f0>,\n",
              " <matplotlib.lines.Line2D at 0x7fb19fd76978>,\n",
              " <matplotlib.lines.Line2D at 0x7fb19fd76b00>,\n",
              " <matplotlib.lines.Line2D at 0x7fb19fd76c88>,\n",
              " <matplotlib.lines.Line2D at 0x7fb19fd76e10>,\n",
              " <matplotlib.lines.Line2D at 0x7fb19fd76f98>,\n",
              " <matplotlib.lines.Line2D at 0x7fb19fd7d160>,\n",
              " <matplotlib.lines.Line2D at 0x7fb19fd7d2e8>]"
            ]
          },
          "metadata": {
            "tags": []
          },
          "execution_count": 99
        },
        {
          "output_type": "display_data",
          "data": {
            "image/png": "[encoded data removed]",
            "text/plain": [
              "<matplotlib.figure.Figure at 0x7fb19fd993c8>"
            ]
          },
          "metadata": {
            "tags": []
          }
        }
      ]
    }
  ]
}