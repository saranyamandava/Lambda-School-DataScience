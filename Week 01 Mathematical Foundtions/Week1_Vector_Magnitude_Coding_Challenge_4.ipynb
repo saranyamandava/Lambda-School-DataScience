{
  "nbformat": 4,
  "nbformat_minor": 0,
  "metadata": {
    "colab": {
      "name": "Week1_Vector Magnitude Coding Challenge_4.ipynb",
      "version": "0.3.2",
      "views": {},
      "default_view": {},
      "provenance": [
        {
          "file_id": "1BSYhUP6lmq8yXMBkddziVHfZyeC6FN9O",
          "timestamp": 1522945357932
        }
      ]
    },
    "kernelspec": {
      "name": "python3",
      "display_name": "Python 3"
    }
  },
  "cells": [
    {
      "metadata": {
        "id": "mxa2CK-jTxV1",
        "colab_type": "text"
      },
      "cell_type": "markdown",
      "source": [
        "# Vector Magnitude\n",
        "\n",
        "The length of a vector is called its magnitude. A long, fast, or distant vector will have a large magnitude. Sometimes the magnitude of a vector is informative about its class or cluster, and other times its magnitude might obscure the classification we are interested in.\n",
        "\n",
        "The magnitude of a vector is equal to \n",
        "\n",
        "$\\sqrt{\\sum_i v_i^2}$\n",
        "\n",
        "that is, the square-root of the sum of squares of the scalar terms of the vector. Consider: \n",
        "\n",
        "$\\begin{pmatrix} 1 \\\\ 2 \\\\ 3 \\end{pmatrix}$\n",
        "\n",
        "\n",
        "The magnitude of this vector is\n",
        "\n",
        "$\\sqrt{1^2 + 2^2 + 3^2} = 3.606...$\n",
        "\n",
        "\n",
        "The length of a vector always increases as the number of dimensions increase. Create a random, origin-centered vector for dimensions `d=[2...50]` with `np.array(np.random.random(d)-0.5)`. For each dimension `d`, calculate the norm of your randomly generated vector. When you have computed the norms for all 49 vectors, chart them and write any observations you can make."
      ]
    },
    {
      "metadata": {
        "id": "TTAfCZphUW89",
        "colab_type": "code",
        "colab": {
          "autoexec": {
            "startup": false,
            "wait_interval": 0
          },
          "base_uri": "https://localhost:8080/",
          "height": 401
        },
        "outputId": "e10d5989-0bb1-4940-dee9-c1474fabe2cf",
        "executionInfo": {
          "status": "ok",
          "timestamp": 1522945162887,
          "user_tz": 300,
          "elapsed": 531,
          "user": {
            "displayName": "",
            "photoUrl": "",
            "userId": ""
          }
        }
      },
      "cell_type": "code",
      "source": [
        "import numpy as np\n",
        "import matplotlib.pyplot as plt\n",
        "#\n",
        "# Vector Magnitude Challenge\n",
        "# Your Code Here\n",
        "data = []\n",
        "for d in range(2,50):\n",
        "  norms = np.array(np.random.random(d)-0.5)\n",
        "  magnitude = np.linalg.norm(norms)\n",
        "  data.append(magnitude)\n",
        "print (data)  \n",
        "plt.plot(data,'ro')\n"
      ],
      "execution_count": 0,
      "outputs": [
        {
          "output_type": "stream",
          "text": [
            "[0.5960684076396022, 0.43801308362434455, 0.4803232717420694, 0.7739310027176334, 0.7237245398212891, 0.8709639305558025, 1.01687258203717, 0.9182709047201524, 1.0138640853656364, 0.9602250110336317, 0.909802201159543, 1.1743627893717872, 0.827847166937779, 1.1930572673103925, 1.0811885837103163, 1.3144526005752162, 1.3360606686043535, 1.3932321025152252, 1.4979925897381023, 1.1401037329922155, 1.548208676996672, 1.3683332391227863, 1.5906950077378055, 1.4883396806684046, 1.3626708147971798, 1.37134181327098, 1.479328826117269, 1.4445976100277398, 1.5422833923080574, 1.5953644068095951, 1.3384748232477495, 1.7406854207809475, 1.5154579235641712, 1.6844369075525785, 1.8093072547941593, 1.7239981049231727, 1.793342365313884, 1.800314761114716, 1.8277665533898608, 1.5537681833220998, 1.8620872600560199, 1.659057440075916, 1.9982548920515193, 1.7494226380443174, 2.018915177098242, 2.189398054190003, 2.00020147309195, 1.9339769290481694]\n"
          ],
          "name": "stdout"
        },
        {
          "output_type": "execute_result",
          "data": {
            "text/plain": [
              "[<matplotlib.lines.Line2D at 0x7fc7d387ec50>]"
            ]
          },
          "metadata": {
            "tags": []
          },
          "execution_count": 38
        },
        {
          "output_type": "display_data",
          "data": {
            "image/png": "[encoded data removed]",
            "text/plain": [
              "<matplotlib.figure.Figure at 0x7fc7d39af630>"
            ]
          },
          "metadata": {
            "tags": []
          }
        }
      ]
    }
  ]
}