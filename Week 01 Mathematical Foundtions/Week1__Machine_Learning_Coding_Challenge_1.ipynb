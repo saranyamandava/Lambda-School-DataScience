{
  "nbformat": 4,
  "nbformat_minor": 0,
  "metadata": {
    "colab": {
      "name": "Week1_ Machine Learning Coding Challenge - 1.ipynb",
      "version": "0.3.2",
      "views": {},
      "default_view": {},
      "provenance": [
        {
          "file_id": "1Pit_xXMXn-30_k7r5ds9fqWBWn6SAKXV",
          "timestamp": 1522683961692
        }
      ]
    },
    "kernelspec": {
      "name": "python3",
      "display_name": "Python 3"
    }
  },
  "cells": [
    {
      "metadata": {
        "id": "TASE2aSJ3lIc",
        "colab_type": "text"
      },
      "cell_type": "markdown",
      "source": [
        "# Coding challenge\n",
        "\n",
        "A function in Python is of the form:"
      ]
    },
    {
      "metadata": {
        "id": "N-8GKe3X3mb9",
        "colab_type": "code",
        "colab": {
          "autoexec": {
            "startup": false,
            "wait_interval": 0
          }
        }
      },
      "cell_type": "code",
      "source": [
        "def f(x):\n",
        "  return x**2"
      ],
      "execution_count": 0,
      "outputs": []
    },
    {
      "metadata": {
        "id": "e6MDZK7p3X8N",
        "colab_type": "text"
      },
      "cell_type": "markdown",
      "source": [
        "Create python definitions of the following five functions:\n",
        "\n",
        "$x^2$\n",
        "\n",
        "$x^3$\n",
        "\n",
        "$x^3 + x^2 - 5$\n",
        "\n",
        "$sin(x)$\n",
        "\n",
        "$cos(x)$\n",
        "\n"
      ]
    },
    {
      "metadata": {
        "id": "3EptVxnB3vUM",
        "colab_type": "code",
        "colab": {
          "autoexec": {
            "startup": false,
            "wait_interval": 0
          }
        }
      },
      "cell_type": "code",
      "source": [
        "# LAMBDA SCHOOL\n",
        "#\n",
        "# MACHINE LEARNING\n",
        "#\n",
        "# MIT LICENSE\n",
        "\n",
        "\"\"\"Your code here\"\"\"\n",
        "import math\n",
        "\n",
        "def f(x):\n",
        " return x*x\n",
        "def f1(x):\n",
        " return x*x*x\n",
        "def f2(x):\n",
        " y = f(x)+f1(x)-5\n",
        " return y\n",
        "def f3(x):\n",
        " y = math.sin(math.radians(x))\n",
        " return y\n",
        "def f4(x):\n",
        " y = math.cos(math.radians(x))\n",
        " return y "
      ],
      "execution_count": 0,
      "outputs": []
    },
    {
      "metadata": {
        "id": "HpNwFM4b-XPL",
        "colab_type": "text"
      },
      "cell_type": "markdown",
      "source": [
        ""
      ]
    },
    {
      "metadata": {
        "id": "Vujamgd84xZ8",
        "colab_type": "text"
      },
      "cell_type": "markdown",
      "source": [
        "Call each of your functions and demonstrate their result:"
      ]
    },
    {
      "metadata": {
        "id": "WUpNee3241Mp",
        "colab_type": "code",
        "colab": {
          "autoexec": {
            "startup": false,
            "wait_interval": 0
          },
          "base_uri": "https://localhost:8080/",
          "height": 102
        },
        "outputId": "4230ed6c-3968-4ab7-a4a3-82c6a376b464",
        "executionInfo": {
          "status": "ok",
          "timestamp": 1532460577172,
          "user_tz": 300,
          "elapsed": 613,
          "user": {
            "displayName": "saranya Mandava",
            "photoUrl": "https://lh3.googleusercontent.com/a/default-user=s128",
            "userId": "111547944025536722337"
          }
        }
      },
      "cell_type": "code",
      "source": [
        "\"\"\"Call your functions here\"\"\"\n",
        "a = f(3)\n",
        "print (a)\n",
        "b = f1(4)\n",
        "print (b)\n",
        "c = f2(4)\n",
        "print (c)\n",
        "d = f3(60)\n",
        "print (d)\n",
        "e = f4(60)\n",
        "print (e)"
      ],
      "execution_count": 3,
      "outputs": [
        {
          "output_type": "stream",
          "text": [
            "9\n",
            "64\n",
            "75\n",
            "0.8660254037844386\n",
            "0.5000000000000001\n"
          ],
          "name": "stdout"
        }
      ]
    },
    {
      "metadata": {
        "id": "MbrLehNS4D30",
        "colab_type": "text"
      },
      "cell_type": "markdown",
      "source": [
        "## Bonus challenge\n",
        "\n",
        "`numpy.vectorize` copies a function that takes a single value as argument and returns a function that takes an array of values as argument, calling the single argument version for each value in the array. Implement your own version of `numpy.vectorize`."
      ]
    },
    {
      "metadata": {
        "id": "9hncieec4fG8",
        "colab_type": "code",
        "colab": {
          "autoexec": {
            "startup": false,
            "wait_interval": 0
          },
          "base_uri": "https://localhost:8080/",
          "height": 34
        },
        "outputId": "27ab789d-a8a5-4a70-957d-cf6a4dc004cc",
        "executionInfo": {
          "status": "ok",
          "timestamp": 1522683952687,
          "user_tz": 300,
          "elapsed": 380,
          "user": {
            "displayName": "",
            "photoUrl": "",
            "userId": ""
          }
        }
      },
      "cell_type": "code",
      "source": [
        "import numpy as np\n",
        "def my_vectorize(x):\n",
        "  \"\"\"Your code here\"\"\"\n",
        "  d=lambda x: x ** 2\n",
        "  a =np.vectorize(d)\n",
        "  return a\n",
        "p = my_vectorize([5,5,5,5])\n",
        "print (p)"
      ],
      "execution_count": 0,
      "outputs": [
        {
          "output_type": "stream",
          "text": [
            "<numpy.lib.function_base.vectorize object at 0x7f2e85e53e10>\n"
          ],
          "name": "stdout"
        }
      ]
    }
  ]
}