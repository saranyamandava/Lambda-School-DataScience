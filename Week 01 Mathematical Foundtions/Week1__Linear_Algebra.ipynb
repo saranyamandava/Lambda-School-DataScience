{
  "nbformat": 4,
  "nbformat_minor": 0,
  "metadata": {
    "colab": {
      "name": "Week1_ Linear Algebra.ipynb",
      "version": "0.3.2",
      "views": {},
      "default_view": {},
      "provenance": [
        {
          "file_id": "1lX7Gag_Sd7W33mBOKplpOGrdz_Ar2Q-N",
          "timestamp": 1522951762508
        },
        {
          "file_id": "1MxZ39k0bqib6tiNXIF8g0Q5vJ5RhS0wM",
          "timestamp": 1522882412795
        }
      ]
    },
    "kernelspec": {
      "name": "python3",
      "display_name": "Python 3"
    }
  },
  "cells": [
    {
      "metadata": {
        "id": "NV8-PHX5Bd8P",
        "colab_type": "text"
      },
      "cell_type": "markdown",
      "source": [
        "# Transform Vectors with Matrices\n",
        "\n",
        "The most basic vectors are $v_0 = \\begin{pmatrix}1 \\\\ 0\\end{pmatrix}$ and $v_1 = \\begin{pmatrix}0 \\\\ 1\\end{pmatrix}$\n",
        "\n",
        "Any $2d$ point can be constr![alt text](https://)ucted with these two vectors.\n",
        "\n",
        "Using these $v_0$ and $v_1$, construct the remainder of the vectors $t_i in this lesson with matrix multiplication."
      ]
    },
    {
      "metadata": {
        "id": "kItGSZNpBX5B",
        "colab_type": "code",
        "colab": {
          "autoexec": {
            "startup": false,
            "wait_interval": 0
          },
          "base_uri": "https://localhost:8080/",
          "height": 381
        },
        "outputId": "51ccb7b2-d488-4c1e-a30b-ea9123a7443f",
        "executionInfo": {
          "status": "ok",
          "timestamp": 1522951635859,
          "user_tz": 300,
          "elapsed": 458,
          "user": {
            "displayName": "saranya Mandava",
            "photoUrl": "https://lh3.googleusercontent.com/a/default-user=s128",
            "userId": "111547944025536722337"
          }
        }
      },
      "cell_type": "code",
      "source": [
        "# LAMBDA SCHOOL\n",
        "#\n",
        "# MACHINE LEARNING\n",
        "#\n",
        "# MIT LICENSE\n",
        "\n",
        "import numpy as np\n",
        "import matplotlib.pyplot as plt\n",
        "\n",
        "v_0 = np.matrix([[1],[0]])\n",
        "v_1 = np.matrix([[0],[1]])\n",
        "\n",
        "# You can build vectors using a loop:\n",
        "#for i in [0,1,2,3,4]:\n",
        "#  print(i * v_0)\n",
        "\n",
        "# Or you can build them with a map\n",
        "t_0 = np.column_stack(map(lambda x: x * v_0, [0,1,2,3,4]))\n",
        "print (t_0)\n",
        "plt.plot(t_0[0:1:,::],t_0[1:2:,::],'ro');"
      ],
      "execution_count": 0,
      "outputs": [
        {
          "output_type": "stream",
          "text": [
            "[[0 1 2 3 4]\n",
            " [0 0 0 0 0]]\n"
          ],
          "name": "stdout"
        },
        {
          "output_type": "display_data",
          "data": {
            "image/png": "[encoded data removed]",
            "text/plain": [
              "<matplotlib.figure.Figure at 0x7f25965e7b70>"
            ]
          },
          "metadata": {
            "tags": []
          }
        }
      ]
    },
    {
      "metadata": {
        "id": "ILNC0VduXhY3",
        "colab_type": "code",
        "colab": {
          "autoexec": {
            "startup": false,
            "wait_interval": 0
          },
          "base_uri": "https://localhost:8080/",
          "height": 466
        },
        "outputId": "c319afa8-7f49-4580-e5f7-5e7b19729345",
        "executionInfo": {
          "status": "ok",
          "timestamp": 1522951728249,
          "user_tz": 300,
          "elapsed": 471,
          "user": {
            "displayName": "saranya Mandava",
            "photoUrl": "https://lh3.googleusercontent.com/a/default-user=s128",
            "userId": "111547944025536722337"
          }
        }
      },
      "cell_type": "code",
      "source": [
        "# Multiplying these vectors by a matrix allows us to transform them in interesting ways\n",
        "\n",
        "R = np.matrix([[0.7,-0.7],[0.7,0.7]])\n",
        "rotated = R * t_0\n",
        "plt.plot(rotated[0:1:,::],rotated[1:2:,::],'ro');\n",
        "\n",
        "# write a function that creates a rotation matrix R, taking only (theta) as argument\n",
        "def get_rotation_matrix(theta):\n",
        "  R = np.matrix([[np.cos(theta),-np.sin(theta)],[np.sin(theta),np.cos(theta)]])\n",
        "  return R # you fill this out\n",
        "\n",
        "# us it to transform t_0 around the origin and graph together\n",
        "#s = np.matrix([[2,0],[0,1]])\n",
        "#x = s*t_0\n",
        "# rotate by: 30, 90, 180, 225, and 310.\n",
        "R_0 = get_rotation_matrix(np.pi/6)*t_0\n",
        "\n",
        "print (R_0)\n",
        "plt.plot(R_0[0:1:,::],R_0[1:2:,::],'go')\n",
        "R_1 = get_rotation_matrix(np.pi/2)*t_0\n",
        "plt.plot(R_1[0:1:,::],R_1[1:2:,::],'bo')\n",
        "R_2 = get_rotation_matrix(np.pi)*t_0\n",
        "plt.plot(R_2[0:1:,::],R_2[1:2:,::],'yo')\n",
        "R_3 = get_rotation_matrix((np.pi*5)/4)*t_0\n",
        "plt.plot(R_3[0:1:,::],R_3[1:2:,::],'bv')\n",
        "R_4 = get_rotation_matrix((np.pi*31)/18)*t_0\n",
        "plt.plot(R_4[0:1:,::],R_4[1:2:,::],'gv')"
      ],
      "execution_count": 0,
      "outputs": [
        {
          "output_type": "stream",
          "text": [
            "[[0.         0.8660254  1.73205081 2.59807621 3.46410162]\n",
            " [0.         0.5        1.         1.5        2.        ]]\n"
          ],
          "name": "stdout"
        },
        {
          "output_type": "execute_result",
          "data": {
            "text/plain": [
              "[<matplotlib.lines.Line2D at 0x7f25944406d8>,\n",
              " <matplotlib.lines.Line2D at 0x7f25944467f0>,\n",
              " <matplotlib.lines.Line2D at 0x7f2594446978>,\n",
              " <matplotlib.lines.Line2D at 0x7f2594446b00>,\n",
              " <matplotlib.lines.Line2D at 0x7f2594446c88>]"
            ]
          },
          "metadata": {
            "tags": []
          },
          "execution_count": 5
        },
        {
          "output_type": "display_data",
          "data": {
            "image/png": "[encoded data removed]",
            "text/plain": [
              "<matplotlib.figure.Figure at 0x7f25944c56a0>"
            ]
          },
          "metadata": {
            "tags": []
          }
        }
      ]
    },
    {
      "metadata": {
        "id": "DMSIJdjOY06k",
        "colab_type": "code",
        "colab": {
          "autoexec": {
            "startup": false,
            "wait_interval": 0
          },
          "base_uri": "https://localhost:8080/",
          "height": 432
        },
        "outputId": "346c0e55-d70c-42cc-dece-e00632d3e19e",
        "executionInfo": {
          "status": "ok",
          "timestamp": 1522881613193,
          "user_tz": 300,
          "elapsed": 503,
          "user": {
            "displayName": "",
            "photoUrl": "",
            "userId": ""
          }
        }
      },
      "cell_type": "code",
      "source": [
        "# Multiplying these vectors by a matrix allows us to shrink or grow them\n",
        "\n",
        "S = np.matrix([[0.1,0],[0,0.1]])\n",
        "scaled = S * t_0\n",
        "plt.plot(scaled[0:1:,::],scaled[1:2:,::],'ro');\n",
        "\n",
        "# Write a function to create a scaling matrix\n",
        "def get_scale_matrix(theta):\n",
        "  s = np.matrix([[np.cos(theta),0],[0,np.cos(theta)]])\n",
        "  return s # you fill this out\n",
        "\n",
        "# Use it and your rotation matrix to scale the rotated values from above by\n",
        "# 0.1, 0.5, 2.0, sqrt(2), and 40\n",
        "sv0 = get_scale_matrix(0.1)*R_0\n",
        "sv1 = get_scale_matrix(0.1)*R_1\n",
        "sv2 = get_scale_matrix(0.1)*R_2\n",
        "sv3 = get_scale_matrix(0.1)*R_3\n",
        "sv4 = get_scale_matrix(0.1)*R_4\n",
        "plt.plot(sv0[0:1:,::],sv0[1:2:,::],'ro')\n",
        "plt.plot(sv1[0:1:,::],sv1[1:2:,::],'gv')\n",
        "plt.plot(sv2[0:1:,::],sv2[1:2:,::],'bv')\n",
        "plt.plot(sv3[0:1:,::],sv3[1:2:,::],'bo')\n",
        "plt.plot(sv4[0:1:,::],sv4[1:2:,::],'yo')"
      ],
      "execution_count": 0,
      "outputs": [
        {
          "output_type": "execute_result",
          "data": {
            "text/plain": [
              "[<matplotlib.lines.Line2D at 0x7f1f4b116898>,\n",
              " <matplotlib.lines.Line2D at 0x7f1f4b0bc128>,\n",
              " <matplotlib.lines.Line2D at 0x7f1f4b0bc2b0>,\n",
              " <matplotlib.lines.Line2D at 0x7f1f4b0bc438>,\n",
              " <matplotlib.lines.Line2D at 0x7f1f4b0bc5c0>]"
            ]
          },
          "metadata": {
            "tags": []
          },
          "execution_count": 40
        },
        {
          "output_type": "display_data",
          "data": {
            "image/png": "[encoded data removed]",
            "text/plain": [
              "<matplotlib.figure.Figure at 0x7f1f4b441748>"
            ]
          },
          "metadata": {
            "tags": []
          }
        }
      ]
    },
    {
      "metadata": {
        "id": "cCY8hvLmZeUT",
        "colab_type": "code",
        "colab": {
          "autoexec": {
            "startup": false,
            "wait_interval": 0
          },
          "base_uri": "https://localhost:8080/",
          "height": 51
        },
        "outputId": "efef8ef5-1515-4d01-f290-dda47f206bb4",
        "executionInfo": {
          "status": "ok",
          "timestamp": 1522951642065,
          "user_tz": 300,
          "elapsed": 330,
          "user": {
            "displayName": "saranya Mandava",
            "photoUrl": "https://lh3.googleusercontent.com/a/default-user=s128",
            "userId": "111547944025536722337"
          }
        }
      },
      "cell_type": "code",
      "source": [
        "# Translation requires a special kind of matrix we will study tomorrow\n",
        "# You can translate with v_0 + x\n",
        "x = np.matrix([[0],[1]])\n",
        "# You'll need to translate v_0 in order to reproduce sample_1 and sample_2 below\n",
        "v_0 = v_0 + x\n",
        "print (v_0)"
      ],
      "execution_count": 0,
      "outputs": [
        {
          "output_type": "stream",
          "text": [
            "[[1]\n",
            " [1]]\n"
          ],
          "name": "stdout"
        }
      ]
    },
    {
      "metadata": {
        "id": "CN2dFt69FN1S",
        "colab_type": "code",
        "colab": {
          "autoexec": {
            "startup": false,
            "wait_interval": 0
          },
          "base_uri": "https://localhost:8080/",
          "height": 415
        },
        "outputId": "d9e6520d-94ac-409b-ca8d-5204dbd4d78f",
        "executionInfo": {
          "status": "ok",
          "timestamp": 1522951755894,
          "user_tz": 300,
          "elapsed": 544,
          "user": {
            "displayName": "saranya Mandava",
            "photoUrl": "https://lh3.googleusercontent.com/a/default-user=s128",
            "userId": "111547944025536722337"
          }
        }
      },
      "cell_type": "code",
      "source": [
        "# Use linear algebra to reproduce the following points:\n",
        "\n",
        "sample_1 = np.matrix([[3,2,1,0,-1,-2,-3],[-3,-2,-1,0,1,2,3]])\n",
        "sample_2 = np.matrix([[-3,-2,-1,0,1,2,3],[-3,-2,-1,-0,1,2,3]])\n",
        "t_1 = np.column_stack(map(lambda x: x * v_0, [3,2,1,0,-1,-2,-3]))\n",
        "t_2 = get_rotation_matrix(np.pi/2)*t_1\n",
        "print(t_1)\n",
        "print (t_2)\n",
        "plt.plot(t_1[0:1:,::],t_1[1:2:,::],'ro');\n",
        "plt.plot(t_2[0:1:,::],t_2[1:2:,::],'bo');\n"
      ],
      "execution_count": 0,
      "outputs": [
        {
          "output_type": "stream",
          "text": [
            "[[ 3  2  1  0 -1 -2 -3]\n",
            " [ 3  2  1  0 -1 -2 -3]]\n",
            "[[-3. -2. -1.  0.  1.  2.  3.]\n",
            " [ 3.  2.  1.  0. -1. -2. -3.]]\n"
          ],
          "name": "stdout"
        },
        {
          "output_type": "display_data",
          "data": {
            "image/png": "[encoded data removed]",
            "text/plain": [
              "<matplotlib.figure.Figure at 0x7f259441e438>"
            ]
          },
          "metadata": {
            "tags": []
          }
        }
      ]
    },
    {
      "metadata": {
        "id": "JWGCqvXnZrNT",
        "colab_type": "code",
        "colab": {
          "autoexec": {
            "startup": false,
            "wait_interval": 0
          }
        }
      },
      "cell_type": "code",
      "source": [
        "# Accomplish that here"
      ],
      "execution_count": 0,
      "outputs": []
    },
    {
      "metadata": {
        "id": "8NgKbcTrbPME",
        "colab_type": "code",
        "colab": {
          "autoexec": {
            "startup": false,
            "wait_interval": 0
          }
        }
      },
      "cell_type": "code",
      "source": [
        "# Draw me something using the rules above\n"
      ],
      "execution_count": 0,
      "outputs": []
    }
  ]
}