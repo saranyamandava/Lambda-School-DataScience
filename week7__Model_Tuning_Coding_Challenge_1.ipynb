{
  "nbformat": 4,
  "nbformat_minor": 0,
  "metadata": {
    "colab": {
      "name": "week7_ Model Tuning Coding Challenge_1.ipynb",
      "version": "0.3.2",
      "provenance": [],
      "collapsed_sections": []
    }
  },
  "cells": [
    {
      "cell_type": "markdown",
      "metadata": {
        "id": "view-in-github",
        "colab_type": "text"
      },
      "source": [
        "[View in Colaboratory](https://colab.research.google.com/github/saranyamandava/Lambda-School-DataScience/blob/master/week7__Model_Tuning_Coding_Challenge_1.ipynb)"
      ]
    },
    {
      "metadata": {
        "id": "GktCVk6V0sa2",
        "colab_type": "text"
      },
      "cell_type": "markdown",
      "source": [
        "# Splitting data into Test/Train datasets\n",
        "\n",
        "\n",
        "In this code challenge we're going to use the Pima Indians Diabetes dataset to split our data into test/train datasets both manually and using a library."
      ]
    },
    {
      "metadata": {
        "id": "dX1ImgKgtC0l",
        "colab_type": "code",
        "colab": {
          "base_uri": "https://localhost:8080/",
          "height": 221
        },
        "outputId": "ce3b3c75-b53b-45ee-b6ac-a41e6f33acc3"
      },
      "cell_type": "code",
      "source": [
        "# LAMBDA SCHOOL\n",
        "# \n",
        "# MACHINE LEARNING\n",
        "#\n",
        "# MIT LICENSE\n",
        "\n",
        "# Import Data and Libraries\n",
        "import pandas as pd\n",
        "import numpy as np\n",
        "from sklearn import linear_model\n",
        "from sklearn.model_selection import train_test_split\n",
        "\n",
        "url = \"https://raw.githubusercontent.com/jbrownlee/Datasets/master/pima-indians-diabetes.data.csv\"\n",
        "names = ['preg', 'plas', 'pres', 'skin', 'test', 'mass', 'pedi', 'age', 'class']\n",
        "df = pd.read_csv(url, names=names)\n",
        "print(df.shape)\n",
        "df.head()"
      ],
      "execution_count": 21,
      "outputs": [
        {
          "output_type": "stream",
          "text": [
            "(768, 9)\n"
          ],
          "name": "stdout"
        },
        {
          "output_type": "execute_result",
          "data": {
            "text/html": [
              "<div>\n",
              "<style scoped>\n",
              "    .dataframe tbody tr th:only-of-type {\n",
              "        vertical-align: middle;\n",
              "    }\n",
              "\n",
              "    .dataframe tbody tr th {\n",
              "        vertical-align: top;\n",
              "    }\n",
              "\n",
              "    .dataframe thead th {\n",
              "        text-align: right;\n",
              "    }\n",
              "</style>\n",
              "<table border=\"1\" class=\"dataframe\">\n",
              "  <thead>\n",
              "    <tr style=\"text-align: right;\">\n",
              "      <th></th>\n",
              "      <th>preg</th>\n",
              "      <th>plas</th>\n",
              "      <th>pres</th>\n",
              "      <th>skin</th>\n",
              "      <th>test</th>\n",
              "      <th>mass</th>\n",
              "      <th>pedi</th>\n",
              "      <th>age</th>\n",
              "      <th>class</th>\n",
              "    </tr>\n",
              "  </thead>\n",
              "  <tbody>\n",
              "    <tr>\n",
              "      <th>0</th>\n",
              "      <td>6</td>\n",
              "      <td>148</td>\n",
              "      <td>72</td>\n",
              "      <td>35</td>\n",
              "      <td>0</td>\n",
              "      <td>33.6</td>\n",
              "      <td>0.627</td>\n",
              "      <td>50</td>\n",
              "      <td>1</td>\n",
              "    </tr>\n",
              "    <tr>\n",
              "      <th>1</th>\n",
              "      <td>1</td>\n",
              "      <td>85</td>\n",
              "      <td>66</td>\n",
              "      <td>29</td>\n",
              "      <td>0</td>\n",
              "      <td>26.6</td>\n",
              "      <td>0.351</td>\n",
              "      <td>31</td>\n",
              "      <td>0</td>\n",
              "    </tr>\n",
              "    <tr>\n",
              "      <th>2</th>\n",
              "      <td>8</td>\n",
              "      <td>183</td>\n",
              "      <td>64</td>\n",
              "      <td>0</td>\n",
              "      <td>0</td>\n",
              "      <td>23.3</td>\n",
              "      <td>0.672</td>\n",
              "      <td>32</td>\n",
              "      <td>1</td>\n",
              "    </tr>\n",
              "    <tr>\n",
              "      <th>3</th>\n",
              "      <td>1</td>\n",
              "      <td>89</td>\n",
              "      <td>66</td>\n",
              "      <td>23</td>\n",
              "      <td>94</td>\n",
              "      <td>28.1</td>\n",
              "      <td>0.167</td>\n",
              "      <td>21</td>\n",
              "      <td>0</td>\n",
              "    </tr>\n",
              "    <tr>\n",
              "      <th>4</th>\n",
              "      <td>0</td>\n",
              "      <td>137</td>\n",
              "      <td>40</td>\n",
              "      <td>35</td>\n",
              "      <td>168</td>\n",
              "      <td>43.1</td>\n",
              "      <td>2.288</td>\n",
              "      <td>33</td>\n",
              "      <td>1</td>\n",
              "    </tr>\n",
              "  </tbody>\n",
              "</table>\n",
              "</div>"
            ],
            "text/plain": [
              "   preg  plas  pres  skin  test  mass   pedi  age  class\n",
              "0     6   148    72    35     0  33.6  0.627   50      1\n",
              "1     1    85    66    29     0  26.6  0.351   31      0\n",
              "2     8   183    64     0     0  23.3  0.672   32      1\n",
              "3     1    89    66    23    94  28.1  0.167   21      0\n",
              "4     0   137    40    35   168  43.1  2.288   33      1"
            ]
          },
          "metadata": {
            "tags": []
          },
          "execution_count": 21
        }
      ]
    },
    {
      "metadata": {
        "id": "9wUwQMrZ4Xhi",
        "colab_type": "text"
      },
      "cell_type": "markdown",
      "source": [
        "\n",
        "## 1) Randomly a select 20% of your data to be in your \"test\" dataset and the other 80% to be in your \"train\" dataset. Do this without setting a random seed.\n"
      ]
    },
    {
      "metadata": {
        "id": "bGOsRHPz5KVz",
        "colab_type": "code",
        "colab": {}
      },
      "cell_type": "code",
      "source": [
        "##### YOUR CODE HERE #####\n",
        "\n",
        "train_sample = df.sample(frac = 0.8)\n",
        "test_sample = df.drop(test_sample.index)"
      ],
      "execution_count": 0,
      "outputs": []
    },
    {
      "metadata": {
        "id": "EQSvwvha6Ckm",
        "colab_type": "text"
      },
      "cell_type": "markdown",
      "source": [
        "## 2) After you have randomly divided the dataset, print the shape of both of your new test and train datasets and print the first five rows of each."
      ]
    },
    {
      "metadata": {
        "id": "T5GmmxLB6GAi",
        "colab_type": "code",
        "colab": {
          "base_uri": "https://localhost:8080/",
          "height": 136
        },
        "outputId": "4ac0ab0d-bf41-40ce-f55c-9b8a72bc113e"
      },
      "cell_type": "code",
      "source": [
        "##### Print train dataset shape and first 5 rows. #####\n",
        "print (train_sample.shape)\n",
        "print (train_sample.head())"
      ],
      "execution_count": 26,
      "outputs": [
        {
          "output_type": "stream",
          "text": [
            "(614, 9)\n",
            "     preg  plas  pres  skin  test  mass   pedi  age  class\n",
            "655     2   155    52    27   540  38.7  0.240   25      1\n",
            "76      7    62    78     0     0  32.6  0.391   41      0\n",
            "286     5   155    84    44   545  38.7  0.619   34      0\n",
            "496     5   110    68     0     0  26.0  0.292   30      0\n",
            "70      2   100    66    20    90  32.9  0.867   28      1\n"
          ],
          "name": "stdout"
        }
      ]
    },
    {
      "metadata": {
        "id": "mHcKKfpM6Ymw",
        "colab_type": "code",
        "colab": {
          "base_uri": "https://localhost:8080/",
          "height": 136
        },
        "outputId": "1f48ceaf-1f77-450f-f3ea-bd3784f999de"
      },
      "cell_type": "code",
      "source": [
        "##### Print test dataset shape and first 5 rows. #####\n",
        "print (test_sample.shape)\n",
        "print (test_sample.head())"
      ],
      "execution_count": 27,
      "outputs": [
        {
          "output_type": "stream",
          "text": [
            "(154, 9)\n",
            "    preg  plas  pres  skin  test  mass   pedi  age  class\n",
            "3      1    89    66    23    94  28.1  0.167   21      0\n",
            "11    10   168    74     0     0  38.0  0.537   34      1\n",
            "12    10   139    80     0     0  27.1  1.441   57      0\n",
            "17     7   107    74     0     0  29.6  0.254   31      1\n",
            "27     1    97    66    15   140  23.2  0.487   22      0\n"
          ],
          "name": "stdout"
        }
      ]
    },
    {
      "metadata": {
        "id": "_GQKvlQz4PPl",
        "colab_type": "text"
      },
      "cell_type": "markdown",
      "source": [
        "## 3) Use sklearn's train_test_split function to split the data into test and training datasets. Set the random_state to 42"
      ]
    },
    {
      "metadata": {
        "id": "MkvUiq1A8vIp",
        "colab_type": "code",
        "colab": {}
      },
      "cell_type": "code",
      "source": [
        "##### YOUR CODE HERE #####\n",
        "train, test = train_test_split(df, test_size=0.2, random_state=42)"
      ],
      "execution_count": 0,
      "outputs": []
    },
    {
      "metadata": {
        "id": "klLdQQOJ8_Er",
        "colab_type": "text"
      },
      "cell_type": "markdown",
      "source": [
        "## 4) Print the shape and first 5 rows of the new dataframes."
      ]
    },
    {
      "metadata": {
        "id": "bAeb7eGd9KTB",
        "colab_type": "code",
        "colab": {
          "base_uri": "https://localhost:8080/",
          "height": 136
        },
        "outputId": "7d6f1f62-ee90-48d7-b0e1-b4f16bb393fd"
      },
      "cell_type": "code",
      "source": [
        "##### Print train dataset shape and first 5 rows. #####\n",
        "print (train.shape)\n",
        "print (train.head())"
      ],
      "execution_count": 30,
      "outputs": [
        {
          "output_type": "stream",
          "text": [
            "(614, 9)\n",
            "     preg  plas  pres  skin  test  mass   pedi  age  class\n",
            "60      2    84     0     0     0   0.0  0.304   21      0\n",
            "618     9   112    82    24     0  28.2  1.282   50      1\n",
            "346     1   139    46    19    83  28.7  0.654   22      0\n",
            "294     0   161    50     0     0  21.9  0.254   65      0\n",
            "231     6   134    80    37   370  46.2  0.238   46      1\n"
          ],
          "name": "stdout"
        }
      ]
    },
    {
      "metadata": {
        "id": "LFgf01VQ9LbF",
        "colab_type": "code",
        "colab": {
          "base_uri": "https://localhost:8080/",
          "height": 136
        },
        "outputId": "a374b087-d5d0-44ec-d9cf-5c1dc3ad5cbb"
      },
      "cell_type": "code",
      "source": [
        "##### Print test dataset shape and first 5 rows. #####\n",
        "print (test.shape)\n",
        "print (test.head())"
      ],
      "execution_count": 31,
      "outputs": [
        {
          "output_type": "stream",
          "text": [
            "(154, 9)\n",
            "     preg  plas  pres  skin  test  mass   pedi  age  class\n",
            "668     6    98    58    33   190  34.0  0.430   43      0\n",
            "324     2   112    75    32     0  35.7  0.148   21      0\n",
            "624     2   108    64     0     0  30.8  0.158   21      0\n",
            "690     8   107    80     0     0  24.6  0.856   34      0\n",
            "473     7   136    90     0     0  29.9  0.210   50      0\n"
          ],
          "name": "stdout"
        }
      ]
    },
    {
      "metadata": {
        "id": "5Cgx2fFs-eug",
        "colab_type": "text"
      },
      "cell_type": "markdown",
      "source": [
        "### Change the random state on your test_train_split to a different integer and run the code again. What happens to the shape of the dataset? What happens to the first five rows?\n",
        "\n",
        "\n",
        "---\n",
        "\n"
      ]
    },
    {
      "metadata": {
        "id": "jV7qU5MlpDei",
        "colab_type": "code",
        "colab": {
          "base_uri": "https://localhost:8080/",
          "height": 221
        },
        "outputId": "20758861-ffc2-4539-d78b-7b9544a022da"
      },
      "cell_type": "code",
      "source": [
        "train, test = train_test_split(df, test_size=0.2, random_state=41)\n",
        "print(train.shape)\n",
        "train.head()"
      ],
      "execution_count": 32,
      "outputs": [
        {
          "output_type": "stream",
          "text": [
            "(614, 9)\n"
          ],
          "name": "stdout"
        },
        {
          "output_type": "execute_result",
          "data": {
            "text/html": [
              "<div>\n",
              "<style scoped>\n",
              "    .dataframe tbody tr th:only-of-type {\n",
              "        vertical-align: middle;\n",
              "    }\n",
              "\n",
              "    .dataframe tbody tr th {\n",
              "        vertical-align: top;\n",
              "    }\n",
              "\n",
              "    .dataframe thead th {\n",
              "        text-align: right;\n",
              "    }\n",
              "</style>\n",
              "<table border=\"1\" class=\"dataframe\">\n",
              "  <thead>\n",
              "    <tr style=\"text-align: right;\">\n",
              "      <th></th>\n",
              "      <th>preg</th>\n",
              "      <th>plas</th>\n",
              "      <th>pres</th>\n",
              "      <th>skin</th>\n",
              "      <th>test</th>\n",
              "      <th>mass</th>\n",
              "      <th>pedi</th>\n",
              "      <th>age</th>\n",
              "      <th>class</th>\n",
              "    </tr>\n",
              "  </thead>\n",
              "  <tbody>\n",
              "    <tr>\n",
              "      <th>158</th>\n",
              "      <td>2</td>\n",
              "      <td>88</td>\n",
              "      <td>74</td>\n",
              "      <td>19</td>\n",
              "      <td>53</td>\n",
              "      <td>29.0</td>\n",
              "      <td>0.229</td>\n",
              "      <td>22</td>\n",
              "      <td>0</td>\n",
              "    </tr>\n",
              "    <tr>\n",
              "      <th>573</th>\n",
              "      <td>2</td>\n",
              "      <td>98</td>\n",
              "      <td>60</td>\n",
              "      <td>17</td>\n",
              "      <td>120</td>\n",
              "      <td>34.7</td>\n",
              "      <td>0.198</td>\n",
              "      <td>22</td>\n",
              "      <td>0</td>\n",
              "    </tr>\n",
              "    <tr>\n",
              "      <th>429</th>\n",
              "      <td>1</td>\n",
              "      <td>95</td>\n",
              "      <td>82</td>\n",
              "      <td>25</td>\n",
              "      <td>180</td>\n",
              "      <td>35.0</td>\n",
              "      <td>0.233</td>\n",
              "      <td>43</td>\n",
              "      <td>1</td>\n",
              "    </tr>\n",
              "    <tr>\n",
              "      <th>740</th>\n",
              "      <td>11</td>\n",
              "      <td>120</td>\n",
              "      <td>80</td>\n",
              "      <td>37</td>\n",
              "      <td>150</td>\n",
              "      <td>42.3</td>\n",
              "      <td>0.785</td>\n",
              "      <td>48</td>\n",
              "      <td>1</td>\n",
              "    </tr>\n",
              "    <tr>\n",
              "      <th>589</th>\n",
              "      <td>0</td>\n",
              "      <td>73</td>\n",
              "      <td>0</td>\n",
              "      <td>0</td>\n",
              "      <td>0</td>\n",
              "      <td>21.1</td>\n",
              "      <td>0.342</td>\n",
              "      <td>25</td>\n",
              "      <td>0</td>\n",
              "    </tr>\n",
              "  </tbody>\n",
              "</table>\n",
              "</div>"
            ],
            "text/plain": [
              "     preg  plas  pres  skin  test  mass   pedi  age  class\n",
              "158     2    88    74    19    53  29.0  0.229   22      0\n",
              "573     2    98    60    17   120  34.7  0.198   22      0\n",
              "429     1    95    82    25   180  35.0  0.233   43      1\n",
              "740    11   120    80    37   150  42.3  0.785   48      1\n",
              "589     0    73     0     0     0  21.1  0.342   25      0"
            ]
          },
          "metadata": {
            "tags": []
          },
          "execution_count": 32
        }
      ]
    },
    {
      "metadata": {
        "id": "0wB_XPaRpOAF",
        "colab_type": "text"
      },
      "cell_type": "markdown",
      "source": [
        "The data in first five rows is different with the same shape as before. This is because, random sampling is dependent on random sampling."
      ]
    },
    {
      "metadata": {
        "id": "0j7w3AqeBg70",
        "colab_type": "text"
      },
      "cell_type": "markdown",
      "source": [
        "## 5) Using the original dataframe, create two new dataframes titled \"X\" and \"Y\". \n",
        "\n",
        "The Y dataframe should be composed of only the \"class\" column (our dependent variable - or what we want to predict) and the X dataframe should be composed of all other columns. (Our independent variables, sometimes called features or predictors)\n",
        "\n",
        "Print their shape as well as the first 5 rows of these two dataframes.\n"
      ]
    },
    {
      "metadata": {
        "id": "IA0x_zRTCYhE",
        "colab_type": "code",
        "colab": {}
      },
      "cell_type": "code",
      "source": [
        "##### YOUR CODE HERE #####\n",
        "X = df.drop(['class'],axis = 1)\n",
        "Y = df['class']"
      ],
      "execution_count": 0,
      "outputs": []
    },
    {
      "metadata": {
        "id": "KxumB3JqEXqG",
        "colab_type": "code",
        "colab": {
          "base_uri": "https://localhost:8080/",
          "height": 136
        },
        "outputId": "fa99065f-1d89-4650-bc39-2e0783dedf98"
      },
      "cell_type": "code",
      "source": [
        "print (X.shape)\n",
        "print (X.head())"
      ],
      "execution_count": 36,
      "outputs": [
        {
          "output_type": "stream",
          "text": [
            "(768, 8)\n",
            "   preg  plas  pres  skin  test  mass   pedi  age\n",
            "0     6   148    72    35     0  33.6  0.627   50\n",
            "1     1    85    66    29     0  26.6  0.351   31\n",
            "2     8   183    64     0     0  23.3  0.672   32\n",
            "3     1    89    66    23    94  28.1  0.167   21\n",
            "4     0   137    40    35   168  43.1  2.288   33\n"
          ],
          "name": "stdout"
        }
      ]
    },
    {
      "metadata": {
        "id": "yJwPoY40EX0Z",
        "colab_type": "code",
        "colab": {
          "base_uri": "https://localhost:8080/",
          "height": 136
        },
        "outputId": "8aa321f2-c168-4368-b33b-31eeb6d0dfd8"
      },
      "cell_type": "code",
      "source": [
        "print (Y.shape)\n",
        "print (Y.head())"
      ],
      "execution_count": 37,
      "outputs": [
        {
          "output_type": "stream",
          "text": [
            "(768,)\n",
            "0    1\n",
            "1    0\n",
            "2    1\n",
            "3    0\n",
            "4    1\n",
            "Name: class, dtype: int64\n"
          ],
          "name": "stdout"
        }
      ]
    },
    {
      "metadata": {
        "id": "SZ6UBybK_sD8",
        "colab_type": "text"
      },
      "cell_type": "markdown",
      "source": [
        "## 6) Now use the test_train_split function to not only split your dataset into test and train datasets, but also by independent and dependent variables. Pick any integer value to use use as the random seed.\n",
        "\n",
        "You should end up with 4 datasets: X_train, Y_train, X_test, and Y_test\n",
        "\n",
        "Print the sizes and first 5 rows of each of these four datasets."
      ]
    },
    {
      "metadata": {
        "id": "qf03KoC_-vkj",
        "colab_type": "code",
        "colab": {}
      },
      "cell_type": "code",
      "source": [
        "##### YOUR CODE HERE #####\n",
        "X_train, X_test, Y_train, Y_test = train_test_split(X, Y, test_size=0.2, random_state=41)"
      ],
      "execution_count": 0,
      "outputs": []
    },
    {
      "metadata": {
        "id": "nszWjANuEmf8",
        "colab_type": "code",
        "colab": {
          "base_uri": "https://localhost:8080/",
          "height": 136
        },
        "outputId": "70a06884-fb08-457f-aa01-07f32c3802cb"
      },
      "cell_type": "code",
      "source": [
        "print(X_train.shape)\n",
        "print(X_train.head())"
      ],
      "execution_count": 42,
      "outputs": [
        {
          "output_type": "stream",
          "text": [
            "(614, 8)\n",
            "     preg  plas  pres  skin  test  mass   pedi  age\n",
            "158     2    88    74    19    53  29.0  0.229   22\n",
            "573     2    98    60    17   120  34.7  0.198   22\n",
            "429     1    95    82    25   180  35.0  0.233   43\n",
            "740    11   120    80    37   150  42.3  0.785   48\n",
            "589     0    73     0     0     0  21.1  0.342   25\n"
          ],
          "name": "stdout"
        }
      ]
    },
    {
      "metadata": {
        "id": "xBgp5bIzEmiY",
        "colab_type": "code",
        "colab": {
          "base_uri": "https://localhost:8080/",
          "height": 136
        },
        "outputId": "1aca4806-c7cb-432c-b72f-c9d0815c283a"
      },
      "cell_type": "code",
      "source": [
        "print(X_test.shape)\n",
        "print(X_test.head())"
      ],
      "execution_count": 43,
      "outputs": [
        {
          "output_type": "stream",
          "text": [
            "(154, 8)\n",
            "     preg  plas  pres  skin  test  mass   pedi  age\n",
            "679     2   101    58    17   265  24.2  0.614   23\n",
            "345     8   126    88    36   108  38.5  0.349   49\n",
            "486     1   139    62    41   480  40.7  0.536   21\n",
            "20      3   126    88    41   235  39.3  0.704   27\n",
            "457     5    86    68    28    71  30.2  0.364   24\n"
          ],
          "name": "stdout"
        }
      ]
    },
    {
      "metadata": {
        "id": "NyyclU83Emk2",
        "colab_type": "code",
        "colab": {
          "base_uri": "https://localhost:8080/",
          "height": 136
        },
        "outputId": "50e11cb7-e815-45a3-8975-07d3448bda42"
      },
      "cell_type": "code",
      "source": [
        "print(Y_train.shape)\n",
        "print(Y_train.head())"
      ],
      "execution_count": 44,
      "outputs": [
        {
          "output_type": "stream",
          "text": [
            "(614,)\n",
            "158    0\n",
            "573    0\n",
            "429    1\n",
            "740    1\n",
            "589    0\n",
            "Name: class, dtype: int64\n"
          ],
          "name": "stdout"
        }
      ]
    },
    {
      "metadata": {
        "id": "AQijB8qKEmmx",
        "colab_type": "code",
        "colab": {
          "base_uri": "https://localhost:8080/",
          "height": 136
        },
        "outputId": "922eebb5-49c3-40bf-be0f-b7c014473539"
      },
      "cell_type": "code",
      "source": [
        "print(Y_test.shape)\n",
        "print(Y_test.head())"
      ],
      "execution_count": 45,
      "outputs": [
        {
          "output_type": "stream",
          "text": [
            "(154,)\n",
            "679    0\n",
            "345    0\n",
            "486    0\n",
            "20     0\n",
            "457    0\n",
            "Name: class, dtype: int64\n"
          ],
          "name": "stdout"
        }
      ]
    },
    {
      "metadata": {
        "id": "EBX4UGKnF7x-",
        "colab_type": "text"
      },
      "cell_type": "markdown",
      "source": [
        "## The following code will split our data and then train a logistic regression classifier.\n",
        "\n",
        "## Run the code muliple times using different random_seed. What happens to the model's accuracy? Why do you think  this might be happening? \n",
        "\n",
        "## Research what the \"Random Seed\" is for and how it can help us ensure that our machine learning results are reproducible."
      ]
    },
    {
      "metadata": {
        "id": "vtNW8lJ6FjZl",
        "colab_type": "code",
        "colab": {
          "base_uri": "https://localhost:8080/",
          "height": 102
        },
        "outputId": "3165984c-2cb3-439e-b859-59890d9a2d2f"
      },
      "cell_type": "code",
      "source": [
        "feature_cols = [col for col in df.columns if 'class' not in col]\n",
        "Y = df['class']\n",
        "X = df[feature_cols]\n",
        "\n",
        "random_seed_values = [41,42,43,44,45]\n",
        "\n",
        "for random_seed in random_seed_values:\n",
        "  X_train, X_test, Y_train, Y_test = train_test_split(X, Y, test_size=0.2, random_state=random_seed)\n",
        "  model = linear_model.LogisticRegression()\n",
        "  model.fit(X_train, Y_train)\n",
        "  result = model.score(X_test, Y_test)\n",
        "  print(\"Random Seed:\",random_seed,\"Accuracy: %.3f%%\" % (result*100.0))"
      ],
      "execution_count": 47,
      "outputs": [
        {
          "output_type": "stream",
          "text": [
            "('Random Seed:', 41, 'Accuracy: 78.571%')\n",
            "('Random Seed:', 42, 'Accuracy: 75.974%')\n",
            "('Random Seed:', 43, 'Accuracy: 75.974%')\n",
            "('Random Seed:', 44, 'Accuracy: 80.519%')\n",
            "('Random Seed:', 45, 'Accuracy: 74.675%')\n"
          ],
          "name": "stdout"
        }
      ]
    }
  ]
}