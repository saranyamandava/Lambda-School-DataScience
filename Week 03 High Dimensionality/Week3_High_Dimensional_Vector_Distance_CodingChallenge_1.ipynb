{
  "nbformat": 4,
  "nbformat_minor": 0,
  "metadata": {
    "colab": {
      "name": "Week3_High Dimensional Vector Distance CodingChallenge - 1.ipynb",
      "version": "0.3.2",
      "views": {},
      "default_view": {},
      "provenance": [
        {
          "file_id": "1yTiXPx8bkIhxAqlvpg4bzATEnoGWxGg2",
          "timestamp": 1523903403074
        },
        {
          "file_id": "1o7oxjsusm1lqQYR3MTK3wXGkNgrGqFpF",
          "timestamp": 1523889747981
        },
        {
          "file_id": "1_R3d6cCSyubX0PHmaDNdIRhpc4jqZBsS",
          "timestamp": 1523843286088
        }
      ],
      "collapsed_sections": []
    },
    "kernelspec": {
      "name": "python3",
      "display_name": "Python 3"
    }
  },
  "cells": [
    {
      "metadata": {
        "id": "luCg81YEjaP1",
        "colab_type": "code",
        "colab": {
          "autoexec": {
            "startup": false,
            "wait_interval": 0
          }
        }
      },
      "cell_type": "code",
      "source": [
        "import numpy as np\n",
        "import matplotlib.pyplot as plt"
      ],
      "execution_count": 0,
      "outputs": []
    },
    {
      "metadata": {
        "id": "k3P7Si8cj37a",
        "colab_type": "text"
      },
      "cell_type": "markdown",
      "source": [
        "First, define a function that takes two inputs (a mean and a standard deviation) and spits out a random number.\n",
        "The number should be generated randomly from a normal distribution with that mean and that standard deviation. See [numpy.random.normal](https://docs.scipy.org/doc/numpy/reference/generated/numpy.random.normal.html), though, implementing the PDF for a normal distribution is a good exercise if you finish early."
      ]
    },
    {
      "metadata": {
        "id": "wMkZOsQ2kUpX",
        "colab_type": "code",
        "colab": {
          "autoexec": {
            "startup": false,
            "wait_interval": 0
          }
        }
      },
      "cell_type": "code",
      "source": [
        "def rand_val(mean, stdev):\n",
        "    return (np.random.normal(mean, stdev))\n",
        "    ##################\n",
        "    # Your Code Here #\n",
        "    ##################\n",
        "    "
      ],
      "execution_count": 0,
      "outputs": []
    },
    {
      "metadata": {
        "id": "nayMEH_3nRZC",
        "colab_type": "text"
      },
      "cell_type": "markdown",
      "source": [
        "Now define a function that takes in a mean, a standard deviation, and a number n, and returns a numpy vector with n components.\n",
        "The components should be randomly generated from a normal distribution with that mean and standard deviation"
      ]
    },
    {
      "metadata": {
        "id": "ExAJD2CxngF1",
        "colab_type": "code",
        "colab": {
          "autoexec": {
            "startup": false,
            "wait_interval": 0
          }
        }
      },
      "cell_type": "code",
      "source": [
        "def rand_vec(mean, stdev, n):\n",
        "    return (np.random.normal(mean,stdev,n))\n",
        "    ##################\n",
        "    # Your Code Here #\n",
        "    ##################\n",
        "   "
      ],
      "execution_count": 0,
      "outputs": []
    },
    {
      "metadata": {
        "id": "FdU1-hoOsyXz",
        "colab_type": "text"
      },
      "cell_type": "markdown",
      "source": [
        "Recall that there are many ways to compute the distance between two vectors. However you wish to do so, write a function that takes in\n",
        "two vectors and returns the distance between them. Since this function only makes sense if the two vectors have the same number of\n",
        "components, this function should return -1 if the two vectors live in different numbers of dimensions"
      ]
    },
    {
      "metadata": {
        "id": "F6OKPxP8nvFn",
        "colab_type": "code",
        "colab": {
          "autoexec": {
            "startup": false,
            "wait_interval": 0
          }
        }
      },
      "cell_type": "code",
      "source": [
        "def vec_dist(vecA, vecB):\n",
        "    #return None\n",
        "    ##################\n",
        "    # Your Code Here #\n",
        "    ##################\n",
        "    a = vecA.size\n",
        "    b = vecB.size\n",
        "    if (a!=b):\n",
        "      return (-1)\n",
        "    else:\n",
        "      return (np.linalg.norm(vecA-vecB))\n",
        "    "
      ],
      "execution_count": 0,
      "outputs": []
    },
    {
      "metadata": {
        "id": "tEPgA2qHuaFT",
        "colab_type": "text"
      },
      "cell_type": "markdown",
      "source": [
        "From here on out, every component you randomly generate should come from a normal distribution centered at 0 with standard\n",
        "deviation 1. With that in mind, write a function that takes in a number n (the number of dimensions), creates two random\n",
        "vectors in n-dimensional space, calculates the distance between them, and returns that distance."
      ]
    },
    {
      "metadata": {
        "id": "8dAXAmjyuZGm",
        "colab_type": "code",
        "colab": {
          "autoexec": {
            "startup": false,
            "wait_interval": 0
          }
        }
      },
      "cell_type": "code",
      "source": [
        "def rand_vec_dist(n):\n",
        "    #return None\n",
        "    ##################\n",
        "    # Your Code Here #\n",
        "    ##################\n",
        "    mean = 0\n",
        "    stdev = 1\n",
        "    vecA = np.random.normal(mean,stdev,n)\n",
        "    vecB = np.random.normal(mean,stdev,n)\n",
        "    return (np.linalg.norm(vecA-vecB))\n",
        "#n = 20\n",
        "#s = rand_vec_dist(n)\n",
        "#avg = s/n\n",
        "#print (s)\n",
        "#print (avg)"
      ],
      "execution_count": 0,
      "outputs": []
    },
    {
      "metadata": {
        "id": "MuRwge4GvZrS",
        "colab_type": "text"
      },
      "cell_type": "markdown",
      "source": [
        "Using what you've made so far, what is the average distance between two points in 1-dimensional space? In other words, between\n",
        "two regular old floating point numbers with mean 0 and standard deviation 1. After you calculate this, store it as the first\n",
        "component in a Pythin list named average_dist_list."
      ]
    },
    {
      "metadata": {
        "id": "-xBiAWMHvw3h",
        "colab_type": "code",
        "colab": {
          "autoexec": {
            "startup": false,
            "wait_interval": 0
          },
          "base_uri": "https://localhost:8080/",
          "height": 51
        },
        "outputId": "1b8bad08-e4a4-4340-9aa2-842c8c88d429",
        "executionInfo": {
          "status": "ok",
          "timestamp": 1532528752897,
          "user_tz": 300,
          "elapsed": 380,
          "user": {
            "displayName": "saranya Mandava",
            "photoUrl": "https://lh3.googleusercontent.com/a/default-user=s128",
            "userId": "111547944025536722337"
          }
        }
      },
      "cell_type": "code",
      "source": [
        "def average_dist_calculator(n,trails):\n",
        "    avg = 0\n",
        "    for i in range(trails):\n",
        "      avg = avg + rand_vec_dist(n)\n",
        "    return (avg/trails)\n",
        "    ##################\n",
        "    # Your Code Here #\n",
        "    ##################\n",
        "average_dist_list = []\n",
        "s = average_dist_calculator(1,100)\n",
        "print (s)\n",
        "average_dist_list.append(s) \n",
        "print(average_dist_list)"
      ],
      "execution_count": 6,
      "outputs": [
        {
          "output_type": "stream",
          "text": [
            "0.9990922525823221\n",
            "[0.9990922525823221]\n"
          ],
          "name": "stdout"
        }
      ]
    },
    {
      "metadata": {
        "id": "8mPH39jfzLM4",
        "colab_type": "text"
      },
      "cell_type": "markdown",
      "source": [
        "What's the average distance between two points in 2-dimensional space? What about 3? Keep calculating these average distances and\n",
        "appending them to average_dist_list up through 200-dimensional space."
      ]
    },
    {
      "metadata": {
        "id": "dxHLm6J1wMwP",
        "colab_type": "code",
        "colab": {
          "autoexec": {
            "startup": false,
            "wait_interval": 0
          },
          "base_uri": "https://localhost:8080/",
          "height": 71
        },
        "outputId": "86196fcd-127a-4e2b-9a1a-e6e8f98ec569",
        "executionInfo": {
          "status": "ok",
          "timestamp": 1532528756471,
          "user_tz": 300,
          "elapsed": 974,
          "user": {
            "displayName": "saranya Mandava",
            "photoUrl": "https://lh3.googleusercontent.com/a/default-user=s128",
            "userId": "111547944025536722337"
          }
        }
      },
      "cell_type": "code",
      "source": [
        "##################\n",
        "# Your Code Here #\n",
        "##################\n",
        "\n",
        "for i in range(2,201):\n",
        "  s =average_dist_calculator(i,100)\n",
        "  average_dist_list.append(s)\n",
        "print(average_dist_list)\n",
        "print (len(average_dist_list))"
      ],
      "execution_count": 7,
      "outputs": [
        {
          "output_type": "stream",
          "text": [
            "[0.9990922525823221, 1.7720142105435541, 2.229911709241395, 2.513093085673159, 3.073665899408608, 3.4004017563169397, 3.5581262083513314, 3.867760467172431, 3.9862351649192154, 4.47396434010902, 4.59015125229019, 4.989873320862323, 4.872547544916, 5.155487415531764, 5.506398686989258, 5.7510906629618095, 5.915678881417478, 5.740291630302454, 5.980130379804733, 6.1605954495425665, 6.338589209184757, 6.586617613312899, 6.513091102795794, 6.72507074911983, 7.096977862213043, 7.062723304999546, 7.27720218814485, 7.29444318113651, 7.567695032278649, 7.627110932573039, 7.6950652053459745, 7.7858204532632, 8.165806276276333, 8.284480700747414, 8.581001423954403, 8.52055406511755, 8.415153407238057, 8.484494834976815, 8.762576686305026, 9.07847126404496, 8.923900216749926, 9.18705068689693, 9.184377574943396, 9.185042862921025, 9.332335708518972, 9.73208688370141, 9.562061118133819, 9.657076900696882, 9.867403276099916, 10.046811878801815, 10.006117387368539, 10.105204137595019, 10.38248387148292, 10.383078544634362, 10.363774056598523, 10.532755705394312, 10.579691653487068, 10.69811557004219, 10.755563194994586, 11.069877425427242, 11.103236191147221, 11.294448416702235, 11.210155536412936, 11.3097521869562, 11.299796746367695, 11.373778375167273, 11.666706824881091, 11.535331458979663, 11.921456547239726, 11.908729126104472, 12.059434861153282, 11.830926144234807, 11.94571402710067, 12.076909626158452, 12.248132943829821, 12.33141227060102, 12.301311597716163, 12.579697797957888, 12.512207178295132, 12.644023872130303, 12.747693256943776, 12.88563295036152, 12.838284430411095, 12.885324732110982, 12.824355229137755, 13.09897687272881, 13.299651353734092, 13.166169051829918, 13.270798518578802, 13.480674457160221, 13.469938911575719, 13.482484083892961, 13.5360116933465, 13.651299375444585, 13.737185284710577, 13.689954656117498, 13.663447978892794, 13.983549949433554, 14.051913266126387, 14.03326450733941, 14.184508438993776, 14.09619495781027, 14.523988206962382, 14.388400028056873, 14.353357703165745, 14.446407159533523, 14.458410092899134, 14.551688320840283, 14.695148420114942, 14.746867142960069, 14.808130878271061, 14.902041088240535, 14.890577830346224, 14.906604638008284, 15.119955353705972, 15.212240761627216, 15.376253231298385, 15.33051717970141, 15.495728319675052, 15.556478148323176, 15.773337013084795, 15.711566292212172, 15.61398682539321, 15.638210523239444, 15.78657130187343, 15.916997637782101, 15.901812551985415, 16.318873312477606, 16.1724511589091, 16.119329651302788, 16.08084571897569, 16.083861567434102, 16.52228303264163, 16.39375421579834, 16.59219084910817, 16.5220808802259, 16.46407219959009, 16.69183992489093, 16.578516262297192, 16.689491554039076, 16.844064265575557, 17.150759427487213, 16.730817161543854, 16.786680871667055, 16.886260772432063, 16.971834670092157, 16.960844930415675, 17.07404262673352, 17.360613527072005, 17.348956919896782, 17.301202947547377, 17.190235086159195, 17.349063766570143, 17.618042063685678, 17.430104003834586, 17.71375068950891, 17.667493631182534, 17.663415697314974, 17.694851706594537, 17.998687381102968, 17.91311892124554, 18.073406823989806, 17.955906324901676, 18.182064289905203, 18.058532281677312, 18.112855179312685, 18.147706407801124, 18.31285645509294, 18.249187551838375, 18.464598193444054, 18.41448214744718, 18.47743759805585, 18.716749931017723, 18.67083517047302, 18.67245218381227, 18.678417412394015, 19.001894924346733, 18.898431121788533, 19.00889635070094, 18.903845710486177, 18.943908638080234, 19.136825483612355, 19.07862781747372, 19.23046819027592, 19.10206410748996, 19.149598317964454, 19.43823887393173, 19.369025845733596, 19.282831111206036, 19.445311803868954, 19.422128930080056, 19.527516700490978, 19.682928698408162, 19.8740150310719, 19.718064911304797, 19.606381588195163, 19.83062249858799, 19.78569801719287, 20.022169850358583, 19.984179172116843]\n",
            "200\n"
          ],
          "name": "stdout"
        }
      ]
    },
    {
      "metadata": {
        "id": "t_DED4x70zMV",
        "colab_type": "code",
        "colab": {
          "autoexec": {
            "startup": false,
            "wait_interval": 0
          },
          "base_uri": "https://localhost:8080/",
          "height": 347
        },
        "outputId": "100264cd-69dd-428f-8994-b39f3d5f56cd",
        "executionInfo": {
          "status": "ok",
          "timestamp": 1532528759075,
          "user_tz": 300,
          "elapsed": 393,
          "user": {
            "displayName": "saranya Mandava",
            "photoUrl": "https://lh3.googleusercontent.com/a/default-user=s128",
            "userId": "111547944025536722337"
          }
        }
      },
      "cell_type": "code",
      "source": [
        "\n",
        "plt.plot(np.arange(1,201),average_dist_list);"
      ],
      "execution_count": 8,
      "outputs": [
        {
          "output_type": "display_data",
          "data": {
            "image/png": "[encoded data removed]",
            "text/plain": [
              "<matplotlib.figure.Figure at 0x7f5027575860>"
            ]
          },
          "metadata": {
            "tags": []
          }
        }
      ]
    },
    {
      "metadata": {
        "id": "urd9Ficj4axm",
        "colab_type": "text"
      },
      "cell_type": "markdown",
      "source": [
        "As the number of dimensions n grows larger and larger, approximately how does the average distance grow?\n",
        "\n",
        "It should be well-approximated by the function f(n) = c*n^p for some numbers c and p. However you choose to do so, find the values of c and p."
      ]
    },
    {
      "metadata": {
        "id": "YBVLh9gM16kI",
        "colab_type": "code",
        "colab": {
          "autoexec": {
            "startup": false,
            "wait_interval": 0
          },
          "base_uri": "https://localhost:8080/",
          "height": 364
        },
        "outputId": "98af6f4b-eb3e-4e2d-d4ab-06cd2b050db0",
        "executionInfo": {
          "status": "ok",
          "timestamp": 1532528904045,
          "user_tz": 300,
          "elapsed": 550,
          "user": {
            "displayName": "saranya Mandava",
            "photoUrl": "https://lh3.googleusercontent.com/a/default-user=s128",
            "userId": "111547944025536722337"
          }
        }
      },
      "cell_type": "code",
      "source": [
        "plt.plot(np.arange(1,201),average_dist_list);\n",
        "plt.plot(np.arange(1,201),1 * np.arange(1,201) ** (1/2))\n",
        "plt.plot(np.arange(1,201),1.5 * np.arange(1,201) ** (1/2))\n",
        "plt.plot(np.arange(1,201),1.414 * np.arange(1,201) ** (1/2),'y')"
      ],
      "execution_count": 9,
      "outputs": [
        {
          "output_type": "execute_result",
          "data": {
            "text/plain": [
              "[<matplotlib.lines.Line2D at 0x7f5025462438>]"
            ]
          },
          "metadata": {
            "tags": []
          },
          "execution_count": 9
        },
        {
          "output_type": "display_data",
          "data": {
            "image/png": "[encoded data removed]",
            "text/plain": [
              "<matplotlib.figure.Figure at 0x7f50254b93c8>"
            ]
          },
          "metadata": {
            "tags": []
          }
        }
      ]
    }
  ]
}