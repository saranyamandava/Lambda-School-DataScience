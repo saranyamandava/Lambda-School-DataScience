{
  "nbformat": 4,
  "nbformat_minor": 0,
  "metadata": {
    "colab": {
      "name": "Copy of Project Assignment # 1.ipynb",
      "version": "0.3.2",
      "views": {},
      "default_view": {},
      "provenance": [
        {
          "file_id": "11J50q1mLiAIsQp8jGMW1nGfkl7vD8_Vo",
          "timestamp": 1525121998318
        },
        {
          "file_id": "19LpsAk1DQoHmJFhF9-182mfvdRdFcvja",
          "timestamp": 1524873191752
        }
      ],
      "collapsed_sections": []
    },
    "kernelspec": {
      "name": "python3",
      "display_name": "Python 3"
    }
  },
  "cells": [
    {
      "metadata": {
        "id": "5Df5yvC99sYU",
        "colab_type": "text"
      },
      "cell_type": "markdown",
      "source": [
        "Project Assignment #1\n",
        "In this project assignment, we are going to use the \"Traffic Tickets Issued: Four Year Window\" data set available from the Data.Gov website (https://catalog.data.gov/dataset?groups=local&organization_type=State+Government#topic=local_navigation).\n",
        "\n",
        "The focus of the analysis will be oriented towards the following attributes within the cities of :\n",
        "\n",
        "1) Violation Year\n",
        "\n",
        "2) Violation Month\n",
        "\n",
        "3) Violation Day of Week\n",
        "\n",
        "4) Age at Violation\n",
        "\n",
        "5) Gender\n",
        "\n",
        "There are a few objectives you need to accomplish:\n",
        "\n",
        "1) Examine the above-mentioned attributes in the data set for any missing values\n",
        "\n",
        "2) If there are any missing values, treat the misisng values. Here is a article that provides insight into the common methods to deal with missing values:\n",
        "\n",
        "https://towardsdatascience.com/working-with-missing-data-in-machine-learning-9c0a430df4ce\n",
        "\n",
        "Please the tips provided in the article to deal with missing values\n",
        "\n",
        "3) Compute summary statistics for the \"age at violation\" for Males and Females respectively\n",
        "\n",
        "a) Mean, b) Median, c) Standard Deviation, d) Variance\n",
        "\n",
        "4) Construct a Boxplot to surface the 25%, 50% and 75% percentiles of \"Age at Violation\" by Gender\n",
        "\n",
        "5) Construct Histograms to showcase the following:\n",
        "\n",
        "a) Count of Violations by Day of Week\n",
        "\n",
        "b) Count of Violations by Month\n",
        "\n",
        "c) Count of Violations by Gender\n",
        "\n",
        "6) Hone in on the data set for the Year 2015. Does the 'Violation at Age' and the 'Total # Of Violations' vary together? Construct a scatter plot that plots the 'Violation at Age' v/s the Total # Of Violation'. Does the Scatter Plot point to a positive covariance? Now, compute the Covariance. Perform this analysis for both the genders.\n",
        "\n",
        "7) Compute the Correlation Coefficient between the 2 variable i.e. 'Violation at Age' and the 'Total # Of Violations'. Perform this analysis for both the genders."
      ]
    },
    {
      "metadata": {
        "id": "VNbjGvXIYeyX",
        "colab_type": "code",
        "colab": {
          "autoexec": {
            "startup": false,
            "wait_interval": 0
          }
        }
      },
      "cell_type": "code",
      "source": [
        "#run only once!\n",
        "!pip install -U -q PyDrive"
      ],
      "execution_count": 0,
      "outputs": []
    },
    {
      "metadata": {
        "id": "iDUDQLuhYw3x",
        "colab_type": "code",
        "colab": {
          "autoexec": {
            "startup": false,
            "wait_interval": 0
          }
        }
      },
      "cell_type": "code",
      "source": [
        "# Load Data\n",
        "from pydrive.auth import GoogleAuth\n",
        "from pydrive.drive import GoogleDrive\n",
        "from google.colab import auth\n",
        "from oauth2client.client import GoogleCredentials\n",
        "\n",
        "# file_id: string (id of the file you want to download)\n",
        "# title: string (name which you want to give to the file being downloaded)\n",
        "\n",
        "    \n",
        "def upload_file_to_drive(file, title):\n",
        "    auth.authenticate_user()\n",
        "    gauth = GoogleAuth()\n",
        "    gauth.credentials = GoogleCredentials.get_application_default()\n",
        "    drive = GoogleDrive(gauth)\n",
        "\n",
        "    export = drive.CreateFile({'title':title})  \n",
        "    export.SetContentFile(file)\n",
        "    export.Upload()\n",
        "\n",
        "    return export['id']  \n",
        "\n",
        "def download_file_from_drive(file_id, title):\n",
        "    auth.authenticate_user()\n",
        "    gauth = GoogleAuth()\n",
        "    gauth.credentials = GoogleCredentials.get_application_default()\n",
        "    drive = GoogleDrive(gauth)\n",
        "  \n",
        "    download = drive.CreateFile({'id': file_id})\n",
        "    download.GetContentFile(title)"
      ],
      "execution_count": 0,
      "outputs": []
    },
    {
      "metadata": {
        "id": "9p8RCnqRhZfl",
        "colab_type": "code",
        "colab": {
          "autoexec": {
            "startup": false,
            "wait_interval": 0
          },
          "base_uri": "https://localhost:8080/",
          "height": 241
        },
        "outputId": "5414c732-7040-4de1-a84b-11b174c11b4a",
        "executionInfo": {
          "status": "ok",
          "timestamp": 1525274519720,
          "user_tz": 300,
          "elapsed": 757473,
          "user": {
            "displayName": "saranya Mandava",
            "photoUrl": "https://lh3.googleusercontent.com/a/default-user=s128",
            "userId": "111547944025536722337"
          }
        }
      },
      "cell_type": "code",
      "source": [
        "#run only once!\n",
        "\n",
        "!wget \"https://data.ny.gov/api/views/q4hy-kbtf/rows.csv?accessType=DOWNLOAD\" -nc -O traffic.csv"
      ],
      "execution_count": 4,
      "outputs": [
        {
          "output_type": "stream",
          "text": [
            "--2018-05-02 15:09:23--  https://data.ny.gov/api/views/q4hy-kbtf/rows.csv?accessType=DOWNLOAD\n",
            "Resolving data.ny.gov (data.ny.gov)... 52.206.140.205\n",
            "Connecting to data.ny.gov (data.ny.gov)|52.206.140.205|:443... connected.\n",
            "HTTP request sent, awaiting response... 200 OK\n",
            "Length: unspecified [text/csv]\n",
            "Saving to: ‘traffic.csv’\n",
            "\n",
            "traffic.csv             [     <=>            ] 121.16M  2.09MB/s               "
          ],
          "name": "stdout"
        },
        {
          "output_type": "stream",
          "text": [
            "traffic.csv             [  <=>               ]   1.45G  2.16MB/s               "
          ],
          "name": "stdout"
        },
        {
          "output_type": "stream",
          "text": [
            "\rtraffic.csv             [ <=>                ]   1.45G  2.17MB/s               \rtraffic.csv             [<=>                 ]   1.45G  2.22MB/s    in 12m 35s \r\n",
            "\r\n",
            "Last-modified header invalid -- time-stamp ignored.\r\n",
            "2018-05-02 15:21:59 (1.97 MB/s) - ‘traffic.csv’ saved [1558223985]\r\n",
            "\r\n"
          ],
          "name": "stdout"
        }
      ]
    },
    {
      "metadata": {
        "id": "9sNGy_EhdK93",
        "colab_type": "code",
        "colab": {
          "autoexec": {
            "startup": false,
            "wait_interval": 0
          }
        }
      },
      "cell_type": "code",
      "source": [
        "# run only once!\n",
        "\n",
        "file_id = upload_file_to_drive('traffic.csv', 'traffic_uploaded.csv')\n",
        "download_file_from_drive(file_id, 'traffic_downloaded.csv')"
      ],
      "execution_count": 0,
      "outputs": []
    },
    {
      "metadata": {
        "id": "jGpwv64ViK96",
        "colab_type": "code",
        "colab": {
          "autoexec": {
            "startup": false,
            "wait_interval": 0
          },
          "base_uri": "https://localhost:8080/",
          "height": 102
        },
        "outputId": "aeb9e682-f3a5-4656-877a-d8bea6b06364",
        "executionInfo": {
          "status": "ok",
          "timestamp": 1525274871547,
          "user_tz": 300,
          "elapsed": 21193,
          "user": {
            "displayName": "saranya Mandava",
            "photoUrl": "https://lh3.googleusercontent.com/a/default-user=s128",
            "userId": "111547944025536722337"
          }
        }
      },
      "cell_type": "code",
      "source": [
        "import pandas as pd\n",
        "import numpy as np\n",
        "import matplotlib.pyplot as plt\n",
        "import seaborn as sns\n",
        "\n",
        "data = pd.read_csv('traffic_downloaded.csv')\n",
        "print(data.columns)\n",
        "\n",
        "print(data.shape)"
      ],
      "execution_count": 6,
      "outputs": [
        {
          "output_type": "stream",
          "text": [
            "Index(['Violation Charged Code', 'Violation Description', 'Violation Year',\n",
            "       'Violation Month', 'Violation Day of Week', 'Age at Violation',\n",
            "       'Gender', 'State of License', 'Police Agency', 'Court', 'Source'],\n",
            "      dtype='object')\n",
            "(14275009, 11)\n"
          ],
          "name": "stdout"
        }
      ]
    },
    {
      "metadata": {
        "id": "gKn44In_meTz",
        "colab_type": "code",
        "colab": {
          "autoexec": {
            "startup": false,
            "wait_interval": 0
          },
          "base_uri": "https://localhost:8080/",
          "height": 408
        },
        "outputId": "062a11a8-e272-4732-b536-2a186a2e3f1e",
        "executionInfo": {
          "status": "ok",
          "timestamp": 1525274884587,
          "user_tz": 300,
          "elapsed": 688,
          "user": {
            "displayName": "saranya Mandava",
            "photoUrl": "https://lh3.googleusercontent.com/a/default-user=s128",
            "userId": "111547944025536722337"
          }
        }
      },
      "cell_type": "code",
      "source": [
        "data1 = data[['Violation Year','Violation Month','Violation Day of Week','Age at Violation','Gender']]\n",
        "print (data1.head(10))"
      ],
      "execution_count": 7,
      "outputs": [
        {
          "output_type": "stream",
          "text": [
            "   Violation Year  Violation Month Violation Day of Week  Age at Violation  \\\n",
            "0            2015                1              THURSDAY              55.0   \n",
            "1            2015                1              THURSDAY              24.0   \n",
            "2            2015                2                MONDAY              62.0   \n",
            "3            2015                9              THURSDAY              33.0   \n",
            "4            2015                5              SATURDAY              45.0   \n",
            "5            2015                8              SATURDAY              42.0   \n",
            "6            2015                3              THURSDAY              21.0   \n",
            "7            2015                2              SATURDAY              40.0   \n",
            "8            2015                6                MONDAY              53.0   \n",
            "9            2015                1              SATURDAY              22.0   \n",
            "\n",
            "  Gender  \n",
            "0      M  \n",
            "1      M  \n",
            "2      M  \n",
            "3      F  \n",
            "4      M  \n",
            "5      M  \n",
            "6      M  \n",
            "7      M  \n",
            "8      M  \n",
            "9      M  \n"
          ],
          "name": "stdout"
        }
      ]
    },
    {
      "metadata": {
        "id": "uy0Tij06qMey",
        "colab_type": "code",
        "colab": {
          "autoexec": {
            "startup": false,
            "wait_interval": 0
          },
          "base_uri": "https://localhost:8080/",
          "height": 119
        },
        "outputId": "00b0fd3d-b1f7-4631-83fb-895cbf12cdf0",
        "executionInfo": {
          "status": "ok",
          "timestamp": 1525274898874,
          "user_tz": 300,
          "elapsed": 3080,
          "user": {
            "displayName": "saranya Mandava",
            "photoUrl": "https://lh3.googleusercontent.com/a/default-user=s128",
            "userId": "111547944025536722337"
          }
        }
      },
      "cell_type": "code",
      "source": [
        "#Identify the columns with nan's\n",
        "\n",
        "data1.isnull().sum()"
      ],
      "execution_count": 8,
      "outputs": [
        {
          "output_type": "execute_result",
          "data": {
            "text/plain": [
              "Violation Year                0\n",
              "Violation Month               0\n",
              "Violation Day of Week         0\n",
              "Age at Violation         158181\n",
              "Gender                        0\n",
              "dtype: int64"
            ]
          },
          "metadata": {
            "tags": []
          },
          "execution_count": 8
        }
      ]
    },
    {
      "metadata": {
        "id": "5iV1NW_ep2tQ",
        "colab_type": "code",
        "colab": {
          "autoexec": {
            "startup": false,
            "wait_interval": 0
          },
          "base_uri": "https://localhost:8080/",
          "height": 51
        },
        "outputId": "9d019450-1661-4bab-dc90-c926a341e44a",
        "executionInfo": {
          "status": "ok",
          "timestamp": 1525217667026,
          "user_tz": 300,
          "elapsed": 653,
          "user": {
            "displayName": "saranya Mandava",
            "photoUrl": "https://lh3.googleusercontent.com/a/default-user=s128",
            "userId": "111547944025536722337"
          }
        }
      },
      "cell_type": "code",
      "source": [
        "# Identify unique values for Gender Attribute\n",
        "\n",
        "print (data1['Gender'].unique())\n",
        "print (data1['Violation Year'].unique())"
      ],
      "execution_count": 7,
      "outputs": [
        {
          "output_type": "stream",
          "text": [
            "['M' 'F' 'C']\n",
            "[2015 2016 2013 2014]\n"
          ],
          "name": "stdout"
        }
      ]
    },
    {
      "metadata": {
        "id": "EmdVvqiVwI4b",
        "colab_type": "code",
        "colab": {
          "autoexec": {
            "startup": false,
            "wait_interval": 0
          },
          "base_uri": "https://localhost:8080/",
          "height": 119
        },
        "outputId": "fa11610a-0dd9-42ae-e47d-dba9dec7c4ea",
        "executionInfo": {
          "status": "ok",
          "timestamp": 1525275134247,
          "user_tz": 300,
          "elapsed": 562,
          "user": {
            "displayName": "saranya Mandava",
            "photoUrl": "https://lh3.googleusercontent.com/a/default-user=s128",
            "userId": "111547944025536722337"
          }
        }
      },
      "cell_type": "code",
      "source": [
        "# Replace Nan values in Age attribute by the median value of Age attribute\n",
        "age = data1['Age at Violation'].median()\n",
        "print (age)\n",
        "data1['Age at Violation'].fillna(age, inplace = True)"
      ],
      "execution_count": 15,
      "outputs": [
        {
          "output_type": "stream",
          "text": [
            "34.0\n"
          ],
          "name": "stdout"
        },
        {
          "output_type": "stream",
          "text": [
            "/usr/local/lib/python3.6/dist-packages/pandas/core/generic.py:4355: SettingWithCopyWarning: \n",
            "A value is trying to be set on a copy of a slice from a DataFrame\n",
            "\n",
            "See the caveats in the documentation: http://pandas.pydata.org/pandas-docs/stable/indexing.html#indexing-view-versus-copy\n",
            "  self._update_inplace(new_data)\n"
          ],
          "name": "stderr"
        }
      ]
    },
    {
      "metadata": {
        "id": "jQpZTKUowxye",
        "colab_type": "code",
        "colab": {
          "autoexec": {
            "startup": false,
            "wait_interval": 0
          },
          "base_uri": "https://localhost:8080/",
          "height": 34
        },
        "outputId": "76f3d7c1-12c3-4eef-bcfe-ab82a05748f3",
        "executionInfo": {
          "status": "ok",
          "timestamp": 1525275144441,
          "user_tz": 300,
          "elapsed": 639,
          "user": {
            "displayName": "saranya Mandava",
            "photoUrl": "https://lh3.googleusercontent.com/a/default-user=s128",
            "userId": "111547944025536722337"
          }
        }
      },
      "cell_type": "code",
      "source": [
        "print (sum(pd.isnull(data1['Age at Violation'])))"
      ],
      "execution_count": 16,
      "outputs": [
        {
          "output_type": "stream",
          "text": [
            "0\n"
          ],
          "name": "stdout"
        }
      ]
    },
    {
      "metadata": {
        "id": "BMKB-lZc2QBn",
        "colab_type": "code",
        "colab": {
          "autoexec": {
            "startup": false,
            "wait_interval": 0
          },
          "base_uri": "https://localhost:8080/",
          "height": 816
        },
        "outputId": "15f96c22-7d1e-4299-8e30-891fbe935e5e",
        "executionInfo": {
          "status": "ok",
          "timestamp": 1525275280940,
          "user_tz": 300,
          "elapsed": 5300,
          "user": {
            "displayName": "saranya Mandava",
            "photoUrl": "https://lh3.googleusercontent.com/a/default-user=s128",
            "userId": "111547944025536722337"
          }
        }
      },
      "cell_type": "code",
      "source": [
        "# Compute summary statistics for the \"age at violation\" for Males and Females respectively\n",
        "data3 = data1.loc[data1['Gender'].isin(['M','F'])]\n",
        "grouped = data3.groupby('Gender')['Age at Violation']\n",
        "grouped.describe()\n",
        "mean = grouped.mean()\n",
        "print (\"mean for each Gender\")\n",
        "print (mean)\n",
        "print (\"\\n\")\n",
        "\n",
        "print (\"median for each Gender\")\n",
        "median = grouped.median()\n",
        "print (median)\n",
        "print (\"\\n\")\n",
        "\n",
        "print (\"Standard Deviation for each Gender\")\n",
        "stdeviation = grouped.std()\n",
        "print (stdeviation)\n",
        "print (\"\\n\")\n",
        "\n",
        "print (\"Variance for each Gender\")\n",
        "variance = grouped.var()\n",
        "print (variance)\n",
        "print (\"\\n\")\n",
        "\n",
        "print (\"25th percentile for each Gender\")\n",
        "print (grouped.apply(np.percentile, 25))\n",
        "print (\"\\n\")\n",
        "\n",
        "print (\"50th percentile for each Gender\")\n",
        "print (grouped.apply(np.percentile, 50))\n",
        "print (\"\\n\")\n",
        "\n",
        "print (\"75th percentile for each Gender\")\n",
        "print (grouped.apply(np.percentile, 75))"
      ],
      "execution_count": 21,
      "outputs": [
        {
          "output_type": "stream",
          "text": [
            "mean for each Gender\n",
            "Gender\n",
            "F    36.271181\n",
            "M    37.020346\n",
            "Name: Age at Violation, dtype: float64\n",
            "\n",
            "\n",
            "median for each Gender\n",
            "Gender\n",
            "F    33.0\n",
            "M    34.0\n",
            "Name: Age at Violation, dtype: float64\n",
            "\n",
            "\n",
            "Standard Deviation for each Gender\n",
            "Gender\n",
            "F    13.510939\n",
            "M    13.840881\n",
            "Name: Age at Violation, dtype: float64\n",
            "\n",
            "\n",
            "Variance for each Gender\n",
            "Gender\n",
            "F    182.545467\n",
            "M    191.569986\n",
            "Name: Age at Violation, dtype: float64\n",
            "\n",
            "\n",
            "25th percentile for each Gender\n",
            "Gender\n",
            "F    25.0\n",
            "M    25.0\n",
            "Name: Age at Violation, dtype: float64\n",
            "\n",
            "\n",
            "50th percentile for each Gender\n",
            "Gender\n",
            "F    33.0\n",
            "M    34.0\n",
            "Name: Age at Violation, dtype: float64\n",
            "\n",
            "\n",
            "75th percentile for each Gender\n",
            "Gender\n",
            "F    46.0\n",
            "M    47.0\n",
            "Name: Age at Violation, dtype: float64\n"
          ],
          "name": "stdout"
        }
      ]
    },
    {
      "metadata": {
        "id": "xeJ-EhSO9GvZ",
        "colab_type": "code",
        "colab": {
          "autoexec": {
            "startup": false,
            "wait_interval": 0
          },
          "base_uri": "https://localhost:8080/",
          "height": 432
        },
        "outputId": "5176d720-0774-419e-936e-1d4a911e93ff",
        "executionInfo": {
          "status": "ok",
          "timestamp": 1525275512291,
          "user_tz": 300,
          "elapsed": 23296,
          "user": {
            "displayName": "saranya Mandava",
            "photoUrl": "https://lh3.googleusercontent.com/a/default-user=s128",
            "userId": "111547944025536722337"
          }
        }
      },
      "cell_type": "code",
      "source": [
        "sns.boxplot(x=\"Gender\", y=\"Age at Violation\", data=data3, hue = \"Gender\")\n"
      ],
      "execution_count": 24,
      "outputs": [
        {
          "output_type": "stream",
          "text": [
            "/usr/local/lib/python3.6/dist-packages/seaborn/categorical.py:482: FutureWarning: remove_na is deprecated and is a private function. Do not use.\n",
            "  box_data = remove_na(group_data[hue_mask])\n"
          ],
          "name": "stderr"
        },
        {
          "output_type": "execute_result",
          "data": {
            "text/plain": [
              "<matplotlib.axes._subplots.AxesSubplot at 0x7f0d64f89a90>"
            ]
          },
          "metadata": {
            "tags": []
          },
          "execution_count": 24
        },
        {
          "output_type": "display_data",
          "data": {
            "image/png": "[encoded data removed]",
            "text/plain": [
              "<matplotlib.figure.Figure at 0x7f0d671500f0>"
            ]
          },
          "metadata": {
            "tags": []
          }
        }
      ]
    },
    {
      "metadata": {
        "id": "g9qYebj_gbK1",
        "colab_type": "code",
        "colab": {
          "autoexec": {
            "startup": false,
            "wait_interval": 0
          },
          "base_uri": "https://localhost:8080/",
          "height": 512
        },
        "outputId": "0dc33d18-cba2-4ac6-8f25-04bab4808d8d",
        "executionInfo": {
          "status": "ok",
          "timestamp": 1525277024328,
          "user_tz": 300,
          "elapsed": 2691,
          "user": {
            "displayName": "saranya Mandava",
            "photoUrl": "https://lh3.googleusercontent.com/a/default-user=s128",
            "userId": "111547944025536722337"
          }
        }
      },
      "cell_type": "code",
      "source": [
        "# Calculating Total violations per each day of week\n",
        "\n",
        "per_day_count = pd.DataFrame(data1['Violation Day of Week'].value_counts().reset_index())\n",
        "per_day_count.columns = ['Day','Total Violations']\n",
        "print (per_day_count)\n",
        "\n",
        "plt.bar(per_day_count['Day'],per_day_count['Total Violations'])\n",
        "plt.title(\"Violations Per Day of Week\")\n",
        "plt.xlabel(\"Day of Week\")\n",
        "plt.ylabel(\"Total Violations\")\n",
        "plt.show()"
      ],
      "execution_count": 39,
      "outputs": [
        {
          "output_type": "stream",
          "text": [
            "         Day  Total Violations\n",
            "0     FRIDAY           2230294\n",
            "1  WEDNESDAY           2183703\n",
            "2   THURSDAY           2175701\n",
            "3    TUESDAY           2132309\n",
            "4   SATURDAY           1977429\n",
            "5     MONDAY           1886748\n",
            "6     SUNDAY           1688825\n"
          ],
          "name": "stdout"
        },
        {
          "output_type": "display_data",
          "data": {
            "image/png": "[encoded data removed]",
            "text/plain": [
              "<matplotlib.figure.Figure at 0x7f0d64d86390>"
            ]
          },
          "metadata": {
            "tags": []
          }
        }
      ]
    },
    {
      "metadata": {
        "id": "sC95nNxIityx",
        "colab_type": "code",
        "colab": {
          "autoexec": {
            "startup": false,
            "wait_interval": 0
          },
          "base_uri": "https://localhost:8080/",
          "height": 597
        },
        "outputId": "2ab95439-7d90-4ab8-a3fc-bf81c06dd718",
        "executionInfo": {
          "status": "ok",
          "timestamp": 1525277103538,
          "user_tz": 300,
          "elapsed": 784,
          "user": {
            "displayName": "saranya Mandava",
            "photoUrl": "https://lh3.googleusercontent.com/a/default-user=s128",
            "userId": "111547944025536722337"
          }
        }
      },
      "cell_type": "code",
      "source": [
        "#Calculating Total Violations by each month of the year\n",
        "\n",
        "per_month_count = pd.DataFrame(data1['Violation Month'].value_counts().reset_index())\n",
        "per_month_count.columns = ['Month','Total Violations']\n",
        "print (per_month_count)\n",
        "\n",
        "plt.bar(per_month_count['Month'],per_month_count['Total Violations'])\n",
        "plt.title(\"Violations For Each Month\")\n",
        "plt.xlabel(\"Month\")\n",
        "plt.ylabel(\"Total Violations\")\n",
        "plt.show()"
      ],
      "execution_count": 40,
      "outputs": [
        {
          "output_type": "stream",
          "text": [
            "    Month  Total Violations\n",
            "0       5           1344953\n",
            "1       3           1296420\n",
            "2       4           1287032\n",
            "3       8           1225960\n",
            "4      10           1210322\n",
            "5       7           1194083\n",
            "6       9           1185059\n",
            "7       1           1182499\n",
            "8       6           1174001\n",
            "9       2           1120350\n",
            "10     11           1106784\n",
            "11     12            947546\n"
          ],
          "name": "stdout"
        },
        {
          "output_type": "display_data",
          "data": {
            "image/png": "[encoded data removed]",
            "text/plain": [
              "<matplotlib.figure.Figure at 0x7f0d64d1c780>"
            ]
          },
          "metadata": {
            "tags": []
          }
        }
      ]
    },
    {
      "metadata": {
        "id": "9xkWqiZijuyD",
        "colab_type": "code",
        "colab": {
          "autoexec": {
            "startup": false,
            "wait_interval": 0
          },
          "base_uri": "https://localhost:8080/",
          "height": 427
        },
        "outputId": "3396c953-37d0-48e2-9cac-dfa4681aaf11",
        "executionInfo": {
          "status": "ok",
          "timestamp": 1525277238109,
          "user_tz": 300,
          "elapsed": 2255,
          "user": {
            "displayName": "saranya Mandava",
            "photoUrl": "https://lh3.googleusercontent.com/a/default-user=s128",
            "userId": "111547944025536722337"
          }
        }
      },
      "cell_type": "code",
      "source": [
        "# Calculating Violations By Gender\n",
        "violations_by_gender = pd.DataFrame(data3['Gender'].value_counts().reset_index())\n",
        "violations_by_gender.columns =['Gender','Total Violations']\n",
        "print (violations_by_gender)\n",
        "\n",
        "plt.bar(violations_by_gender['Gender'],violations_by_gender['Total Violations'])\n",
        "plt.title(\"Violations Count by Gender\")\n",
        "plt.xlabel(\"Gender\")\n",
        "plt.ylabel(\"Total Violations\")\n",
        "plt.show()"
      ],
      "execution_count": 43,
      "outputs": [
        {
          "output_type": "stream",
          "text": [
            "  Gender  Total Violations\n",
            "0      M          10227193\n",
            "1      F           3905110\n"
          ],
          "name": "stdout"
        },
        {
          "output_type": "display_data",
          "data": {
            "image/png": "[encoded data removed]",
            "text/plain": [
              "<matplotlib.figure.Figure at 0x7f0d64be6278>"
            ]
          },
          "metadata": {
            "tags": []
          }
        }
      ]
    },
    {
      "metadata": {
        "id": "Ormzeq2UHH27",
        "colab_type": "code",
        "colab": {
          "autoexec": {
            "startup": false,
            "wait_interval": 0
          },
          "base_uri": "https://localhost:8080/",
          "height": 735
        },
        "outputId": "33e992e3-6dee-4ca8-ab91-58e6d1abc544",
        "executionInfo": {
          "status": "ok",
          "timestamp": 1525278143799,
          "user_tz": 300,
          "elapsed": 1627,
          "user": {
            "displayName": "saranya Mandava",
            "photoUrl": "https://lh3.googleusercontent.com/a/default-user=s128",
            "userId": "111547944025536722337"
          }
        }
      },
      "cell_type": "code",
      "source": [
        "# Hone in on the data set for the Year 2015. Does the 'Violation at Age' and the 'Total # Of Violations' vary together? \n",
        " # Construct a scatter plot that plots the 'Violation at Age' v/s the Total # Of Violation'.\n",
        " # Does the Scatter Plot point to a positive covariance? Now, compute the Covariance. Perform this analysis for both the genders.\n",
        "\n",
        "data4 = data1[data1['Violation Year'] == 2015]\n",
        "#print (data4.head(10))\n",
        "\n",
        "data_M = data4[data4['Gender'] =='M']\n",
        "data_F = data4[data4['Gender'] == 'F']\n",
        "\n",
        "violations_M = pd.DataFrame(data_M['Age at Violation'].value_counts().reset_index())\n",
        "violations_M.columns =['Age','Total Violations']\n",
        "#print (violations_M)\n",
        "\n",
        "violations_F = pd.DataFrame(data_F['Age at Violation'].value_counts().reset_index())\n",
        "violations_F.columns =['Age','Total Violations']\n",
        "#print (violations_F)\n",
        "\n",
        "plt.scatter(violations_M['Age'],violations_M['Total Violations'])\n",
        "plt.title(\"Male Violations By Age\")\n",
        "plt.xlabel(\"Age\")\n",
        "plt.ylabel(\"Total Violations\")\n",
        "plt.show()\n",
        "\n",
        "plt.scatter(violations_F['Age'],violations_F['Total Violations'])\n",
        "plt.title(\"Female Violations By Age\")\n",
        "plt.xlabel(\"Age\")\n",
        "plt.ylabel(\"Total Violations\")\n",
        "plt.show()"
      ],
      "execution_count": 55,
      "outputs": [
        {
          "output_type": "display_data",
          "data": {
            "image/png": "[encoded data removed]",
            "text/plain": [
              "<matplotlib.figure.Figure at 0x7f0d64c77240>"
            ]
          },
          "metadata": {
            "tags": []
          }
        },
        {
          "output_type": "display_data",
          "data": {
            "image/png": "[encoded data removed]",
            "text/plain": [
              "<matplotlib.figure.Figure at 0x7f0d64a4fd68>"
            ]
          },
          "metadata": {
            "tags": []
          }
        }
      ]
    },
    {
      "metadata": {
        "id": "C8KSGPjQqedK",
        "colab_type": "text"
      },
      "cell_type": "markdown",
      "source": [
        "From the above Graphs, it can be seen that, total number of violations decreases as the age increases for both Genders and hence it is negatively correlated."
      ]
    },
    {
      "metadata": {
        "id": "EN_zaLMGqdEa",
        "colab_type": "code",
        "colab": {
          "autoexec": {
            "startup": false,
            "wait_interval": 0
          },
          "base_uri": "https://localhost:8080/",
          "height": 255
        },
        "outputId": "6c8c53ab-7cb5-4263-d92c-7d67978d1612",
        "executionInfo": {
          "status": "ok",
          "timestamp": 1525278972631,
          "user_tz": 300,
          "elapsed": 372,
          "user": {
            "displayName": "saranya Mandava",
            "photoUrl": "https://lh3.googleusercontent.com/a/default-user=s128",
            "userId": "111547944025536722337"
          }
        }
      },
      "cell_type": "code",
      "source": [
        "#Compute the Correlation Coefficient between the 2 variable i.e. 'Violation at Age' and the 'Total # Of Violations'.\n",
        "#Perform this analysis for both the genders.\n",
        "\n",
        "#Covariance \n",
        "cov_M = np.cov(violations_M['Age'],violations_M['Total Violations'])\n",
        "print (\"Covariance with violation by age for Male\")\n",
        "print (cov_M[0][1])\n",
        "print (\"\\n\")\n",
        "\n",
        "cov_F = np.cov(violations_F['Age'],violations_F['Total Violations'])\n",
        "print (\"Covariance with violation by age for Female\")\n",
        "print (cov_F[0][1])\n",
        "print (\"\\n\")\n",
        "\n",
        "#Correlation Coefficient for both Genders\n",
        "corr_M = np.corrcoef(violations_M['Age'],violations_M['Total Violations'])\n",
        "print (\"Correlation Coefficient with violation by age for Male\")\n",
        "print (corr_M[0][1])\n",
        "print (\"\\n\")\n",
        "\n",
        "corr_F = np.corrcoef(violations_F['Age'],violations_F['Total Violations'])\n",
        "print (\"Correlation Coefficient with violation by age for Female\")\n",
        "print (corr_F[0][1])"
      ],
      "execution_count": 62,
      "outputs": [
        {
          "output_type": "stream",
          "text": [
            "Covariance with violation by age for Male\n",
            "-586520.651898734\n",
            "\n",
            "\n",
            "Covariance with violation by age for Female\n",
            "-232857.8924050633\n",
            "\n",
            "\n",
            "Correlation Coefficient with violation by age for Male\n",
            "-0.8921120691790662\n",
            "\n",
            "\n",
            "Correlation Coefficient with violation by age for Female\n",
            "-0.8850425523745589\n"
          ],
          "name": "stdout"
        }
      ]
    },
    {
      "metadata": {
        "id": "SdkOQXyctLE7",
        "colab_type": "text"
      },
      "cell_type": "markdown",
      "source": [
        "As Expected, the correlation coeffient and covariance is also negative for both Genders."
      ]
    }
  ]
}