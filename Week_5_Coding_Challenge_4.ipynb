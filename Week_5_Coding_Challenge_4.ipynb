{
  "nbformat": 4,
  "nbformat_minor": 0,
  "metadata": {
    "colab": {
      "name": "Week 5_Coding Challenge #4.ipynb",
      "version": "0.3.2",
      "provenance": [],
      "collapsed_sections": []
    },
    "kernelspec": {
      "name": "python3",
      "display_name": "Python 3"
    }
  },
  "cells": [
    {
      "cell_type": "markdown",
      "metadata": {
        "id": "view-in-github",
        "colab_type": "text"
      },
      "source": [
        "[View in Colaboratory](https://colab.research.google.com/github/saranyamandava/Lambda-School-DataScience/blob/master/Week_5_Coding_Challenge_4.ipynb)"
      ]
    },
    {
      "metadata": {
        "id": "Vim6ATB8ADUI",
        "colab_type": "text"
      },
      "cell_type": "markdown",
      "source": [
        "## Coding Challenge #4\n",
        "\n",
        "In this coding challenge, we will construct a bionomial distribution based on the concepts of Bernoulli trials.\n",
        "\n",
        "In a nutshell, a Bernoulli trial is an random experiment with 2 possible outcomes i.e. Success (Yes) or Failure (No). More details on the Bernoulli trial can be found on this website:\n",
        "\n",
        "https://en.wikipedia.org/wiki/Bernoulli_trial\n",
        "\n",
        "**Problem Statement**: Let's say the DCVC venture fund invests in 100 startups. Anywhere between 0 and 100 of the startups will succeed. \n",
        "\n",
        "**Ask?** Construct a biomial distribution of getting a given number of startup successes, given that the probability of a successful startup is p = 0.1\n",
        "\n",
        "\n",
        "We will leverage a step-by-step process to construct the bionomial distribution:\n",
        "\n",
        "**Step 1**: Write a function called conduct_binomial_trails\n",
        "\n",
        "The function takes in 2 arguments and returns the number of successes (i.e. return number_successful) out of n Bionomial trials, each of which has probability p of success. \n",
        "\n",
        "During each Bionomial trial, use the np.random.random() function, which returns a random number between zero and one and compare the *returned* random number to the propability of success. If the random number is less than the probability p of success, increment the \"number_successful\" variable by 1 during each *iteration* of the Bionimial Trial.\n",
        "\n",
        "**Step 2**: Set up a for loop with 10000 iterations to compute the number of successes per 100 investments using the the defined function and store the results returned from each call to the function in an array.  Each call to the defined function will pass in 2 arguments: *the number of trials n* - in this case 100 - and *the probability of success p* - in this case the probability of success 0.1\n",
        "\n",
        "\n",
        "**Step 3**: # Plot the histogram with the size of the array reprensenting the # of bin and label your axes accordingly\n",
        "\n",
        "Use: plt.hist(b_array, normed=True)\n",
        "\n",
        "In this case, b_array is the array you defined in \"Step 2\" aboe to store the number of successes from each call to the conduct_binomial_trails function\n",
        "\n",
        "Setting *normed to true* will esnure that the counts in the array are normalized to form a probability density\n",
        "\n",
        "\n",
        "\n",
        "\n"
      ]
    },
    {
      "metadata": {
        "id": "tUSkukpgjPOc",
        "colab_type": "code",
        "colab": {
          "base_uri": "https://localhost:8080/",
          "height": 34
        },
        "outputId": "3f991dbb-2038-423c-eb20-b9198d5b32ea"
      },
      "cell_type": "code",
      "source": [
        "import numpy as np\n",
        "\n",
        "def conduct_binomial_trails(n,p):\n",
        "  number_successful = 0\n",
        "  for i in range(1,n+1):\n",
        "    x = np.random.random()\n",
        "    #print (x)\n",
        "    if (x < p):\n",
        "      number_successful += 1\n",
        "  return number_successful\n",
        "\n",
        "prob = conduct_binomial_trails(100,0.5)\n",
        "print (prob)\n"
      ],
      "execution_count": 69,
      "outputs": [
        {
          "output_type": "stream",
          "text": [
            "58\n"
          ],
          "name": "stdout"
        }
      ]
    },
    {
      "metadata": {
        "id": "x_5hoe1nmqNx",
        "colab_type": "code",
        "colab": {}
      },
      "cell_type": "code",
      "source": [
        "b_array = []\n",
        "for i in range(1,10000):\n",
        "   b_array.append(conduct_binomial_trails(100,0.1))"
      ],
      "execution_count": 0,
      "outputs": []
    },
    {
      "metadata": {
        "id": "fEfeDgHZnPkN",
        "colab_type": "code",
        "colab": {
          "base_uri": "https://localhost:8080/",
          "height": 393
        },
        "outputId": "7f1c1633-5f61-46c3-f459-f3902cf83a97"
      },
      "cell_type": "code",
      "source": [
        "z = len(b_array)\n",
        "#print (z)\n",
        "import matplotlib.pyplot as plt\n",
        "\n",
        "plt.hist(b_array,bins=range(min(b_array),max(b_array)),normed = True)\n",
        "plt.xlabel(\"Number of Successes\")\n",
        "plt.ylabel(\"Probability\")\n",
        "plt.title(\"Distribution of Success\")"
      ],
      "execution_count": 71,
      "outputs": [
        {
          "output_type": "execute_result",
          "data": {
            "text/plain": [
              "Text(0.5,1,'Distribution of Success')"
            ]
          },
          "metadata": {
            "tags": []
          },
          "execution_count": 71
        },
        {
          "output_type": "display_data",
          "data": {
            "image/png": "[encoded data removed]",
            "text/plain": [
              "<matplotlib.figure.Figure at 0x7f5177228b70>"
            ]
          },
          "metadata": {
            "tags": []
          }
        }
      ]
    },
    {
      "metadata": {
        "id": "oAw_Pw4Z4pU3",
        "colab_type": "code",
        "colab": {
          "base_uri": "https://localhost:8080/",
          "height": 393
        },
        "outputId": "72d4e50d-a6fd-41e4-b7d8-3cd293f701f4"
      },
      "cell_type": "code",
      "source": [
        "#The above code can be easily done in few steps using np.random.binomial\n",
        "result = np.array(np.random.binomial(100, 0.1, 10000))\n",
        "plt.hist(result,bins = range(min(result),max(result)), normed = True)\n",
        "plt.xlabel(\"Number of Successes\")\n",
        "plt.ylabel(\"Probability\")\n",
        "plt.title(\"Distribution of Success\")"
      ],
      "execution_count": 59,
      "outputs": [
        {
          "output_type": "execute_result",
          "data": {
            "text/plain": [
              "Text(0.5,1,'Distribution of Success')"
            ]
          },
          "metadata": {
            "tags": []
          },
          "execution_count": 59
        },
        {
          "output_type": "display_data",
          "data": {
            "image/png": "[encoded data removed]",
            "text/plain": [
              "<matplotlib.figure.Figure at 0x7f517f5cf128>"
            ]
          },
          "metadata": {
            "tags": []
          }
        }
      ]
    }
  ]
}